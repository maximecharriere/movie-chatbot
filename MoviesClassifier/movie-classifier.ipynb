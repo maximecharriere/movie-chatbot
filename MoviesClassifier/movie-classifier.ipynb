{
 "cells": [
  {
   "cell_type": "markdown",
   "metadata": {
    "colab_type": "text",
    "id": "DVy8nkPvIWuW"
   },
   "source": [
    "# **Movie classification by genres**\n",
    "*By Maxime **Charrière**.*\n",
    "\n",
    "More infos and links on the **GitHub** : [maximecharriere/movie-chatbot](https://github.com/maximecharriere/movie-chatbot)\n",
    "\n",
    "This NoteBook can be run on **GoogleColab**, try it!\n",
    "\n",
    "<a href=\"https://colab.research.google.com/github/maximecharriere/movie-chatbot/blob/master/Copie_de_movie_chatbot.ipynb\" target=\"_parent\"><img src=\"https://colab.research.google.com/assets/colab-badge.svg\" alt=\"Open In Colab\"/></a>"
   ]
  },
  {
   "cell_type": "markdown",
   "metadata": {
    "colab_type": "text",
    "id": "KA-L_QLZnwIP"
   },
   "source": [
    "# Libraries importation"
   ]
  },
  {
   "cell_type": "code",
   "execution_count": 1,
   "metadata": {
    "colab": {
     "base_uri": "https://localhost:8080/",
     "height": 102
    },
    "colab_type": "code",
    "id": "h_xI7FpYn3Oj",
    "outputId": "436fa86e-51fd-4b7f-a046-6da5ec661e9c"
   },
   "outputs": [
    {
     "name": "stdout",
     "output_type": "stream",
     "text": [
      "Libraries version:\n",
      "Numpy:      1.18.1\n",
      "Matplotlib: 3.1.3\n",
      "Pandas:     1.0.3\n",
      "Sklearn:    0.22.1\n",
      "Spacy:      2.2.4\n"
     ]
    }
   ],
   "source": [
    "try:\n",
    "    from google.colab import files\n",
    "    IN_COLAB = True\n",
    "except:\n",
    "    IN_COLAB = False\n",
    "\n",
    "\n",
    "import numpy as np\n",
    "import matplotlib\n",
    "import matplotlib.pyplot as plt\n",
    "import pandas as pd\n",
    "import sklearn\n",
    "from sklearn.feature_extraction.text import TfidfVectorizer\n",
    "from sklearn.feature_extraction.text import CountVectorizer\n",
    "from sklearn.multiclass import OneVsRestClassifier\n",
    "from sklearn.naive_bayes import MultinomialNB\n",
    "from sklearn.model_selection import train_test_split\n",
    "from sklearn.metrics import accuracy_score\n",
    "import spacy\n",
    "import pickle\n",
    "\n",
    "nlp = spacy.load(\"en_core_web_sm\")\n",
    "\n",
    "print(\"Libraries version:\")\n",
    "print(f\"Numpy:      {np.__version__}\")\n",
    "print(f\"Matplotlib: {matplotlib.__version__}\")\n",
    "print(f\"Pandas:     {pd.__version__}\")\n",
    "print(f\"Sklearn:    {sklearn.__version__}\")\n",
    "print(f\"Spacy:      {spacy.__version__}\")"
   ]
  },
  {
   "cell_type": "markdown",
   "metadata": {},
   "source": [
    "# Download data if NoteBook is run in Colab"
   ]
  },
  {
   "cell_type": "code",
   "execution_count": null,
   "metadata": {},
   "outputs": [],
   "source": [
    "if IN_COLAB:\n",
    "    !mkdir data\n",
    "    !wget -P data https://raw.githubusercontent.com/maximecharriere/movie-chatbot/master/MoviesClassifier/data/wiki_movie_plots.csv\n",
    "    !wget -P data https://raw.githubusercontent.com/maximecharriere/movie-chatbot/master/MoviesClassifier/data/plotVectorizer.pickle\n",
    "    !wget -P data https://raw.githubusercontent.com/maximecharriere/movie-chatbot/master/MoviesClassifier/data/plotVector_train.pickle\n",
    "    !wget -P data https://raw.githubusercontent.com/maximecharriere/movie-chatbot/master/MoviesClassifier/data/plotVector_test.pickle"
   ]
  },
  {
   "cell_type": "markdown",
   "metadata": {
    "colab_type": "text",
    "id": "vx_bk4c7icg8"
   },
   "source": [
    "# Data importation"
   ]
  },
  {
   "cell_type": "code",
   "execution_count": 2,
   "metadata": {
    "colab": {
     "base_uri": "https://localhost:8080/",
     "height": 357
    },
    "colab_type": "code",
    "id": "qHJf9cVGXUtE",
    "outputId": "3d4c2287-3469-431c-aefb-91ebd40432e1"
   },
   "outputs": [
    {
     "data": {
      "text/html": [
       "<div>\n",
       "<style scoped>\n",
       "    .dataframe tbody tr th:only-of-type {\n",
       "        vertical-align: middle;\n",
       "    }\n",
       "\n",
       "    .dataframe tbody tr th {\n",
       "        vertical-align: top;\n",
       "    }\n",
       "\n",
       "    .dataframe thead th {\n",
       "        text-align: right;\n",
       "    }\n",
       "</style>\n",
       "<table border=\"1\" class=\"dataframe\">\n",
       "  <thead>\n",
       "    <tr style=\"text-align: right;\">\n",
       "      <th></th>\n",
       "      <th>Title</th>\n",
       "      <th>Plot</th>\n",
       "      <th>Genre</th>\n",
       "    </tr>\n",
       "  </thead>\n",
       "  <tbody>\n",
       "    <tr>\n",
       "      <th>0</th>\n",
       "      <td>Kansas Saloon Smashers</td>\n",
       "      <td>A bartender is working at a saloon, serving dr...</td>\n",
       "      <td>unknown</td>\n",
       "    </tr>\n",
       "    <tr>\n",
       "      <th>1</th>\n",
       "      <td>Love by the Light of the Moon</td>\n",
       "      <td>The moon, painted with a smiling face hangs ov...</td>\n",
       "      <td>unknown</td>\n",
       "    </tr>\n",
       "    <tr>\n",
       "      <th>2</th>\n",
       "      <td>The Martyred Presidents</td>\n",
       "      <td>The film, just over a minute long, is composed...</td>\n",
       "      <td>unknown</td>\n",
       "    </tr>\n",
       "    <tr>\n",
       "      <th>3</th>\n",
       "      <td>Terrible Teddy, the Grizzly King</td>\n",
       "      <td>Lasting just 61 seconds and consisting of two ...</td>\n",
       "      <td>unknown</td>\n",
       "    </tr>\n",
       "    <tr>\n",
       "      <th>4</th>\n",
       "      <td>Jack and the Beanstalk</td>\n",
       "      <td>The earliest known adaptation of the classic f...</td>\n",
       "      <td>unknown</td>\n",
       "    </tr>\n",
       "    <tr>\n",
       "      <th>...</th>\n",
       "      <td>...</td>\n",
       "      <td>...</td>\n",
       "      <td>...</td>\n",
       "    </tr>\n",
       "    <tr>\n",
       "      <th>34881</th>\n",
       "      <td>The Water Diviner</td>\n",
       "      <td>The film begins in 1919, just after World War ...</td>\n",
       "      <td>unknown</td>\n",
       "    </tr>\n",
       "    <tr>\n",
       "      <th>34882</th>\n",
       "      <td>Çalgı Çengi İkimiz</td>\n",
       "      <td>Two musicians, Salih and Gürkan, described the...</td>\n",
       "      <td>comedy</td>\n",
       "    </tr>\n",
       "    <tr>\n",
       "      <th>34883</th>\n",
       "      <td>Olanlar Oldu</td>\n",
       "      <td>Zafer, a sailor living with his mother Döndü i...</td>\n",
       "      <td>comedy</td>\n",
       "    </tr>\n",
       "    <tr>\n",
       "      <th>34884</th>\n",
       "      <td>Non-Transferable</td>\n",
       "      <td>The film centres around a young woman named Am...</td>\n",
       "      <td>romantic comedy</td>\n",
       "    </tr>\n",
       "    <tr>\n",
       "      <th>34885</th>\n",
       "      <td>İstanbul Kırmızısı</td>\n",
       "      <td>The writer Orhan Şahin returns to İstanbul aft...</td>\n",
       "      <td>romantic</td>\n",
       "    </tr>\n",
       "  </tbody>\n",
       "</table>\n",
       "<p>34886 rows × 3 columns</p>\n",
       "</div>"
      ],
      "text/plain": [
       "                                  Title  \\\n",
       "0                Kansas Saloon Smashers   \n",
       "1         Love by the Light of the Moon   \n",
       "2               The Martyred Presidents   \n",
       "3      Terrible Teddy, the Grizzly King   \n",
       "4                Jack and the Beanstalk   \n",
       "...                                 ...   \n",
       "34881                 The Water Diviner   \n",
       "34882                Çalgı Çengi İkimiz   \n",
       "34883                      Olanlar Oldu   \n",
       "34884                  Non-Transferable   \n",
       "34885                İstanbul Kırmızısı   \n",
       "\n",
       "                                                    Plot            Genre  \n",
       "0      A bartender is working at a saloon, serving dr...          unknown  \n",
       "1      The moon, painted with a smiling face hangs ov...          unknown  \n",
       "2      The film, just over a minute long, is composed...          unknown  \n",
       "3      Lasting just 61 seconds and consisting of two ...          unknown  \n",
       "4      The earliest known adaptation of the classic f...          unknown  \n",
       "...                                                  ...              ...  \n",
       "34881  The film begins in 1919, just after World War ...          unknown  \n",
       "34882  Two musicians, Salih and Gürkan, described the...           comedy  \n",
       "34883  Zafer, a sailor living with his mother Döndü i...           comedy  \n",
       "34884  The film centres around a young woman named Am...  romantic comedy  \n",
       "34885  The writer Orhan Şahin returns to İstanbul aft...         romantic  \n",
       "\n",
       "[34886 rows x 3 columns]"
      ]
     },
     "execution_count": 2,
     "metadata": {},
     "output_type": "execute_result"
    }
   ],
   "source": [
    "## Data importation\n",
    "movies = pd.read_csv(\"data/wiki_movie_plots.csv\", sep=',')[['Title','Plot','Genre']]\n",
    "movies"
   ]
  },
  {
   "cell_type": "code",
   "execution_count": 3,
   "metadata": {
    "colab": {},
    "colab_type": "code",
    "id": "fqQirGYtXV9Q"
   },
   "outputs": [
    {
     "name": "stdout",
     "output_type": "stream",
     "text": [
      "Total number of genre: 2265\n"
     ]
    }
   ],
   "source": [
    "print(f\"Total number of genre: {len(movies['Genre'].value_counts())}\")"
   ]
  },
  {
   "cell_type": "markdown",
   "metadata": {},
   "source": [
    "# Genre preparation\n",
    "##     Manual harmonization\n",
    "We have <span style=\"color:lightgreen\">**2265 genres**</span>, it must be reduced !"
   ]
  },
  {
   "cell_type": "code",
   "execution_count": 4,
   "metadata": {
    "colab": {},
    "colab_type": "code",
    "id": "uUIW8nNcYl-N"
   },
   "outputs": [
    {
     "name": "stdout",
     "output_type": "stream",
     "text": [
      "Total number of genre: 1805\n"
     ]
    }
   ],
   "source": [
    "## Manual harmonization of categories\n",
    "\n",
    "movies['GenreManualCorrected']=movies['Genre'] \n",
    "movies['GenreManualCorrected']=movies['GenreManualCorrected'].str.replace('/', ' ')\n",
    "\n",
    "# Delete unwanted categories\n",
    "movies['GenreManualCorrected']=movies['GenreManualCorrected'].str.replace('unknown', '')\n",
    "movies['GenreManualCorrected']=movies['GenreManualCorrected'].str.replace('movies','')\n",
    "movies['GenreManualCorrected']=movies['GenreManualCorrected'].str.replace('movie','')\n",
    "movies['GenreManualCorrected']=movies['GenreManualCorrected'].str.replace('films','')\n",
    "movies['GenreManualCorrected']=movies['GenreManualCorrected'].str.replace('film','')\n",
    "\n",
    "# Rename categories\n",
    "movies['GenreManualCorrected']=movies['GenreManualCorrected'].str.replace('bio-pic', 'biography')\n",
    "movies['GenreManualCorrected']=movies['GenreManualCorrected'].str.replace(\"sport (shogi, chess)\", \"sport\")\n",
    "movies['GenreManualCorrected']=movies['GenreManualCorrected'].str.replace('biopic', 'biography')\n",
    "movies['GenreManualCorrected']=movies['GenreManualCorrected'].str.replace('biographical', 'biography')\n",
    "movies['GenreManualCorrected']=movies['GenreManualCorrected'].str.replace('biodrama', 'biography drama')\n",
    "movies['GenreManualCorrected']=movies['GenreManualCorrected'].str.replace('bio-drama', 'biography drama')\n",
    "movies['GenreManualCorrected']=movies['GenreManualCorrected'].str.replace('biographic', 'biography')\n",
    "movies['GenreManualCorrected']=movies['GenreManualCorrected'].str.replace('animated','animation')\n",
    "movies['GenreManualCorrected']=movies['GenreManualCorrected'].str.replace('anime','animation')\n",
    "movies['GenreManualCorrected']=movies['GenreManualCorrected'].str.replace('disaster','action')\n",
    "movies['GenreManualCorrected']=movies['GenreManualCorrected'].str.replace('comedey','comedy')\n",
    "movies['GenreManualCorrected']=movies['GenreManualCorrected'].str.replace('Charlie Chan','spy')\n",
    "movies['GenreManualCorrected']=movies['GenreManualCorrected'].str.replace('dramedy','comedy drama')\n",
    "movies['GenreManualCorrected']=movies['GenreManualCorrected'].str.replace('mockumentary','documentary')\n",
    "movies['GenreManualCorrected']=movies['GenreManualCorrected'].str.replace('historical','history')\n",
    "movies['GenreManualCorrected']=movies['GenreManualCorrected'].str.replace('historic','history')\n",
    "movies['GenreManualCorrected']=movies['GenreManualCorrected'].str.replace('prehistoric','history')\n",
    "movies['GenreManualCorrected']=movies['GenreManualCorrected'].str.replace('mythology','history')\n",
    "movies['GenreManualCorrected']=movies['GenreManualCorrected'].str.replace('romantic','romance')\n",
    "movies['GenreManualCorrected']=movies['GenreManualCorrected'].str.replace('3-d','animation')\n",
    "movies['GenreManualCorrected']=movies['GenreManualCorrected'].str.replace('3d','animation')\n",
    "movies['GenreManualCorrected']=movies['GenreManualCorrected'].str.replace('sci-fi','science_fiction')\n",
    "movies['GenreManualCorrected']=movies['GenreManualCorrected'].str.replace('ttriller','thriller')\n",
    "movies['GenreManualCorrected']=movies['GenreManualCorrected'].str.replace('sci fi','science_fiction')\n",
    "movies['GenreManualCorrected']=movies['GenreManualCorrected'].str.replace('science fiction','science_fiction')\n",
    "movies['GenreManualCorrected']=movies['GenreManualCorrected'].str.replace('kung fu','martial_arts')\n",
    "movies['GenreManualCorrected']=movies['GenreManualCorrected'].str.replace('kung-fu','martial_arts')\n",
    "movies['GenreManualCorrected']=movies['GenreManualCorrected'].str.replace('martial arts','martial_arts')\n",
    "movies['GenreManualCorrected']=movies['GenreManualCorrected'].str.replace('bruceploitation','martial_arts')\n",
    "movies['GenreManualCorrected']=movies['GenreManualCorrected'].str.replace('stop-motion','animation')\n",
    "movies['GenreManualCorrected']=movies['GenreManualCorrected'].str.replace('coming of age','coming_of_age')\n",
    "movies['GenreManualCorrected']=movies['GenreManualCorrected'].str.replace('coming-of-age','coming_of_age')\n",
    "movies['GenreManualCorrected']=movies['GenreManualCorrected'].str.replace('slice of life','coming_of_age')\n",
    "movies['GenreManualCorrected']=movies['GenreManualCorrected'].str.replace('drama about child soldiers','drama')\n",
    "movies['GenreManualCorrected']=movies['GenreManualCorrected'].str.replace('melodrama','drama')\n",
    "movies['GenreManualCorrected']=movies['GenreManualCorrected'].str.replace('tv miniseries','serial')\n",
    "movies['GenreManualCorrected']=movies['GenreManualCorrected'].str.replace('television miniseries','serial')\n",
    "movies['GenreManualCorrected']=movies['GenreManualCorrected'].str.replace(\"war-time\",\"war\")\n",
    "movies['GenreManualCorrected']=movies['GenreManualCorrected'].str.replace(\"wartime\",\"war\")\n",
    "movies['GenreManualCorrected']=movies['GenreManualCorrected'].str.replace('world war ii','war')\n",
    "movies['GenreManualCorrected']=movies['GenreManualCorrected'].str.replace('world war i','war')\n",
    "movies['GenreManualCorrected']=movies['GenreManualCorrected'].str.replace(\"tokusatsu\",\"action\")\n",
    "movies['GenreManualCorrected']=movies['GenreManualCorrected'].str.replace(\"slapstick\",\"comedy\")\n",
    "movies['GenreManualCorrected']=movies['GenreManualCorrected'].str.replace(\"ww1\",\"war\")\n",
    "movies['GenreManualCorrected']=movies['GenreManualCorrected'].str.replace(\"wwii\",\"war\")\n",
    "movies['GenreManualCorrected']=movies['GenreManualCorrected'].str.replace(\"boxing\",\"sport\")\n",
    "movies['GenreManualCorrected']=movies['GenreManualCorrected'].str.replace(\"kaiju eiga\", \"supernatural\")\n",
    "movies['GenreManualCorrected']=movies['GenreManualCorrected'].str.replace(\"zombie\", \"supernatural\")\n",
    "movies['GenreManualCorrected']=movies['GenreManualCorrected'].str.replace(\"jidaigeki\",\"drama\")\n",
    "movies['GenreManualCorrected']=movies['GenreManualCorrected'].str.replace('superheroes','superhero')\n",
    "movies['GenreManualCorrected']=movies['GenreManualCorrected'].str.replace('superheroe','superhero')\n",
    "movies['GenreManualCorrected']=movies['GenreManualCorrected'].str.replace('familya','family')\n",
    "movies['GenreManualCorrected']=movies['GenreManualCorrected'].str.replace('familydrama','family drama')\n",
    "movies['GenreManualCorrected']=movies['GenreManualCorrected'].str.replace('famil ','family')\n",
    "movies['GenreManualCorrected']=movies['GenreManualCorrected'].str.replace('espionage','spy')\n",
    "movies['GenreManualCorrected']=movies['GenreManualCorrected'].str.replace('noir','black')\n",
    "movies['GenreManualCorrected']=movies['GenreManualCorrected'].str.replace('dark','black')\n",
    "movies['GenreManualCorrected']=movies['GenreManualCorrected'].str.replace('slasher','horror')\n",
    "movies['GenreManualCorrected']=movies['GenreManualCorrected'].str.replace('devotional','religious')\n",
    "movies['GenreManualCorrected']=movies['GenreManualCorrected'].str.replace('psychological','psycho')\n",
    "movies['GenreManualCorrected']=movies['GenreManualCorrected'].str.replace('rom-com','romance comedy')\n",
    "movies['GenreManualCorrected']=movies['GenreManualCorrected'].str.replace('rom com','romance comedy')\n",
    "movies['GenreManualCorrected']=movies['GenreManualCorrected'].str.replace('gun fu','martial_arts')\n",
    "movies['GenreManualCorrected']=movies['GenreManualCorrected'].str.replace('docudrama','documentary drama')\n",
    "movies['GenreManualCorrected']=movies['GenreManualCorrected'].str.replace('football','sports')\n",
    "movies['GenreManualCorrected']=movies['GenreManualCorrected'].str.replace('martial art','martial_arts')\n",
    "movies['GenreManualCorrected']=movies['GenreManualCorrected'].str.replace('erotica','adult')\n",
    "movies['GenreManualCorrected']=movies['GenreManualCorrected'].str.replace('erotic','adult')\n",
    "movies['GenreManualCorrected']=movies['GenreManualCorrected'].str.replace('musical','music')\n",
    "movies['GenreManualCorrected']=movies['GenreManualCorrected'].str.replace('gangster','action')\n",
    "movies['GenreManualCorrected']=movies['GenreManualCorrected'].str.replace('swashbuckler','action')\n",
    "movies['GenreManualCorrected']=movies['GenreManualCorrected'].str.replace('police','action')\n",
    "movies['GenreManualCorrected']=movies['GenreManualCorrected'].str.replace('dance','sport')\n",
    "movies['GenreManualCorrected']=movies['GenreManualCorrected'].str.replace('sports','sport')\n",
    "movies['GenreManualCorrected']=movies['GenreManualCorrected'].str.replace('muslim','religious')\n",
    "movies['GenreManualCorrected']=movies['GenreManualCorrected'].str.replace('propaganda','political')\n",
    "movies['GenreManualCorrected']=movies['GenreManualCorrected'].str.replace('samurai','action')\n",
    "movies['GenreManualCorrected']=movies['GenreManualCorrected'].str.replace('sexploitation','adult')\n",
    "movies['GenreManualCorrected']=movies['GenreManualCorrected'].str.replace('homosexual','adult')\n",
    "movies['GenreManualCorrected']=movies['GenreManualCorrected'].str.replace('porno','adult')\n",
    "movies['GenreManualCorrected']=movies['GenreManualCorrected'].str.replace('socio','social')\n",
    "movies['GenreManualCorrected']=movies['GenreManualCorrected'].str.replace('sexual','adult')\n",
    "movies['GenreManualCorrected']=movies['GenreManualCorrected'].str.replace('sex','adult')\n",
    "movies['GenreManualCorrected']=movies['GenreManualCorrected'].str.replace('operetta','music cultural')\n",
    "movies['GenreManualCorrected']=movies['GenreManualCorrected'].str.replace('sword','action')\n",
    "movies['GenreManualCorrected']=movies['GenreManualCorrected'].str.replace('yakuza','martial_arts')\n",
    "movies['GenreManualCorrected']=movies['GenreManualCorrected'].str.replace('neo-black','black')\n",
    "movies['GenreManualCorrected']=movies['GenreManualCorrected'].str.replace('biblical','religious')\n",
    "\n",
    "\n",
    "# Merge some categories\n",
    "movies['GenreManualCorrected']=movies['GenreManualCorrected'].str.replace('war','action')\n",
    "movies['GenreManualCorrected']=movies['GenreManualCorrected'].str.replace('adventure','action')\n",
    "movies['GenreManualCorrected']=movies['GenreManualCorrected'].str.replace('spy','action')\n",
    "movies['GenreManualCorrected']=movies['GenreManualCorrected'].str.replace('suspense','thriller')\n",
    "movies['GenreManualCorrected']=movies['GenreManualCorrected'].str.replace('crime','action')\n",
    "movies['GenreManualCorrected']=movies['GenreManualCorrected'].str.replace('history','cultural')\n",
    "movies['GenreManualCorrected']=movies['GenreManualCorrected'].str.replace('documentary','cultural')\n",
    "\n",
    "\n",
    "print(f\"Total number of genre: {len(movies['GenreManualCorrected'].value_counts())}\")"
   ]
  },
  {
   "cell_type": "markdown",
   "metadata": {},
   "source": [
    "## Automatic harmonization\n",
    "We still have <span style=\"color:lightgreen\">**1805 genre**</span>! With a clever tokenization we can reduce this number\n",
    "\n",
    "We must also put genres in an array so <span style=\"color:lightgreen\">*'romance comedy'*</span> become <span style=\"color:lightgreen\">**[romance, comedy]**</span>"
   ]
  },
  {
   "cell_type": "code",
   "execution_count": 5,
   "metadata": {},
   "outputs": [],
   "source": [
    "def myTokenizer(text):\n",
    "    tokens = nlp(text)\n",
    "    return [token.lemma_.lower() for token in tokens if not token.is_punct and not token.is_digit and not token.is_space and not token.is_stop]"
   ]
  },
  {
   "cell_type": "code",
   "execution_count": 6,
   "metadata": {
    "colab": {},
    "colab_type": "code",
    "id": "zawvJ-aVbKbE"
   },
   "outputs": [
    {
     "data": {
      "text/html": [
       "<div>\n",
       "<style scoped>\n",
       "    .dataframe tbody tr th:only-of-type {\n",
       "        vertical-align: middle;\n",
       "    }\n",
       "\n",
       "    .dataframe tbody tr th {\n",
       "        vertical-align: top;\n",
       "    }\n",
       "\n",
       "    .dataframe thead th {\n",
       "        text-align: right;\n",
       "    }\n",
       "</style>\n",
       "<table border=\"1\" class=\"dataframe\">\n",
       "  <thead>\n",
       "    <tr style=\"text-align: right;\">\n",
       "      <th></th>\n",
       "      <th>Title</th>\n",
       "      <th>Plot</th>\n",
       "      <th>Genre</th>\n",
       "      <th>GenreManualCorrected</th>\n",
       "      <th>GenreListed</th>\n",
       "    </tr>\n",
       "  </thead>\n",
       "  <tbody>\n",
       "    <tr>\n",
       "      <th>0</th>\n",
       "      <td>Kansas Saloon Smashers</td>\n",
       "      <td>A bartender is working at a saloon, serving dr...</td>\n",
       "      <td>unknown</td>\n",
       "      <td></td>\n",
       "      <td>[]</td>\n",
       "    </tr>\n",
       "    <tr>\n",
       "      <th>1</th>\n",
       "      <td>Love by the Light of the Moon</td>\n",
       "      <td>The moon, painted with a smiling face hangs ov...</td>\n",
       "      <td>unknown</td>\n",
       "      <td></td>\n",
       "      <td>[]</td>\n",
       "    </tr>\n",
       "    <tr>\n",
       "      <th>2</th>\n",
       "      <td>The Martyred Presidents</td>\n",
       "      <td>The film, just over a minute long, is composed...</td>\n",
       "      <td>unknown</td>\n",
       "      <td></td>\n",
       "      <td>[]</td>\n",
       "    </tr>\n",
       "    <tr>\n",
       "      <th>3</th>\n",
       "      <td>Terrible Teddy, the Grizzly King</td>\n",
       "      <td>Lasting just 61 seconds and consisting of two ...</td>\n",
       "      <td>unknown</td>\n",
       "      <td></td>\n",
       "      <td>[]</td>\n",
       "    </tr>\n",
       "    <tr>\n",
       "      <th>4</th>\n",
       "      <td>Jack and the Beanstalk</td>\n",
       "      <td>The earliest known adaptation of the classic f...</td>\n",
       "      <td>unknown</td>\n",
       "      <td></td>\n",
       "      <td>[]</td>\n",
       "    </tr>\n",
       "    <tr>\n",
       "      <th>...</th>\n",
       "      <td>...</td>\n",
       "      <td>...</td>\n",
       "      <td>...</td>\n",
       "      <td>...</td>\n",
       "      <td>...</td>\n",
       "    </tr>\n",
       "    <tr>\n",
       "      <th>34881</th>\n",
       "      <td>The Water Diviner</td>\n",
       "      <td>The film begins in 1919, just after World War ...</td>\n",
       "      <td>unknown</td>\n",
       "      <td></td>\n",
       "      <td>[]</td>\n",
       "    </tr>\n",
       "    <tr>\n",
       "      <th>34882</th>\n",
       "      <td>Çalgı Çengi İkimiz</td>\n",
       "      <td>Two musicians, Salih and Gürkan, described the...</td>\n",
       "      <td>comedy</td>\n",
       "      <td>comedy</td>\n",
       "      <td>[comedy]</td>\n",
       "    </tr>\n",
       "    <tr>\n",
       "      <th>34883</th>\n",
       "      <td>Olanlar Oldu</td>\n",
       "      <td>Zafer, a sailor living with his mother Döndü i...</td>\n",
       "      <td>comedy</td>\n",
       "      <td>comedy</td>\n",
       "      <td>[comedy]</td>\n",
       "    </tr>\n",
       "    <tr>\n",
       "      <th>34884</th>\n",
       "      <td>Non-Transferable</td>\n",
       "      <td>The film centres around a young woman named Am...</td>\n",
       "      <td>romantic comedy</td>\n",
       "      <td>romance comedy</td>\n",
       "      <td>[comedy, romance]</td>\n",
       "    </tr>\n",
       "    <tr>\n",
       "      <th>34885</th>\n",
       "      <td>İstanbul Kırmızısı</td>\n",
       "      <td>The writer Orhan Şahin returns to İstanbul aft...</td>\n",
       "      <td>romantic</td>\n",
       "      <td>romance</td>\n",
       "      <td>[romance]</td>\n",
       "    </tr>\n",
       "  </tbody>\n",
       "</table>\n",
       "<p>34886 rows × 5 columns</p>\n",
       "</div>"
      ],
      "text/plain": [
       "                                  Title  \\\n",
       "0                Kansas Saloon Smashers   \n",
       "1         Love by the Light of the Moon   \n",
       "2               The Martyred Presidents   \n",
       "3      Terrible Teddy, the Grizzly King   \n",
       "4                Jack and the Beanstalk   \n",
       "...                                 ...   \n",
       "34881                 The Water Diviner   \n",
       "34882                Çalgı Çengi İkimiz   \n",
       "34883                      Olanlar Oldu   \n",
       "34884                  Non-Transferable   \n",
       "34885                İstanbul Kırmızısı   \n",
       "\n",
       "                                                    Plot            Genre  \\\n",
       "0      A bartender is working at a saloon, serving dr...          unknown   \n",
       "1      The moon, painted with a smiling face hangs ov...          unknown   \n",
       "2      The film, just over a minute long, is composed...          unknown   \n",
       "3      Lasting just 61 seconds and consisting of two ...          unknown   \n",
       "4      The earliest known adaptation of the classic f...          unknown   \n",
       "...                                                  ...              ...   \n",
       "34881  The film begins in 1919, just after World War ...          unknown   \n",
       "34882  Two musicians, Salih and Gürkan, described the...           comedy   \n",
       "34883  Zafer, a sailor living with his mother Döndü i...           comedy   \n",
       "34884  The film centres around a young woman named Am...  romantic comedy   \n",
       "34885  The writer Orhan Şahin returns to İstanbul aft...         romantic   \n",
       "\n",
       "      GenreManualCorrected        GenreListed  \n",
       "0                                          []  \n",
       "1                                          []  \n",
       "2                                          []  \n",
       "3                                          []  \n",
       "4                                          []  \n",
       "...                    ...                ...  \n",
       "34881                                      []  \n",
       "34882               comedy           [comedy]  \n",
       "34883               comedy           [comedy]  \n",
       "34884       romance comedy  [comedy, romance]  \n",
       "34885              romance          [romance]  \n",
       "\n",
       "[34886 rows x 5 columns]"
      ]
     },
     "execution_count": 6,
     "metadata": {},
     "output_type": "execute_result"
    }
   ],
   "source": [
    "## Automatic harmonization of categories and listing of them\n",
    "\n",
    "movies['GenreListed'] = movies['GenreManualCorrected']\n",
    "\n",
    "for genre in movies['GenreManualCorrected'].unique():\n",
    "    listed_genre = myTokenizer(genre)\n",
    "    for i in np.where(movies['GenreManualCorrected']==genre)[0]:\n",
    "        movies.at[i,'GenreListed'] = np.unique(np.array(listed_genre))\n",
    "\n",
    "movies"
   ]
  },
  {
   "cell_type": "markdown",
   "metadata": {},
   "source": [
    "## Harmonization results\n",
    "In the next cell we see that we have <span style=\"color:lightgreen\">**567 genre**</span>. NICE !"
   ]
  },
  {
   "cell_type": "code",
   "execution_count": 7,
   "metadata": {
    "colab": {},
    "colab_type": "code",
    "id": "vEwfiwNzRpJj"
   },
   "outputs": [
    {
     "name": "stdout",
     "output_type": "stream",
     "text": [
      "Total number of genre: 567\n"
     ]
    }
   ],
   "source": [
    "## Listing of all unique categories and their occurrence\n",
    "genres_array = np.array([])\n",
    "for genre in movies['GenreListed']:\n",
    "    genres_array = np.concatenate((genres_array, genre ))\n",
    "uniqueGenre, uniqueGenreCount = np.unique(genres_array, return_counts=True)\n",
    "print(f\"Total number of genre: {len(uniqueGenre)}\")"
   ]
  },
  {
   "cell_type": "code",
   "execution_count": 8,
   "metadata": {
    "colab": {},
    "colab_type": "code",
    "id": "Bbpc8aUdU5XQ"
   },
   "outputs": [
    {
     "data": {
      "text/html": [
       "<div>\n",
       "<style scoped>\n",
       "    .dataframe tbody tr th:only-of-type {\n",
       "        vertical-align: middle;\n",
       "    }\n",
       "\n",
       "    .dataframe tbody tr th {\n",
       "        vertical-align: top;\n",
       "    }\n",
       "\n",
       "    .dataframe thead th {\n",
       "        text-align: right;\n",
       "    }\n",
       "</style>\n",
       "<table border=\"1\" class=\"dataframe\">\n",
       "  <thead>\n",
       "    <tr style=\"text-align: right;\">\n",
       "      <th></th>\n",
       "      <th>Genre</th>\n",
       "      <th>Count</th>\n",
       "    </tr>\n",
       "  </thead>\n",
       "  <tbody>\n",
       "    <tr>\n",
       "      <th>0</th>\n",
       "      <td>drama</td>\n",
       "      <td>9502</td>\n",
       "    </tr>\n",
       "    <tr>\n",
       "      <th>1</th>\n",
       "      <td>comedy</td>\n",
       "      <td>7330</td>\n",
       "    </tr>\n",
       "    <tr>\n",
       "      <th>2</th>\n",
       "      <td>action</td>\n",
       "      <td>5402</td>\n",
       "    </tr>\n",
       "    <tr>\n",
       "      <th>3</th>\n",
       "      <td>romance</td>\n",
       "      <td>2639</td>\n",
       "    </tr>\n",
       "    <tr>\n",
       "      <th>4</th>\n",
       "      <td>thriller</td>\n",
       "      <td>1916</td>\n",
       "    </tr>\n",
       "    <tr>\n",
       "      <th>...</th>\n",
       "      <td>...</td>\n",
       "      <td>...</td>\n",
       "    </tr>\n",
       "    <tr>\n",
       "      <th>562</th>\n",
       "      <td>jayasudha</td>\n",
       "      <td>1</td>\n",
       "    </tr>\n",
       "    <tr>\n",
       "      <th>563</th>\n",
       "      <td>james</td>\n",
       "      <td>1</td>\n",
       "    </tr>\n",
       "    <tr>\n",
       "      <th>564</th>\n",
       "      <td>jahan</td>\n",
       "      <td>1</td>\n",
       "    </tr>\n",
       "    <tr>\n",
       "      <th>565</th>\n",
       "      <td>jagapati</td>\n",
       "      <td>1</td>\n",
       "    </tr>\n",
       "    <tr>\n",
       "      <th>566</th>\n",
       "      <td>zindagi</td>\n",
       "      <td>1</td>\n",
       "    </tr>\n",
       "  </tbody>\n",
       "</table>\n",
       "<p>567 rows × 2 columns</p>\n",
       "</div>"
      ],
      "text/plain": [
       "         Genre  Count\n",
       "0        drama   9502\n",
       "1       comedy   7330\n",
       "2       action   5402\n",
       "3      romance   2639\n",
       "4     thriller   1916\n",
       "..         ...    ...\n",
       "562  jayasudha      1\n",
       "563      james      1\n",
       "564      jahan      1\n",
       "565   jagapati      1\n",
       "566    zindagi      1\n",
       "\n",
       "[567 rows x 2 columns]"
      ]
     },
     "execution_count": 8,
     "metadata": {},
     "output_type": "execute_result"
    }
   ],
   "source": [
    "# Saving of unique categories and the number of movie in each category\n",
    "genres = pd.DataFrame({'Genre':uniqueGenre, 'Count':uniqueGenreCount}).sort_values(by=['Count'], ascending = False, ignore_index=True)\n",
    "genres"
   ]
  },
  {
   "cell_type": "markdown",
   "metadata": {},
   "source": [
    "We keep only the <span style=\"color:lightgreen\">**10 first genres**</span> for our algorithm"
   ]
  },
  {
   "cell_type": "code",
   "execution_count": 9,
   "metadata": {
    "colab": {},
    "colab_type": "code",
    "id": "FKebEmsFc_Qr"
   },
   "outputs": [
    {
     "data": {
      "image/png": "[encoded data removed]",
      "text/plain": [
       "<Figure size 864x720 with 1 Axes>"
      ]
     },
     "metadata": {
      "needs_background": "light"
     },
     "output_type": "display_data"
    }
   ],
   "source": [
    "## Show 10 main categories\n",
    "mainGenres = genres.loc[:9,:]\n",
    "mainGenres.plot(x='Genre', y='Count', kind='bar', legend=False, grid=True, figsize=(12, 10))\n",
    "plt.title(\"Number of movies per genre\")\n",
    "plt.ylabel('# of Occurrences', fontsize=12)\n",
    "plt.xlabel('Movie genres', fontsize=12)\n",
    "plt.show()"
   ]
  },
  {
   "cell_type": "markdown",
   "metadata": {},
   "source": [
    "For each movie, keep only the categories that are in our \"top10\" genre.\n",
    "\n",
    "Keep only the movies that have at least one genre."
   ]
  },
  {
   "cell_type": "code",
   "execution_count": 10,
   "metadata": {
    "colab": {},
    "colab_type": "code",
    "id": "gnpR6XiRghe7"
   },
   "outputs": [
    {
     "name": "stderr",
     "output_type": "stream",
     "text": [
      "C:\\Anaconda3\\lib\\site-packages\\numpy\\lib\\arraysetops.py:569: FutureWarning: elementwise comparison failed; returning scalar instead, but in the future will perform elementwise comparison\n",
      "  mask |= (ar1 == a)\n"
     ]
    },
    {
     "name": "stdout",
     "output_type": "stream",
     "text": [
      "All movies:                     34886\n",
      "Movies with at least one genre: 26325\n"
     ]
    }
   ],
   "source": [
    "## Keep only categories that are in our top10\n",
    "movies['MainGenre'] = movies['GenreListed'].apply(lambda x: x[np.in1d(x,mainGenres)])\n",
    "## Keep only films with categories\n",
    "selectedMovies = movies[movies['MainGenre'].apply(len)>0]\n",
    "print(f\"All movies:                     {movies.shape[0]}\\nMovies with at least one genre: {selectedMovies.shape[0]}\")"
   ]
  },
  {
   "cell_type": "markdown",
   "metadata": {},
   "source": [
    "# Output layer creation"
   ]
  },
  {
   "cell_type": "code",
   "execution_count": 11,
   "metadata": {
    "colab": {},
    "colab_type": "code",
    "id": "lAAhgmgLWs-0"
   },
   "outputs": [
    {
     "data": {
      "text/html": [
       "<div>\n",
       "<style scoped>\n",
       "    .dataframe tbody tr th:only-of-type {\n",
       "        vertical-align: middle;\n",
       "    }\n",
       "\n",
       "    .dataframe tbody tr th {\n",
       "        vertical-align: top;\n",
       "    }\n",
       "\n",
       "    .dataframe thead th {\n",
       "        text-align: right;\n",
       "    }\n",
       "</style>\n",
       "<table border=\"1\" class=\"dataframe\">\n",
       "  <thead>\n",
       "    <tr style=\"text-align: right;\">\n",
       "      <th></th>\n",
       "      <th>action</th>\n",
       "      <th>animation</th>\n",
       "      <th>comedy</th>\n",
       "      <th>drama</th>\n",
       "      <th>horror</th>\n",
       "      <th>music</th>\n",
       "      <th>romance</th>\n",
       "      <th>science_fiction</th>\n",
       "      <th>thriller</th>\n",
       "      <th>western</th>\n",
       "    </tr>\n",
       "  </thead>\n",
       "  <tbody>\n",
       "    <tr>\n",
       "      <th>6</th>\n",
       "      <td>0</td>\n",
       "      <td>0</td>\n",
       "      <td>0</td>\n",
       "      <td>0</td>\n",
       "      <td>0</td>\n",
       "      <td>0</td>\n",
       "      <td>0</td>\n",
       "      <td>0</td>\n",
       "      <td>0</td>\n",
       "      <td>1</td>\n",
       "    </tr>\n",
       "    <tr>\n",
       "      <th>7</th>\n",
       "      <td>0</td>\n",
       "      <td>0</td>\n",
       "      <td>1</td>\n",
       "      <td>0</td>\n",
       "      <td>0</td>\n",
       "      <td>0</td>\n",
       "      <td>0</td>\n",
       "      <td>0</td>\n",
       "      <td>0</td>\n",
       "      <td>0</td>\n",
       "    </tr>\n",
       "    <tr>\n",
       "      <th>11</th>\n",
       "      <td>1</td>\n",
       "      <td>0</td>\n",
       "      <td>0</td>\n",
       "      <td>0</td>\n",
       "      <td>0</td>\n",
       "      <td>0</td>\n",
       "      <td>0</td>\n",
       "      <td>0</td>\n",
       "      <td>0</td>\n",
       "      <td>1</td>\n",
       "    </tr>\n",
       "    <tr>\n",
       "      <th>14</th>\n",
       "      <td>0</td>\n",
       "      <td>0</td>\n",
       "      <td>1</td>\n",
       "      <td>0</td>\n",
       "      <td>0</td>\n",
       "      <td>0</td>\n",
       "      <td>0</td>\n",
       "      <td>0</td>\n",
       "      <td>0</td>\n",
       "      <td>0</td>\n",
       "    </tr>\n",
       "    <tr>\n",
       "      <th>15</th>\n",
       "      <td>0</td>\n",
       "      <td>0</td>\n",
       "      <td>1</td>\n",
       "      <td>0</td>\n",
       "      <td>0</td>\n",
       "      <td>0</td>\n",
       "      <td>0</td>\n",
       "      <td>0</td>\n",
       "      <td>0</td>\n",
       "      <td>0</td>\n",
       "    </tr>\n",
       "    <tr>\n",
       "      <th>...</th>\n",
       "      <td>...</td>\n",
       "      <td>...</td>\n",
       "      <td>...</td>\n",
       "      <td>...</td>\n",
       "      <td>...</td>\n",
       "      <td>...</td>\n",
       "      <td>...</td>\n",
       "      <td>...</td>\n",
       "      <td>...</td>\n",
       "      <td>...</td>\n",
       "    </tr>\n",
       "    <tr>\n",
       "      <th>34877</th>\n",
       "      <td>0</td>\n",
       "      <td>0</td>\n",
       "      <td>0</td>\n",
       "      <td>1</td>\n",
       "      <td>0</td>\n",
       "      <td>0</td>\n",
       "      <td>0</td>\n",
       "      <td>0</td>\n",
       "      <td>0</td>\n",
       "      <td>0</td>\n",
       "    </tr>\n",
       "    <tr>\n",
       "      <th>34882</th>\n",
       "      <td>0</td>\n",
       "      <td>0</td>\n",
       "      <td>1</td>\n",
       "      <td>0</td>\n",
       "      <td>0</td>\n",
       "      <td>0</td>\n",
       "      <td>0</td>\n",
       "      <td>0</td>\n",
       "      <td>0</td>\n",
       "      <td>0</td>\n",
       "    </tr>\n",
       "    <tr>\n",
       "      <th>34883</th>\n",
       "      <td>0</td>\n",
       "      <td>0</td>\n",
       "      <td>1</td>\n",
       "      <td>0</td>\n",
       "      <td>0</td>\n",
       "      <td>0</td>\n",
       "      <td>0</td>\n",
       "      <td>0</td>\n",
       "      <td>0</td>\n",
       "      <td>0</td>\n",
       "    </tr>\n",
       "    <tr>\n",
       "      <th>34884</th>\n",
       "      <td>0</td>\n",
       "      <td>0</td>\n",
       "      <td>1</td>\n",
       "      <td>0</td>\n",
       "      <td>0</td>\n",
       "      <td>0</td>\n",
       "      <td>1</td>\n",
       "      <td>0</td>\n",
       "      <td>0</td>\n",
       "      <td>0</td>\n",
       "    </tr>\n",
       "    <tr>\n",
       "      <th>34885</th>\n",
       "      <td>0</td>\n",
       "      <td>0</td>\n",
       "      <td>0</td>\n",
       "      <td>0</td>\n",
       "      <td>0</td>\n",
       "      <td>0</td>\n",
       "      <td>1</td>\n",
       "      <td>0</td>\n",
       "      <td>0</td>\n",
       "      <td>0</td>\n",
       "    </tr>\n",
       "  </tbody>\n",
       "</table>\n",
       "<p>26325 rows × 10 columns</p>\n",
       "</div>"
      ],
      "text/plain": [
       "       action  animation  comedy  drama  horror  music  romance  \\\n",
       "6           0          0       0      0       0      0        0   \n",
       "7           0          0       1      0       0      0        0   \n",
       "11          1          0       0      0       0      0        0   \n",
       "14          0          0       1      0       0      0        0   \n",
       "15          0          0       1      0       0      0        0   \n",
       "...       ...        ...     ...    ...     ...    ...      ...   \n",
       "34877       0          0       0      1       0      0        0   \n",
       "34882       0          0       1      0       0      0        0   \n",
       "34883       0          0       1      0       0      0        0   \n",
       "34884       0          0       1      0       0      0        1   \n",
       "34885       0          0       0      0       0      0        1   \n",
       "\n",
       "       science_fiction  thriller  western  \n",
       "6                    0         0        1  \n",
       "7                    0         0        0  \n",
       "11                   0         0        1  \n",
       "14                   0         0        0  \n",
       "15                   0         0        0  \n",
       "...                ...       ...      ...  \n",
       "34877                0         0        0  \n",
       "34882                0         0        0  \n",
       "34883                0         0        0  \n",
       "34884                0         0        0  \n",
       "34885                0         0        0  \n",
       "\n",
       "[26325 rows x 10 columns]"
      ]
     },
     "execution_count": 11,
     "metadata": {},
     "output_type": "execute_result"
    }
   ],
   "source": [
    "# Creat the output layer with all categories\n",
    "categoriesVector = selectedMovies.MainGenre.apply(lambda x: '-'.join(x)).str.get_dummies(sep='-')\n",
    "selectedMovies = pd.concat([selectedMovies, categoriesVector], axis=1)\n",
    "\n",
    "categoriesVector"
   ]
  },
  {
   "cell_type": "markdown",
   "metadata": {},
   "source": [
    "# Features preparation\n",
    "Term Frequency-Inverse Document Frequency (TF-iDF)"
   ]
  },
  {
   "cell_type": "markdown",
   "metadata": {
    "colab_type": "text",
    "id": "JG12JVrgY605"
   },
   "source": [
    "## Splitting The Data into Training and Test Sets\n",
    "A proportion of 80% 20% is taken"
   ]
  },
  {
   "cell_type": "code",
   "execution_count": 12,
   "metadata": {
    "colab": {},
    "colab_type": "code",
    "id": "IBVYVCJDY6KP"
   },
   "outputs": [],
   "source": [
    "rawPlot_train, rawPlot_test, cat_train, cat_test = train_test_split(selectedMovies.Plot, categoriesVector, random_state=62, train_size=0.8, shuffle=True) #80% 20%"
   ]
  },
  {
   "cell_type": "code",
   "execution_count": 13,
   "metadata": {},
   "outputs": [],
   "source": [
    "catVector_train = pd.DataFrame(cat_train, columns=mainGenres.Genre)\n",
    "catVector_test = pd.DataFrame(cat_test, columns=mainGenres.Genre)"
   ]
  },
  {
   "cell_type": "markdown",
   "metadata": {},
   "source": [
    "## Learning training set vocabulary and words frequency\n",
    "\n",
    "The vocabulary is limited to 10'000 words to reduse the computing time. 10'000 is selected, based on this graph.\n",
    "<img src=\"TopKvsAccuracy.png\" alt=\"drawing\" width=\"1000\"/>\n",
    "\n",
    "*This part take lot of time (22min), so the result is stored in a file for futur use*"
   ]
  },
  {
   "cell_type": "code",
   "execution_count": 18,
   "metadata": {},
   "outputs": [],
   "source": [
    "plotVectorizer  = TfidfVectorizer(tokenizer = myTokenizer, min_df=3, max_features=10000)\n",
    "plotVector_train = plotVectorizer.fit_transform(rawPlot_train)\n",
    "with open(\"data/plotVectorizer.pickle\", 'wb') as fd:\n",
    "    pickle.dump(plotVectorizer, fd)\n",
    "with open(\"data/plotVector_train.pickle\", 'wb') as fd:\n",
    "    pickle.dump(plotVector_train, fd)"
   ]
  },
  {
   "cell_type": "code",
   "execution_count": 19,
   "metadata": {},
   "outputs": [
    {
     "name": "stdout",
     "output_type": "stream",
     "text": [
      "Wall time: 0 ns\n"
     ]
    }
   ],
   "source": [
    "%%time\n",
    "# Learn vocabulary from training texts\n",
    "# Save variable into pickle file so you don't have to re-calculate it\n",
    "try:\n",
    "    plotVectorizer\n",
    "except:\n",
    "    try:\n",
    "        with open('data/plotVectorizer.pickle', 'rb') as fd:\n",
    "            plotVectorizer = pickle.load(fd)\n",
    "    except:\n",
    "        plotVectorizer  = TfidfVectorizer(tokenizer = myTokenizer, min_df=3, max_features=10000)\n",
    "        plotVectorizer.fit(rawPlot_train)\n",
    "        with open(\"data/plotVectorizer.pickle\", 'wb') as fd:\n",
    "            pickle.dump(plotVectorizer, fd)\n",
    "            \n",
    "        if IN_COLAB:\n",
    "            files.download('data/plotVectorizer.pickle') "
   ]
  },
  {
   "cell_type": "markdown",
   "metadata": {},
   "source": [
    "## Creating training set features\n",
    "*This part take lot of time (21min), so the result is stored in a file for futur use*"
   ]
  },
  {
   "cell_type": "code",
   "execution_count": 20,
   "metadata": {
    "colab": {},
    "colab_type": "code",
    "id": "QJyiGfuPiE0w"
   },
   "outputs": [
    {
     "name": "stdout",
     "output_type": "stream",
     "text": [
      "Wall time: 0 ns\n"
     ]
    }
   ],
   "source": [
    "%%time\n",
    "# Vectorize the training texts\n",
    "\n",
    "try:\n",
    "    plotVector_train\n",
    "except:\n",
    "    try:\n",
    "        with open('data/plotVector_train.pickle', 'rb') as fd:\n",
    "            plotVector_train = pickle.load(fd)\n",
    "    except:\n",
    "        plotVector_train = plotVectorizer.transform(rawPlot_train)\n",
    "        with open(\"data/plotVector_train.pickle\", 'wb') as fd:\n",
    "            pickle.dump(plotVector_train, fd)\n",
    "            \n",
    "        if IN_COLAB:\n",
    "            files.download('data/plotVector_train.pickle') "
   ]
  },
  {
   "cell_type": "markdown",
   "metadata": {},
   "source": [
    "## Creating test set features\n",
    "*This part take lot of time (5min), so the result is stored in a file for futur use*"
   ]
  },
  {
   "cell_type": "code",
   "execution_count": 21,
   "metadata": {
    "colab": {},
    "colab_type": "code",
    "id": "KcP6nLeVv1bf"
   },
   "outputs": [
    {
     "name": "stdout",
     "output_type": "stream",
     "text": [
      "Wall time: 5min 6s\n"
     ]
    }
   ],
   "source": [
    "%%time\n",
    "# Vectorize the validation texts.\n",
    "\n",
    "try:\n",
    "    plotVector_test\n",
    "except:\n",
    "    try:\n",
    "        with open('data/plotVector_test.pickle', 'rb') as fd:\n",
    "            plotVector_test = pickle.load(fd)\n",
    "    except:\n",
    "        plotVector_test = plotVectorizer.transform(rawPlot_test)\n",
    "        with open(\"data/plotVector_test.pickle\", 'wb') as fd:\n",
    "            pickle.dump(plotVector_test, fd)\n",
    "            \n",
    "        if IN_COLAB:\n",
    "            files.download('data/plotVector_test.pickle') "
   ]
  },
  {
   "cell_type": "markdown",
   "metadata": {
    "colab_type": "text",
    "id": "xKwh7sASEqvS"
   },
   "source": [
    "# One VS All Classification"
   ]
  },
  {
   "cell_type": "markdown",
   "metadata": {},
   "source": [
    "## Plot tokenization"
   ]
  },
  {
   "cell_type": "code",
   "execution_count": 22,
   "metadata": {},
   "outputs": [
    {
     "name": "stdout",
     "output_type": "stream",
     "text": [
      "Raw text:\n",
      " Omar Sharif plays Muhassab, headman Gad's son who goes with Mayor Migahed (Rushdy Abaza) to buy an expensive scow in Luxor, but the thieves become aware of this purchase and decide to steal the money.\n",
      "\n",
      "Tockens:\n",
      "  [array(['aware', 'buy', 'decide', 'expensive', 'go', 'mayor', 'money',\n",
      "       'omar', 'play', 'purchase', 'son', 'steal', 'thief'], dtype='<U16')]\n"
     ]
    }
   ],
   "source": [
    "print(f\"Raw text:\\n {rawPlot_train.iloc[0]}\\n\")\n",
    "print(f\"Tockens:\\n  {plotVectorizer.inverse_transform(plotVector_train[0].toarray())}\")"
   ]
  },
  {
   "cell_type": "markdown",
   "metadata": {},
   "source": [
    "## Training the classifiers\n",
    "\n",
    "The principle of <span style=\"color:lightgreen\">**One VS All**</span> is used, with a <span style=\"color:lightgreen\">**multinomial Naive Bayes algorithm**</span> to make the classification"
   ]
  },
  {
   "cell_type": "code",
   "execution_count": 23,
   "metadata": {},
   "outputs": [],
   "source": [
    "nbClassifiers=pd.DataFrame(columns=['Genre', 'Classifier', 'Accuracy'])\n",
    "for i, genre in enumerate(mainGenres.Genre):\n",
    "    multinomialNB=OneVsRestClassifier(MultinomialNB())\n",
    "    multinomialNB.fit(plotVector_train, catVector_train[genre])\n",
    "    prediction = multinomialNB.predict(plotVector_test)\n",
    "    nbClassifiers.loc[i,'Genre'] = genre    \n",
    "    nbClassifiers.loc[i,'Classifier'] = multinomialNB\n",
    "    nbClassifiers.loc[i,'Accuracy'] = accuracy_score(catVector_test[genre], prediction)"
   ]
  },
  {
   "cell_type": "markdown",
   "metadata": {},
   "source": [
    "## Classifier result on test set"
   ]
  },
  {
   "cell_type": "code",
   "execution_count": 24,
   "metadata": {},
   "outputs": [
    {
     "data": {
      "image/png": "[encoded data removed]",
      "text/plain": [
       "<Figure size 720x576 with 1 Axes>"
      ]
     },
     "metadata": {
      "needs_background": "light"
     },
     "output_type": "display_data"
    }
   ],
   "source": [
    "plt.figure(figsize=(10,8))\n",
    "plt.bar(nbClassifiers.Genre, height=nbClassifiers.Accuracy)\n",
    "plt.grid()\n",
    "plt.title(\"Movies genre classification accuracy on test set\")\n",
    "plt.ylabel('Accuracy', fontsize=14)\n",
    "plt.xlabel('Movie genres', fontsize=14)\n",
    "plt.show()"
   ]
  },
  {
   "cell_type": "markdown",
   "metadata": {},
   "source": [
    "## Final genre detection function and use"
   ]
  },
  {
   "cell_type": "code",
   "execution_count": 35,
   "metadata": {},
   "outputs": [],
   "source": [
    "def genreClassifier(text, vectorizer, classifier):\n",
    "    predictions = pd.DataFrame(columns=['Genre', 'Probality', 'Prediction'])\n",
    "    textVector = vectorizer.transform([text])\n",
    "    for i,genre in enumerate(classifier.Genre):\n",
    "        predictions.loc[i,'Genre'] = genre\n",
    "        predictions.loc[i,'Probality'] =  classifier.loc[i,'Classifier'].predict_proba(textVector)[0,1]\n",
    "        predictions.loc[i,'Prediction'] =  (predictions.loc[i,'Probality']>0.2)*1\n",
    "    return predictions"
   ]
  },
  {
   "cell_type": "code",
   "execution_count": 36,
   "metadata": {},
   "outputs": [
    {
     "data": {
      "text/html": [
       "<div>\n",
       "<style scoped>\n",
       "    .dataframe tbody tr th:only-of-type {\n",
       "        vertical-align: middle;\n",
       "    }\n",
       "\n",
       "    .dataframe tbody tr th {\n",
       "        vertical-align: top;\n",
       "    }\n",
       "\n",
       "    .dataframe thead th {\n",
       "        text-align: right;\n",
       "    }\n",
       "</style>\n",
       "<table border=\"1\" class=\"dataframe\">\n",
       "  <thead>\n",
       "    <tr style=\"text-align: right;\">\n",
       "      <th></th>\n",
       "      <th>Genre</th>\n",
       "      <th>Probality</th>\n",
       "      <th>Prediction</th>\n",
       "    </tr>\n",
       "  </thead>\n",
       "  <tbody>\n",
       "    <tr>\n",
       "      <th>0</th>\n",
       "      <td>drama</td>\n",
       "      <td>0.134918</td>\n",
       "      <td>0</td>\n",
       "    </tr>\n",
       "    <tr>\n",
       "      <th>1</th>\n",
       "      <td>comedy</td>\n",
       "      <td>0.118446</td>\n",
       "      <td>0</td>\n",
       "    </tr>\n",
       "    <tr>\n",
       "      <th>2</th>\n",
       "      <td>action</td>\n",
       "      <td>0.68654</td>\n",
       "      <td>1</td>\n",
       "    </tr>\n",
       "    <tr>\n",
       "      <th>3</th>\n",
       "      <td>romance</td>\n",
       "      <td>0.0122871</td>\n",
       "      <td>0</td>\n",
       "    </tr>\n",
       "    <tr>\n",
       "      <th>4</th>\n",
       "      <td>thriller</td>\n",
       "      <td>0.0860672</td>\n",
       "      <td>0</td>\n",
       "    </tr>\n",
       "    <tr>\n",
       "      <th>5</th>\n",
       "      <td>horror</td>\n",
       "      <td>0.0520379</td>\n",
       "      <td>0</td>\n",
       "    </tr>\n",
       "    <tr>\n",
       "      <th>6</th>\n",
       "      <td>western</td>\n",
       "      <td>0.00497117</td>\n",
       "      <td>0</td>\n",
       "    </tr>\n",
       "    <tr>\n",
       "      <th>7</th>\n",
       "      <td>music</td>\n",
       "      <td>0.0052341</td>\n",
       "      <td>0</td>\n",
       "    </tr>\n",
       "    <tr>\n",
       "      <th>8</th>\n",
       "      <td>science_fiction</td>\n",
       "      <td>0.0298217</td>\n",
       "      <td>0</td>\n",
       "    </tr>\n",
       "    <tr>\n",
       "      <th>9</th>\n",
       "      <td>animation</td>\n",
       "      <td>0.00723347</td>\n",
       "      <td>0</td>\n",
       "    </tr>\n",
       "  </tbody>\n",
       "</table>\n",
       "</div>"
      ],
      "text/plain": [
       "             Genre   Probality Prediction\n",
       "0            drama    0.134918          0\n",
       "1           comedy    0.118446          0\n",
       "2           action     0.68654          1\n",
       "3          romance   0.0122871          0\n",
       "4         thriller   0.0860672          0\n",
       "5           horror   0.0520379          0\n",
       "6          western  0.00497117          0\n",
       "7            music   0.0052341          0\n",
       "8  science_fiction   0.0298217          0\n",
       "9        animation  0.00723347          0"
      ]
     },
     "execution_count": 36,
     "metadata": {},
     "output_type": "execute_result"
    }
   ],
   "source": [
    "plot_fastAndFurious = \"After defeating Owen Shaw and his crew and securing amnesty for their past crimes,[N 1] Dominic 'Dom' Toretto, Brian O'Conner, and the rest of their team have returned to the United States to live peaceful, normal lives again, thanks to DSS agent Luke Hobbs erasing their criminal records. Brian begins to accustom himself to life as a father, while Dom tries to help Letty Ortiz regain her memory. Meanwhile, Owen's older brother, Deckard Shaw, breaks into the secure hospital in London, England that the comatose Owen is being held in and swears vengeance against Dom and his team, before breaking into Luke Hobbs' DSS HQ office in Los Angeles to extract profiles of Dom's crew. After revealing his identity, Shaw engages Hobbs in a fight and escapes when he detonates a bomb that severely injures Hobbs. Dom later learns from his sister Mia that she is pregnant again and convinces her to tell Brian. However, a letter bomb sent from Tokyo, explodes and destroys the Toretto house just seconds after Han, a member of Dom's team, is apparently killed by Shaw in Tokyo.[N 2] Dom visits Hobbs in a hospital, where he learns that Shaw is a rogue special forces assassin seeking to avenge his brother. Dom travels to Tokyo to reclaim Han's corpse and acquires personal items found at Han's crash site from Han's friend, Sean Boswell.As Dom, Brian, Tej, and Roman mourn Han and Gisele’s deaths at Han's funeral in Los Angeles, Dom notices a car eerily observing them, and after a lengthy car chase through the city streets, confronts its driver in an underground tunnel, who is revealed to be Shaw. Shaw flees when a covert ops team arrives and opens fire, led by Mr. Nobody. At his air base of operations in San Diego, Nobody says that he will assist Dom in stopping Shaw if he helps him obtain God's Eye, a computer program that uses digital devices to track down a person, and save its creator, a hacker named Ramsey, from an African mercenary terrorist named Mose Jakande. Dom, Brian, Letty, Roman Pearce, and Tej Parker then airdrop their cars over the Caucasus Mountains in Azerbaijan, ambush Jakande's convoy, and rescue Ramsey. The team then jets off to Abu Dhabi in a military plane, where a billionaire has acquired the flash drive containing God's Eye and manages to steal it from the owner after the team secretly infiltrates a gala at Etihad Towers dressed in formalwear. With God's Eye near telecommunications repeaters, the team tracks down Shaw, who is waiting at a remote factory. Dom, Brian, Nobody, and his team attempt to capture Shaw, but are ambushed by Jakande and his men and are forced to flee while Jakande obtains God's Eye. At his own request, the injured Nobody is left behind to be airlifted by helicopter while Brian and Dom continue on without him. To reduce their disadvantage, the crew returns home to Los Angeles to fight Shaw, Jakande, and his henchmen. Dom plans to singlehandedly fight Shaw alone, while Letty, Brian, Tej and Roman plan to protect Ramsey from the wrath of Jakande. Meanwhile, Brian phones Mia, warning her about the upcoming final showdown, warning her that he may not come back alive but Mia gives him the courage to prevail after revealing her pregnancy. Brian promises Mia that he will retire from his criminal lifestyle and fully dedicate himself to their family after he defeats Shaw and Jakande. Deckard, Dom and Brian then gear up for the ultimate final showdown, fully under arms and armed to the teeth.As Jakande pursues Brian and the rest of the team with a stealth helicopter and an aerial drone, Ramsey attempts to hack into God's Eye. Hobbs, seeing the team in trouble after Jakande takes out a cell tower, break sout of the hospital and destroys the drone with an ambulance. Brian engages Jakande's henchman Kiet and defeats him by tying a weight to him and shoves him down an elevator shaft before hijacking a signal repeater tower, allowing Ramsey to regain control of God's Eye and shut it down. Dom and Shaw engage in a one-on-one brawl on top of a public parking garage, before Jakande intervenes and attacks them both. Shaw is defeated when part of the parking garage collapses beneath him. Dom then launches his 1970 Dodge Charger at Jakande's helicopter, hooking Shaw's bag of grenades onto its skids, though his car crash-lands in a mountain of rubble. Hobbs then shoots the bag of grenades from ground level, destroying the helicopter and killing Jakande. Dom is pulled from the wreckage of his car, believed to be dead. As Letty cradles Dom's body in her arms, she reveals that she has fully regained all her memories back, and that she remembers everything about her pre-amnesiac life, especially their wedding in the Dominican Republic. Dom regains consciousness soon after, remarking, 'It's about time'.Shaw is taken into custody by Hobbs and locked away in a secret, high-security prison. The rest of the team relaxes on a tropical beach in the Dominican Republic, enjoying the sun. Brian and Mia play in the sand with their son Jack by the water while Dom, Letty, Roman, Tej, and Ramsey observe, acknowledging that Brian is better off happily retired with his family and realizing that Brian’s place is now raising a family instead of on the road with them. Overcome with emotion, Dom stands up to silently leave. Ramsey asks if he intends to say goodbye. Dom says, 'It's never goodbye.' Alone and downcast, Dom drives along the Southern California countryside. As Dom pulls up to a four-way stop, Brian catches up with him and pull up in a car beside Dom, teasing him for leaving without a goodbye. In their last moment together, the duo exchange pleasantries and race across the freeway as Dom continues to reminisce in voiceover.Dom remembers all the fun times that he had with Brian as memoriam montage flashbacks of Walker’s moments as Brian in previous Fast and Furious films appear on the screen. They bid each other farewell after approaching a fork in the road and part company, with Brian veering off as Dom continues on the road ahead, driving off in separate directions.\"\n",
    "genreClassifier(plot_fastAndFurious, plotVectorizer, nbClassifiers)"
   ]
  },
  {
   "cell_type": "code",
   "execution_count": 37,
   "metadata": {},
   "outputs": [
    {
     "data": {
      "text/html": [
       "<div>\n",
       "<style scoped>\n",
       "    .dataframe tbody tr th:only-of-type {\n",
       "        vertical-align: middle;\n",
       "    }\n",
       "\n",
       "    .dataframe tbody tr th {\n",
       "        vertical-align: top;\n",
       "    }\n",
       "\n",
       "    .dataframe thead th {\n",
       "        text-align: right;\n",
       "    }\n",
       "</style>\n",
       "<table border=\"1\" class=\"dataframe\">\n",
       "  <thead>\n",
       "    <tr style=\"text-align: right;\">\n",
       "      <th></th>\n",
       "      <th>Genre</th>\n",
       "      <th>Probality</th>\n",
       "      <th>Prediction</th>\n",
       "    </tr>\n",
       "  </thead>\n",
       "  <tbody>\n",
       "    <tr>\n",
       "      <th>0</th>\n",
       "      <td>drama</td>\n",
       "      <td>0.0958414</td>\n",
       "      <td>0</td>\n",
       "    </tr>\n",
       "    <tr>\n",
       "      <th>1</th>\n",
       "      <td>comedy</td>\n",
       "      <td>0.128593</td>\n",
       "      <td>0</td>\n",
       "    </tr>\n",
       "    <tr>\n",
       "      <th>2</th>\n",
       "      <td>action</td>\n",
       "      <td>0.287347</td>\n",
       "      <td>1</td>\n",
       "    </tr>\n",
       "    <tr>\n",
       "      <th>3</th>\n",
       "      <td>romance</td>\n",
       "      <td>0.00659342</td>\n",
       "      <td>0</td>\n",
       "    </tr>\n",
       "    <tr>\n",
       "      <th>4</th>\n",
       "      <td>thriller</td>\n",
       "      <td>0.106934</td>\n",
       "      <td>0</td>\n",
       "    </tr>\n",
       "    <tr>\n",
       "      <th>5</th>\n",
       "      <td>horror</td>\n",
       "      <td>0.275794</td>\n",
       "      <td>1</td>\n",
       "    </tr>\n",
       "    <tr>\n",
       "      <th>6</th>\n",
       "      <td>western</td>\n",
       "      <td>0.00553931</td>\n",
       "      <td>0</td>\n",
       "    </tr>\n",
       "    <tr>\n",
       "      <th>7</th>\n",
       "      <td>music</td>\n",
       "      <td>0.00400301</td>\n",
       "      <td>0</td>\n",
       "    </tr>\n",
       "    <tr>\n",
       "      <th>8</th>\n",
       "      <td>science_fiction</td>\n",
       "      <td>0.0386528</td>\n",
       "      <td>0</td>\n",
       "    </tr>\n",
       "    <tr>\n",
       "      <th>9</th>\n",
       "      <td>animation</td>\n",
       "      <td>0.0101479</td>\n",
       "      <td>0</td>\n",
       "    </tr>\n",
       "  </tbody>\n",
       "</table>\n",
       "</div>"
      ],
      "text/plain": [
       "             Genre   Probality Prediction\n",
       "0            drama   0.0958414          0\n",
       "1           comedy    0.128593          0\n",
       "2           action    0.287347          1\n",
       "3          romance  0.00659342          0\n",
       "4         thriller    0.106934          0\n",
       "5           horror    0.275794          1\n",
       "6          western  0.00553931          0\n",
       "7            music  0.00400301          0\n",
       "8  science_fiction   0.0386528          0\n",
       "9        animation   0.0101479          0"
      ]
     },
     "execution_count": 37,
     "metadata": {},
     "output_type": "execute_result"
    }
   ],
   "source": [
    "plot_saw = \"Two men, Brad and Ryan, awaken in a Metropolitan Storefront, bound at the wrists to opposite sides of a worktable with a circular saw in front of each of them. Their mutual lover, Dina, is suspended above a third saw, and Jigsaw's puppet informs the men that Dina has been manipulating both of them, driving them into criminal activity to fulfill her material desires. They are given a choice — either Brad or Ryan can be killed, or let Dina die. They initially fight each other, during which Brad is cut by the saw. However, Ryan notices Dina is only cheering for whoever's winning, making him realize she's only using them, so he makes peace with Brad, and they allow Dina to die instead.After witnessing Mark Hoffman's survival and being attacked, Jill Tuck meets Matt Gibson, an internal affairs detective from the precinct where he works, and incriminates him in exchange for protection and immunity from prosecution. Gibson, who has distrusted Hoffman for years, agrees to her terms. Meanwhile, Hoffman abducts a skinhead gang — Dan, Evan, Jake, and Kara — and places them in a junkyard trap that kills them all, leaving the reverse bear trap at the scene to incriminate Jill, who is later put into protective custody. After a meeting of Jigsaw survivors, including Lawrence Gordon, who cauterized his leg on a steam pipe after escaping the bathroom, Hoffman abducts Bobby Dagen, a self-help guru who achieved fame and fortune by falsifying a story of his own survival. He sends Gibson some videos with cryptic clues to the game's location, offering to end the games if Jill is given to him.Meanwhile, Bobby awakens in a cage in an abandoned asylum and is told that his wife Joyce will die if he doesn't save her within one hour. Joyce is chained at the neck to a steel platform that gradually pulls her down as she watches Bobby's progress. After he escapes the cage, which dangles over a floor of spikes, he begins searching for Joyce. Along the way, he finds Nina, his publicist; Suzanne, his lawyer; and Cale, his best friend and co-conspirator, in separate traps representing the three wise monkeys and all of them are killed despite his efforts to save them. After removing his upper wisdom teeth to obtain the combination for a security door, Bobby finds Joyce and is forced to reenact the trap he claimed to have survived: he must drive two hooks through his pectoral muscles and hoist himself up to the ceiling to deactivate her trap. He fails nonetheless, and is forced to watch as a brazen bull capsule closes around Joyce and incinerates her to death.Gibson eventually discovers the game's location and sends a SWAT team, who are sealed in another room and killed by toxic gas. Simultaneously, he and two officers infiltrate Hoffman's command center in the junkyard, where they find Dan's corpse sitting in front of several monitors connected to the police headquarter's security cameras. He sees Hoffman brought into the morgue in a body bag and tries to warn Palmer, but an automatic turret gun rises up and kills him along with his men. Hoffman kills Dr. Heffner, Palmer, and everyone else in his path to Jill, who briefly escapes before she is caught and knocked unconscious. He straps her to a chair and locks a reverse bear trap to her head; she awakens as the timer starts and is killed when the trap activates, tearing her jaws apart.After destroying his workshop, Hoffman is attacked and subdued by three pig-masked figures, one of whom is Lawrence Gordon. Flashbacks show that John Kramer found him unconscious by the steam pipe and nursed him back to health, and Gordon has assisted him ever since. This was known only by Jill, who delivered a package to him at the hospital, which contained a videotape, in which John asked him to watch over Jill and take action if anything happened to her. As a result, Gordon has Hoffman brought to the bathroom from the first film and shackled by the ankle to a pipe. When Hoffman tries to reach for the hacksaw used to sever Gordon's leg, in an effort to escape, Gordon throws it out of the room, turns off the lights and yells 'Game Over', before sealing the door, leaving Hoffman to die.\"\n",
    "genreClassifier(plot_saw, plotVectorizer, nbClassifiers)"
   ]
  },
  {
   "cell_type": "code",
   "execution_count": 38,
   "metadata": {},
   "outputs": [
    {
     "data": {
      "text/html": [
       "<div>\n",
       "<style scoped>\n",
       "    .dataframe tbody tr th:only-of-type {\n",
       "        vertical-align: middle;\n",
       "    }\n",
       "\n",
       "    .dataframe tbody tr th {\n",
       "        vertical-align: top;\n",
       "    }\n",
       "\n",
       "    .dataframe thead th {\n",
       "        text-align: right;\n",
       "    }\n",
       "</style>\n",
       "<table border=\"1\" class=\"dataframe\">\n",
       "  <thead>\n",
       "    <tr style=\"text-align: right;\">\n",
       "      <th></th>\n",
       "      <th>Genre</th>\n",
       "      <th>Probality</th>\n",
       "      <th>Prediction</th>\n",
       "    </tr>\n",
       "  </thead>\n",
       "  <tbody>\n",
       "    <tr>\n",
       "      <th>0</th>\n",
       "      <td>drama</td>\n",
       "      <td>0.359551</td>\n",
       "      <td>1</td>\n",
       "    </tr>\n",
       "    <tr>\n",
       "      <th>1</th>\n",
       "      <td>comedy</td>\n",
       "      <td>0.254069</td>\n",
       "      <td>1</td>\n",
       "    </tr>\n",
       "    <tr>\n",
       "      <th>2</th>\n",
       "      <td>action</td>\n",
       "      <td>0.0365448</td>\n",
       "      <td>0</td>\n",
       "    </tr>\n",
       "    <tr>\n",
       "      <th>3</th>\n",
       "      <td>romance</td>\n",
       "      <td>0.0753299</td>\n",
       "      <td>0</td>\n",
       "    </tr>\n",
       "    <tr>\n",
       "      <th>4</th>\n",
       "      <td>thriller</td>\n",
       "      <td>0.0278451</td>\n",
       "      <td>0</td>\n",
       "    </tr>\n",
       "    <tr>\n",
       "      <th>5</th>\n",
       "      <td>horror</td>\n",
       "      <td>0.0208871</td>\n",
       "      <td>0</td>\n",
       "    </tr>\n",
       "    <tr>\n",
       "      <th>6</th>\n",
       "      <td>western</td>\n",
       "      <td>0.00179911</td>\n",
       "      <td>0</td>\n",
       "    </tr>\n",
       "    <tr>\n",
       "      <th>7</th>\n",
       "      <td>music</td>\n",
       "      <td>0.00344141</td>\n",
       "      <td>0</td>\n",
       "    </tr>\n",
       "    <tr>\n",
       "      <th>8</th>\n",
       "      <td>science_fiction</td>\n",
       "      <td>0.00644977</td>\n",
       "      <td>0</td>\n",
       "    </tr>\n",
       "    <tr>\n",
       "      <th>9</th>\n",
       "      <td>animation</td>\n",
       "      <td>0.00221993</td>\n",
       "      <td>0</td>\n",
       "    </tr>\n",
       "  </tbody>\n",
       "</table>\n",
       "</div>"
      ],
      "text/plain": [
       "             Genre   Probality Prediction\n",
       "0            drama    0.359551          1\n",
       "1           comedy    0.254069          1\n",
       "2           action   0.0365448          0\n",
       "3          romance   0.0753299          0\n",
       "4         thriller   0.0278451          0\n",
       "5           horror   0.0208871          0\n",
       "6          western  0.00179911          0\n",
       "7            music  0.00344141          0\n",
       "8  science_fiction  0.00644977          0\n",
       "9        animation  0.00221993          0"
      ]
     },
     "execution_count": 38,
     "metadata": {},
     "output_type": "execute_result"
    }
   ],
   "source": [
    "plot_EternalSunshineOfTheSpotlessMind = \"Shy, soft-spoken Joel Barish and unrestrained free spirit Clementine Kruczynski meet on a Long Island Rail Road train from Montauk to Rockville Centre. Both had felt the need to travel to Montauk that day, and they almost immediately connect, feeling drawn to each other despite their contrasting personalities. Although Joel and Clementine do not realize it, they were once in a relationship, having separated after dating for two years. After a fight, Clementine had hired the New York City firm Lacuna, Inc. to erase all her memories of their relationship. Upon discovering this from his friends Rob and Carrie, Joel decides to undergo the procedure himself.The narrative subsequently takes place in Joel's mind during the memory erasing procedure. Joel finds himself revisiting his memories of Clementine in reverse, starting from the downfall of their relationship. As he comes across happier memories of Clementine early in their relationship, he attempts to preserve at least some memory of her and his love for her, trying to evade the procedure by taking his idealized memory of Clementine into memories not linked to her and attempting to wake up and stop the process. Despite his efforts, the technicians succeed in erasing his memories. Joel comes to the last remaining memory of Clementine, the day he first met her at a beach house in Montauk. As the memory disintegrates around them, she whispers to meet her in Montauk. This leads to both Joel and Clementine travelling to Montauk, where they subsequently meet on the train.A separate story arc occurs during Joel's memory erasure, revolving around Lacuna's employees. Patrick, one of the Lacuna technicians performing the erasure, uses Joel's memories and his mementos of Clementine to seduce and date her in the present. Mary, the Lacuna receptionist, is dating another technician, Stan, but has feelings for the married head of Lacuna, Dr. Howard Mierzwiak. During Joel's memory wipe, Mary discovers she previously had an affair with Dr. Mierzwiak and agreed to have the affair erased from her memory after Dr. Mierzwiak's wife found out. Devastated by this discovery, Mary quits her job and steals the company's records, mailing all of Lacuna's clients the tapes of each client recounting their memories to be erased.In the present, Joel and Clementine meet at the Montauk train station and are eager to begin what appears to be a new and exciting relationship. When they both receive their Lacuna records mailed by Mary, they are shocked and disturbed by the bitter memories they have of each other. Clementine attempts to leave, saying that the relationship might end the same way it did in the tapes. They realize that flaws in their relationship are inevitable but decide to go on with it, believing that they are meant to be together.\"\n",
    "genreClassifier(plot_EternalSunshineOfTheSpotlessMind, plotVectorizer, nbClassifiers)"
   ]
  },
  {
   "cell_type": "code",
   "execution_count": null,
   "metadata": {},
   "outputs": [],
   "source": []
  }
 ],
 "metadata": {
  "colab": {
   "collapsed_sections": [],
   "include_colab_link": true,
   "name": "Copie de movie-chatbot.ipynb",
   "provenance": []
  },
  "kernelspec": {
   "display_name": "Python 3",
   "language": "python",
   "name": "python3"
  },
  "language_info": {
   "codemirror_mode": {
    "name": "ipython",
    "version": 3
   },
   "file_extension": ".py",
   "mimetype": "text/x-python",
   "name": "python",
   "nbconvert_exporter": "python",
   "pygments_lexer": "ipython3",
   "version": "3.7.7"
  }
 },
 "nbformat": 4,
 "nbformat_minor": 4
}
