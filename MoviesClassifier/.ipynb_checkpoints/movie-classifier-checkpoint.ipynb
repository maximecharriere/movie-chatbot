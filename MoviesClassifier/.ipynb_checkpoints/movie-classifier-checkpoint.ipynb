{
 "cells": [
  {
   "cell_type": "markdown",
   "metadata": {
    "colab_type": "text",
    "id": "view-in-github"
   },
   "source": [
    "<a href=\"https://colab.research.google.com/github/maximecharriere/movie-chatbot/blob/master/Copie_de_movie_chatbot.ipynb\" target=\"_parent\"><img src=\"https://colab.research.google.com/assets/colab-badge.svg\" alt=\"Open In Colab\"/></a>"
   ]
  },
  {
   "cell_type": "markdown",
   "metadata": {
    "colab_type": "text",
    "id": "DVy8nkPvIWuW"
   },
   "source": [
    "# **Chatbot cinéphile - WELCOME**\n",
    "*Par Dylan **Morocutti** et Maxime **Charrière**.*"
   ]
  },
  {
   "cell_type": "markdown",
   "metadata": {
    "colab_type": "text",
    "id": "KA-L_QLZnwIP"
   },
   "source": [
    "# Libraries importation"
   ]
  },
  {
   "cell_type": "code",
   "execution_count": 28,
   "metadata": {
    "colab": {
     "base_uri": "https://localhost:8080/",
     "height": 102
    },
    "colab_type": "code",
    "id": "h_xI7FpYn3Oj",
    "outputId": "436fa86e-51fd-4b7f-a046-6da5ec661e9c"
   },
   "outputs": [
    {
     "name": "stdout",
     "output_type": "stream",
     "text": [
      "Libraries version:\n",
      "Numpy:      1.18.1\n",
      "Matplotlib: 3.1.3\n",
      "Pandas:     1.0.3\n",
      "Spacy:      2.2.4\n"
     ]
    }
   ],
   "source": [
    "try:\n",
    "    from google.colab import files\n",
    "    IN_COLAB = True\n",
    "except:\n",
    "    IN_COLAB = False\n",
    "\n",
    "\n",
    "import numpy as np\n",
    "# import tensorflow as tf\n",
    "import matplotlib\n",
    "import matplotlib.pyplot as plt\n",
    "# import nltk\n",
    "# from nltk.corpus import treebank, nps_chat\n",
    "# from nltk.cluster import KMeansClusterer\n",
    "import pandas as pd\n",
    "# import gensim\n",
    "# from gensim.models import Word2Vec\n",
    "# import sklearn\n",
    "# from sklearn.feature_extraction.text import TfidfVectorizer\n",
    "# from sklearn.feature_extraction.text import CountVectorizer\n",
    "# from sklearn.model_selection import train_test_split\n",
    "# from sklearn import cluster\n",
    "# from sklearn import metrics\n",
    "import spacy\n",
    "import pickle\n",
    "\n",
    "nlp = spacy.load(\"en_core_web_sm\")\n",
    "\n",
    "print(\"Libraries version:\")\n",
    "print(f\"Numpy:      {np.__version__}\")\n",
    "print(f\"Matplotlib: {matplotlib.__version__}\")\n",
    "# print(f\"Tensorflow: {tf.__version__}\")\n",
    "# print(f\"NLTK:       {nltk.__version__}\")\n",
    "print(f\"Pandas:     {pd.__version__}\")\n",
    "# print(f\"Gensim:     {gensim.__version__}\")\n",
    "# print(f\"Sklearn:    {sklearn.__version__}\")\n",
    "print(f\"Spacy:      {spacy.__version__}\")"
   ]
  },
  {
   "cell_type": "markdown",
   "metadata": {
    "colab_type": "text",
    "id": "vx_bk4c7icg8"
   },
   "source": [
    "## Data preparation"
   ]
  },
  {
   "cell_type": "code",
   "execution_count": 1,
   "metadata": {
    "colab": {
     "base_uri": "https://localhost:8080/",
     "height": 357
    },
    "colab_type": "code",
    "id": "qHJf9cVGXUtE",
    "outputId": "3d4c2287-3469-431c-aefb-91ebd40432e1"
   },
   "outputs": [
    {
     "ename": "HTTPError",
     "evalue": "HTTP Error 404: Not Found",
     "output_type": "error",
     "traceback": [
      "\u001b[1;31m---------------------------------------------------------------------------\u001b[0m",
      "\u001b[1;31mHTTPError\u001b[0m                                 Traceback (most recent call last)",
      "\u001b[1;32m<ipython-input-1-2c4403fb7953>\u001b[0m in \u001b[0;36m<module>\u001b[1;34m\u001b[0m\n\u001b[0;32m      1\u001b[0m \u001b[1;31m## Data importation\u001b[0m\u001b[1;33m\u001b[0m\u001b[1;33m\u001b[0m\u001b[1;33m\u001b[0m\u001b[0m\n\u001b[0;32m      2\u001b[0m \u001b[0murl_movie_wiki\u001b[0m \u001b[1;33m=\u001b[0m \u001b[1;34m\"https://raw.githubusercontent.com/maximecharriere/movie-chatbot/MoviesClassifier/data/wiki_movie_plots.csv\"\u001b[0m\u001b[1;33m\u001b[0m\u001b[1;33m\u001b[0m\u001b[0m\n\u001b[1;32m----> 3\u001b[1;33m \u001b[0mmovies\u001b[0m \u001b[1;33m=\u001b[0m \u001b[0mpd\u001b[0m\u001b[1;33m.\u001b[0m\u001b[0mread_csv\u001b[0m\u001b[1;33m(\u001b[0m\u001b[0murl_movie_wiki\u001b[0m\u001b[1;33m,\u001b[0m \u001b[0msep\u001b[0m\u001b[1;33m=\u001b[0m\u001b[1;34m','\u001b[0m\u001b[1;33m)\u001b[0m\u001b[1;33m[\u001b[0m\u001b[1;33m[\u001b[0m\u001b[1;34m'Title'\u001b[0m\u001b[1;33m,\u001b[0m\u001b[1;34m'Plot'\u001b[0m\u001b[1;33m,\u001b[0m\u001b[1;34m'Genre'\u001b[0m\u001b[1;33m]\u001b[0m\u001b[1;33m]\u001b[0m\u001b[1;33m\u001b[0m\u001b[1;33m\u001b[0m\u001b[0m\n\u001b[0m\u001b[0;32m      4\u001b[0m \u001b[0mmovies\u001b[0m\u001b[1;33m.\u001b[0m\u001b[0mhead\u001b[0m\u001b[1;33m(\u001b[0m\u001b[1;36m20\u001b[0m\u001b[1;33m)\u001b[0m\u001b[1;33m\u001b[0m\u001b[1;33m\u001b[0m\u001b[0m\n",
      "\u001b[1;32mC:\\Anaconda3\\lib\\site-packages\\pandas\\io\\parsers.py\u001b[0m in \u001b[0;36mparser_f\u001b[1;34m(filepath_or_buffer, sep, delimiter, header, names, index_col, usecols, squeeze, prefix, mangle_dupe_cols, dtype, engine, converters, true_values, false_values, skipinitialspace, skiprows, skipfooter, nrows, na_values, keep_default_na, na_filter, verbose, skip_blank_lines, parse_dates, infer_datetime_format, keep_date_col, date_parser, dayfirst, cache_dates, iterator, chunksize, compression, thousands, decimal, lineterminator, quotechar, quoting, doublequote, escapechar, comment, encoding, dialect, error_bad_lines, warn_bad_lines, delim_whitespace, low_memory, memory_map, float_precision)\u001b[0m\n\u001b[0;32m    674\u001b[0m         )\n\u001b[0;32m    675\u001b[0m \u001b[1;33m\u001b[0m\u001b[0m\n\u001b[1;32m--> 676\u001b[1;33m         \u001b[1;32mreturn\u001b[0m \u001b[0m_read\u001b[0m\u001b[1;33m(\u001b[0m\u001b[0mfilepath_or_buffer\u001b[0m\u001b[1;33m,\u001b[0m \u001b[0mkwds\u001b[0m\u001b[1;33m)\u001b[0m\u001b[1;33m\u001b[0m\u001b[1;33m\u001b[0m\u001b[0m\n\u001b[0m\u001b[0;32m    677\u001b[0m \u001b[1;33m\u001b[0m\u001b[0m\n\u001b[0;32m    678\u001b[0m     \u001b[0mparser_f\u001b[0m\u001b[1;33m.\u001b[0m\u001b[0m__name__\u001b[0m \u001b[1;33m=\u001b[0m \u001b[0mname\u001b[0m\u001b[1;33m\u001b[0m\u001b[1;33m\u001b[0m\u001b[0m\n",
      "\u001b[1;32mC:\\Anaconda3\\lib\\site-packages\\pandas\\io\\parsers.py\u001b[0m in \u001b[0;36m_read\u001b[1;34m(filepath_or_buffer, kwds)\u001b[0m\n\u001b[0;32m    429\u001b[0m     \u001b[1;31m# See https://github.com/python/mypy/issues/1297\u001b[0m\u001b[1;33m\u001b[0m\u001b[1;33m\u001b[0m\u001b[1;33m\u001b[0m\u001b[0m\n\u001b[0;32m    430\u001b[0m     fp_or_buf, _, compression, should_close = get_filepath_or_buffer(\n\u001b[1;32m--> 431\u001b[1;33m         \u001b[0mfilepath_or_buffer\u001b[0m\u001b[1;33m,\u001b[0m \u001b[0mencoding\u001b[0m\u001b[1;33m,\u001b[0m \u001b[0mcompression\u001b[0m\u001b[1;33m\u001b[0m\u001b[1;33m\u001b[0m\u001b[0m\n\u001b[0m\u001b[0;32m    432\u001b[0m     )\n\u001b[0;32m    433\u001b[0m     \u001b[0mkwds\u001b[0m\u001b[1;33m[\u001b[0m\u001b[1;34m\"compression\"\u001b[0m\u001b[1;33m]\u001b[0m \u001b[1;33m=\u001b[0m \u001b[0mcompression\u001b[0m\u001b[1;33m\u001b[0m\u001b[1;33m\u001b[0m\u001b[0m\n",
      "\u001b[1;32mC:\\Anaconda3\\lib\\site-packages\\pandas\\io\\common.py\u001b[0m in \u001b[0;36mget_filepath_or_buffer\u001b[1;34m(filepath_or_buffer, encoding, compression, mode)\u001b[0m\n\u001b[0;32m    170\u001b[0m \u001b[1;33m\u001b[0m\u001b[0m\n\u001b[0;32m    171\u001b[0m     \u001b[1;32mif\u001b[0m \u001b[0misinstance\u001b[0m\u001b[1;33m(\u001b[0m\u001b[0mfilepath_or_buffer\u001b[0m\u001b[1;33m,\u001b[0m \u001b[0mstr\u001b[0m\u001b[1;33m)\u001b[0m \u001b[1;32mand\u001b[0m \u001b[0mis_url\u001b[0m\u001b[1;33m(\u001b[0m\u001b[0mfilepath_or_buffer\u001b[0m\u001b[1;33m)\u001b[0m\u001b[1;33m:\u001b[0m\u001b[1;33m\u001b[0m\u001b[1;33m\u001b[0m\u001b[0m\n\u001b[1;32m--> 172\u001b[1;33m         \u001b[0mreq\u001b[0m \u001b[1;33m=\u001b[0m \u001b[0murlopen\u001b[0m\u001b[1;33m(\u001b[0m\u001b[0mfilepath_or_buffer\u001b[0m\u001b[1;33m)\u001b[0m\u001b[1;33m\u001b[0m\u001b[1;33m\u001b[0m\u001b[0m\n\u001b[0m\u001b[0;32m    173\u001b[0m         \u001b[0mcontent_encoding\u001b[0m \u001b[1;33m=\u001b[0m \u001b[0mreq\u001b[0m\u001b[1;33m.\u001b[0m\u001b[0mheaders\u001b[0m\u001b[1;33m.\u001b[0m\u001b[0mget\u001b[0m\u001b[1;33m(\u001b[0m\u001b[1;34m\"Content-Encoding\"\u001b[0m\u001b[1;33m,\u001b[0m \u001b[1;32mNone\u001b[0m\u001b[1;33m)\u001b[0m\u001b[1;33m\u001b[0m\u001b[1;33m\u001b[0m\u001b[0m\n\u001b[0;32m    174\u001b[0m         \u001b[1;32mif\u001b[0m \u001b[0mcontent_encoding\u001b[0m \u001b[1;33m==\u001b[0m \u001b[1;34m\"gzip\"\u001b[0m\u001b[1;33m:\u001b[0m\u001b[1;33m\u001b[0m\u001b[1;33m\u001b[0m\u001b[0m\n",
      "\u001b[1;32mC:\\Anaconda3\\lib\\site-packages\\pandas\\io\\common.py\u001b[0m in \u001b[0;36murlopen\u001b[1;34m(*args, **kwargs)\u001b[0m\n\u001b[0;32m    139\u001b[0m     \u001b[1;32mimport\u001b[0m \u001b[0murllib\u001b[0m\u001b[1;33m.\u001b[0m\u001b[0mrequest\u001b[0m\u001b[1;33m\u001b[0m\u001b[1;33m\u001b[0m\u001b[0m\n\u001b[0;32m    140\u001b[0m \u001b[1;33m\u001b[0m\u001b[0m\n\u001b[1;32m--> 141\u001b[1;33m     \u001b[1;32mreturn\u001b[0m \u001b[0murllib\u001b[0m\u001b[1;33m.\u001b[0m\u001b[0mrequest\u001b[0m\u001b[1;33m.\u001b[0m\u001b[0murlopen\u001b[0m\u001b[1;33m(\u001b[0m\u001b[1;33m*\u001b[0m\u001b[0margs\u001b[0m\u001b[1;33m,\u001b[0m \u001b[1;33m**\u001b[0m\u001b[0mkwargs\u001b[0m\u001b[1;33m)\u001b[0m\u001b[1;33m\u001b[0m\u001b[1;33m\u001b[0m\u001b[0m\n\u001b[0m\u001b[0;32m    142\u001b[0m \u001b[1;33m\u001b[0m\u001b[0m\n\u001b[0;32m    143\u001b[0m \u001b[1;33m\u001b[0m\u001b[0m\n",
      "\u001b[1;32mC:\\Anaconda3\\lib\\urllib\\request.py\u001b[0m in \u001b[0;36murlopen\u001b[1;34m(url, data, timeout, cafile, capath, cadefault, context)\u001b[0m\n\u001b[0;32m    220\u001b[0m     \u001b[1;32melse\u001b[0m\u001b[1;33m:\u001b[0m\u001b[1;33m\u001b[0m\u001b[1;33m\u001b[0m\u001b[0m\n\u001b[0;32m    221\u001b[0m         \u001b[0mopener\u001b[0m \u001b[1;33m=\u001b[0m \u001b[0m_opener\u001b[0m\u001b[1;33m\u001b[0m\u001b[1;33m\u001b[0m\u001b[0m\n\u001b[1;32m--> 222\u001b[1;33m     \u001b[1;32mreturn\u001b[0m \u001b[0mopener\u001b[0m\u001b[1;33m.\u001b[0m\u001b[0mopen\u001b[0m\u001b[1;33m(\u001b[0m\u001b[0murl\u001b[0m\u001b[1;33m,\u001b[0m \u001b[0mdata\u001b[0m\u001b[1;33m,\u001b[0m \u001b[0mtimeout\u001b[0m\u001b[1;33m)\u001b[0m\u001b[1;33m\u001b[0m\u001b[1;33m\u001b[0m\u001b[0m\n\u001b[0m\u001b[0;32m    223\u001b[0m \u001b[1;33m\u001b[0m\u001b[0m\n\u001b[0;32m    224\u001b[0m \u001b[1;32mdef\u001b[0m \u001b[0minstall_opener\u001b[0m\u001b[1;33m(\u001b[0m\u001b[0mopener\u001b[0m\u001b[1;33m)\u001b[0m\u001b[1;33m:\u001b[0m\u001b[1;33m\u001b[0m\u001b[1;33m\u001b[0m\u001b[0m\n",
      "\u001b[1;32mC:\\Anaconda3\\lib\\urllib\\request.py\u001b[0m in \u001b[0;36mopen\u001b[1;34m(self, fullurl, data, timeout)\u001b[0m\n\u001b[0;32m    529\u001b[0m         \u001b[1;32mfor\u001b[0m \u001b[0mprocessor\u001b[0m \u001b[1;32min\u001b[0m \u001b[0mself\u001b[0m\u001b[1;33m.\u001b[0m\u001b[0mprocess_response\u001b[0m\u001b[1;33m.\u001b[0m\u001b[0mget\u001b[0m\u001b[1;33m(\u001b[0m\u001b[0mprotocol\u001b[0m\u001b[1;33m,\u001b[0m \u001b[1;33m[\u001b[0m\u001b[1;33m]\u001b[0m\u001b[1;33m)\u001b[0m\u001b[1;33m:\u001b[0m\u001b[1;33m\u001b[0m\u001b[1;33m\u001b[0m\u001b[0m\n\u001b[0;32m    530\u001b[0m             \u001b[0mmeth\u001b[0m \u001b[1;33m=\u001b[0m \u001b[0mgetattr\u001b[0m\u001b[1;33m(\u001b[0m\u001b[0mprocessor\u001b[0m\u001b[1;33m,\u001b[0m \u001b[0mmeth_name\u001b[0m\u001b[1;33m)\u001b[0m\u001b[1;33m\u001b[0m\u001b[1;33m\u001b[0m\u001b[0m\n\u001b[1;32m--> 531\u001b[1;33m             \u001b[0mresponse\u001b[0m \u001b[1;33m=\u001b[0m \u001b[0mmeth\u001b[0m\u001b[1;33m(\u001b[0m\u001b[0mreq\u001b[0m\u001b[1;33m,\u001b[0m \u001b[0mresponse\u001b[0m\u001b[1;33m)\u001b[0m\u001b[1;33m\u001b[0m\u001b[1;33m\u001b[0m\u001b[0m\n\u001b[0m\u001b[0;32m    532\u001b[0m \u001b[1;33m\u001b[0m\u001b[0m\n\u001b[0;32m    533\u001b[0m         \u001b[1;32mreturn\u001b[0m \u001b[0mresponse\u001b[0m\u001b[1;33m\u001b[0m\u001b[1;33m\u001b[0m\u001b[0m\n",
      "\u001b[1;32mC:\\Anaconda3\\lib\\urllib\\request.py\u001b[0m in \u001b[0;36mhttp_response\u001b[1;34m(self, request, response)\u001b[0m\n\u001b[0;32m    639\u001b[0m         \u001b[1;32mif\u001b[0m \u001b[1;32mnot\u001b[0m \u001b[1;33m(\u001b[0m\u001b[1;36m200\u001b[0m \u001b[1;33m<=\u001b[0m \u001b[0mcode\u001b[0m \u001b[1;33m<\u001b[0m \u001b[1;36m300\u001b[0m\u001b[1;33m)\u001b[0m\u001b[1;33m:\u001b[0m\u001b[1;33m\u001b[0m\u001b[1;33m\u001b[0m\u001b[0m\n\u001b[0;32m    640\u001b[0m             response = self.parent.error(\n\u001b[1;32m--> 641\u001b[1;33m                 'http', request, response, code, msg, hdrs)\n\u001b[0m\u001b[0;32m    642\u001b[0m \u001b[1;33m\u001b[0m\u001b[0m\n\u001b[0;32m    643\u001b[0m         \u001b[1;32mreturn\u001b[0m \u001b[0mresponse\u001b[0m\u001b[1;33m\u001b[0m\u001b[1;33m\u001b[0m\u001b[0m\n",
      "\u001b[1;32mC:\\Anaconda3\\lib\\urllib\\request.py\u001b[0m in \u001b[0;36merror\u001b[1;34m(self, proto, *args)\u001b[0m\n\u001b[0;32m    567\u001b[0m         \u001b[1;32mif\u001b[0m \u001b[0mhttp_err\u001b[0m\u001b[1;33m:\u001b[0m\u001b[1;33m\u001b[0m\u001b[1;33m\u001b[0m\u001b[0m\n\u001b[0;32m    568\u001b[0m             \u001b[0margs\u001b[0m \u001b[1;33m=\u001b[0m \u001b[1;33m(\u001b[0m\u001b[0mdict\u001b[0m\u001b[1;33m,\u001b[0m \u001b[1;34m'default'\u001b[0m\u001b[1;33m,\u001b[0m \u001b[1;34m'http_error_default'\u001b[0m\u001b[1;33m)\u001b[0m \u001b[1;33m+\u001b[0m \u001b[0morig_args\u001b[0m\u001b[1;33m\u001b[0m\u001b[1;33m\u001b[0m\u001b[0m\n\u001b[1;32m--> 569\u001b[1;33m             \u001b[1;32mreturn\u001b[0m \u001b[0mself\u001b[0m\u001b[1;33m.\u001b[0m\u001b[0m_call_chain\u001b[0m\u001b[1;33m(\u001b[0m\u001b[1;33m*\u001b[0m\u001b[0margs\u001b[0m\u001b[1;33m)\u001b[0m\u001b[1;33m\u001b[0m\u001b[1;33m\u001b[0m\u001b[0m\n\u001b[0m\u001b[0;32m    570\u001b[0m \u001b[1;33m\u001b[0m\u001b[0m\n\u001b[0;32m    571\u001b[0m \u001b[1;31m# XXX probably also want an abstract factory that knows when it makes\u001b[0m\u001b[1;33m\u001b[0m\u001b[1;33m\u001b[0m\u001b[1;33m\u001b[0m\u001b[0m\n",
      "\u001b[1;32mC:\\Anaconda3\\lib\\urllib\\request.py\u001b[0m in \u001b[0;36m_call_chain\u001b[1;34m(self, chain, kind, meth_name, *args)\u001b[0m\n\u001b[0;32m    501\u001b[0m         \u001b[1;32mfor\u001b[0m \u001b[0mhandler\u001b[0m \u001b[1;32min\u001b[0m \u001b[0mhandlers\u001b[0m\u001b[1;33m:\u001b[0m\u001b[1;33m\u001b[0m\u001b[1;33m\u001b[0m\u001b[0m\n\u001b[0;32m    502\u001b[0m             \u001b[0mfunc\u001b[0m \u001b[1;33m=\u001b[0m \u001b[0mgetattr\u001b[0m\u001b[1;33m(\u001b[0m\u001b[0mhandler\u001b[0m\u001b[1;33m,\u001b[0m \u001b[0mmeth_name\u001b[0m\u001b[1;33m)\u001b[0m\u001b[1;33m\u001b[0m\u001b[1;33m\u001b[0m\u001b[0m\n\u001b[1;32m--> 503\u001b[1;33m             \u001b[0mresult\u001b[0m \u001b[1;33m=\u001b[0m \u001b[0mfunc\u001b[0m\u001b[1;33m(\u001b[0m\u001b[1;33m*\u001b[0m\u001b[0margs\u001b[0m\u001b[1;33m)\u001b[0m\u001b[1;33m\u001b[0m\u001b[1;33m\u001b[0m\u001b[0m\n\u001b[0m\u001b[0;32m    504\u001b[0m             \u001b[1;32mif\u001b[0m \u001b[0mresult\u001b[0m \u001b[1;32mis\u001b[0m \u001b[1;32mnot\u001b[0m \u001b[1;32mNone\u001b[0m\u001b[1;33m:\u001b[0m\u001b[1;33m\u001b[0m\u001b[1;33m\u001b[0m\u001b[0m\n\u001b[0;32m    505\u001b[0m                 \u001b[1;32mreturn\u001b[0m \u001b[0mresult\u001b[0m\u001b[1;33m\u001b[0m\u001b[1;33m\u001b[0m\u001b[0m\n",
      "\u001b[1;32mC:\\Anaconda3\\lib\\urllib\\request.py\u001b[0m in \u001b[0;36mhttp_error_default\u001b[1;34m(self, req, fp, code, msg, hdrs)\u001b[0m\n\u001b[0;32m    647\u001b[0m \u001b[1;32mclass\u001b[0m \u001b[0mHTTPDefaultErrorHandler\u001b[0m\u001b[1;33m(\u001b[0m\u001b[0mBaseHandler\u001b[0m\u001b[1;33m)\u001b[0m\u001b[1;33m:\u001b[0m\u001b[1;33m\u001b[0m\u001b[1;33m\u001b[0m\u001b[0m\n\u001b[0;32m    648\u001b[0m     \u001b[1;32mdef\u001b[0m \u001b[0mhttp_error_default\u001b[0m\u001b[1;33m(\u001b[0m\u001b[0mself\u001b[0m\u001b[1;33m,\u001b[0m \u001b[0mreq\u001b[0m\u001b[1;33m,\u001b[0m \u001b[0mfp\u001b[0m\u001b[1;33m,\u001b[0m \u001b[0mcode\u001b[0m\u001b[1;33m,\u001b[0m \u001b[0mmsg\u001b[0m\u001b[1;33m,\u001b[0m \u001b[0mhdrs\u001b[0m\u001b[1;33m)\u001b[0m\u001b[1;33m:\u001b[0m\u001b[1;33m\u001b[0m\u001b[1;33m\u001b[0m\u001b[0m\n\u001b[1;32m--> 649\u001b[1;33m         \u001b[1;32mraise\u001b[0m \u001b[0mHTTPError\u001b[0m\u001b[1;33m(\u001b[0m\u001b[0mreq\u001b[0m\u001b[1;33m.\u001b[0m\u001b[0mfull_url\u001b[0m\u001b[1;33m,\u001b[0m \u001b[0mcode\u001b[0m\u001b[1;33m,\u001b[0m \u001b[0mmsg\u001b[0m\u001b[1;33m,\u001b[0m \u001b[0mhdrs\u001b[0m\u001b[1;33m,\u001b[0m \u001b[0mfp\u001b[0m\u001b[1;33m)\u001b[0m\u001b[1;33m\u001b[0m\u001b[1;33m\u001b[0m\u001b[0m\n\u001b[0m\u001b[0;32m    650\u001b[0m \u001b[1;33m\u001b[0m\u001b[0m\n\u001b[0;32m    651\u001b[0m \u001b[1;32mclass\u001b[0m \u001b[0mHTTPRedirectHandler\u001b[0m\u001b[1;33m(\u001b[0m\u001b[0mBaseHandler\u001b[0m\u001b[1;33m)\u001b[0m\u001b[1;33m:\u001b[0m\u001b[1;33m\u001b[0m\u001b[1;33m\u001b[0m\u001b[0m\n",
      "\u001b[1;31mHTTPError\u001b[0m: HTTP Error 404: Not Found"
     ]
    }
   ],
   "source": [
    "## Data importation\n",
    "url_movie_wiki = \"https://raw.githubusercontent.com/maximecharriere/movie-chatbot/MoviesClassifier/data/wiki_movie_plots.csv\"\n",
    "movies = pd.read_csv(url_movie_wiki, sep=',')[['Title','Plot','Genre']]\n",
    "movies.head(20)\n"
   ]
  },
  {
   "cell_type": "code",
   "execution_count": 13,
   "metadata": {
    "colab": {},
    "colab_type": "code",
    "id": "fqQirGYtXV9Q"
   },
   "outputs": [
    {
     "name": "stdout",
     "output_type": "stream",
     "text": [
      "Nombre de catégories: 2265\n"
     ]
    }
   ],
   "source": [
    "print(f\"Nombre de catégories: {len(movies['Genre'].value_counts())}\")"
   ]
  },
  {
   "cell_type": "code",
   "execution_count": 14,
   "metadata": {
    "colab": {},
    "colab_type": "code",
    "id": "uUIW8nNcYl-N"
   },
   "outputs": [
    {
     "name": "stdout",
     "output_type": "stream",
     "text": [
      "Nombre de catégories: 1411\n"
     ]
    }
   ],
   "source": [
    "## Manual harmonization of categories\n",
    "\n",
    "movies['GenreCorrected']=movies['Genre'] \n",
    "movies['GenreCorrected']=movies['GenreCorrected'].str.replace('/', ' ')\n",
    "\n",
    "# Delete unwanted categories\n",
    "movies['GenreCorrected']=movies['GenreCorrected'].str.replace('unknown', '')\n",
    "movies['GenreCorrected']=movies['GenreCorrected'].str.replace('\\[not in citation given\\]','')\n",
    "movies['GenreCorrected']=movies['GenreCorrected'].str.replace('avant-garde','')\n",
    "movies['GenreCorrected']=movies['GenreCorrected'].str.replace('period','')\n",
    "movies['GenreCorrected']=movies['GenreCorrected'].str.replace('national','')\n",
    "movies['GenreCorrected']=movies['GenreCorrected'].str.replace('board','')\n",
    "movies['GenreCorrected']=movies['GenreCorrected'].str.replace('costume','')\n",
    "movies['GenreCorrected']=movies['GenreCorrected'].str.replace('movies','')\n",
    "movies['GenreCorrected']=movies['GenreCorrected'].str.replace('movie','')\n",
    "movies['GenreCorrected']=movies['GenreCorrected'].str.replace('films','')\n",
    "movies['GenreCorrected']=movies['GenreCorrected'].str.replace('film','')\n",
    "\n",
    "# Rename categories\n",
    "movies['GenreCorrected']=movies['GenreCorrected'].str.replace('bio-pic', 'biography')\n",
    "movies['GenreCorrected']=movies['GenreCorrected'].str.replace('biopic', 'biography')\n",
    "movies['GenreCorrected']=movies['GenreCorrected'].str.replace('biographical', 'biography')\n",
    "movies['GenreCorrected']=movies['GenreCorrected'].str.replace('biodrama', 'biography drama')\n",
    "movies['GenreCorrected']=movies['GenreCorrected'].str.replace('bio-drama', 'biography drama')\n",
    "movies['GenreCorrected']=movies['GenreCorrected'].str.replace('biographic', 'biography')\n",
    "movies['GenreCorrected']=movies['GenreCorrected'].str.replace('animated','animation')\n",
    "movies['GenreCorrected']=movies['GenreCorrected'].str.replace('anime','animation')\n",
    "movies['GenreCorrected']=movies['GenreCorrected'].str.replace('disaster','action')\n",
    "movies['GenreCorrected']=movies['GenreCorrected'].str.replace('comedey','comedy')\n",
    "movies['GenreCorrected']=movies['GenreCorrected'].str.replace('dramedy','comedy drama')\n",
    "movies['GenreCorrected']=movies['GenreCorrected'].str.replace('mockumentary','documentary')\n",
    "movies['GenreCorrected']=movies['GenreCorrected'].str.replace('historical','history')\n",
    "movies['GenreCorrected']=movies['GenreCorrected'].str.replace('historic','history')\n",
    "movies['GenreCorrected']=movies['GenreCorrected'].str.replace('prehistoric','history')\n",
    "movies['GenreCorrected']=movies['GenreCorrected'].str.replace('mythology','history')\n",
    "movies['GenreCorrected']=movies['GenreCorrected'].str.replace('romantic','romance')\n",
    "movies['GenreCorrected']=movies['GenreCorrected'].str.replace('3-d','animation')\n",
    "movies['GenreCorrected']=movies['GenreCorrected'].str.replace('3d','animation')\n",
    "movies['GenreCorrected']=movies['GenreCorrected'].str.replace('sci-fi','science_fiction')\n",
    "movies['GenreCorrected']=movies['GenreCorrected'].str.replace('ttriller','thriller')\n",
    "movies['GenreCorrected']=movies['GenreCorrected'].str.replace('sci fi','science_fiction')\n",
    "movies['GenreCorrected']=movies['GenreCorrected'].str.replace('science fiction','science_fiction')\n",
    "movies['GenreCorrected']=movies['GenreCorrected'].str.replace('kung fu','martial_arts')\n",
    "movies['GenreCorrected']=movies['GenreCorrected'].str.replace('kung-fu','martial_arts')\n",
    "movies['GenreCorrected']=movies['GenreCorrected'].str.replace('martial arts','martial_arts')\n",
    "movies['GenreCorrected']=movies['GenreCorrected'].str.replace('bruceploitation','martial_arts')\n",
    "movies['GenreCorrected']=movies['GenreCorrected'].str.replace('comedy-drama adaptation of the mordecai richler novel','comedy drama')\n",
    "movies['GenreCorrected']=movies['GenreCorrected'].str.replace('stop-motion','animation')\n",
    "movies['GenreCorrected']=movies['GenreCorrected'].str.replace('coming of age','coming_of_age')\n",
    "movies['GenreCorrected']=movies['GenreCorrected'].str.replace('coming-of-age','coming_of_age')\n",
    "movies['GenreCorrected']=movies['GenreCorrected'].str.replace('drama about child soldiers','drama')\n",
    "movies['GenreCorrected']=movies['GenreCorrected'].str.replace('melodrama','drama')\n",
    "movies['GenreCorrected']=movies['GenreCorrected'].str.replace('tv miniseries','serial')\n",
    "movies['GenreCorrected']=movies['GenreCorrected'].str.replace('television miniseries','serial')\n",
    "movies['GenreCorrected']=movies['GenreCorrected'].str.replace(\"war-time\",\"war\")\n",
    "movies['GenreCorrected']=movies['GenreCorrected'].str.replace(\"wartime\",\"war\")\n",
    "movies['GenreCorrected']=movies['GenreCorrected'].str.replace('world war ii','war')\n",
    "movies['GenreCorrected']=movies['GenreCorrected'].str.replace('world war i','war')\n",
    "movies['GenreCorrected']=movies['GenreCorrected'].str.replace(\"tokusatsu\",\"action\")\n",
    "movies['GenreCorrected']=movies['GenreCorrected'].str.replace(\"ww1\",\"war\")\n",
    "movies['GenreCorrected']=movies['GenreCorrected'].str.replace(\"wwii\",\"war\")\n",
    "movies['GenreCorrected']=movies['GenreCorrected'].str.replace('superheroes','superhero')\n",
    "movies['GenreCorrected']=movies['GenreCorrected'].str.replace('superheroe','superhero')\n",
    "movies['GenreCorrected']=movies['GenreCorrected'].str.replace('familya','family')\n",
    "movies['GenreCorrected']=movies['GenreCorrected'].str.replace('familydrama','family drama')\n",
    "movies['GenreCorrected']=movies['GenreCorrected'].str.replace('famil ','family')\n",
    "movies['GenreCorrected']=movies['GenreCorrected'].str.replace('espionage','spy')\n",
    "movies['GenreCorrected']=movies['GenreCorrected'].str.replace('noir','black')\n",
    "movies['GenreCorrected']=movies['GenreCorrected'].str.replace('dark','black')\n",
    "movies['GenreCorrected']=movies['GenreCorrected'].str.replace('psychological','psycho')\n",
    "movies['GenreCorrected']=movies['GenreCorrected'].str.replace('rom-com','romance')\n",
    "movies['GenreCorrected']=movies['GenreCorrected'].str.replace('gun fu','martial_arts')\n",
    "movies['GenreCorrected']=movies['GenreCorrected'].str.replace('docudrama','documentary drama')\n",
    "movies['GenreCorrected']=movies['GenreCorrected'].str.replace('football','sports')\n",
    "movies['GenreCorrected']=movies['GenreCorrected'].str.replace('martial art','martial_arts')\n",
    "movies['GenreCorrected']=movies['GenreCorrected'].str.replace('erotica','adult')\n",
    "movies['GenreCorrected']=movies['GenreCorrected'].str.replace('erotic','adult')\n",
    "movies['GenreCorrected']=movies['GenreCorrected'].str.replace('musical','music')\n",
    "movies['GenreCorrected']=movies['GenreCorrected'].str.replace('gangster','action')\n",
    "movies['GenreCorrected']=movies['GenreCorrected'].str.replace('swashbuckler','action')\n",
    "movies['GenreCorrected']=movies['GenreCorrected'].str.replace('police','action')\n",
    "movies['GenreCorrected']=movies['GenreCorrected'].str.replace('dance','sport')\n",
    "movies['GenreCorrected']=movies['GenreCorrected'].str.replace('sports','sport')\n",
    "movies['GenreCorrected']=movies['GenreCorrected'].str.replace('muslim','religious')\n",
    "movies['GenreCorrected']=movies['GenreCorrected'].str.replace('propaganda','political')\n",
    "movies['GenreCorrected']=movies['GenreCorrected'].str.replace('samurai','action')\n",
    "movies['GenreCorrected']=movies['GenreCorrected'].str.replace('sexploitation','adult')\n",
    "movies['GenreCorrected']=movies['GenreCorrected'].str.replace('homosexual','adult')\n",
    "movies['GenreCorrected']=movies['GenreCorrected'].str.replace('socio','social')\n",
    "movies['GenreCorrected']=movies['GenreCorrected'].str.replace('sexual','adult')\n",
    "movies['GenreCorrected']=movies['GenreCorrected'].str.replace('sex','adult')\n",
    "\n",
    "# Merge some categories\n",
    "movies['GenreCorrected']=movies['GenreCorrected'].str.replace('family','child')\n",
    "movies['GenreCorrected']=movies['GenreCorrected'].str.replace('martial_arts','action')\n",
    "movies['GenreCorrected']=movies['GenreCorrected'].str.replace('horror','thriller')\n",
    "movies['GenreCorrected']=movies['GenreCorrected'].str.replace('war','action')\n",
    "movies['GenreCorrected']=movies['GenreCorrected'].str.replace('adventure','action')\n",
    "movies['GenreCorrected']=movies['GenreCorrected'].str.replace('science_fiction','action')\n",
    "movies['GenreCorrected']=movies['GenreCorrected'].str.replace('spy','action')\n",
    "movies['GenreCorrected']=movies['GenreCorrected'].str.replace('superhero','action')\n",
    "movies['GenreCorrected']=movies['GenreCorrected'].str.replace('suspense','action')\n",
    "movies['GenreCorrected']=movies['GenreCorrected'].str.replace('thriller','action')\n",
    "movies['GenreCorrected']=movies['GenreCorrected'].str.replace('epic','action')\n",
    "movies['GenreCorrected']=movies['GenreCorrected'].str.replace('crime','action')\n",
    "movies['GenreCorrected']=movies['GenreCorrected'].str.replace('western','action')\n",
    "movies['GenreCorrected']=movies['GenreCorrected'].str.replace('music','cultural')\n",
    "movies['GenreCorrected']=movies['GenreCorrected'].str.replace('sport','cultural')\n",
    "movies['GenreCorrected']=movies['GenreCorrected'].str.replace('biography','cultural')\n",
    "movies['GenreCorrected']=movies['GenreCorrected'].str.replace('history','cultural')\n",
    "movies['GenreCorrected']=movies['GenreCorrected'].str.replace('documentary','cultural')\n",
    "movies['GenreCorrected']=movies['GenreCorrected'].str.replace('political','cultural')\n",
    "movies['GenreCorrected']=movies['GenreCorrected'].str.replace('science','cultural')\n",
    "movies['GenreCorrected']=movies['GenreCorrected'].str.replace('psycho','cultural')\n",
    "movies['GenreCorrected']=movies['GenreCorrected'].str.replace('mystery','thriller')\n",
    "\n",
    "\n",
    "print(f\"Nombre de catégories: {len(movies['GenreCorrected'].value_counts())}\")"
   ]
  },
  {
   "cell_type": "code",
   "execution_count": 15,
   "metadata": {
    "colab": {},
    "colab_type": "code",
    "id": "zawvJ-aVbKbE"
   },
   "outputs": [
    {
     "data": {
      "text/html": [
       "<div>\n",
       "<style scoped>\n",
       "    .dataframe tbody tr th:only-of-type {\n",
       "        vertical-align: middle;\n",
       "    }\n",
       "\n",
       "    .dataframe tbody tr th {\n",
       "        vertical-align: top;\n",
       "    }\n",
       "\n",
       "    .dataframe thead th {\n",
       "        text-align: right;\n",
       "    }\n",
       "</style>\n",
       "<table border=\"1\" class=\"dataframe\">\n",
       "  <thead>\n",
       "    <tr style=\"text-align: right;\">\n",
       "      <th></th>\n",
       "      <th>Title</th>\n",
       "      <th>Plot</th>\n",
       "      <th>Genre</th>\n",
       "      <th>GenreCorrected</th>\n",
       "      <th>GenreListed</th>\n",
       "    </tr>\n",
       "  </thead>\n",
       "  <tbody>\n",
       "    <tr>\n",
       "      <th>0</th>\n",
       "      <td>Kansas Saloon Smashers</td>\n",
       "      <td>A bartender is working at a saloon, serving dr...</td>\n",
       "      <td>unknown</td>\n",
       "      <td></td>\n",
       "      <td>[]</td>\n",
       "    </tr>\n",
       "    <tr>\n",
       "      <th>1</th>\n",
       "      <td>Love by the Light of the Moon</td>\n",
       "      <td>The moon, painted with a smiling face hangs ov...</td>\n",
       "      <td>unknown</td>\n",
       "      <td></td>\n",
       "      <td>[]</td>\n",
       "    </tr>\n",
       "    <tr>\n",
       "      <th>2</th>\n",
       "      <td>The Martyred Presidents</td>\n",
       "      <td>The film, just over a minute long, is composed...</td>\n",
       "      <td>unknown</td>\n",
       "      <td></td>\n",
       "      <td>[]</td>\n",
       "    </tr>\n",
       "    <tr>\n",
       "      <th>3</th>\n",
       "      <td>Terrible Teddy, the Grizzly King</td>\n",
       "      <td>Lasting just 61 seconds and consisting of two ...</td>\n",
       "      <td>unknown</td>\n",
       "      <td></td>\n",
       "      <td>[]</td>\n",
       "    </tr>\n",
       "    <tr>\n",
       "      <th>4</th>\n",
       "      <td>Jack and the Beanstalk</td>\n",
       "      <td>The earliest known adaptation of the classic f...</td>\n",
       "      <td>unknown</td>\n",
       "      <td></td>\n",
       "      <td>[]</td>\n",
       "    </tr>\n",
       "    <tr>\n",
       "      <th>5</th>\n",
       "      <td>Alice in Wonderland</td>\n",
       "      <td>Alice follows a large white rabbit down a \"Rab...</td>\n",
       "      <td>unknown</td>\n",
       "      <td></td>\n",
       "      <td>[]</td>\n",
       "    </tr>\n",
       "    <tr>\n",
       "      <th>6</th>\n",
       "      <td>The Great Train Robbery</td>\n",
       "      <td>The film opens with two bandits breaking into ...</td>\n",
       "      <td>western</td>\n",
       "      <td>action</td>\n",
       "      <td>[action]</td>\n",
       "    </tr>\n",
       "    <tr>\n",
       "      <th>7</th>\n",
       "      <td>The Suburbanite</td>\n",
       "      <td>The film is about a family who move to the sub...</td>\n",
       "      <td>comedy</td>\n",
       "      <td>comedy</td>\n",
       "      <td>[comedy]</td>\n",
       "    </tr>\n",
       "    <tr>\n",
       "      <th>8</th>\n",
       "      <td>The Little Train Robbery</td>\n",
       "      <td>The opening scene shows the interior of the ro...</td>\n",
       "      <td>unknown</td>\n",
       "      <td></td>\n",
       "      <td>[]</td>\n",
       "    </tr>\n",
       "    <tr>\n",
       "      <th>9</th>\n",
       "      <td>The Night Before Christmas</td>\n",
       "      <td>Scenes are introduced using lines of the poem....</td>\n",
       "      <td>unknown</td>\n",
       "      <td></td>\n",
       "      <td>[]</td>\n",
       "    </tr>\n",
       "    <tr>\n",
       "      <th>10</th>\n",
       "      <td>Dream of a Rarebit Fiend</td>\n",
       "      <td>The Rarebit Fiend gorges on Welsh rarebit at a...</td>\n",
       "      <td>short</td>\n",
       "      <td>short</td>\n",
       "      <td>[short]</td>\n",
       "    </tr>\n",
       "    <tr>\n",
       "      <th>11</th>\n",
       "      <td>From Leadville to Aspen: A Hold-Up in the Rockies</td>\n",
       "      <td>The film features a train traveling through th...</td>\n",
       "      <td>short action/crime western</td>\n",
       "      <td>short action action action</td>\n",
       "      <td>[action, short]</td>\n",
       "    </tr>\n",
       "    <tr>\n",
       "      <th>12</th>\n",
       "      <td>Kathleen Mavourneen</td>\n",
       "      <td>Irish villager Kathleen is a tenant of Captain...</td>\n",
       "      <td>short film</td>\n",
       "      <td>short</td>\n",
       "      <td>[short]</td>\n",
       "    </tr>\n",
       "    <tr>\n",
       "      <th>13</th>\n",
       "      <td>Daniel Boone</td>\n",
       "      <td>Boone's daughter befriends an Indian maiden as...</td>\n",
       "      <td>biographical</td>\n",
       "      <td>cultural</td>\n",
       "      <td>[cultural]</td>\n",
       "    </tr>\n",
       "    <tr>\n",
       "      <th>14</th>\n",
       "      <td>How Brown Saw the Baseball Game</td>\n",
       "      <td>Before heading out to a baseball game at a nea...</td>\n",
       "      <td>comedy</td>\n",
       "      <td>comedy</td>\n",
       "      <td>[comedy]</td>\n",
       "    </tr>\n",
       "    <tr>\n",
       "      <th>15</th>\n",
       "      <td>Laughing Gas</td>\n",
       "      <td>The plot is that of a black woman going to the...</td>\n",
       "      <td>comedy</td>\n",
       "      <td>comedy</td>\n",
       "      <td>[comedy]</td>\n",
       "    </tr>\n",
       "    <tr>\n",
       "      <th>16</th>\n",
       "      <td>The Adventures of Dollie</td>\n",
       "      <td>On a beautiful summer day a father and mother ...</td>\n",
       "      <td>drama</td>\n",
       "      <td>drama</td>\n",
       "      <td>[drama]</td>\n",
       "    </tr>\n",
       "    <tr>\n",
       "      <th>17</th>\n",
       "      <td>The Black Viper</td>\n",
       "      <td>A thug accosts a girl as she leaves her workpl...</td>\n",
       "      <td>drama</td>\n",
       "      <td>drama</td>\n",
       "      <td>[drama]</td>\n",
       "    </tr>\n",
       "    <tr>\n",
       "      <th>18</th>\n",
       "      <td>A Calamitous Elopement</td>\n",
       "      <td>A young couple decides to elope after being ca...</td>\n",
       "      <td>comedy</td>\n",
       "      <td>comedy</td>\n",
       "      <td>[comedy]</td>\n",
       "    </tr>\n",
       "    <tr>\n",
       "      <th>19</th>\n",
       "      <td>The Call of the Wild</td>\n",
       "      <td>A white girl (Florence Lawrence) rejects a pro...</td>\n",
       "      <td>adventure</td>\n",
       "      <td>action</td>\n",
       "      <td>[action]</td>\n",
       "    </tr>\n",
       "  </tbody>\n",
       "</table>\n",
       "</div>"
      ],
      "text/plain": [
       "                                                Title  \\\n",
       "0                              Kansas Saloon Smashers   \n",
       "1                       Love by the Light of the Moon   \n",
       "2                             The Martyred Presidents   \n",
       "3                    Terrible Teddy, the Grizzly King   \n",
       "4                              Jack and the Beanstalk   \n",
       "5                                 Alice in Wonderland   \n",
       "6                             The Great Train Robbery   \n",
       "7                                     The Suburbanite   \n",
       "8                            The Little Train Robbery   \n",
       "9                          The Night Before Christmas   \n",
       "10                           Dream of a Rarebit Fiend   \n",
       "11  From Leadville to Aspen: A Hold-Up in the Rockies   \n",
       "12                                Kathleen Mavourneen   \n",
       "13                                       Daniel Boone   \n",
       "14                    How Brown Saw the Baseball Game   \n",
       "15                                       Laughing Gas   \n",
       "16                           The Adventures of Dollie   \n",
       "17                                    The Black Viper   \n",
       "18                             A Calamitous Elopement   \n",
       "19                               The Call of the Wild   \n",
       "\n",
       "                                                 Plot  \\\n",
       "0   A bartender is working at a saloon, serving dr...   \n",
       "1   The moon, painted with a smiling face hangs ov...   \n",
       "2   The film, just over a minute long, is composed...   \n",
       "3   Lasting just 61 seconds and consisting of two ...   \n",
       "4   The earliest known adaptation of the classic f...   \n",
       "5   Alice follows a large white rabbit down a \"Rab...   \n",
       "6   The film opens with two bandits breaking into ...   \n",
       "7   The film is about a family who move to the sub...   \n",
       "8   The opening scene shows the interior of the ro...   \n",
       "9   Scenes are introduced using lines of the poem....   \n",
       "10  The Rarebit Fiend gorges on Welsh rarebit at a...   \n",
       "11  The film features a train traveling through th...   \n",
       "12  Irish villager Kathleen is a tenant of Captain...   \n",
       "13  Boone's daughter befriends an Indian maiden as...   \n",
       "14  Before heading out to a baseball game at a nea...   \n",
       "15  The plot is that of a black woman going to the...   \n",
       "16  On a beautiful summer day a father and mother ...   \n",
       "17  A thug accosts a girl as she leaves her workpl...   \n",
       "18  A young couple decides to elope after being ca...   \n",
       "19  A white girl (Florence Lawrence) rejects a pro...   \n",
       "\n",
       "                         Genre              GenreCorrected      GenreListed  \n",
       "0                      unknown                                           []  \n",
       "1                      unknown                                           []  \n",
       "2                      unknown                                           []  \n",
       "3                      unknown                                           []  \n",
       "4                      unknown                                           []  \n",
       "5                      unknown                                           []  \n",
       "6                      western                      action         [action]  \n",
       "7                       comedy                      comedy         [comedy]  \n",
       "8                      unknown                                           []  \n",
       "9                      unknown                                           []  \n",
       "10                       short                       short          [short]  \n",
       "11  short action/crime western  short action action action  [action, short]  \n",
       "12                  short film                      short           [short]  \n",
       "13                biographical                    cultural       [cultural]  \n",
       "14                      comedy                      comedy         [comedy]  \n",
       "15                      comedy                      comedy         [comedy]  \n",
       "16                       drama                       drama          [drama]  \n",
       "17                       drama                       drama          [drama]  \n",
       "18                      comedy                      comedy         [comedy]  \n",
       "19                   adventure                      action         [action]  "
      ]
     },
     "execution_count": 15,
     "metadata": {},
     "output_type": "execute_result"
    }
   ],
   "source": [
    "## Automatic harmonization of categories and listing of them\n",
    "\n",
    "nlp = spacy.load(\"en_core_web_sm\")\n",
    "\n",
    "movies['GenreListed'] = movies['GenreCorrected']\n",
    "\n",
    "for genre in movies['GenreCorrected'].unique():\n",
    "  tokens = nlp(genre)\n",
    "  listed_genre = [token.lemma_.lower() for token in tokens if not token.is_punct and not token.is_digit and not token.is_space and not token.is_stop]\n",
    "  for i in np.where(movies['GenreCorrected']==genre)[0]:\n",
    "    movies.at[i,'GenreListed'] = np.unique(np.array(listed_genre))\n",
    "\n",
    "movies.head(20)"
   ]
  },
  {
   "cell_type": "code",
   "execution_count": 16,
   "metadata": {
    "colab": {},
    "colab_type": "code",
    "id": "MjqUAKEZHvtU"
   },
   "outputs": [],
   "source": [
    "# Saving of all film\n",
    "movies[['Title','Genre','GenreCorrected','GenreListed']].to_csv('completGenres.csv')\n",
    "\n",
    "if IN_COLAB:\n",
    "    files.download('completGenres.csv') "
   ]
  },
  {
   "cell_type": "code",
   "execution_count": 17,
   "metadata": {
    "colab": {},
    "colab_type": "code",
    "id": "vEwfiwNzRpJj"
   },
   "outputs": [
    {
     "name": "stdout",
     "output_type": "stream",
     "text": [
      "Nombre de catégories: 559\n"
     ]
    }
   ],
   "source": [
    "## Listing of all unique categories and their occurrence\n",
    "genres_array = np.array([])\n",
    "for genre in movies['GenreListed']:\n",
    "    genres_array = np.concatenate((genres_array, genre ))\n",
    "uniqueGenre, uniqueGenreCount = np.unique(genres_array, return_counts=True)\n",
    "print(f\"Nombre de catégories: {len(uniqueGenre)}\")"
   ]
  },
  {
   "cell_type": "code",
   "execution_count": 18,
   "metadata": {
    "colab": {},
    "colab_type": "code",
    "id": "Bbpc8aUdU5XQ"
   },
   "outputs": [],
   "source": [
    "# Saving of unique categories\n",
    "genres = pd.DataFrame({'Genre':uniqueGenre, 'Count':uniqueGenreCount}).sort_values(by=['Count'], ascending = False, ignore_index=True)\n",
    "genres.to_csv('uniqueGenres.csv')\n",
    "\n",
    "if IN_COLAB:\n",
    "    files.download('uniqueGenres.csv') "
   ]
  },
  {
   "cell_type": "code",
   "execution_count": 19,
   "metadata": {
    "colab": {},
    "colab_type": "code",
    "id": "FKebEmsFc_Qr"
   },
   "outputs": [
    {
     "data": {
      "image/png": "[encoded data removed]",
      "text/plain": [
       "<Figure size 576x360 with 1 Axes>"
      ]
     },
     "metadata": {
      "needs_background": "light"
     },
     "output_type": "display_data"
    }
   ],
   "source": [
    "## Show 10 main categories\n",
    "mainGenres = genres.loc[:9,:]\n",
    "mainGenres.plot(x='Genre', y='Count', kind='bar', legend=False, grid=True, figsize=(8, 5))\n",
    "plt.title(\"Number of movies per genre\")\n",
    "plt.ylabel('# of Occurrences', fontsize=12)\n",
    "plt.xlabel('Movie genres', fontsize=12)\n",
    "plt.show()"
   ]
  },
  {
   "cell_type": "code",
   "execution_count": 20,
   "metadata": {
    "colab": {},
    "colab_type": "code",
    "id": "gnpR6XiRghe7"
   },
   "outputs": [
    {
     "name": "stderr",
     "output_type": "stream",
     "text": [
      "C:\\Anaconda3\\lib\\site-packages\\numpy\\lib\\arraysetops.py:569: FutureWarning: elementwise comparison failed; returning scalar instead, but in the future will perform elementwise comparison\n",
      "  mask |= (ar1 == a)\n"
     ]
    }
   ],
   "source": [
    "## Keep only the main categories\n",
    "movies['MainGenre'] = movies['GenreListed'].apply(lambda x: x[np.in1d(x,mainGenres)])"
   ]
  },
  {
   "cell_type": "code",
   "execution_count": 25,
   "metadata": {
    "colab": {},
    "colab_type": "code",
    "id": "18WMNNb4jPE6"
   },
   "outputs": [
    {
     "name": "stdout",
     "output_type": "stream",
     "text": [
      "All movies:      34886\n",
      "Selected movies: 28130\n"
     ]
    }
   ],
   "source": [
    "## Keep only films with categories\n",
    "selectedMovies = movies[movies['MainGenre'].apply(len)>0]\n",
    "print(f\"All movies:      {movies.shape[0]}\\nSelected movies: {selectedMovies.shape[0]}\")"
   ]
  },
  {
   "cell_type": "code",
   "execution_count": 26,
   "metadata": {
    "colab": {},
    "colab_type": "code",
    "id": "lAAhgmgLWs-0"
   },
   "outputs": [
    {
     "name": "stdout",
     "output_type": "stream",
     "text": [
      "no stored variable or alias categoriesVector\n",
      "Stored 'categoriesVector' (ndarray)\n"
     ]
    }
   ],
   "source": [
    "# Creat the output layer with all categories\n",
    "%store -r categoriesVector\n",
    "try:\n",
    "  categoriesVector\n",
    "except:\n",
    "  categoriesVector = np.stack(selectedMovies['MainGenre'].apply(lambda x: np.isin(mainGenres['Genre'],x))*1)\n",
    "  %store categoriesVector\n",
    "    \n",
    "    \n",
    "\n",
    "\n",
    "with open(\"filename\", ‘wb’) as f:\n",
    "    pickle.dump(your_content, f)"
   ]
  },
  {
   "cell_type": "code",
   "execution_count": null,
   "metadata": {
    "colab": {},
    "colab_type": "code",
    "id": "mov-95QSuiC5"
   },
   "outputs": [],
   "source": [
    "np.savetxt('categoriesVector.csv', categoriesVector, delimiter=',')\n",
    "\n",
    "if IN_COLAB:\n",
    "    files.download('categoriesVector.csv') "
   ]
  },
  {
   "cell_type": "markdown",
   "metadata": {
    "colab_type": "text",
    "id": "JG12JVrgY605"
   },
   "source": [
    "## Splitting The Data into Training and Test Sets"
   ]
  },
  {
   "cell_type": "code",
   "execution_count": null,
   "metadata": {
    "colab": {},
    "colab_type": "code",
    "id": "IBVYVCJDY6KP"
   },
   "outputs": [],
   "source": [
    "rawPlot_train, rawPlot_test, cat_train, cat_test = train_test_split(selectedMovies['Plot'], categoriesVector, train_size=0.8, shuffle=True) #80% 20%"
   ]
  },
  {
   "cell_type": "code",
   "execution_count": null,
   "metadata": {
    "colab": {},
    "colab_type": "code",
    "id": "7HxZ8mjyGQJQ"
   },
   "outputs": [],
   "source": [
    "type(rawPlot_test)"
   ]
  },
  {
   "cell_type": "markdown",
   "metadata": {
    "colab_type": "text",
    "id": "YjFt_cmls9QE"
   },
   "source": [
    "## Plot preparation"
   ]
  },
  {
   "cell_type": "code",
   "execution_count": null,
   "metadata": {
    "colab": {},
    "colab_type": "code",
    "id": "byfYzECOtm2X"
   },
   "outputs": [],
   "source": [
    "def plotTokenizer(plot):\n",
    "  tokens = nlp(plot)\n",
    "  return [token.lemma_ for token in tokens if not token.is_stop]\n",
    "  # return [token.lemma_.lower() for token in tokens if not token.is_punct and not token.is_digit and not token.is_space and not token.is_stop]"
   ]
  },
  {
   "cell_type": "code",
   "execution_count": null,
   "metadata": {
    "colab": {
     "base_uri": "https://localhost:8080/",
     "height": 34
    },
    "colab_type": "code",
    "id": "GUzbts4MQey6",
    "outputId": "a84c61a2-266c-4c29-dda7-0ff9affebdef"
   },
   "outputs": [
    {
     "data": {
      "text/plain": [
       "['hello', 'maxime', '.', 'like', \"1'000'000\", '$', '!']"
      ]
     },
     "execution_count": 33,
     "metadata": {
      "tags": []
     },
     "output_type": "execute_result"
    }
   ],
   "source": [
    "np.set_printoptions(precision=2)\n",
    "plotTokenizer(\"Hello my name is Maxime. I'd like to give you 1'000'000 $ !\")"
   ]
  },
  {
   "cell_type": "code",
   "execution_count": null,
   "metadata": {
    "colab": {},
    "colab_type": "code",
    "id": "1429_LemaL0O"
   },
   "outputs": [],
   "source": [
    "plotVectorizer  = TfidfVectorizer(tokenizer = plotTokenizer, min_df=3, max_features=10000)"
   ]
  },
  {
   "cell_type": "code",
   "execution_count": null,
   "metadata": {
    "colab": {},
    "colab_type": "code",
    "id": "QJyiGfuPiE0w"
   },
   "outputs": [],
   "source": [
    "%%time\n",
    "# Learn vocabulary from training texts and vectorize training texts.\n",
    "%store -r plot_train\n",
    "try:\n",
    "  plot_train\n",
    "except:\n",
    "  plot_train = plotVectorizer.fit_transform(rawPlot_train)\n",
    "  %store plot_train"
   ]
  },
  {
   "cell_type": "code",
   "execution_count": null,
   "metadata": {
    "colab": {},
    "colab_type": "code",
    "id": "KcP6nLeVv1bf"
   },
   "outputs": [],
   "source": [
    "%%time\n",
    "# Vectorize validation texts.\n",
    "plot_test = plotVectorizer.transform(rawPlot_test)\n",
    "\n",
    "%store -r plot_test\n",
    "try:\n",
    "  plot_test\n",
    "except:\n",
    "  plot_test = plotVectorizer.transform(rawPlot_test)\n",
    "  %store plot_test"
   ]
  },
  {
   "cell_type": "code",
   "execution_count": null,
   "metadata": {
    "colab": {},
    "colab_type": "code",
    "id": "MNLZwBj1t8Xw"
   },
   "outputs": [],
   "source": [
    "np.savetxt('plot_train.csv', plot_train.toarray(), delimiter=',')\n",
    "np.savetxt('plot_test.csv', plot_test.toarray(), delimiter=',')\n",
    "\n",
    "if IN_COLAB:\n",
    "  files.download('plot_train.csv') \n",
    "  files.download('plot_test.csv') "
   ]
  },
  {
   "cell_type": "markdown",
   "metadata": {
    "colab_type": "text",
    "id": "xKwh7sASEqvS"
   },
   "source": [
    "# Naive Bayes Classification"
   ]
  },
  {
   "cell_type": "code",
   "execution_count": null,
   "metadata": {
    "colab": {},
    "colab_type": "code",
    "id": "gqhKbrlWF2hF"
   },
   "outputs": [],
   "source": [
    "cat_train.drama"
   ]
  },
  {
   "cell_type": "code",
   "execution_count": null,
   "metadata": {
    "colab": {},
    "colab_type": "code",
    "id": "_BzKQzJPEXQu"
   },
   "outputs": [],
   "source": [
    "multinomialNB=OneVsRestClassifier(MultinomialNB())\n",
    "multinomialNB.fit(plot_train, cat_train.action)"
   ]
  },
  {
   "cell_type": "code",
   "execution_count": null,
   "metadata": {
    "colab": {},
    "colab_type": "code",
    "id": "OBMjUQWJSjCa"
   },
   "outputs": [],
   "source": []
  }
 ],
 "metadata": {
  "colab": {
   "collapsed_sections": [],
   "include_colab_link": true,
   "name": "Copie de movie-chatbot.ipynb",
   "provenance": []
  },
  "kernelspec": {
   "display_name": "Python 3",
   "language": "python",
   "name": "python3"
  },
  "language_info": {
   "codemirror_mode": {
    "name": "ipython",
    "version": 3
   },
   "file_extension": ".py",
   "mimetype": "text/x-python",
   "name": "python",
   "nbconvert_exporter": "python",
   "pygments_lexer": "ipython3",
   "version": "3.7.7"
  }
 },
 "nbformat": 4,
 "nbformat_minor": 4
}
