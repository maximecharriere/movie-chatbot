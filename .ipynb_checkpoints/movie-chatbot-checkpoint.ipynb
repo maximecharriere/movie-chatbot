{
 "cells": [
  {
   "cell_type": "markdown",
   "metadata": {
    "colab_type": "text",
    "id": "view-in-github"
   },
   "source": [
    "<a href=\"https://colab.research.google.com/github/maximecharriere/movie-chatbot/blob/master/movie-chatbot.ipynb\" target=\"_parent\"><img src=\"https://colab.research.google.com/assets/colab-badge.svg\" alt=\"Open In Colab\"/></a>"
   ]
  },
  {
   "cell_type": "markdown",
   "metadata": {
    "colab_type": "text",
    "id": "DVy8nkPvIWuW"
   },
   "source": [
    "# **Chatbot cinéphile - WELCOME**\n",
    "*Par Dylan **Morocutti** et Maxime **Charrière**.*"
   ]
  },
  {
   "cell_type": "markdown",
   "metadata": {
    "colab_type": "text",
    "id": "KA-L_QLZnwIP"
   },
   "source": [
    "# Libraries importation"
   ]
  },
  {
   "cell_type": "code",
   "execution_count": 3,
   "metadata": {
    "colab": {
     "base_uri": "https://localhost:8080/",
     "height": 170
    },
    "colab_type": "code",
    "id": "h_xI7FpYn3Oj",
    "outputId": "dea57ca5-dcff-40d2-fc9e-54af94cca1de"
   },
   "outputs": [
    {
     "name": "stdout",
     "output_type": "stream",
     "text": [
      "Libraries version:\n",
      "Numpy:      1.18.1\n",
      "Matplotlib: 3.1.3\n",
      "Pandas:     1.0.3\n",
      "Spacy:      2.2.4\n"
     ]
    }
   ],
   "source": [
    "try:\n",
    "    from google.colab import files\n",
    "    IN_COLAB = True\n",
    "except:\n",
    "    IN_COLAB = False\n",
    "\n",
    "\n",
    "import numpy as np\n",
    "import matplotlib\n",
    "import matplotlib.pyplot as plt\n",
    "import pandas as pd\n",
    "#import gensim\n",
    "#from gensim.models import Word2Vec\n",
    "#import sklearn\n",
    "#from sklearn.feature_extraction.text import TfidfVectorizer\n",
    "#from sklearn.feature_extraction.text import CountVectorizer\n",
    "#from sklearn.model_selection import train_test_split\n",
    "#from sklearn import cluster\n",
    "#from sklearn import metrics\n",
    "import spacy\n",
    "\n",
    "nlp = spacy.load(\"en_core_web_sm\")\n",
    "\n",
    "print(\"Libraries version:\")\n",
    "print(f\"Numpy:      {np.__version__}\")\n",
    "print(f\"Matplotlib: {matplotlib.__version__}\")\n",
    "#print(f\"Tensorflow: {tf.__version__}\")\n",
    "#print(f\"NLTK:       {nltk.__version__}\")\n",
    "print(f\"Pandas:     {pd.__version__}\")\n",
    "#print(f\"Gensim:     {gensim.__version__}\")\n",
    "#print(f\"Sklearn:    {sklearn.__version__}\")\n",
    "print(f\"Spacy:      {spacy.__version__}\")"
   ]
  },
  {
   "cell_type": "markdown",
   "metadata": {
    "colab_type": "text",
    "id": "_c5fE6MX_yvE"
   },
   "source": [
    "# Building DeepLearning **model**"
   ]
  },
  {
   "cell_type": "code",
   "execution_count": 2,
   "metadata": {
    "colab": {},
    "colab_type": "code",
    "id": "uJoyigaxqGp3"
   },
   "outputs": [],
   "source": [
    "# Flatten\n",
    "model = tf.keras.models.Sequential()\n",
    "# Add layers\n",
    "model.add(tf.keras.layers.Dense(256, activation=\"relu\"))\n",
    "model.add(tf.keras.layers.Dense(128, activation=\"relu\"))\n",
    "model.add(tf.keras.layers.Dense(2, activation=\"softmax\"))"
   ]
  },
  {
   "cell_type": "markdown",
   "metadata": {
    "colab_type": "text",
    "id": "e8qGTIB9Wb8g"
   },
   "source": [
    "# SpaCy test"
   ]
  },
  {
   "cell_type": "markdown",
   "metadata": {
    "colab_type": "text",
    "id": "vx_bk4c7icg8"
   },
   "source": [
    "## Data preparation"
   ]
  },
  {
   "cell_type": "code",
   "execution_count": 3,
   "metadata": {
    "colab": {
     "base_uri": "https://localhost:8080/",
     "height": 669
    },
    "colab_type": "code",
    "id": "qHJf9cVGXUtE",
    "outputId": "2626fb47-a447-4f23-809e-be2bee69c0ec"
   },
   "outputs": [
    {
     "data": {
      "text/html": [
       "<div>\n",
       "<style scoped>\n",
       "    .dataframe tbody tr th:only-of-type {\n",
       "        vertical-align: middle;\n",
       "    }\n",
       "\n",
       "    .dataframe tbody tr th {\n",
       "        vertical-align: top;\n",
       "    }\n",
       "\n",
       "    .dataframe thead th {\n",
       "        text-align: right;\n",
       "    }\n",
       "</style>\n",
       "<table border=\"1\" class=\"dataframe\">\n",
       "  <thead>\n",
       "    <tr style=\"text-align: right;\">\n",
       "      <th></th>\n",
       "      <th>Title</th>\n",
       "      <th>Plot</th>\n",
       "      <th>Genre</th>\n",
       "    </tr>\n",
       "  </thead>\n",
       "  <tbody>\n",
       "    <tr>\n",
       "      <th>0</th>\n",
       "      <td>Kansas Saloon Smashers</td>\n",
       "      <td>A bartender is working at a saloon, serving dr...</td>\n",
       "      <td>unknown</td>\n",
       "    </tr>\n",
       "    <tr>\n",
       "      <th>1</th>\n",
       "      <td>Love by the Light of the Moon</td>\n",
       "      <td>The moon, painted with a smiling face hangs ov...</td>\n",
       "      <td>unknown</td>\n",
       "    </tr>\n",
       "    <tr>\n",
       "      <th>2</th>\n",
       "      <td>The Martyred Presidents</td>\n",
       "      <td>The film, just over a minute long, is composed...</td>\n",
       "      <td>unknown</td>\n",
       "    </tr>\n",
       "    <tr>\n",
       "      <th>3</th>\n",
       "      <td>Terrible Teddy, the Grizzly King</td>\n",
       "      <td>Lasting just 61 seconds and consisting of two ...</td>\n",
       "      <td>unknown</td>\n",
       "    </tr>\n",
       "    <tr>\n",
       "      <th>4</th>\n",
       "      <td>Jack and the Beanstalk</td>\n",
       "      <td>The earliest known adaptation of the classic f...</td>\n",
       "      <td>unknown</td>\n",
       "    </tr>\n",
       "    <tr>\n",
       "      <th>5</th>\n",
       "      <td>Alice in Wonderland</td>\n",
       "      <td>Alice follows a large white rabbit down a \"Rab...</td>\n",
       "      <td>unknown</td>\n",
       "    </tr>\n",
       "    <tr>\n",
       "      <th>6</th>\n",
       "      <td>The Great Train Robbery</td>\n",
       "      <td>The film opens with two bandits breaking into ...</td>\n",
       "      <td>western</td>\n",
       "    </tr>\n",
       "    <tr>\n",
       "      <th>7</th>\n",
       "      <td>The Suburbanite</td>\n",
       "      <td>The film is about a family who move to the sub...</td>\n",
       "      <td>comedy</td>\n",
       "    </tr>\n",
       "    <tr>\n",
       "      <th>8</th>\n",
       "      <td>The Little Train Robbery</td>\n",
       "      <td>The opening scene shows the interior of the ro...</td>\n",
       "      <td>unknown</td>\n",
       "    </tr>\n",
       "    <tr>\n",
       "      <th>9</th>\n",
       "      <td>The Night Before Christmas</td>\n",
       "      <td>Scenes are introduced using lines of the poem....</td>\n",
       "      <td>unknown</td>\n",
       "    </tr>\n",
       "    <tr>\n",
       "      <th>10</th>\n",
       "      <td>Dream of a Rarebit Fiend</td>\n",
       "      <td>The Rarebit Fiend gorges on Welsh rarebit at a...</td>\n",
       "      <td>short</td>\n",
       "    </tr>\n",
       "    <tr>\n",
       "      <th>11</th>\n",
       "      <td>From Leadville to Aspen: A Hold-Up in the Rockies</td>\n",
       "      <td>The film features a train traveling through th...</td>\n",
       "      <td>short action/crime western</td>\n",
       "    </tr>\n",
       "    <tr>\n",
       "      <th>12</th>\n",
       "      <td>Kathleen Mavourneen</td>\n",
       "      <td>Irish villager Kathleen is a tenant of Captain...</td>\n",
       "      <td>short film</td>\n",
       "    </tr>\n",
       "    <tr>\n",
       "      <th>13</th>\n",
       "      <td>Daniel Boone</td>\n",
       "      <td>Boone's daughter befriends an Indian maiden as...</td>\n",
       "      <td>biographical</td>\n",
       "    </tr>\n",
       "    <tr>\n",
       "      <th>14</th>\n",
       "      <td>How Brown Saw the Baseball Game</td>\n",
       "      <td>Before heading out to a baseball game at a nea...</td>\n",
       "      <td>comedy</td>\n",
       "    </tr>\n",
       "    <tr>\n",
       "      <th>15</th>\n",
       "      <td>Laughing Gas</td>\n",
       "      <td>The plot is that of a black woman going to the...</td>\n",
       "      <td>comedy</td>\n",
       "    </tr>\n",
       "    <tr>\n",
       "      <th>16</th>\n",
       "      <td>The Adventures of Dollie</td>\n",
       "      <td>On a beautiful summer day a father and mother ...</td>\n",
       "      <td>drama</td>\n",
       "    </tr>\n",
       "    <tr>\n",
       "      <th>17</th>\n",
       "      <td>The Black Viper</td>\n",
       "      <td>A thug accosts a girl as she leaves her workpl...</td>\n",
       "      <td>drama</td>\n",
       "    </tr>\n",
       "    <tr>\n",
       "      <th>18</th>\n",
       "      <td>A Calamitous Elopement</td>\n",
       "      <td>A young couple decides to elope after being ca...</td>\n",
       "      <td>comedy</td>\n",
       "    </tr>\n",
       "    <tr>\n",
       "      <th>19</th>\n",
       "      <td>The Call of the Wild</td>\n",
       "      <td>A white girl (Florence Lawrence) rejects a pro...</td>\n",
       "      <td>adventure</td>\n",
       "    </tr>\n",
       "  </tbody>\n",
       "</table>\n",
       "</div>"
      ],
      "text/plain": [
       "                                                Title  \\\n",
       "0                              Kansas Saloon Smashers   \n",
       "1                       Love by the Light of the Moon   \n",
       "2                             The Martyred Presidents   \n",
       "3                    Terrible Teddy, the Grizzly King   \n",
       "4                              Jack and the Beanstalk   \n",
       "5                                 Alice in Wonderland   \n",
       "6                             The Great Train Robbery   \n",
       "7                                     The Suburbanite   \n",
       "8                            The Little Train Robbery   \n",
       "9                          The Night Before Christmas   \n",
       "10                           Dream of a Rarebit Fiend   \n",
       "11  From Leadville to Aspen: A Hold-Up in the Rockies   \n",
       "12                                Kathleen Mavourneen   \n",
       "13                                       Daniel Boone   \n",
       "14                    How Brown Saw the Baseball Game   \n",
       "15                                       Laughing Gas   \n",
       "16                           The Adventures of Dollie   \n",
       "17                                    The Black Viper   \n",
       "18                             A Calamitous Elopement   \n",
       "19                               The Call of the Wild   \n",
       "\n",
       "                                                 Plot  \\\n",
       "0   A bartender is working at a saloon, serving dr...   \n",
       "1   The moon, painted with a smiling face hangs ov...   \n",
       "2   The film, just over a minute long, is composed...   \n",
       "3   Lasting just 61 seconds and consisting of two ...   \n",
       "4   The earliest known adaptation of the classic f...   \n",
       "5   Alice follows a large white rabbit down a \"Rab...   \n",
       "6   The film opens with two bandits breaking into ...   \n",
       "7   The film is about a family who move to the sub...   \n",
       "8   The opening scene shows the interior of the ro...   \n",
       "9   Scenes are introduced using lines of the poem....   \n",
       "10  The Rarebit Fiend gorges on Welsh rarebit at a...   \n",
       "11  The film features a train traveling through th...   \n",
       "12  Irish villager Kathleen is a tenant of Captain...   \n",
       "13  Boone's daughter befriends an Indian maiden as...   \n",
       "14  Before heading out to a baseball game at a nea...   \n",
       "15  The plot is that of a black woman going to the...   \n",
       "16  On a beautiful summer day a father and mother ...   \n",
       "17  A thug accosts a girl as she leaves her workpl...   \n",
       "18  A young couple decides to elope after being ca...   \n",
       "19  A white girl (Florence Lawrence) rejects a pro...   \n",
       "\n",
       "                         Genre  \n",
       "0                      unknown  \n",
       "1                      unknown  \n",
       "2                      unknown  \n",
       "3                      unknown  \n",
       "4                      unknown  \n",
       "5                      unknown  \n",
       "6                      western  \n",
       "7                       comedy  \n",
       "8                      unknown  \n",
       "9                      unknown  \n",
       "10                       short  \n",
       "11  short action/crime western  \n",
       "12                  short film  \n",
       "13                biographical  \n",
       "14                      comedy  \n",
       "15                      comedy  \n",
       "16                       drama  \n",
       "17                       drama  \n",
       "18                      comedy  \n",
       "19                   adventure  "
      ]
     },
     "execution_count": 3,
     "metadata": {},
     "output_type": "execute_result"
    }
   ],
   "source": [
    "## Data importation\n",
    "if IN_COLAB :\n",
    "    url_movie_wiki = \"https://raw.githubusercontent.com/maximecharriere/movie-chatbot/master/data/movie_wiki_infos/wiki_movie_plots_deduped.csv\"\n",
    "else:\n",
    "    url_movie_wiki = \"data/movie_wiki_infos/wiki_movie_plots_deduped.csv\"\n",
    "    \n",
    "movies = pd.read_csv(url_movie_wiki, sep=',', engine='python')[['Title','Plot','Genre']]\n",
    "movies.head(20)"
   ]
  },
  {
   "cell_type": "code",
   "execution_count": 4,
   "metadata": {
    "colab": {
     "base_uri": "https://localhost:8080/",
     "height": 34
    },
    "colab_type": "code",
    "id": "fqQirGYtXV9Q",
    "outputId": "d8b5b4c2-892b-42c9-b070-40f9e9d1e23f"
   },
   "outputs": [
    {
     "name": "stdout",
     "output_type": "stream",
     "text": [
      "Nombre de catégories: 2265\n"
     ]
    }
   ],
   "source": [
    "print(f\"Nombre de catégories: {len(movies['Genre'].value_counts())}\")"
   ]
  },
  {
   "cell_type": "code",
   "execution_count": 5,
   "metadata": {
    "colab": {
     "base_uri": "https://localhost:8080/",
     "height": 34
    },
    "colab_type": "code",
    "id": "uUIW8nNcYl-N",
    "outputId": "c71bf49b-4da9-4154-f53b-f6e291cd65a1"
   },
   "outputs": [
    {
     "name": "stdout",
     "output_type": "stream",
     "text": [
      "Nombre de catégories: 1411\n"
     ]
    }
   ],
   "source": [
    "## Manual harmonization of categories\n",
    "\n",
    "movies['GenreCorrected']=movies['Genre'] \n",
    "movies['GenreCorrected']=movies['GenreCorrected'].str.replace('/', ' ')\n",
    "\n",
    "# Delete unwanted categories\n",
    "movies['GenreCorrected']=movies['GenreCorrected'].str.replace('unknown', '')\n",
    "movies['GenreCorrected']=movies['GenreCorrected'].str.replace('\\[not in citation given\\]','')\n",
    "movies['GenreCorrected']=movies['GenreCorrected'].str.replace('avant-garde','')\n",
    "movies['GenreCorrected']=movies['GenreCorrected'].str.replace('period','')\n",
    "movies['GenreCorrected']=movies['GenreCorrected'].str.replace('national','')\n",
    "movies['GenreCorrected']=movies['GenreCorrected'].str.replace('board','')\n",
    "movies['GenreCorrected']=movies['GenreCorrected'].str.replace('costume','')\n",
    "movies['GenreCorrected']=movies['GenreCorrected'].str.replace('movies','')\n",
    "movies['GenreCorrected']=movies['GenreCorrected'].str.replace('movie','')\n",
    "movies['GenreCorrected']=movies['GenreCorrected'].str.replace('films','')\n",
    "movies['GenreCorrected']=movies['GenreCorrected'].str.replace('film','')\n",
    "\n",
    "# Rename categories\n",
    "movies['GenreCorrected']=movies['GenreCorrected'].str.replace('bio-pic', 'biography')\n",
    "movies['GenreCorrected']=movies['GenreCorrected'].str.replace('biopic', 'biography')\n",
    "movies['GenreCorrected']=movies['GenreCorrected'].str.replace('biographical', 'biography')\n",
    "movies['GenreCorrected']=movies['GenreCorrected'].str.replace('biodrama', 'biography drama')\n",
    "movies['GenreCorrected']=movies['GenreCorrected'].str.replace('bio-drama', 'biography drama')\n",
    "movies['GenreCorrected']=movies['GenreCorrected'].str.replace('biographic', 'biography')\n",
    "movies['GenreCorrected']=movies['GenreCorrected'].str.replace('animated','animation')\n",
    "movies['GenreCorrected']=movies['GenreCorrected'].str.replace('anime','animation')\n",
    "movies['GenreCorrected']=movies['GenreCorrected'].str.replace('disaster','action')\n",
    "movies['GenreCorrected']=movies['GenreCorrected'].str.replace('comedey','comedy')\n",
    "movies['GenreCorrected']=movies['GenreCorrected'].str.replace('dramedy','comedy drama')\n",
    "movies['GenreCorrected']=movies['GenreCorrected'].str.replace('mockumentary','documentary')\n",
    "movies['GenreCorrected']=movies['GenreCorrected'].str.replace('historical','history')\n",
    "movies['GenreCorrected']=movies['GenreCorrected'].str.replace('historic','history')\n",
    "movies['GenreCorrected']=movies['GenreCorrected'].str.replace('prehistoric','history')\n",
    "movies['GenreCorrected']=movies['GenreCorrected'].str.replace('mythology','history')\n",
    "movies['GenreCorrected']=movies['GenreCorrected'].str.replace('romantic','romance')\n",
    "movies['GenreCorrected']=movies['GenreCorrected'].str.replace('3-d','animation')\n",
    "movies['GenreCorrected']=movies['GenreCorrected'].str.replace('3d','animation')\n",
    "movies['GenreCorrected']=movies['GenreCorrected'].str.replace('sci-fi','science_fiction')\n",
    "movies['GenreCorrected']=movies['GenreCorrected'].str.replace('ttriller','thriller')\n",
    "movies['GenreCorrected']=movies['GenreCorrected'].str.replace('sci fi','science_fiction')\n",
    "movies['GenreCorrected']=movies['GenreCorrected'].str.replace('science fiction','science_fiction')\n",
    "movies['GenreCorrected']=movies['GenreCorrected'].str.replace('kung fu','martial_arts')\n",
    "movies['GenreCorrected']=movies['GenreCorrected'].str.replace('kung-fu','martial_arts')\n",
    "movies['GenreCorrected']=movies['GenreCorrected'].str.replace('martial arts','martial_arts')\n",
    "movies['GenreCorrected']=movies['GenreCorrected'].str.replace('bruceploitation','martial_arts')\n",
    "movies['GenreCorrected']=movies['GenreCorrected'].str.replace('comedy-drama adaptation of the mordecai richler novel','comedy drama')\n",
    "movies['GenreCorrected']=movies['GenreCorrected'].str.replace('stop-motion','animation')\n",
    "movies['GenreCorrected']=movies['GenreCorrected'].str.replace('coming of age','coming_of_age')\n",
    "movies['GenreCorrected']=movies['GenreCorrected'].str.replace('coming-of-age','coming_of_age')\n",
    "movies['GenreCorrected']=movies['GenreCorrected'].str.replace('drama about child soldiers','drama')\n",
    "movies['GenreCorrected']=movies['GenreCorrected'].str.replace('melodrama','drama')\n",
    "movies['GenreCorrected']=movies['GenreCorrected'].str.replace('tv miniseries','serial')\n",
    "movies['GenreCorrected']=movies['GenreCorrected'].str.replace('television miniseries','serial')\n",
    "movies['GenreCorrected']=movies['GenreCorrected'].str.replace(\"war-time\",\"war\")\n",
    "movies['GenreCorrected']=movies['GenreCorrected'].str.replace(\"wartime\",\"war\")\n",
    "movies['GenreCorrected']=movies['GenreCorrected'].str.replace('world war ii','war')\n",
    "movies['GenreCorrected']=movies['GenreCorrected'].str.replace('world war i','war')\n",
    "movies['GenreCorrected']=movies['GenreCorrected'].str.replace(\"tokusatsu\",\"action\")\n",
    "movies['GenreCorrected']=movies['GenreCorrected'].str.replace(\"ww1\",\"war\")\n",
    "movies['GenreCorrected']=movies['GenreCorrected'].str.replace(\"wwii\",\"war\")\n",
    "movies['GenreCorrected']=movies['GenreCorrected'].str.replace('superheroes','superhero')\n",
    "movies['GenreCorrected']=movies['GenreCorrected'].str.replace('superheroe','superhero')\n",
    "movies['GenreCorrected']=movies['GenreCorrected'].str.replace('familya','family')\n",
    "movies['GenreCorrected']=movies['GenreCorrected'].str.replace('familydrama','family drama')\n",
    "movies['GenreCorrected']=movies['GenreCorrected'].str.replace('famil ','family')\n",
    "movies['GenreCorrected']=movies['GenreCorrected'].str.replace('espionage','spy')\n",
    "movies['GenreCorrected']=movies['GenreCorrected'].str.replace('noir','black')\n",
    "movies['GenreCorrected']=movies['GenreCorrected'].str.replace('dark','black')\n",
    "movies['GenreCorrected']=movies['GenreCorrected'].str.replace('psychological','psycho')\n",
    "movies['GenreCorrected']=movies['GenreCorrected'].str.replace('rom-com','romance')\n",
    "movies['GenreCorrected']=movies['GenreCorrected'].str.replace('gun fu','martial_arts')\n",
    "movies['GenreCorrected']=movies['GenreCorrected'].str.replace('docudrama','documentary drama')\n",
    "movies['GenreCorrected']=movies['GenreCorrected'].str.replace('football','sports')\n",
    "movies['GenreCorrected']=movies['GenreCorrected'].str.replace('martial art','martial_arts')\n",
    "movies['GenreCorrected']=movies['GenreCorrected'].str.replace('erotica','adult')\n",
    "movies['GenreCorrected']=movies['GenreCorrected'].str.replace('erotic','adult')\n",
    "movies['GenreCorrected']=movies['GenreCorrected'].str.replace('musical','music')\n",
    "movies['GenreCorrected']=movies['GenreCorrected'].str.replace('gangster','action')\n",
    "movies['GenreCorrected']=movies['GenreCorrected'].str.replace('swashbuckler','action')\n",
    "movies['GenreCorrected']=movies['GenreCorrected'].str.replace('police','action')\n",
    "movies['GenreCorrected']=movies['GenreCorrected'].str.replace('dance','sport')\n",
    "movies['GenreCorrected']=movies['GenreCorrected'].str.replace('sports','sport')\n",
    "movies['GenreCorrected']=movies['GenreCorrected'].str.replace('muslim','religious')\n",
    "movies['GenreCorrected']=movies['GenreCorrected'].str.replace('propaganda','political')\n",
    "movies['GenreCorrected']=movies['GenreCorrected'].str.replace('samurai','action')\n",
    "movies['GenreCorrected']=movies['GenreCorrected'].str.replace('sexploitation','adult')\n",
    "movies['GenreCorrected']=movies['GenreCorrected'].str.replace('homosexual','adult')\n",
    "movies['GenreCorrected']=movies['GenreCorrected'].str.replace('socio','social')\n",
    "movies['GenreCorrected']=movies['GenreCorrected'].str.replace('sexual','adult')\n",
    "movies['GenreCorrected']=movies['GenreCorrected'].str.replace('sex','adult')\n",
    "\n",
    "# Merge some categories\n",
    "movies['GenreCorrected']=movies['GenreCorrected'].str.replace('family','child')\n",
    "movies['GenreCorrected']=movies['GenreCorrected'].str.replace('martial_arts','action')\n",
    "movies['GenreCorrected']=movies['GenreCorrected'].str.replace('horror','thriller')\n",
    "movies['GenreCorrected']=movies['GenreCorrected'].str.replace('war','action')\n",
    "movies['GenreCorrected']=movies['GenreCorrected'].str.replace('adventure','action')\n",
    "movies['GenreCorrected']=movies['GenreCorrected'].str.replace('science_fiction','action')\n",
    "movies['GenreCorrected']=movies['GenreCorrected'].str.replace('spy','action')\n",
    "movies['GenreCorrected']=movies['GenreCorrected'].str.replace('superhero','action')\n",
    "movies['GenreCorrected']=movies['GenreCorrected'].str.replace('suspense','action')\n",
    "movies['GenreCorrected']=movies['GenreCorrected'].str.replace('thriller','action')\n",
    "movies['GenreCorrected']=movies['GenreCorrected'].str.replace('epic','action')\n",
    "movies['GenreCorrected']=movies['GenreCorrected'].str.replace('crime','action')\n",
    "movies['GenreCorrected']=movies['GenreCorrected'].str.replace('western','action')\n",
    "movies['GenreCorrected']=movies['GenreCorrected'].str.replace('music','cultural')\n",
    "movies['GenreCorrected']=movies['GenreCorrected'].str.replace('sport','cultural')\n",
    "movies['GenreCorrected']=movies['GenreCorrected'].str.replace('biography','cultural')\n",
    "movies['GenreCorrected']=movies['GenreCorrected'].str.replace('history','cultural')\n",
    "movies['GenreCorrected']=movies['GenreCorrected'].str.replace('documentary','cultural')\n",
    "movies['GenreCorrected']=movies['GenreCorrected'].str.replace('political','cultural')\n",
    "movies['GenreCorrected']=movies['GenreCorrected'].str.replace('science','cultural')\n",
    "movies['GenreCorrected']=movies['GenreCorrected'].str.replace('psycho','cultural')\n",
    "movies['GenreCorrected']=movies['GenreCorrected'].str.replace('mystery','thriller')\n",
    "\n",
    "\n",
    "print(f\"Nombre de catégories: {len(movies['GenreCorrected'].value_counts())}\")"
   ]
  },
  {
   "cell_type": "code",
   "execution_count": 6,
   "metadata": {
    "colab": {
     "base_uri": "https://localhost:8080/",
     "height": 669
    },
    "colab_type": "code",
    "id": "zawvJ-aVbKbE",
    "outputId": "48753d5c-d4fc-4657-fa8b-1c5f8fa2649e"
   },
   "outputs": [
    {
     "data": {
      "text/html": [
       "<div>\n",
       "<style scoped>\n",
       "    .dataframe tbody tr th:only-of-type {\n",
       "        vertical-align: middle;\n",
       "    }\n",
       "\n",
       "    .dataframe tbody tr th {\n",
       "        vertical-align: top;\n",
       "    }\n",
       "\n",
       "    .dataframe thead th {\n",
       "        text-align: right;\n",
       "    }\n",
       "</style>\n",
       "<table border=\"1\" class=\"dataframe\">\n",
       "  <thead>\n",
       "    <tr style=\"text-align: right;\">\n",
       "      <th></th>\n",
       "      <th>Title</th>\n",
       "      <th>Plot</th>\n",
       "      <th>Genre</th>\n",
       "      <th>GenreCorrected</th>\n",
       "      <th>GenreListed</th>\n",
       "    </tr>\n",
       "  </thead>\n",
       "  <tbody>\n",
       "    <tr>\n",
       "      <th>0</th>\n",
       "      <td>Kansas Saloon Smashers</td>\n",
       "      <td>A bartender is working at a saloon, serving dr...</td>\n",
       "      <td>unknown</td>\n",
       "      <td></td>\n",
       "      <td>[]</td>\n",
       "    </tr>\n",
       "    <tr>\n",
       "      <th>1</th>\n",
       "      <td>Love by the Light of the Moon</td>\n",
       "      <td>The moon, painted with a smiling face hangs ov...</td>\n",
       "      <td>unknown</td>\n",
       "      <td></td>\n",
       "      <td>[]</td>\n",
       "    </tr>\n",
       "    <tr>\n",
       "      <th>2</th>\n",
       "      <td>The Martyred Presidents</td>\n",
       "      <td>The film, just over a minute long, is composed...</td>\n",
       "      <td>unknown</td>\n",
       "      <td></td>\n",
       "      <td>[]</td>\n",
       "    </tr>\n",
       "    <tr>\n",
       "      <th>3</th>\n",
       "      <td>Terrible Teddy, the Grizzly King</td>\n",
       "      <td>Lasting just 61 seconds and consisting of two ...</td>\n",
       "      <td>unknown</td>\n",
       "      <td></td>\n",
       "      <td>[]</td>\n",
       "    </tr>\n",
       "    <tr>\n",
       "      <th>4</th>\n",
       "      <td>Jack and the Beanstalk</td>\n",
       "      <td>The earliest known adaptation of the classic f...</td>\n",
       "      <td>unknown</td>\n",
       "      <td></td>\n",
       "      <td>[]</td>\n",
       "    </tr>\n",
       "    <tr>\n",
       "      <th>5</th>\n",
       "      <td>Alice in Wonderland</td>\n",
       "      <td>Alice follows a large white rabbit down a \"Rab...</td>\n",
       "      <td>unknown</td>\n",
       "      <td></td>\n",
       "      <td>[]</td>\n",
       "    </tr>\n",
       "    <tr>\n",
       "      <th>6</th>\n",
       "      <td>The Great Train Robbery</td>\n",
       "      <td>The film opens with two bandits breaking into ...</td>\n",
       "      <td>western</td>\n",
       "      <td>action</td>\n",
       "      <td>[action]</td>\n",
       "    </tr>\n",
       "    <tr>\n",
       "      <th>7</th>\n",
       "      <td>The Suburbanite</td>\n",
       "      <td>The film is about a family who move to the sub...</td>\n",
       "      <td>comedy</td>\n",
       "      <td>comedy</td>\n",
       "      <td>[comedy]</td>\n",
       "    </tr>\n",
       "    <tr>\n",
       "      <th>8</th>\n",
       "      <td>The Little Train Robbery</td>\n",
       "      <td>The opening scene shows the interior of the ro...</td>\n",
       "      <td>unknown</td>\n",
       "      <td></td>\n",
       "      <td>[]</td>\n",
       "    </tr>\n",
       "    <tr>\n",
       "      <th>9</th>\n",
       "      <td>The Night Before Christmas</td>\n",
       "      <td>Scenes are introduced using lines of the poem....</td>\n",
       "      <td>unknown</td>\n",
       "      <td></td>\n",
       "      <td>[]</td>\n",
       "    </tr>\n",
       "    <tr>\n",
       "      <th>10</th>\n",
       "      <td>Dream of a Rarebit Fiend</td>\n",
       "      <td>The Rarebit Fiend gorges on Welsh rarebit at a...</td>\n",
       "      <td>short</td>\n",
       "      <td>short</td>\n",
       "      <td>[short]</td>\n",
       "    </tr>\n",
       "    <tr>\n",
       "      <th>11</th>\n",
       "      <td>From Leadville to Aspen: A Hold-Up in the Rockies</td>\n",
       "      <td>The film features a train traveling through th...</td>\n",
       "      <td>short action/crime western</td>\n",
       "      <td>short action action action</td>\n",
       "      <td>[action, short]</td>\n",
       "    </tr>\n",
       "    <tr>\n",
       "      <th>12</th>\n",
       "      <td>Kathleen Mavourneen</td>\n",
       "      <td>Irish villager Kathleen is a tenant of Captain...</td>\n",
       "      <td>short film</td>\n",
       "      <td>short</td>\n",
       "      <td>[short]</td>\n",
       "    </tr>\n",
       "    <tr>\n",
       "      <th>13</th>\n",
       "      <td>Daniel Boone</td>\n",
       "      <td>Boone's daughter befriends an Indian maiden as...</td>\n",
       "      <td>biographical</td>\n",
       "      <td>cultural</td>\n",
       "      <td>[cultural]</td>\n",
       "    </tr>\n",
       "    <tr>\n",
       "      <th>14</th>\n",
       "      <td>How Brown Saw the Baseball Game</td>\n",
       "      <td>Before heading out to a baseball game at a nea...</td>\n",
       "      <td>comedy</td>\n",
       "      <td>comedy</td>\n",
       "      <td>[comedy]</td>\n",
       "    </tr>\n",
       "    <tr>\n",
       "      <th>15</th>\n",
       "      <td>Laughing Gas</td>\n",
       "      <td>The plot is that of a black woman going to the...</td>\n",
       "      <td>comedy</td>\n",
       "      <td>comedy</td>\n",
       "      <td>[comedy]</td>\n",
       "    </tr>\n",
       "    <tr>\n",
       "      <th>16</th>\n",
       "      <td>The Adventures of Dollie</td>\n",
       "      <td>On a beautiful summer day a father and mother ...</td>\n",
       "      <td>drama</td>\n",
       "      <td>drama</td>\n",
       "      <td>[drama]</td>\n",
       "    </tr>\n",
       "    <tr>\n",
       "      <th>17</th>\n",
       "      <td>The Black Viper</td>\n",
       "      <td>A thug accosts a girl as she leaves her workpl...</td>\n",
       "      <td>drama</td>\n",
       "      <td>drama</td>\n",
       "      <td>[drama]</td>\n",
       "    </tr>\n",
       "    <tr>\n",
       "      <th>18</th>\n",
       "      <td>A Calamitous Elopement</td>\n",
       "      <td>A young couple decides to elope after being ca...</td>\n",
       "      <td>comedy</td>\n",
       "      <td>comedy</td>\n",
       "      <td>[comedy]</td>\n",
       "    </tr>\n",
       "    <tr>\n",
       "      <th>19</th>\n",
       "      <td>The Call of the Wild</td>\n",
       "      <td>A white girl (Florence Lawrence) rejects a pro...</td>\n",
       "      <td>adventure</td>\n",
       "      <td>action</td>\n",
       "      <td>[action]</td>\n",
       "    </tr>\n",
       "  </tbody>\n",
       "</table>\n",
       "</div>"
      ],
      "text/plain": [
       "                                                Title  \\\n",
       "0                              Kansas Saloon Smashers   \n",
       "1                       Love by the Light of the Moon   \n",
       "2                             The Martyred Presidents   \n",
       "3                    Terrible Teddy, the Grizzly King   \n",
       "4                              Jack and the Beanstalk   \n",
       "5                                 Alice in Wonderland   \n",
       "6                             The Great Train Robbery   \n",
       "7                                     The Suburbanite   \n",
       "8                            The Little Train Robbery   \n",
       "9                          The Night Before Christmas   \n",
       "10                           Dream of a Rarebit Fiend   \n",
       "11  From Leadville to Aspen: A Hold-Up in the Rockies   \n",
       "12                                Kathleen Mavourneen   \n",
       "13                                       Daniel Boone   \n",
       "14                    How Brown Saw the Baseball Game   \n",
       "15                                       Laughing Gas   \n",
       "16                           The Adventures of Dollie   \n",
       "17                                    The Black Viper   \n",
       "18                             A Calamitous Elopement   \n",
       "19                               The Call of the Wild   \n",
       "\n",
       "                                                 Plot  \\\n",
       "0   A bartender is working at a saloon, serving dr...   \n",
       "1   The moon, painted with a smiling face hangs ov...   \n",
       "2   The film, just over a minute long, is composed...   \n",
       "3   Lasting just 61 seconds and consisting of two ...   \n",
       "4   The earliest known adaptation of the classic f...   \n",
       "5   Alice follows a large white rabbit down a \"Rab...   \n",
       "6   The film opens with two bandits breaking into ...   \n",
       "7   The film is about a family who move to the sub...   \n",
       "8   The opening scene shows the interior of the ro...   \n",
       "9   Scenes are introduced using lines of the poem....   \n",
       "10  The Rarebit Fiend gorges on Welsh rarebit at a...   \n",
       "11  The film features a train traveling through th...   \n",
       "12  Irish villager Kathleen is a tenant of Captain...   \n",
       "13  Boone's daughter befriends an Indian maiden as...   \n",
       "14  Before heading out to a baseball game at a nea...   \n",
       "15  The plot is that of a black woman going to the...   \n",
       "16  On a beautiful summer day a father and mother ...   \n",
       "17  A thug accosts a girl as she leaves her workpl...   \n",
       "18  A young couple decides to elope after being ca...   \n",
       "19  A white girl (Florence Lawrence) rejects a pro...   \n",
       "\n",
       "                         Genre              GenreCorrected      GenreListed  \n",
       "0                      unknown                                           []  \n",
       "1                      unknown                                           []  \n",
       "2                      unknown                                           []  \n",
       "3                      unknown                                           []  \n",
       "4                      unknown                                           []  \n",
       "5                      unknown                                           []  \n",
       "6                      western                      action         [action]  \n",
       "7                       comedy                      comedy         [comedy]  \n",
       "8                      unknown                                           []  \n",
       "9                      unknown                                           []  \n",
       "10                       short                       short          [short]  \n",
       "11  short action/crime western  short action action action  [action, short]  \n",
       "12                  short film                      short           [short]  \n",
       "13                biographical                    cultural       [cultural]  \n",
       "14                      comedy                      comedy         [comedy]  \n",
       "15                      comedy                      comedy         [comedy]  \n",
       "16                       drama                       drama          [drama]  \n",
       "17                       drama                       drama          [drama]  \n",
       "18                      comedy                      comedy         [comedy]  \n",
       "19                   adventure                      action         [action]  "
      ]
     },
     "execution_count": 6,
     "metadata": {},
     "output_type": "execute_result"
    }
   ],
   "source": [
    "## Automatic harmonization of categories and listing of them\n",
    "\n",
    "nlp = spacy.load(\"en_core_web_sm\")\n",
    "\n",
    "movies['GenreListed'] = movies['GenreCorrected']\n",
    "\n",
    "for genre in movies['GenreCorrected'].unique():\n",
    "  tokens = nlp(genre)\n",
    "  listed_genre = [token.lemma_.lower() for token in tokens if not token.is_punct and not token.is_digit and not token.is_space and not token.is_stop]\n",
    "  for i in np.where(movies['GenreCorrected']==genre)[0]:\n",
    "    movies.at[i,'GenreListed'] = np.unique(np.array(listed_genre))\n",
    "\n",
    "movies.head(20)"
   ]
  },
  {
   "cell_type": "code",
   "execution_count": 7,
   "metadata": {
    "colab": {},
    "colab_type": "code",
    "id": "MjqUAKEZHvtU"
   },
   "outputs": [],
   "source": [
    "# Saving of all film\n",
    "movies[['Title','Genre','GenreCorrected','GenreListed']].to_csv('completGenres.csv')\n",
    "\n",
    "if IN_COLAB:\n",
    "    files.download('completGenres.csv') "
   ]
  },
  {
   "cell_type": "code",
   "execution_count": 8,
   "metadata": {
    "colab": {},
    "colab_type": "code",
    "id": "vEwfiwNzRpJj"
   },
   "outputs": [
    {
     "ename": "KeyboardInterrupt",
     "evalue": "",
     "output_type": "error",
     "traceback": [
      "\u001b[1;31m---------------------------------------------------------------------------\u001b[0m",
      "\u001b[1;31mKeyboardInterrupt\u001b[0m                         Traceback (most recent call last)",
      "\u001b[1;32m<ipython-input-8-df3a01b6c6b3>\u001b[0m in \u001b[0;36m<module>\u001b[1;34m\u001b[0m\n\u001b[0;32m      2\u001b[0m \u001b[0mgenres_array\u001b[0m \u001b[1;33m=\u001b[0m \u001b[0mnp\u001b[0m\u001b[1;33m.\u001b[0m\u001b[0marray\u001b[0m\u001b[1;33m(\u001b[0m\u001b[1;33m[\u001b[0m\u001b[1;33m]\u001b[0m\u001b[1;33m)\u001b[0m\u001b[1;33m\u001b[0m\u001b[1;33m\u001b[0m\u001b[0m\n\u001b[0;32m      3\u001b[0m \u001b[1;32mfor\u001b[0m \u001b[0mgenre\u001b[0m \u001b[1;32min\u001b[0m \u001b[0mmovies\u001b[0m\u001b[1;33m[\u001b[0m\u001b[1;34m'GenreListed'\u001b[0m\u001b[1;33m]\u001b[0m\u001b[1;33m:\u001b[0m\u001b[1;33m\u001b[0m\u001b[1;33m\u001b[0m\u001b[0m\n\u001b[1;32m----> 4\u001b[1;33m     \u001b[0mgenres_array\u001b[0m \u001b[1;33m=\u001b[0m \u001b[0mnp\u001b[0m\u001b[1;33m.\u001b[0m\u001b[0mconcatenate\u001b[0m\u001b[1;33m(\u001b[0m\u001b[1;33m(\u001b[0m\u001b[0mgenres_array\u001b[0m\u001b[1;33m,\u001b[0m \u001b[0mgenre\u001b[0m \u001b[1;33m)\u001b[0m\u001b[1;33m)\u001b[0m\u001b[1;33m\u001b[0m\u001b[1;33m\u001b[0m\u001b[0m\n\u001b[0m\u001b[0;32m      5\u001b[0m \u001b[0muniqueGenre\u001b[0m\u001b[1;33m,\u001b[0m \u001b[0muniqueGenreCount\u001b[0m \u001b[1;33m=\u001b[0m \u001b[0mnp\u001b[0m\u001b[1;33m.\u001b[0m\u001b[0munique\u001b[0m\u001b[1;33m(\u001b[0m\u001b[0mgenres_array\u001b[0m\u001b[1;33m,\u001b[0m \u001b[0mreturn_counts\u001b[0m\u001b[1;33m=\u001b[0m\u001b[1;32mTrue\u001b[0m\u001b[1;33m)\u001b[0m\u001b[1;33m\u001b[0m\u001b[1;33m\u001b[0m\u001b[0m\n\u001b[0;32m      6\u001b[0m \u001b[0mprint\u001b[0m\u001b[1;33m(\u001b[0m\u001b[1;34mf\"Nombre de catégories: {len(uniqueGenre)}\"\u001b[0m\u001b[1;33m)\u001b[0m\u001b[1;33m\u001b[0m\u001b[1;33m\u001b[0m\u001b[0m\n",
      "\u001b[1;32m<__array_function__ internals>\u001b[0m in \u001b[0;36mconcatenate\u001b[1;34m(*args, **kwargs)\u001b[0m\n",
      "\u001b[1;31mKeyboardInterrupt\u001b[0m: "
     ]
    }
   ],
   "source": [
    "## Listing of all unique categories and their occurrence\n",
    "genres_array = np.array([])\n",
    "for genre in movies['GenreListed']:\n",
    "    genres_array = np.concatenate((genres_array, genre ))\n",
    "uniqueGenre, uniqueGenreCount = np.unique(genres_array, return_counts=True)\n",
    "print(f\"Nombre de catégories: {len(uniqueGenre)}\")"
   ]
  },
  {
   "cell_type": "code",
   "execution_count": null,
   "metadata": {
    "colab": {
     "base_uri": "https://localhost:8080/",
     "height": 34
    },
    "colab_type": "code",
    "id": "Bbpc8aUdU5XQ",
    "outputId": "0407206b-1194-4cde-ae90-1d7e61b3a025"
   },
   "outputs": [],
   "source": [
    "# Saving of unique categories\n",
    "genres = pd.DataFrame({'Genre':uniqueGenre, 'Count':uniqueGenreCount}).sort_values(by=['Count'], ascending = False, ignore_index=True)\n",
    "genres.to_csv('uniqueGenres.csv')\n",
    "\n",
    "if IN_COLAB:\n",
    "    files.download('uniqueGenres.csv') "
   ]
  },
  {
   "cell_type": "code",
   "execution_count": null,
   "metadata": {
    "colab": {
     "base_uri": "https://localhost:8080/",
     "height": 393
    },
    "colab_type": "code",
    "id": "FKebEmsFc_Qr",
    "outputId": "8d6f7e8c-0d08-4023-ea35-52f919672f79"
   },
   "outputs": [],
   "source": [
    "## Show 10 main categories\n",
    "mainGenres = genres.loc[:9,:]\n",
    "mainGenres.plot(x='Genre', y='Count', kind='bar', legend=False, grid=True, figsize=(8, 5))\n",
    "plt.title(\"Number of movies per genre\")\n",
    "plt.ylabel('# of Occurrences', fontsize=12)\n",
    "plt.xlabel('Movie genres', fontsize=12)\n",
    "plt.show()"
   ]
  },
  {
   "cell_type": "code",
   "execution_count": null,
   "metadata": {
    "colab": {
     "base_uri": "https://localhost:8080/",
     "height": 51
    },
    "colab_type": "code",
    "id": "gnpR6XiRghe7",
    "outputId": "a762b888-394a-4737-88ed-28ecf06114ef"
   },
   "outputs": [],
   "source": [
    "## Keep only the main categories\n",
    "movies['MainGenre'] = movies['GenreListed'].apply(lambda x: x[np.in1d(x,mainGenres)])"
   ]
  },
  {
   "cell_type": "code",
   "execution_count": null,
   "metadata": {
    "colab": {
     "base_uri": "https://localhost:8080/",
     "height": 51
    },
    "colab_type": "code",
    "id": "18WMNNb4jPE6",
    "outputId": "0298784d-883f-483b-c2d2-342b95e01be8"
   },
   "outputs": [],
   "source": [
    "## Keep only films with categories\n",
    "print(movies.shape)\n",
    "selectedMovies = movies[movies['MainGenre'].apply(len)>0]\n",
    "print(selectedMovies.shape)"
   ]
  },
  {
   "cell_type": "code",
   "execution_count": null,
   "metadata": {
    "colab": {
     "base_uri": "https://localhost:8080/",
     "height": 136
    },
    "colab_type": "code",
    "id": "lAAhgmgLWs-0",
    "outputId": "d6780ab2-e360-4449-88c4-8a7dfd2c8fa6"
   },
   "outputs": [],
   "source": [
    "%%time\n",
    "# Creat the output layer with all categories\n",
    "\n",
    "categoriesVector = np.stack(selectedMovies['MainGenre'].apply(lambda x: np.isin(mainGenres['Genre'],x))*1)\n",
    "categoriesVector"
   ]
  },
  {
   "cell_type": "code",
   "execution_count": null,
   "metadata": {
    "colab": {},
    "colab_type": "code",
    "id": "mov-95QSuiC5"
   },
   "outputs": [],
   "source": [
    "np.savetxt('categoriesVector.csv', categoriesVector, delimiter=',')\n",
    "\n",
    "if IN_COLAB:\n",
    "    files.download('categoriesVector.csv') "
   ]
  },
  {
   "cell_type": "markdown",
   "metadata": {
    "colab_type": "text",
    "id": "JG12JVrgY605"
   },
   "source": [
    "## Splitting The Data into Training and Test Sets"
   ]
  },
  {
   "cell_type": "code",
   "execution_count": null,
   "metadata": {
    "colab": {},
    "colab_type": "code",
    "id": "IBVYVCJDY6KP"
   },
   "outputs": [],
   "source": [
    "rawPlot_train, rawPlot_test, cat_train, cat_test = train_test_split(selectedMovies['Plot'], categoriesVector, train_size=0.8, shuffle=True) #80% 20%"
   ]
  },
  {
   "cell_type": "markdown",
   "metadata": {
    "colab_type": "text",
    "id": "YjFt_cmls9QE"
   },
   "source": [
    "## Plot preparation"
   ]
  },
  {
   "cell_type": "code",
   "execution_count": null,
   "metadata": {
    "colab": {},
    "colab_type": "code",
    "id": "byfYzECOtm2X"
   },
   "outputs": [],
   "source": [
    "def plotTokenizer(plot):\n",
    "  tokens = nlp(plot)\n",
    "  return [token.lemma_.lower() for token in tokens if not token.is_punct and not token.is_digit and not token.is_space and not token.is_stop]"
   ]
  },
  {
   "cell_type": "code",
   "execution_count": null,
   "metadata": {
    "colab": {},
    "colab_type": "code",
    "id": "1429_LemaL0O"
   },
   "outputs": [],
   "source": [
    "plotVectorizer  = TfidfVectorizer(tokenizer = plotTokenizer, min_df=3, max_features=10000)"
   ]
  },
  {
   "cell_type": "code",
   "execution_count": null,
   "metadata": {
    "colab": {
     "base_uri": "https://localhost:8080/",
     "height": 377
    },
    "colab_type": "code",
    "id": "QJyiGfuPiE0w",
    "outputId": "89eb7b80-4d91-410a-aeed-78613fc7f8c0"
   },
   "outputs": [],
   "source": [
    "%%time\n",
    "# Learn vocabulary from training texts and vectorize training texts.\n",
    "%store -r plot_train\n",
    "# plot_train = plotVectorizer.fit_transform(rawPlot_train)"
   ]
  },
  {
   "cell_type": "code",
   "execution_count": null,
   "metadata": {
    "colab": {
     "base_uri": "https://localhost:8080/",
     "height": 34
    },
    "colab_type": "code",
    "id": "KcP6nLeVv1bf",
    "outputId": "9477a546-3255-4499-a954-29a892b82c7f"
   },
   "outputs": [],
   "source": [
    "# Vectorize validation texts.\n",
    "plot_test = vectorizer.transform(rawPlot_test)"
   ]
  },
  {
   "cell_type": "code",
   "execution_count": null,
   "metadata": {
    "colab": {
     "base_uri": "https://localhost:8080/",
     "height": 323
    },
    "colab_type": "code",
    "id": "MNLZwBj1t8Xw",
    "outputId": "a442c263-c114-43f3-9d92-47737b9b3019"
   },
   "outputs": [],
   "source": [
    "np.savetxt('plotVector.csv', plotVector, delimiter=',')\n"
   ]
  },
  {
   "cell_type": "code",
   "execution_count": null,
   "metadata": {
    "colab": {
     "base_uri": "https://localhost:8080/",
     "height": 306
    },
    "colab_type": "code",
    "id": "QRU5vyLfvs4d",
    "outputId": "8b6afe4b-7c6d-4f0b-b695-32abe620c80b"
   },
   "outputs": [],
   "source": [
    "files.download('plotVector.csv') "
   ]
  },
  {
   "cell_type": "markdown",
   "metadata": {
    "colab_type": "text",
    "id": "pWUfXapFinpV"
   },
   "source": []
  },
  {
   "cell_type": "code",
   "execution_count": null,
   "metadata": {},
   "outputs": [],
   "source": []
  },
  {
   "cell_type": "code",
   "execution_count": null,
   "metadata": {},
   "outputs": [
    {
     "name": "stderr",
     "output_type": "stream",
     "text": [
      "C:\\Anaconda3\\lib\\runpy.py:193: UserWarning: [W011] It looks like you're calling displacy.serve from within a Jupyter notebook or a similar environment. This likely means you're already running a local web server, so there's no need to make displaCy start another one. Instead, you should be able to replace displacy.serve with displacy.render to show the visualization.\n",
      "  \"__main__\", mod_spec)\n",
      "C:\\Anaconda3\\lib\\runpy.py:193: UserWarning: [W006] No entities to visualize found in Doc object. If this is surprising to you, make sure the Doc was processed using a model that supports named entity recognition, and check the `doc.ents` property manually if necessary.\n",
      "  \"__main__\", mod_spec)\n"
     ]
    },
    {
     "data": {
      "text/html": [
       "<span class=\"tex2jax_ignore\"><!DOCTYPE html>\n",
       "<html lang=\"en\">\n",
       "    <head>\n",
       "        <title>displaCy</title>\n",
       "    </head>\n",
       "\n",
       "    <body style=\"font-size: 16px; font-family: -apple-system, BlinkMacSystemFont, 'Segoe UI', Helvetica, Arial, sans-serif, 'Apple Color Emoji', 'Segoe UI Emoji', 'Segoe UI Symbol'; padding: 4rem 2rem; direction: ltr\">\n",
       "<figure style=\"margin-bottom: 6rem\">\n",
       "<div class=\"entities\" style=\"line-height: 2.5; direction: ltr\">Nice to meet you! Do you know where the HEIG-VD is?”</div>\n",
       "</figure>\n",
       "</body>\n",
       "</html></span>"
      ],
      "text/plain": [
       "<IPython.core.display.HTML object>"
      ]
     },
     "metadata": {},
     "output_type": "display_data"
    },
    {
     "name": "stdout",
     "output_type": "stream",
     "text": [
      "\n",
      "Using the 'ent' visualizer\n",
      "Serving on http://0.0.0.0:5000 ...\n",
      "\n"
     ]
    }
   ],
   "source": [
    "import spacy\n",
    "from spacy import displacy\n",
    "\n",
    "text = \"Nice to meet you! Do you know where the HEIG-VD is?”\"\n",
    "\n",
    "nlp = spacy.load(\"en_core_web_sm\")\n",
    "doc = nlp(text)\n",
    "displacy.serve(doc, style=\"ent\")"
   ]
  },
  {
   "cell_type": "code",
   "execution_count": null,
   "metadata": {},
   "outputs": [],
   "source": []
  }
 ],
 "metadata": {
  "colab": {
   "collapsed_sections": [],
   "include_colab_link": true,
   "name": "movie-chatbot.ipynb",
   "provenance": []
  },
  "kernelspec": {
   "display_name": "Python 3",
   "language": "python",
   "name": "python3"
  },
  "language_info": {
   "codemirror_mode": {
    "name": "ipython",
    "version": 3
   },
   "file_extension": ".py",
   "mimetype": "text/x-python",
   "name": "python",
   "nbconvert_exporter": "python",
   "pygments_lexer": "ipython3",
   "version": "3.7.7"
  }
 },
 "nbformat": 4,
 "nbformat_minor": 4
}
