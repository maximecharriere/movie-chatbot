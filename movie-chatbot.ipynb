{
  "nbformat": 4,
  "nbformat_minor": 0,
  "metadata": {
    "colab": {
      "name": "movie-chatbot.ipynb",
      "provenance": [],
      "collapsed_sections": [],
      "include_colab_link": true
    },
    "kernelspec": {
      "name": "python3",
      "display_name": "Python 3"
    }
  },
  "cells": [
    {
      "cell_type": "markdown",
      "metadata": {
        "id": "view-in-github",
        "colab_type": "text"
      },
      "source": [
        "<a href=\"https://colab.research.google.com/github/maximecharriere/movie-chatbot/blob/master/movie-chatbot.ipynb\" target=\"_parent\"><img src=\"https://colab.research.google.com/assets/colab-badge.svg\" alt=\"Open In Colab\"/></a>"
      ]
    },
    {
      "cell_type": "markdown",
      "metadata": {
        "id": "DVy8nkPvIWuW",
        "colab_type": "text"
      },
      "source": [
        "# **Chatbot cinéphile - WELCOME**\n",
        "*Par Dylan **Morocutti** et Maxime **Charrière**.*"
      ]
    },
    {
      "cell_type": "markdown",
      "metadata": {
        "id": "KA-L_QLZnwIP",
        "colab_type": "text"
      },
      "source": [
        "# Libraries importation"
      ]
    },
    {
      "cell_type": "code",
      "metadata": {
        "id": "h_xI7FpYn3Oj",
        "colab_type": "code",
        "outputId": "83d8d69d-fb28-4a26-d979-2fb23149c80d",
        "colab": {
          "base_uri": "https://localhost:8080/",
          "height": 102
        }
      },
      "source": [
        "try:\n",
        "    from google.colab import files\n",
        "    IN_COLAB = True\n",
        "except:\n",
        "    IN_COLAB = False\n",
        "\n",
        "\n",
        "import numpy as np\n",
        "# import tensorflow as tf\n",
        "import matplotlib\n",
        "import matplotlib.pyplot as plt\n",
        "# import nltk\n",
        "# from nltk.corpus import treebank, nps_chat\n",
        "# from nltk.cluster import KMeansClusterer\n",
        "import pandas as pd\n",
        "# import gensim\n",
        "# from gensim.models import Word2Vec\n",
        "# import sklearn\n",
        "# from sklearn.feature_extraction.text import TfidfVectorizer\n",
        "# from sklearn.feature_extraction.text import CountVectorizer\n",
        "# from sklearn.model_selection import train_test_split\n",
        "# from sklearn import cluster\n",
        "# from sklearn import metrics\n",
        "import spacy\n",
        "\n",
        "nlp = spacy.load(\"en_core_web_sm\")\n",
        "\n",
        "print(\"Libraries version:\")\n",
        "print(f\"Numpy:      {np.__version__}\")\n",
        "print(f\"Matplotlib: {matplotlib.__version__}\")\n",
        "# print(f\"Tensorflow: {tf.__version__}\")\n",
        "# print(f\"NLTK:       {nltk.__version__}\")\n",
        "print(f\"Pandas:     {pd.__version__}\")\n",
        "# print(f\"Gensim:     {gensim.__version__}\")\n",
        "# print(f\"Sklearn:    {sklearn.__version__}\")\n",
        "print(f\"Spacy:      {spacy.__version__}\")"
      ],
      "execution_count": 1,
      "outputs": [
        {
          "output_type": "stream",
          "text": [
            "Libraries version:\n",
            "Numpy:      1.18.5\n",
            "Matplotlib: 3.2.1\n",
            "Pandas:     1.0.4\n",
            "Spacy:      2.2.4\n"
          ],
          "name": "stdout"
        }
      ]
    },
    {
      "cell_type": "markdown",
      "metadata": {
        "id": "vx_bk4c7icg8",
        "colab_type": "text"
      },
      "source": [
        "## Data preparation"
      ]
    },
    {
      "cell_type": "code",
      "metadata": {
        "id": "qHJf9cVGXUtE",
        "colab_type": "code",
        "outputId": "3d4c2287-3469-431c-aefb-91ebd40432e1",
        "colab": {
          "base_uri": "https://localhost:8080/",
          "height": 357
        }
      },
      "source": [
        "## Data importation\n",
        "if IN_COLAB :\n",
        "    url_movie_wiki = \"https://raw.githubusercontent.com/maximecharriere/movie-chatbot/master/data/movie_wiki_infos/wiki_movie_plots_deduped.csv\"\n",
        "else:\n",
        "    url_movie_wiki = \"data/movie_wiki_infos/wiki_movie_plots_deduped.csv\"\n",
        "    \n",
        "movies = pd.read_csv(url_movie_wiki, sep=',', engine='python')[['Title','Plot','Genre']]\n",
        "movies.head(20)"
      ],
      "execution_count": 2,
      "outputs": [
        {
          "output_type": "error",
          "ename": "KeyboardInterrupt",
          "evalue": "ignored",
          "traceback": [
            "\u001b[0;31m---------------------------------------------------------------------------\u001b[0m",
            "\u001b[0;31mKeyboardInterrupt\u001b[0m                         Traceback (most recent call last)",
            "\u001b[0;32m<ipython-input-2-a06e951e3620>\u001b[0m in \u001b[0;36m<module>\u001b[0;34m()\u001b[0m\n\u001b[1;32m      5\u001b[0m     \u001b[0murl_movie_wiki\u001b[0m \u001b[0;34m=\u001b[0m \u001b[0;34m\"data/movie_wiki_infos/wiki_movie_plots_deduped.csv\"\u001b[0m\u001b[0;34m\u001b[0m\u001b[0;34m\u001b[0m\u001b[0m\n\u001b[1;32m      6\u001b[0m \u001b[0;34m\u001b[0m\u001b[0m\n\u001b[0;32m----> 7\u001b[0;31m \u001b[0mmovies\u001b[0m \u001b[0;34m=\u001b[0m \u001b[0mpd\u001b[0m\u001b[0;34m.\u001b[0m\u001b[0mread_csv\u001b[0m\u001b[0;34m(\u001b[0m\u001b[0murl_movie_wiki\u001b[0m\u001b[0;34m,\u001b[0m \u001b[0msep\u001b[0m\u001b[0;34m=\u001b[0m\u001b[0;34m','\u001b[0m\u001b[0;34m,\u001b[0m \u001b[0mengine\u001b[0m\u001b[0;34m=\u001b[0m\u001b[0;34m'python'\u001b[0m\u001b[0;34m)\u001b[0m\u001b[0;34m[\u001b[0m\u001b[0;34m[\u001b[0m\u001b[0;34m'Title'\u001b[0m\u001b[0;34m,\u001b[0m\u001b[0;34m'Plot'\u001b[0m\u001b[0;34m,\u001b[0m\u001b[0;34m'Genre'\u001b[0m\u001b[0;34m]\u001b[0m\u001b[0;34m]\u001b[0m\u001b[0;34m\u001b[0m\u001b[0;34m\u001b[0m\u001b[0m\n\u001b[0m\u001b[1;32m      8\u001b[0m \u001b[0mmovies\u001b[0m\u001b[0;34m.\u001b[0m\u001b[0mhead\u001b[0m\u001b[0;34m(\u001b[0m\u001b[0;36m20\u001b[0m\u001b[0;34m)\u001b[0m\u001b[0;34m\u001b[0m\u001b[0;34m\u001b[0m\u001b[0m\n",
            "\u001b[0;32m/usr/local/lib/python3.6/dist-packages/pandas/io/parsers.py\u001b[0m in \u001b[0;36mparser_f\u001b[0;34m(filepath_or_buffer, sep, delimiter, header, names, index_col, usecols, squeeze, prefix, mangle_dupe_cols, dtype, engine, converters, true_values, false_values, skipinitialspace, skiprows, skipfooter, nrows, na_values, keep_default_na, na_filter, verbose, skip_blank_lines, parse_dates, infer_datetime_format, keep_date_col, date_parser, dayfirst, cache_dates, iterator, chunksize, compression, thousands, decimal, lineterminator, quotechar, quoting, doublequote, escapechar, comment, encoding, dialect, error_bad_lines, warn_bad_lines, delim_whitespace, low_memory, memory_map, float_precision)\u001b[0m\n\u001b[1;32m    674\u001b[0m         )\n\u001b[1;32m    675\u001b[0m \u001b[0;34m\u001b[0m\u001b[0m\n\u001b[0;32m--> 676\u001b[0;31m         \u001b[0;32mreturn\u001b[0m \u001b[0m_read\u001b[0m\u001b[0;34m(\u001b[0m\u001b[0mfilepath_or_buffer\u001b[0m\u001b[0;34m,\u001b[0m \u001b[0mkwds\u001b[0m\u001b[0;34m)\u001b[0m\u001b[0;34m\u001b[0m\u001b[0;34m\u001b[0m\u001b[0m\n\u001b[0m\u001b[1;32m    677\u001b[0m \u001b[0;34m\u001b[0m\u001b[0m\n\u001b[1;32m    678\u001b[0m     \u001b[0mparser_f\u001b[0m\u001b[0;34m.\u001b[0m\u001b[0m__name__\u001b[0m \u001b[0;34m=\u001b[0m \u001b[0mname\u001b[0m\u001b[0;34m\u001b[0m\u001b[0;34m\u001b[0m\u001b[0m\n",
            "\u001b[0;32m/usr/local/lib/python3.6/dist-packages/pandas/io/parsers.py\u001b[0m in \u001b[0;36m_read\u001b[0;34m(filepath_or_buffer, kwds)\u001b[0m\n\u001b[1;32m    429\u001b[0m     \u001b[0;31m# See https://github.com/python/mypy/issues/1297\u001b[0m\u001b[0;34m\u001b[0m\u001b[0;34m\u001b[0m\u001b[0;34m\u001b[0m\u001b[0m\n\u001b[1;32m    430\u001b[0m     fp_or_buf, _, compression, should_close = get_filepath_or_buffer(\n\u001b[0;32m--> 431\u001b[0;31m         \u001b[0mfilepath_or_buffer\u001b[0m\u001b[0;34m,\u001b[0m \u001b[0mencoding\u001b[0m\u001b[0;34m,\u001b[0m \u001b[0mcompression\u001b[0m\u001b[0;34m\u001b[0m\u001b[0;34m\u001b[0m\u001b[0m\n\u001b[0m\u001b[1;32m    432\u001b[0m     )\n\u001b[1;32m    433\u001b[0m     \u001b[0mkwds\u001b[0m\u001b[0;34m[\u001b[0m\u001b[0;34m\"compression\"\u001b[0m\u001b[0;34m]\u001b[0m \u001b[0;34m=\u001b[0m \u001b[0mcompression\u001b[0m\u001b[0;34m\u001b[0m\u001b[0;34m\u001b[0m\u001b[0m\n",
            "\u001b[0;32m/usr/local/lib/python3.6/dist-packages/pandas/io/common.py\u001b[0m in \u001b[0;36mget_filepath_or_buffer\u001b[0;34m(filepath_or_buffer, encoding, compression, mode)\u001b[0m\n\u001b[1;32m    202\u001b[0m             \u001b[0;31m# Override compression based on Content-Encoding header\u001b[0m\u001b[0;34m\u001b[0m\u001b[0;34m\u001b[0m\u001b[0;34m\u001b[0m\u001b[0m\n\u001b[1;32m    203\u001b[0m             \u001b[0mcompression\u001b[0m \u001b[0;34m=\u001b[0m \u001b[0;34m\"gzip\"\u001b[0m\u001b[0;34m\u001b[0m\u001b[0;34m\u001b[0m\u001b[0m\n\u001b[0;32m--> 204\u001b[0;31m         \u001b[0mreader\u001b[0m \u001b[0;34m=\u001b[0m \u001b[0mBytesIO\u001b[0m\u001b[0;34m(\u001b[0m\u001b[0mreq\u001b[0m\u001b[0;34m.\u001b[0m\u001b[0mread\u001b[0m\u001b[0;34m(\u001b[0m\u001b[0;34m)\u001b[0m\u001b[0;34m)\u001b[0m\u001b[0;34m\u001b[0m\u001b[0;34m\u001b[0m\u001b[0m\n\u001b[0m\u001b[1;32m    205\u001b[0m         \u001b[0mreq\u001b[0m\u001b[0;34m.\u001b[0m\u001b[0mclose\u001b[0m\u001b[0;34m(\u001b[0m\u001b[0;34m)\u001b[0m\u001b[0;34m\u001b[0m\u001b[0;34m\u001b[0m\u001b[0m\n\u001b[1;32m    206\u001b[0m         \u001b[0;32mreturn\u001b[0m \u001b[0mreader\u001b[0m\u001b[0;34m,\u001b[0m \u001b[0mencoding\u001b[0m\u001b[0;34m,\u001b[0m \u001b[0mcompression\u001b[0m\u001b[0;34m,\u001b[0m \u001b[0;32mTrue\u001b[0m\u001b[0;34m\u001b[0m\u001b[0;34m\u001b[0m\u001b[0m\n",
            "\u001b[0;32m/usr/lib/python3.6/http/client.py\u001b[0m in \u001b[0;36mread\u001b[0;34m(self, amt)\u001b[0m\n\u001b[1;32m    470\u001b[0m             \u001b[0;32melse\u001b[0m\u001b[0;34m:\u001b[0m\u001b[0;34m\u001b[0m\u001b[0;34m\u001b[0m\u001b[0m\n\u001b[1;32m    471\u001b[0m                 \u001b[0;32mtry\u001b[0m\u001b[0;34m:\u001b[0m\u001b[0;34m\u001b[0m\u001b[0;34m\u001b[0m\u001b[0m\n\u001b[0;32m--> 472\u001b[0;31m                     \u001b[0ms\u001b[0m \u001b[0;34m=\u001b[0m \u001b[0mself\u001b[0m\u001b[0;34m.\u001b[0m\u001b[0m_safe_read\u001b[0m\u001b[0;34m(\u001b[0m\u001b[0mself\u001b[0m\u001b[0;34m.\u001b[0m\u001b[0mlength\u001b[0m\u001b[0;34m)\u001b[0m\u001b[0;34m\u001b[0m\u001b[0;34m\u001b[0m\u001b[0m\n\u001b[0m\u001b[1;32m    473\u001b[0m                 \u001b[0;32mexcept\u001b[0m \u001b[0mIncompleteRead\u001b[0m\u001b[0;34m:\u001b[0m\u001b[0;34m\u001b[0m\u001b[0;34m\u001b[0m\u001b[0m\n\u001b[1;32m    474\u001b[0m                     \u001b[0mself\u001b[0m\u001b[0;34m.\u001b[0m\u001b[0m_close_conn\u001b[0m\u001b[0;34m(\u001b[0m\u001b[0;34m)\u001b[0m\u001b[0;34m\u001b[0m\u001b[0;34m\u001b[0m\u001b[0m\n",
            "\u001b[0;32m/usr/lib/python3.6/http/client.py\u001b[0m in \u001b[0;36m_safe_read\u001b[0;34m(self, amt)\u001b[0m\n\u001b[1;32m    625\u001b[0m             \u001b[0ms\u001b[0m\u001b[0;34m.\u001b[0m\u001b[0mappend\u001b[0m\u001b[0;34m(\u001b[0m\u001b[0mchunk\u001b[0m\u001b[0;34m)\u001b[0m\u001b[0;34m\u001b[0m\u001b[0;34m\u001b[0m\u001b[0m\n\u001b[1;32m    626\u001b[0m             \u001b[0mamt\u001b[0m \u001b[0;34m-=\u001b[0m \u001b[0mlen\u001b[0m\u001b[0;34m(\u001b[0m\u001b[0mchunk\u001b[0m\u001b[0;34m)\u001b[0m\u001b[0;34m\u001b[0m\u001b[0;34m\u001b[0m\u001b[0m\n\u001b[0;32m--> 627\u001b[0;31m         \u001b[0;32mreturn\u001b[0m \u001b[0;34mb\"\"\u001b[0m\u001b[0;34m.\u001b[0m\u001b[0mjoin\u001b[0m\u001b[0;34m(\u001b[0m\u001b[0ms\u001b[0m\u001b[0;34m)\u001b[0m\u001b[0;34m\u001b[0m\u001b[0;34m\u001b[0m\u001b[0m\n\u001b[0m\u001b[1;32m    628\u001b[0m \u001b[0;34m\u001b[0m\u001b[0m\n\u001b[1;32m    629\u001b[0m     \u001b[0;32mdef\u001b[0m \u001b[0m_safe_readinto\u001b[0m\u001b[0;34m(\u001b[0m\u001b[0mself\u001b[0m\u001b[0;34m,\u001b[0m \u001b[0mb\u001b[0m\u001b[0;34m)\u001b[0m\u001b[0;34m:\u001b[0m\u001b[0;34m\u001b[0m\u001b[0;34m\u001b[0m\u001b[0m\n",
            "\u001b[0;31mKeyboardInterrupt\u001b[0m: "
          ]
        }
      ]
    },
    {
      "cell_type": "code",
      "metadata": {
        "id": "fqQirGYtXV9Q",
        "colab_type": "code",
        "colab": {}
      },
      "source": [
        "print(f\"Nombre de catégories: {len(movies['Genre'].value_counts())}\")"
      ],
      "execution_count": 0,
      "outputs": []
    },
    {
      "cell_type": "code",
      "metadata": {
        "id": "uUIW8nNcYl-N",
        "colab_type": "code",
        "colab": {}
      },
      "source": [
        "## Manual harmonization of categories\n",
        "\n",
        "movies['GenreCorrected']=movies['Genre'] \n",
        "movies['GenreCorrected']=movies['GenreCorrected'].str.replace('/', ' ')\n",
        "\n",
        "# Delete unwanted categories\n",
        "movies['GenreCorrected']=movies['GenreCorrected'].str.replace('unknown', '')\n",
        "movies['GenreCorrected']=movies['GenreCorrected'].str.replace('\\[not in citation given\\]','')\n",
        "movies['GenreCorrected']=movies['GenreCorrected'].str.replace('avant-garde','')\n",
        "movies['GenreCorrected']=movies['GenreCorrected'].str.replace('period','')\n",
        "movies['GenreCorrected']=movies['GenreCorrected'].str.replace('national','')\n",
        "movies['GenreCorrected']=movies['GenreCorrected'].str.replace('board','')\n",
        "movies['GenreCorrected']=movies['GenreCorrected'].str.replace('costume','')\n",
        "movies['GenreCorrected']=movies['GenreCorrected'].str.replace('movies','')\n",
        "movies['GenreCorrected']=movies['GenreCorrected'].str.replace('movie','')\n",
        "movies['GenreCorrected']=movies['GenreCorrected'].str.replace('films','')\n",
        "movies['GenreCorrected']=movies['GenreCorrected'].str.replace('film','')\n",
        "\n",
        "# Rename categories\n",
        "movies['GenreCorrected']=movies['GenreCorrected'].str.replace('bio-pic', 'biography')\n",
        "movies['GenreCorrected']=movies['GenreCorrected'].str.replace('biopic', 'biography')\n",
        "movies['GenreCorrected']=movies['GenreCorrected'].str.replace('biographical', 'biography')\n",
        "movies['GenreCorrected']=movies['GenreCorrected'].str.replace('biodrama', 'biography drama')\n",
        "movies['GenreCorrected']=movies['GenreCorrected'].str.replace('bio-drama', 'biography drama')\n",
        "movies['GenreCorrected']=movies['GenreCorrected'].str.replace('biographic', 'biography')\n",
        "movies['GenreCorrected']=movies['GenreCorrected'].str.replace('animated','animation')\n",
        "movies['GenreCorrected']=movies['GenreCorrected'].str.replace('anime','animation')\n",
        "movies['GenreCorrected']=movies['GenreCorrected'].str.replace('disaster','action')\n",
        "movies['GenreCorrected']=movies['GenreCorrected'].str.replace('comedey','comedy')\n",
        "movies['GenreCorrected']=movies['GenreCorrected'].str.replace('dramedy','comedy drama')\n",
        "movies['GenreCorrected']=movies['GenreCorrected'].str.replace('mockumentary','documentary')\n",
        "movies['GenreCorrected']=movies['GenreCorrected'].str.replace('historical','history')\n",
        "movies['GenreCorrected']=movies['GenreCorrected'].str.replace('historic','history')\n",
        "movies['GenreCorrected']=movies['GenreCorrected'].str.replace('prehistoric','history')\n",
        "movies['GenreCorrected']=movies['GenreCorrected'].str.replace('mythology','history')\n",
        "movies['GenreCorrected']=movies['GenreCorrected'].str.replace('romantic','romance')\n",
        "movies['GenreCorrected']=movies['GenreCorrected'].str.replace('3-d','animation')\n",
        "movies['GenreCorrected']=movies['GenreCorrected'].str.replace('3d','animation')\n",
        "movies['GenreCorrected']=movies['GenreCorrected'].str.replace('sci-fi','science_fiction')\n",
        "movies['GenreCorrected']=movies['GenreCorrected'].str.replace('ttriller','thriller')\n",
        "movies['GenreCorrected']=movies['GenreCorrected'].str.replace('sci fi','science_fiction')\n",
        "movies['GenreCorrected']=movies['GenreCorrected'].str.replace('science fiction','science_fiction')\n",
        "movies['GenreCorrected']=movies['GenreCorrected'].str.replace('kung fu','martial_arts')\n",
        "movies['GenreCorrected']=movies['GenreCorrected'].str.replace('kung-fu','martial_arts')\n",
        "movies['GenreCorrected']=movies['GenreCorrected'].str.replace('martial arts','martial_arts')\n",
        "movies['GenreCorrected']=movies['GenreCorrected'].str.replace('bruceploitation','martial_arts')\n",
        "movies['GenreCorrected']=movies['GenreCorrected'].str.replace('comedy-drama adaptation of the mordecai richler novel','comedy drama')\n",
        "movies['GenreCorrected']=movies['GenreCorrected'].str.replace('stop-motion','animation')\n",
        "movies['GenreCorrected']=movies['GenreCorrected'].str.replace('coming of age','coming_of_age')\n",
        "movies['GenreCorrected']=movies['GenreCorrected'].str.replace('coming-of-age','coming_of_age')\n",
        "movies['GenreCorrected']=movies['GenreCorrected'].str.replace('drama about child soldiers','drama')\n",
        "movies['GenreCorrected']=movies['GenreCorrected'].str.replace('melodrama','drama')\n",
        "movies['GenreCorrected']=movies['GenreCorrected'].str.replace('tv miniseries','serial')\n",
        "movies['GenreCorrected']=movies['GenreCorrected'].str.replace('television miniseries','serial')\n",
        "movies['GenreCorrected']=movies['GenreCorrected'].str.replace(\"war-time\",\"war\")\n",
        "movies['GenreCorrected']=movies['GenreCorrected'].str.replace(\"wartime\",\"war\")\n",
        "movies['GenreCorrected']=movies['GenreCorrected'].str.replace('world war ii','war')\n",
        "movies['GenreCorrected']=movies['GenreCorrected'].str.replace('world war i','war')\n",
        "movies['GenreCorrected']=movies['GenreCorrected'].str.replace(\"tokusatsu\",\"action\")\n",
        "movies['GenreCorrected']=movies['GenreCorrected'].str.replace(\"ww1\",\"war\")\n",
        "movies['GenreCorrected']=movies['GenreCorrected'].str.replace(\"wwii\",\"war\")\n",
        "movies['GenreCorrected']=movies['GenreCorrected'].str.replace('superheroes','superhero')\n",
        "movies['GenreCorrected']=movies['GenreCorrected'].str.replace('superheroe','superhero')\n",
        "movies['GenreCorrected']=movies['GenreCorrected'].str.replace('familya','family')\n",
        "movies['GenreCorrected']=movies['GenreCorrected'].str.replace('familydrama','family drama')\n",
        "movies['GenreCorrected']=movies['GenreCorrected'].str.replace('famil ','family')\n",
        "movies['GenreCorrected']=movies['GenreCorrected'].str.replace('espionage','spy')\n",
        "movies['GenreCorrected']=movies['GenreCorrected'].str.replace('noir','black')\n",
        "movies['GenreCorrected']=movies['GenreCorrected'].str.replace('dark','black')\n",
        "movies['GenreCorrected']=movies['GenreCorrected'].str.replace('psychological','psycho')\n",
        "movies['GenreCorrected']=movies['GenreCorrected'].str.replace('rom-com','romance')\n",
        "movies['GenreCorrected']=movies['GenreCorrected'].str.replace('gun fu','martial_arts')\n",
        "movies['GenreCorrected']=movies['GenreCorrected'].str.replace('docudrama','documentary drama')\n",
        "movies['GenreCorrected']=movies['GenreCorrected'].str.replace('football','sports')\n",
        "movies['GenreCorrected']=movies['GenreCorrected'].str.replace('martial art','martial_arts')\n",
        "movies['GenreCorrected']=movies['GenreCorrected'].str.replace('erotica','adult')\n",
        "movies['GenreCorrected']=movies['GenreCorrected'].str.replace('erotic','adult')\n",
        "movies['GenreCorrected']=movies['GenreCorrected'].str.replace('musical','music')\n",
        "movies['GenreCorrected']=movies['GenreCorrected'].str.replace('gangster','action')\n",
        "movies['GenreCorrected']=movies['GenreCorrected'].str.replace('swashbuckler','action')\n",
        "movies['GenreCorrected']=movies['GenreCorrected'].str.replace('police','action')\n",
        "movies['GenreCorrected']=movies['GenreCorrected'].str.replace('dance','sport')\n",
        "movies['GenreCorrected']=movies['GenreCorrected'].str.replace('sports','sport')\n",
        "movies['GenreCorrected']=movies['GenreCorrected'].str.replace('muslim','religious')\n",
        "movies['GenreCorrected']=movies['GenreCorrected'].str.replace('propaganda','political')\n",
        "movies['GenreCorrected']=movies['GenreCorrected'].str.replace('samurai','action')\n",
        "movies['GenreCorrected']=movies['GenreCorrected'].str.replace('sexploitation','adult')\n",
        "movies['GenreCorrected']=movies['GenreCorrected'].str.replace('homosexual','adult')\n",
        "movies['GenreCorrected']=movies['GenreCorrected'].str.replace('socio','social')\n",
        "movies['GenreCorrected']=movies['GenreCorrected'].str.replace('sexual','adult')\n",
        "movies['GenreCorrected']=movies['GenreCorrected'].str.replace('sex','adult')\n",
        "\n",
        "# Merge some categories\n",
        "movies['GenreCorrected']=movies['GenreCorrected'].str.replace('family','child')\n",
        "movies['GenreCorrected']=movies['GenreCorrected'].str.replace('martial_arts','action')\n",
        "movies['GenreCorrected']=movies['GenreCorrected'].str.replace('horror','thriller')\n",
        "movies['GenreCorrected']=movies['GenreCorrected'].str.replace('war','action')\n",
        "movies['GenreCorrected']=movies['GenreCorrected'].str.replace('adventure','action')\n",
        "movies['GenreCorrected']=movies['GenreCorrected'].str.replace('science_fiction','action')\n",
        "movies['GenreCorrected']=movies['GenreCorrected'].str.replace('spy','action')\n",
        "movies['GenreCorrected']=movies['GenreCorrected'].str.replace('superhero','action')\n",
        "movies['GenreCorrected']=movies['GenreCorrected'].str.replace('suspense','action')\n",
        "movies['GenreCorrected']=movies['GenreCorrected'].str.replace('thriller','action')\n",
        "movies['GenreCorrected']=movies['GenreCorrected'].str.replace('epic','action')\n",
        "movies['GenreCorrected']=movies['GenreCorrected'].str.replace('crime','action')\n",
        "movies['GenreCorrected']=movies['GenreCorrected'].str.replace('western','action')\n",
        "movies['GenreCorrected']=movies['GenreCorrected'].str.replace('music','cultural')\n",
        "movies['GenreCorrected']=movies['GenreCorrected'].str.replace('sport','cultural')\n",
        "movies['GenreCorrected']=movies['GenreCorrected'].str.replace('biography','cultural')\n",
        "movies['GenreCorrected']=movies['GenreCorrected'].str.replace('history','cultural')\n",
        "movies['GenreCorrected']=movies['GenreCorrected'].str.replace('documentary','cultural')\n",
        "movies['GenreCorrected']=movies['GenreCorrected'].str.replace('political','cultural')\n",
        "movies['GenreCorrected']=movies['GenreCorrected'].str.replace('science','cultural')\n",
        "movies['GenreCorrected']=movies['GenreCorrected'].str.replace('psycho','cultural')\n",
        "movies['GenreCorrected']=movies['GenreCorrected'].str.replace('mystery','thriller')\n",
        "\n",
        "\n",
        "print(f\"Nombre de catégories: {len(movies['GenreCorrected'].value_counts())}\")"
      ],
      "execution_count": 0,
      "outputs": []
    },
    {
      "cell_type": "code",
      "metadata": {
        "id": "zawvJ-aVbKbE",
        "colab_type": "code",
        "colab": {}
      },
      "source": [
        "## Automatic harmonization of categories and listing of them\n",
        "\n",
        "nlp = spacy.load(\"en_core_web_sm\")\n",
        "\n",
        "movies['GenreListed'] = movies['GenreCorrected']\n",
        "\n",
        "for genre in movies['GenreCorrected'].unique():\n",
        "  tokens = nlp(genre)\n",
        "  listed_genre = [token.lemma_.lower() for token in tokens if not token.is_punct and not token.is_digit and not token.is_space and not token.is_stop]\n",
        "  for i in np.where(movies['GenreCorrected']==genre)[0]:\n",
        "    movies.at[i,'GenreListed'] = np.unique(np.array(listed_genre))\n",
        "\n",
        "movies.head(20)"
      ],
      "execution_count": 0,
      "outputs": []
    },
    {
      "cell_type": "code",
      "metadata": {
        "id": "MjqUAKEZHvtU",
        "colab_type": "code",
        "colab": {}
      },
      "source": [
        "# Saving of all film\n",
        "movies[['Title','Genre','GenreCorrected','GenreListed']].to_csv('completGenres.csv')\n",
        "\n",
        "if IN_COLAB:\n",
        "    files.download('completGenres.csv') "
      ],
      "execution_count": 0,
      "outputs": []
    },
    {
      "cell_type": "code",
      "metadata": {
        "id": "vEwfiwNzRpJj",
        "colab_type": "code",
        "colab": {}
      },
      "source": [
        "## Listing of all unique categories and their occurrence\n",
        "genres_array = np.array([])\n",
        "for genre in movies['GenreListed']:\n",
        "    genres_array = np.concatenate((genres_array, genre ))\n",
        "uniqueGenre, uniqueGenreCount = np.unique(genres_array, return_counts=True)\n",
        "print(f\"Nombre de catégories: {len(uniqueGenre)}\")"
      ],
      "execution_count": 0,
      "outputs": []
    },
    {
      "cell_type": "code",
      "metadata": {
        "id": "Bbpc8aUdU5XQ",
        "colab_type": "code",
        "colab": {}
      },
      "source": [
        "# Saving of unique categories\n",
        "genres = pd.DataFrame({'Genre':uniqueGenre, 'Count':uniqueGenreCount}).sort_values(by=['Count'], ascending = False, ignore_index=True)\n",
        "genres.to_csv('uniqueGenres.csv')\n",
        "\n",
        "if IN_COLAB:\n",
        "    files.download('uniqueGenres.csv') "
      ],
      "execution_count": 0,
      "outputs": []
    },
    {
      "cell_type": "code",
      "metadata": {
        "id": "FKebEmsFc_Qr",
        "colab_type": "code",
        "colab": {}
      },
      "source": [
        "## Show 10 main categories\n",
        "mainGenres = genres.loc[:9,:]\n",
        "mainGenres.plot(x='Genre', y='Count', kind='bar', legend=False, grid=True, figsize=(8, 5))\n",
        "plt.title(\"Number of movies per genre\")\n",
        "plt.ylabel('# of Occurrences', fontsize=12)\n",
        "plt.xlabel('Movie genres', fontsize=12)\n",
        "plt.show()"
      ],
      "execution_count": 0,
      "outputs": []
    },
    {
      "cell_type": "code",
      "metadata": {
        "id": "gnpR6XiRghe7",
        "colab_type": "code",
        "colab": {}
      },
      "source": [
        "## Keep only the main categories\n",
        "movies['MainGenre'] = movies['GenreListed'].apply(lambda x: x[np.in1d(x,mainGenres)])"
      ],
      "execution_count": 0,
      "outputs": []
    },
    {
      "cell_type": "code",
      "metadata": {
        "id": "18WMNNb4jPE6",
        "colab_type": "code",
        "colab": {}
      },
      "source": [
        "## Keep only films with categories\n",
        "print(movies.shape)\n",
        "selectedMovies = movies[movies['MainGenre'].apply(len)>0]\n",
        "print(selectedMovies.shape)"
      ],
      "execution_count": 0,
      "outputs": []
    },
    {
      "cell_type": "code",
      "metadata": {
        "id": "lAAhgmgLWs-0",
        "colab_type": "code",
        "colab": {}
      },
      "source": [
        "# Creat the output layer with all categories\n",
        "%store -r categoriesVector\n",
        "try:\n",
        "  categoriesVector\n",
        "except:\n",
        "  categoriesVector = np.stack(selectedMovies['MainGenre'].apply(lambda x: np.isin(mainGenres['Genre'],x))*1)\n",
        "  %store categoriesVector"
      ],
      "execution_count": 0,
      "outputs": []
    },
    {
      "cell_type": "code",
      "metadata": {
        "id": "mov-95QSuiC5",
        "colab_type": "code",
        "colab": {}
      },
      "source": [
        "np.savetxt('categoriesVector.csv', categoriesVector, delimiter=',')\n",
        "\n",
        "if IN_COLAB:\n",
        "    files.download('categoriesVector.csv') "
      ],
      "execution_count": 0,
      "outputs": []
    },
    {
      "cell_type": "markdown",
      "metadata": {
        "id": "JG12JVrgY605",
        "colab_type": "text"
      },
      "source": [
        "## Splitting The Data into Training and Test Sets"
      ]
    },
    {
      "cell_type": "code",
      "metadata": {
        "id": "IBVYVCJDY6KP",
        "colab_type": "code",
        "colab": {}
      },
      "source": [
        "rawPlot_train, rawPlot_test, cat_train, cat_test = train_test_split(selectedMovies['Plot'], categoriesVector, train_size=0.8, shuffle=True) #80% 20%"
      ],
      "execution_count": 0,
      "outputs": []
    },
    {
      "cell_type": "code",
      "metadata": {
        "id": "7HxZ8mjyGQJQ",
        "colab_type": "code",
        "colab": {}
      },
      "source": [
        "type(rawPlot_test)"
      ],
      "execution_count": 0,
      "outputs": []
    },
    {
      "cell_type": "markdown",
      "metadata": {
        "id": "YjFt_cmls9QE",
        "colab_type": "text"
      },
      "source": [
        "## Plot preparation"
      ]
    },
    {
      "cell_type": "code",
      "metadata": {
        "id": "byfYzECOtm2X",
        "colab_type": "code",
        "colab": {}
      },
      "source": [
        "def plotTokenizer(plot):\n",
        "  tokens = nlp(plot)\n",
        "  return [token.lemma_ for token in tokens if not token.is_stop]\n",
        "  # return [token.lemma_.lower() for token in tokens if not token.is_punct and not token.is_digit and not token.is_space and not token.is_stop]"
      ],
      "execution_count": 0,
      "outputs": []
    },
    {
      "cell_type": "code",
      "metadata": {
        "id": "GUzbts4MQey6",
        "colab_type": "code",
        "colab": {
          "base_uri": "https://localhost:8080/",
          "height": 34
        },
        "outputId": "a84c61a2-266c-4c29-dda7-0ff9affebdef"
      },
      "source": [
        "np.set_printoptions(precision=2)\n",
        "plotTokenizer(\"Hello my name is Maxime. I'd like to give you 1'000'000 $ !\")"
      ],
      "execution_count": 33,
      "outputs": [
        {
          "output_type": "execute_result",
          "data": {
            "text/plain": [
              "['hello', 'maxime', '.', 'like', \"1'000'000\", '$', '!']"
            ]
          },
          "metadata": {
            "tags": []
          },
          "execution_count": 33
        }
      ]
    },
    {
      "cell_type": "code",
      "metadata": {
        "id": "1429_LemaL0O",
        "colab_type": "code",
        "colab": {}
      },
      "source": [
        "plotVectorizer  = TfidfVectorizer(tokenizer = plotTokenizer, min_df=3, max_features=10000)"
      ],
      "execution_count": 0,
      "outputs": []
    },
    {
      "cell_type": "code",
      "metadata": {
        "id": "QJyiGfuPiE0w",
        "colab_type": "code",
        "colab": {}
      },
      "source": [
        "%%time\n",
        "# Learn vocabulary from training texts and vectorize training texts.\n",
        "%store -r plot_train\n",
        "try:\n",
        "  plot_train\n",
        "except:\n",
        "  plot_train = plotVectorizer.fit_transform(rawPlot_train)\n",
        "  %store plot_train"
      ],
      "execution_count": 0,
      "outputs": []
    },
    {
      "cell_type": "code",
      "metadata": {
        "id": "KcP6nLeVv1bf",
        "colab_type": "code",
        "colab": {}
      },
      "source": [
        "%%time\n",
        "# Vectorize validation texts.\n",
        "plot_test = plotVectorizer.transform(rawPlot_test)\n",
        "\n",
        "%store -r plot_test\n",
        "try:\n",
        "  plot_test\n",
        "except:\n",
        "  plot_test = plotVectorizer.transform(rawPlot_test)\n",
        "  %store plot_test"
      ],
      "execution_count": 0,
      "outputs": []
    },
    {
      "cell_type": "code",
      "metadata": {
        "id": "MNLZwBj1t8Xw",
        "colab_type": "code",
        "colab": {}
      },
      "source": [
        "np.savetxt('plot_train.csv', plot_train.toarray(), delimiter=',')\n",
        "np.savetxt('plot_test.csv', plot_test.toarray(), delimiter=',')\n",
        "\n",
        "if IN_COLAB:\n",
        "  files.download('plot_train.csv') \n",
        "  files.download('plot_test.csv') "
      ],
      "execution_count": 0,
      "outputs": []
    },
    {
      "cell_type": "markdown",
      "metadata": {
        "id": "xKwh7sASEqvS",
        "colab_type": "text"
      },
      "source": [
        "# Naive Bayes Classification"
      ]
    },
    {
      "cell_type": "code",
      "metadata": {
        "id": "gqhKbrlWF2hF",
        "colab_type": "code",
        "colab": {}
      },
      "source": [
        "cat_train.drama"
      ],
      "execution_count": 0,
      "outputs": []
    },
    {
      "cell_type": "code",
      "metadata": {
        "id": "_BzKQzJPEXQu",
        "colab_type": "code",
        "colab": {}
      },
      "source": [
        "multinomialNB=OneVsRestClassifier(MultinomialNB())\n",
        "multinomialNB.fit(plot_train, cat_train.action)"
      ],
      "execution_count": 0,
      "outputs": []
    },
    {
      "cell_type": "code",
      "metadata": {
        "id": "EHMr8vYtSg1N",
        "colab_type": "code",
        "colab": {
          "base_uri": "https://localhost:8080/",
          "height": 139
        },
        "outputId": "1ada1831-893e-4d45-e91a-74fc0d8f332e"
      },
      "source": [
        "import spacy\n",
        "from spacy import displacy\n",
        "\n",
        "text = \"Nice to meet you! Do you know where the HEIG-VD is?”\"\n",
        "\n",
        "nlp = spacy.load(\"en_core_web_sm\")\n",
        "doc = nlp(text)\n",
        "displacy.serve(doc, style=\"ent\")"
      ],
      "execution_count": 0,
      "outputs": [
        {
          "output_type": "stream",
          "text": [
            "/usr/lib/python3.6/runpy.py:193: UserWarning: [W006] No entities to visualize found in Doc object. If this is surprising to you, make sure the Doc was processed using a model that supports named entity recognition, and check the `doc.ents` property manually if necessary.\n",
            "  \"__main__\", mod_spec)\n"
          ],
          "name": "stderr"
        },
        {
          "output_type": "stream",
          "text": [
            "\n",
            "Using the 'ent' visualizer\n",
            "Serving on http://0.0.0.0:5000 ...\n",
            "\n"
          ],
          "name": "stdout"
        }
      ]
    },
    {
      "cell_type": "code",
      "metadata": {
        "id": "OBMjUQWJSjCa",
        "colab_type": "code",
        "colab": {}
      },
      "source": [
        ""
      ],
      "execution_count": 0,
      "outputs": []
    }
  ]
}