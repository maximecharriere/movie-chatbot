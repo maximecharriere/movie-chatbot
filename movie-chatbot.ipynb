{
  "nbformat": 4,
  "nbformat_minor": 0,
  "metadata": {
    "colab": {
      "name": "movie-chatbot.ipynb",
      "provenance": [],
      "collapsed_sections": [],
      "include_colab_link": true
    },
    "kernelspec": {
      "name": "python3",
      "display_name": "Python 3"
    }
  },
  "cells": [
    {
      "cell_type": "markdown",
      "metadata": {
        "id": "view-in-github",
        "colab_type": "text"
      },
      "source": [
        "<a href=\"https://colab.research.google.com/github/maximecharriere/movie-chatbot/blob/master/movie-chatbot.ipynb\" target=\"_parent\"><img src=\"https://colab.research.google.com/assets/colab-badge.svg\" alt=\"Open In Colab\"/></a>"
      ]
    },
    {
      "cell_type": "markdown",
      "metadata": {
        "id": "DVy8nkPvIWuW",
        "colab_type": "text"
      },
      "source": [
        "# **Chatbot cinéphile - WELCOME**\n",
        "*Par Dylan **Morocutti** et Maxime **Charrière**.*"
      ]
    },
    {
      "cell_type": "markdown",
      "metadata": {
        "id": "KA-L_QLZnwIP",
        "colab_type": "text"
      },
      "source": [
        "# Libraries importation"
      ]
    },
    {
      "cell_type": "code",
      "metadata": {
        "id": "h_xI7FpYn3Oj",
        "colab_type": "code",
        "outputId": "f6596ff3-6a59-405e-d33f-5acd3c6ac85e",
        "colab": {
          "base_uri": "https://localhost:8080/",
          "height": 170
        }
      },
      "source": [
        "import numpy as np\n",
        "import tensorflow as tf\n",
        "import matplotlib\n",
        "import matplotlib.pyplot as plt\n",
        "import nltk\n",
        "from nltk.corpus import treebank, nps_chat\n",
        "from nltk.cluster import KMeansClusterer\n",
        "import pandas as pd\n",
        "import gensim\n",
        "from gensim.models import Word2Vec\n",
        "import sklearn\n",
        "from sklearn import cluster\n",
        "from sklearn import metrics\n",
        "import spacy\n",
        "from google.colab import files\n",
        "\n",
        "print(\"Libraries version:\")\n",
        "print(f\"Numpy:      {np.__version__}\")\n",
        "print(f\"Matplotlib: {matplotlib.__version__}\")\n",
        "print(f\"Tensorflow: {tf.__version__}\")\n",
        "print(f\"NLTK:       {nltk.__version__}\")\n",
        "print(f\"Pandas:     {pd.__version__}\")\n",
        "print(f\"Gensim:     {gensim.__version__}\")\n",
        "print(f\"Sklearn:    {sklearn.__version__}\")\n",
        "print(f\"Spacy:      {spacy.__version__}\")"
      ],
      "execution_count": 28,
      "outputs": [
        {
          "output_type": "stream",
          "text": [
            "Libraries version:\n",
            "Numpy:      1.18.4\n",
            "Matplotlib: 3.2.1\n",
            "Tensorflow: 2.2.0\n",
            "NLTK:       3.2.5\n",
            "Pandas:     1.0.4\n",
            "Gensim:     3.6.0\n",
            "Sklearn:    0.22.2.post1\n",
            "Spacy:      2.2.4\n"
          ],
          "name": "stdout"
        }
      ]
    },
    {
      "cell_type": "markdown",
      "metadata": {
        "id": "pkblOKQBLcZO",
        "colab_type": "text"
      },
      "source": [
        "# Importation des data\n",
        "- Source: http://www.cs.cornell.edu/~cristian/Cornell_Movie-Dialogs_Corpus.html"
      ]
    },
    {
      "cell_type": "code",
      "metadata": {
        "id": "_yCZkbVwL69k",
        "colab_type": "code",
        "colab": {}
      },
      "source": [
        "url_movie_line = \"https://raw.githubusercontent.com/maximecharriere/movie-chatbot/master/data/parsed_movie_dialogue.txt\"\n",
        "movie_line = pd.read_csv(url_movie_line, sep='\\+{3}\\$\\+{3}', engine='python', names=(\"First line\",\"Reply\"))"
      ],
      "execution_count": 0,
      "outputs": []
    },
    {
      "cell_type": "code",
      "metadata": {
        "id": "1chO8g1DPjy7",
        "colab_type": "code",
        "outputId": "c2a3f841-db80-4234-d29d-a8ddd0e817a5",
        "colab": {
          "base_uri": "https://localhost:8080/",
          "height": 34
        }
      },
      "source": [
        "movie_line[\"First line\"][2]"
      ],
      "execution_count": 0,
      "outputs": [
        {
          "output_type": "execute_result",
          "data": {
            "text/plain": [
              "'We saw it. All craft prepare to retreat.'"
            ]
          },
          "metadata": {
            "tags": []
          },
          "execution_count": 9
        }
      ]
    },
    {
      "cell_type": "markdown",
      "metadata": {
        "id": "_c5fE6MX_yvE",
        "colab_type": "text"
      },
      "source": [
        "# Building DeepLearning **model**"
      ]
    },
    {
      "cell_type": "code",
      "metadata": {
        "id": "uJoyigaxqGp3",
        "colab_type": "code",
        "colab": {}
      },
      "source": [
        "# Flatten\n",
        "model = tf.keras.models.Sequential()\n",
        "# Add layers\n",
        "model.add(tf.keras.layers.Dense(256, activation=\"relu\"))\n",
        "model.add(tf.keras.layers.Dense(128, activation=\"relu\"))\n",
        "model.add(tf.keras.layers.Dense(2, activation=\"softmax\"))"
      ],
      "execution_count": 0,
      "outputs": []
    },
    {
      "cell_type": "markdown",
      "metadata": {
        "id": "Kjup0nQfFpFJ",
        "colab_type": "text"
      },
      "source": [
        "# NLTK Test"
      ]
    },
    {
      "cell_type": "markdown",
      "metadata": {
        "id": "yOO9FRWC5fEk",
        "colab_type": "text"
      },
      "source": [
        "### Download data"
      ]
    },
    {
      "cell_type": "code",
      "metadata": {
        "id": "nkqKJSVLGUxs",
        "colab_type": "code",
        "outputId": "50bcb167-5ec5-4dbc-ac0d-d877d4339cf6",
        "colab": {
          "base_uri": "https://localhost:8080/",
          "height": 272
        }
      },
      "source": [
        "nltk.download('punkt')\n",
        "nltk.download('averaged_perceptron_tagger')\n",
        "nltk.download('maxent_ne_chunker')\n",
        "nltk.download('words')\n",
        "nltk.download('treebank')\n",
        "nltk.download('nps_chat')\n"
      ],
      "execution_count": 0,
      "outputs": [
        {
          "output_type": "stream",
          "text": [
            "[nltk_data] Downloading package punkt to /root/nltk_data...\n",
            "[nltk_data]   Unzipping tokenizers/punkt.zip.\n",
            "[nltk_data] Downloading package averaged_perceptron_tagger to\n",
            "[nltk_data]     /root/nltk_data...\n",
            "[nltk_data]   Unzipping taggers/averaged_perceptron_tagger.zip.\n",
            "[nltk_data] Downloading package maxent_ne_chunker to\n",
            "[nltk_data]     /root/nltk_data...\n",
            "[nltk_data]   Unzipping chunkers/maxent_ne_chunker.zip.\n",
            "[nltk_data] Downloading package words to /root/nltk_data...\n",
            "[nltk_data]   Unzipping corpora/words.zip.\n",
            "[nltk_data] Downloading package treebank to /root/nltk_data...\n",
            "[nltk_data]   Unzipping corpora/treebank.zip.\n",
            "[nltk_data] Downloading package nps_chat to /root/nltk_data...\n",
            "[nltk_data]   Unzipping corpora/nps_chat.zip.\n"
          ],
          "name": "stdout"
        },
        {
          "output_type": "execute_result",
          "data": {
            "text/plain": [
              "True"
            ]
          },
          "metadata": {
            "tags": []
          },
          "execution_count": 5
        }
      ]
    },
    {
      "cell_type": "code",
      "metadata": {
        "id": "ANJeYUQnFrA2",
        "colab_type": "code",
        "colab": {}
      },
      "source": [
        "sentence = \"\"\"Your insight serves you well. Bury your feelings deep down, Luke. They do you credit. But they could be made to serve the Emperor.\"\"\"\n",
        "tokens = nltk.word_tokenize(sentence)\n",
        "tagged = nltk.pos_tag(tokens)\n",
        "entities = nltk.chunk.ne_chunk(tagged)\n",
        "# t = treebank.parsed_sents('wsj_0001.mrg')[0]\n",
        "# nltk.draw.tree.TreeView(t)._cframe.print_to_file('output.ps')"
      ],
      "execution_count": 0,
      "outputs": []
    },
    {
      "cell_type": "code",
      "metadata": {
        "id": "9J4_3pK-G2se",
        "colab_type": "code",
        "outputId": "8c39428a-3dd2-4d7a-c24f-0e8d80c128d7",
        "colab": {
          "base_uri": "https://localhost:8080/",
          "height": 34
        }
      },
      "source": [
        "len(tagged)"
      ],
      "execution_count": 0,
      "outputs": [
        {
          "output_type": "execute_result",
          "data": {
            "text/plain": [
              "29"
            ]
          },
          "metadata": {
            "tags": []
          },
          "execution_count": 42
        }
      ]
    },
    {
      "cell_type": "code",
      "metadata": {
        "id": "pQmg6hq5QQ7y",
        "colab_type": "code",
        "outputId": "4f389450-a6d2-42d7-8c79-9df9623f91c5",
        "colab": {
          "base_uri": "https://localhost:8080/",
          "height": 272
        }
      },
      "source": [
        "nps_chat.fileids()"
      ],
      "execution_count": 0,
      "outputs": [
        {
          "output_type": "execute_result",
          "data": {
            "text/plain": [
              "['10-19-20s_706posts.xml',\n",
              " '10-19-30s_705posts.xml',\n",
              " '10-19-40s_686posts.xml',\n",
              " '10-19-adults_706posts.xml',\n",
              " '10-24-40s_706posts.xml',\n",
              " '10-26-teens_706posts.xml',\n",
              " '11-06-adults_706posts.xml',\n",
              " '11-08-20s_705posts.xml',\n",
              " '11-08-40s_706posts.xml',\n",
              " '11-08-adults_705posts.xml',\n",
              " '11-08-teens_706posts.xml',\n",
              " '11-09-20s_706posts.xml',\n",
              " '11-09-40s_706posts.xml',\n",
              " '11-09-adults_706posts.xml',\n",
              " '11-09-teens_706posts.xml']"
            ]
          },
          "metadata": {
            "tags": []
          },
          "execution_count": 6
        }
      ]
    },
    {
      "cell_type": "code",
      "metadata": {
        "id": "OfJyXFJXSqPn",
        "colab_type": "code",
        "colab": {}
      },
      "source": [
        ""
      ],
      "execution_count": 0,
      "outputs": []
    },
    {
      "cell_type": "markdown",
      "metadata": {
        "id": "e8qGTIB9Wb8g",
        "colab_type": "text"
      },
      "source": [
        "# SpaCy test"
      ]
    },
    {
      "cell_type": "code",
      "metadata": {
        "id": "qHJf9cVGXUtE",
        "colab_type": "code",
        "outputId": "375be551-0510-4a72-9722-9f79be1ea81c",
        "colab": {
          "base_uri": "https://localhost:8080/",
          "height": 204
        }
      },
      "source": [
        "url_movie_wiki = \"https://raw.githubusercontent.com/maximecharriere/movie-chatbot/master/data/movie_wiki_infos/wiki_movie_plots_deduped.csv\"\n",
        "movies = pd.read_csv(url_movie_wiki, sep=',', engine='python')[['Plot','Genre']]\n",
        "movies.shape\n",
        "movies.head()"
      ],
      "execution_count": 75,
      "outputs": [
        {
          "output_type": "execute_result",
          "data": {
            "text/html": [
              "<div>\n",
              "<style scoped>\n",
              "    .dataframe tbody tr th:only-of-type {\n",
              "        vertical-align: middle;\n",
              "    }\n",
              "\n",
              "    .dataframe tbody tr th {\n",
              "        vertical-align: top;\n",
              "    }\n",
              "\n",
              "    .dataframe thead th {\n",
              "        text-align: right;\n",
              "    }\n",
              "</style>\n",
              "<table border=\"1\" class=\"dataframe\">\n",
              "  <thead>\n",
              "    <tr style=\"text-align: right;\">\n",
              "      <th></th>\n",
              "      <th>Plot</th>\n",
              "      <th>Genre</th>\n",
              "    </tr>\n",
              "  </thead>\n",
              "  <tbody>\n",
              "    <tr>\n",
              "      <th>0</th>\n",
              "      <td>A bartender is working at a saloon, serving dr...</td>\n",
              "      <td>unknown</td>\n",
              "    </tr>\n",
              "    <tr>\n",
              "      <th>1</th>\n",
              "      <td>The moon, painted with a smiling face hangs ov...</td>\n",
              "      <td>unknown</td>\n",
              "    </tr>\n",
              "    <tr>\n",
              "      <th>2</th>\n",
              "      <td>The film, just over a minute long, is composed...</td>\n",
              "      <td>unknown</td>\n",
              "    </tr>\n",
              "    <tr>\n",
              "      <th>3</th>\n",
              "      <td>Lasting just 61 seconds and consisting of two ...</td>\n",
              "      <td>unknown</td>\n",
              "    </tr>\n",
              "    <tr>\n",
              "      <th>4</th>\n",
              "      <td>The earliest known adaptation of the classic f...</td>\n",
              "      <td>unknown</td>\n",
              "    </tr>\n",
              "  </tbody>\n",
              "</table>\n",
              "</div>"
            ],
            "text/plain": [
              "                                                Plot    Genre\n",
              "0  A bartender is working at a saloon, serving dr...  unknown\n",
              "1  The moon, painted with a smiling face hangs ov...  unknown\n",
              "2  The film, just over a minute long, is composed...  unknown\n",
              "3  Lasting just 61 seconds and consisting of two ...  unknown\n",
              "4  The earliest known adaptation of the classic f...  unknown"
            ]
          },
          "metadata": {
            "tags": []
          },
          "execution_count": 75
        }
      ]
    },
    {
      "cell_type": "code",
      "metadata": {
        "id": "6R3OemLWSi9e",
        "colab_type": "code",
        "outputId": "5bb166b9-0726-4a91-8c1e-3d6aae09768b",
        "colab": {
          "base_uri": "https://localhost:8080/",
          "height": 221
        }
      },
      "source": [
        "movies['Genre'].value_counts()"
      ],
      "execution_count": 76,
      "outputs": [
        {
          "output_type": "execute_result",
          "data": {
            "text/plain": [
              "unknown                                                   6083\n",
              "drama                                                     5964\n",
              "comedy                                                    4379\n",
              "horror                                                    1167\n",
              "action                                                    1098\n",
              "                                                          ... \n",
              "biju menon, krishnashankar, samskruti shenoy                 1\n",
              "adventure, romance                                           1\n",
              "action / science fiction                                     1\n",
              "animation, musical                                           1\n",
              "drama based on a novel and screenplay by emma donoghue       1\n",
              "Name: Genre, Length: 2265, dtype: int64"
            ]
          },
          "metadata": {
            "tags": []
          },
          "execution_count": 76
        }
      ]
    },
    {
      "cell_type": "code",
      "metadata": {
        "id": "uUIW8nNcYl-N",
        "colab_type": "code",
        "colab": {}
      },
      "source": [
        "movies['GenreCorrected']=movies['Genre'] \n",
        "movies['GenreCorrected']=movies['GenreCorrected'].str.replace('/', ' ')\n",
        "\n",
        "# Delete unwanted categories\n",
        "movies['GenreCorrected']=movies['GenreCorrected'].str.replace('unknown', '')\n",
        "movies['GenreCorrected']=movies['GenreCorrected'].str.replace('\\[not in citation given\\]','')\n",
        "movies['GenreCorrected']=movies['GenreCorrected'].str.replace('avant-garde','')\n",
        "movies['GenreCorrected']=movies['GenreCorrected'].str.replace('period','')\n",
        "movies['GenreCorrected']=movies['GenreCorrected'].str.replace('national','')\n",
        "movies['GenreCorrected']=movies['GenreCorrected'].str.replace('board','')\n",
        "movies['GenreCorrected']=movies['GenreCorrected'].str.replace('costume','')\n",
        "movies['GenreCorrected']=movies['GenreCorrected'].str.replace('movies','')\n",
        "movies['GenreCorrected']=movies['GenreCorrected'].str.replace('movie','')\n",
        "movies['GenreCorrected']=movies['GenreCorrected'].str.replace('films','')\n",
        "movies['GenreCorrected']=movies['GenreCorrected'].str.replace('film','')\n",
        "\n",
        "#Rename categories\n",
        "movies['GenreCorrected']=movies['GenreCorrected'].str.replace('bio-pic', 'biography')\n",
        "movies['GenreCorrected']=movies['GenreCorrected'].str.replace('biopic', 'biography')\n",
        "movies['GenreCorrected']=movies['GenreCorrected'].str.replace('biographical', 'biography')\n",
        "movies['GenreCorrected']=movies['GenreCorrected'].str.replace('biodrama', 'biography drama')\n",
        "movies['GenreCorrected']=movies['GenreCorrected'].str.replace('bio-drama', 'biography drama')\n",
        "movies['GenreCorrected']=movies['GenreCorrected'].str.replace('biographic', 'biography')\n",
        "movies['GenreCorrected']=movies['GenreCorrected'].str.replace('animated','animation')\n",
        "movies['GenreCorrected']=movies['GenreCorrected'].str.replace('anime','animation')\n",
        "movies['GenreCorrected']=movies['GenreCorrected'].str.replace('disaster','action')\n",
        "movies['GenreCorrected']=movies['GenreCorrected'].str.replace('comedey','comedy')\n",
        "movies['GenreCorrected']=movies['GenreCorrected'].str.replace('dramedy','comedy drama')\n",
        "movies['GenreCorrected']=movies['GenreCorrected'].str.replace('mockumentary','documentary')\n",
        "movies['GenreCorrected']=movies['GenreCorrected'].str.replace('historical','history')\n",
        "movies['GenreCorrected']=movies['GenreCorrected'].str.replace('historic','history')\n",
        "movies['GenreCorrected']=movies['GenreCorrected'].str.replace('prehistoric','history')\n",
        "movies['GenreCorrected']=movies['GenreCorrected'].str.replace('mythology','history')\n",
        "movies['GenreCorrected']=movies['GenreCorrected'].str.replace('romantic','romance')\n",
        "movies['GenreCorrected']=movies['GenreCorrected'].str.replace('3-d','animation')\n",
        "movies['GenreCorrected']=movies['GenreCorrected'].str.replace('3d','animation')\n",
        "movies['GenreCorrected']=movies['GenreCorrected'].str.replace('sci-fi','science_fiction')\n",
        "movies['GenreCorrected']=movies['GenreCorrected'].str.replace('ttriller','thriller')\n",
        "movies['GenreCorrected']=movies['GenreCorrected'].str.replace('sci fi','science_fiction')\n",
        "movies['GenreCorrected']=movies['GenreCorrected'].str.replace('science fiction','science_fiction')\n",
        "movies['GenreCorrected']=movies['GenreCorrected'].str.replace('kung fu','martial_arts')\n",
        "movies['GenreCorrected']=movies['GenreCorrected'].str.replace('kung-fu','martial_arts')\n",
        "movies['GenreCorrected']=movies['GenreCorrected'].str.replace('martial arts','martial_arts')\n",
        "movies['GenreCorrected']=movies['GenreCorrected'].str.replace('bruceploitation','martial_arts')\n",
        "movies['GenreCorrected']=movies['GenreCorrected'].str.replace('comedy-drama adaptation of the mordecai richler novel','comedy drama')\n",
        "movies['GenreCorrected']=movies['GenreCorrected'].str.replace('stop-motion','animation')\n",
        "movies['GenreCorrected']=movies['GenreCorrected'].str.replace('coming of age','coming_of_age')\n",
        "movies['GenreCorrected']=movies['GenreCorrected'].str.replace('coming-of-age','coming_of_age')\n",
        "movies['GenreCorrected']=movies['GenreCorrected'].str.replace('drama about child soldiers','drama')\n",
        "movies['GenreCorrected']=movies['GenreCorrected'].str.replace('melodrama','drama')\n",
        "movies['GenreCorrected']=movies['GenreCorrected'].str.replace('tv miniseries','serial')\n",
        "movies['GenreCorrected']=movies['GenreCorrected'].str.replace('television miniseries','serial')\n",
        "movies['GenreCorrected']=movies['GenreCorrected'].str.replace(\"war-time\",\"war\")\n",
        "movies['GenreCorrected']=movies['GenreCorrected'].str.replace(\"wartime\",\"war\")\n",
        "movies['GenreCorrected']=movies['GenreCorrected'].str.replace('world war ii','war')\n",
        "movies['GenreCorrected']=movies['GenreCorrected'].str.replace('world war i','war')\n",
        "movies['GenreCorrected']=movies['GenreCorrected'].str.replace(\"tokusatsu\",\"action\")\n",
        "movies['GenreCorrected']=movies['GenreCorrected'].str.replace(\"ww1\",\"war\")\n",
        "movies['GenreCorrected']=movies['GenreCorrected'].str.replace(\"wwii\",\"war\")\n",
        "movies['GenreCorrected']=movies['GenreCorrected'].str.replace('superheroes','superhero')\n",
        "movies['GenreCorrected']=movies['GenreCorrected'].str.replace('superheroe','superhero')\n",
        "movies['GenreCorrected']=movies['GenreCorrected'].str.replace('familya','family')\n",
        "movies['GenreCorrected']=movies['GenreCorrected'].str.replace('familydrama','family drama')\n",
        "movies['GenreCorrected']=movies['GenreCorrected'].str.replace('famil ','family')\n",
        "movies['GenreCorrected']=movies['GenreCorrected'].str.replace('espionage','spy')\n",
        "movies['GenreCorrected']=movies['GenreCorrected'].str.replace('noir','black')\n",
        "movies['GenreCorrected']=movies['GenreCorrected'].str.replace('dark','black')\n",
        "movies['GenreCorrected']=movies['GenreCorrected'].str.replace('psychological','psycho')\n",
        "movies['GenreCorrected']=movies['GenreCorrected'].str.replace('rom-com','romance')\n",
        "movies['GenreCorrected']=movies['GenreCorrected'].str.replace('gun fu','martial_arts')\n",
        "movies['GenreCorrected']=movies['GenreCorrected'].str.replace('docudrama','documentary drama')\n",
        "movies['GenreCorrected']=movies['GenreCorrected'].str.replace('football','sports')\n",
        "movies['GenreCorrected']=movies['GenreCorrected'].str.replace('martial art','martial_arts')\n",
        "movies['GenreCorrected']=movies['GenreCorrected'].str.replace('erotica','adult')\n",
        "movies['GenreCorrected']=movies['GenreCorrected'].str.replace('erotic','adult')\n",
        "movies['GenreCorrected']=movies['GenreCorrected'].str.replace('musical','music')\n",
        "movies['GenreCorrected']=movies['GenreCorrected'].str.replace('gangster','action')\n",
        "movies['GenreCorrected']=movies['GenreCorrected'].str.replace('swashbuckler','action')\n",
        "movies['GenreCorrected']=movies['GenreCorrected'].str.replace('police','action')\n",
        "movies['GenreCorrected']=movies['GenreCorrected'].str.replace('dance','sport')\n",
        "movies['GenreCorrected']=movies['GenreCorrected'].str.replace('sports','sport')\n",
        "movies['GenreCorrected']=movies['GenreCorrected'].str.replace('muslim','religious')\n",
        "movies['GenreCorrected']=movies['GenreCorrected'].str.replace('propaganda','political')\n",
        "movies['GenreCorrected']=movies['GenreCorrected'].str.replace('samurai','action')\n",
        "movies['GenreCorrected']=movies['GenreCorrected'].str.replace('sexploitation','adult')\n",
        "movies['GenreCorrected']=movies['GenreCorrected'].str.replace('homosexual','adult')\n",
        "movies['GenreCorrected']=movies['GenreCorrected'].str.replace('socio','social')\n",
        "movies['GenreCorrected']=movies['GenreCorrected'].str.replace('sexual','adult')\n",
        "movies['GenreCorrected']=movies['GenreCorrected'].str.replace('sex','adult')\n",
        "\n",
        "# Merge some categories\n",
        "movies['GenreCorrected']=movies['GenreCorrected'].str.replace('family','child')\n",
        "movies['GenreCorrected']=movies['GenreCorrected'].str.replace('martial_arts','action')\n",
        "movies['GenreCorrected']=movies['GenreCorrected'].str.replace('horror','thriller')\n",
        "movies['GenreCorrected']=movies['GenreCorrected'].str.replace('war','action')\n",
        "movies['GenreCorrected']=movies['GenreCorrected'].str.replace('adventure','action')\n",
        "movies['GenreCorrected']=movies['GenreCorrected'].str.replace('science_fiction','action')\n",
        "movies['GenreCorrected']=movies['GenreCorrected'].str.replace('spy','action')\n",
        "movies['GenreCorrected']=movies['GenreCorrected'].str.replace('superhero','action')\n",
        "movies['GenreCorrected']=movies['GenreCorrected'].str.replace('suspense','action')\n",
        "movies['GenreCorrected']=movies['GenreCorrected'].str.replace('thriller','action')\n",
        "movies['GenreCorrected']=movies['GenreCorrected'].str.replace('epic','action')\n",
        "movies['GenreCorrected']=movies['GenreCorrected'].str.replace('crime','action')\n",
        "movies['GenreCorrected']=movies['GenreCorrected'].str.replace('western','action')\n",
        "movies['GenreCorrected']=movies['GenreCorrected'].str.replace('music','cultural')\n",
        "movies['GenreCorrected']=movies['GenreCorrected'].str.replace('sport','cultural')\n",
        "movies['GenreCorrected']=movies['GenreCorrected'].str.replace('biography','cultural')\n",
        "movies['GenreCorrected']=movies['GenreCorrected'].str.replace('history','cultural')\n",
        "movies['GenreCorrected']=movies['GenreCorrected'].str.replace('documentary','cultural')\n",
        "movies['GenreCorrected']=movies['GenreCorrected'].str.replace('political','cultural')\n",
        "movies['GenreCorrected']=movies['GenreCorrected'].str.replace('science','cultural')\n",
        "movies['GenreCorrected']=movies['GenreCorrected'].str.replace('psycho','cultural')\n",
        "movies['GenreCorrected']=movies['GenreCorrected'].str.replace('mystery','thriller')\n"
      ],
      "execution_count": 0,
      "outputs": []
    },
    {
      "cell_type": "code",
      "metadata": {
        "id": "zawvJ-aVbKbE",
        "colab_type": "code",
        "outputId": "d4b555fa-2727-4ca6-cc3a-67c3b5877496",
        "colab": {
          "base_uri": "https://localhost:8080/",
          "height": 669
        }
      },
      "source": [
        "nlp = spacy.load(\"en_core_web_sm\")\n",
        "\n",
        "movies['GenreListed'] = movies['GenreCorrected']\n",
        "\n",
        "for genre in movies['GenreCorrected'].unique():\n",
        "  tokens = nlp(genre)\n",
        "  listed_genre = [token.lemma_.lower() for token in tokens if not token.is_punct and not token.is_digit and not token.is_space and not token.is_stop]\n",
        "  for i in np.where(movies['GenreCorrected']==genre)[0]:\n",
        "    movies.at[i,'GenreListed'] = np.unique(np.array(listed_genre))\n",
        "\n",
        "\n",
        "\n",
        "movies.head(20)\n",
        "\n"
      ],
      "execution_count": 92,
      "outputs": [
        {
          "output_type": "execute_result",
          "data": {
            "text/html": [
              "<div>\n",
              "<style scoped>\n",
              "    .dataframe tbody tr th:only-of-type {\n",
              "        vertical-align: middle;\n",
              "    }\n",
              "\n",
              "    .dataframe tbody tr th {\n",
              "        vertical-align: top;\n",
              "    }\n",
              "\n",
              "    .dataframe thead th {\n",
              "        text-align: right;\n",
              "    }\n",
              "</style>\n",
              "<table border=\"1\" class=\"dataframe\">\n",
              "  <thead>\n",
              "    <tr style=\"text-align: right;\">\n",
              "      <th></th>\n",
              "      <th>Plot</th>\n",
              "      <th>Genre</th>\n",
              "      <th>GenreCorrected</th>\n",
              "      <th>GenreListed</th>\n",
              "    </tr>\n",
              "  </thead>\n",
              "  <tbody>\n",
              "    <tr>\n",
              "      <th>0</th>\n",
              "      <td>A bartender is working at a saloon, serving dr...</td>\n",
              "      <td>unknown</td>\n",
              "      <td></td>\n",
              "      <td>[]</td>\n",
              "    </tr>\n",
              "    <tr>\n",
              "      <th>1</th>\n",
              "      <td>The moon, painted with a smiling face hangs ov...</td>\n",
              "      <td>unknown</td>\n",
              "      <td></td>\n",
              "      <td>[]</td>\n",
              "    </tr>\n",
              "    <tr>\n",
              "      <th>2</th>\n",
              "      <td>The film, just over a minute long, is composed...</td>\n",
              "      <td>unknown</td>\n",
              "      <td></td>\n",
              "      <td>[]</td>\n",
              "    </tr>\n",
              "    <tr>\n",
              "      <th>3</th>\n",
              "      <td>Lasting just 61 seconds and consisting of two ...</td>\n",
              "      <td>unknown</td>\n",
              "      <td></td>\n",
              "      <td>[]</td>\n",
              "    </tr>\n",
              "    <tr>\n",
              "      <th>4</th>\n",
              "      <td>The earliest known adaptation of the classic f...</td>\n",
              "      <td>unknown</td>\n",
              "      <td></td>\n",
              "      <td>[]</td>\n",
              "    </tr>\n",
              "    <tr>\n",
              "      <th>5</th>\n",
              "      <td>Alice follows a large white rabbit down a \"Rab...</td>\n",
              "      <td>unknown</td>\n",
              "      <td></td>\n",
              "      <td>[]</td>\n",
              "    </tr>\n",
              "    <tr>\n",
              "      <th>6</th>\n",
              "      <td>The film opens with two bandits breaking into ...</td>\n",
              "      <td>western</td>\n",
              "      <td>action</td>\n",
              "      <td>[action]</td>\n",
              "    </tr>\n",
              "    <tr>\n",
              "      <th>7</th>\n",
              "      <td>The film is about a family who move to the sub...</td>\n",
              "      <td>comedy</td>\n",
              "      <td>comedy</td>\n",
              "      <td>[comedy]</td>\n",
              "    </tr>\n",
              "    <tr>\n",
              "      <th>8</th>\n",
              "      <td>The opening scene shows the interior of the ro...</td>\n",
              "      <td>unknown</td>\n",
              "      <td></td>\n",
              "      <td>[]</td>\n",
              "    </tr>\n",
              "    <tr>\n",
              "      <th>9</th>\n",
              "      <td>Scenes are introduced using lines of the poem....</td>\n",
              "      <td>unknown</td>\n",
              "      <td></td>\n",
              "      <td>[]</td>\n",
              "    </tr>\n",
              "    <tr>\n",
              "      <th>10</th>\n",
              "      <td>The Rarebit Fiend gorges on Welsh rarebit at a...</td>\n",
              "      <td>short</td>\n",
              "      <td>short</td>\n",
              "      <td>[short]</td>\n",
              "    </tr>\n",
              "    <tr>\n",
              "      <th>11</th>\n",
              "      <td>The film features a train traveling through th...</td>\n",
              "      <td>short action/crime western</td>\n",
              "      <td>short action action action</td>\n",
              "      <td>[action, short]</td>\n",
              "    </tr>\n",
              "    <tr>\n",
              "      <th>12</th>\n",
              "      <td>Irish villager Kathleen is a tenant of Captain...</td>\n",
              "      <td>short film</td>\n",
              "      <td>short</td>\n",
              "      <td>[short]</td>\n",
              "    </tr>\n",
              "    <tr>\n",
              "      <th>13</th>\n",
              "      <td>Boone's daughter befriends an Indian maiden as...</td>\n",
              "      <td>biographical</td>\n",
              "      <td>cultural</td>\n",
              "      <td>[cultural]</td>\n",
              "    </tr>\n",
              "    <tr>\n",
              "      <th>14</th>\n",
              "      <td>Before heading out to a baseball game at a nea...</td>\n",
              "      <td>comedy</td>\n",
              "      <td>comedy</td>\n",
              "      <td>[comedy]</td>\n",
              "    </tr>\n",
              "    <tr>\n",
              "      <th>15</th>\n",
              "      <td>The plot is that of a black woman going to the...</td>\n",
              "      <td>comedy</td>\n",
              "      <td>comedy</td>\n",
              "      <td>[comedy]</td>\n",
              "    </tr>\n",
              "    <tr>\n",
              "      <th>16</th>\n",
              "      <td>On a beautiful summer day a father and mother ...</td>\n",
              "      <td>drama</td>\n",
              "      <td>drama</td>\n",
              "      <td>[drama]</td>\n",
              "    </tr>\n",
              "    <tr>\n",
              "      <th>17</th>\n",
              "      <td>A thug accosts a girl as she leaves her workpl...</td>\n",
              "      <td>drama</td>\n",
              "      <td>drama</td>\n",
              "      <td>[drama]</td>\n",
              "    </tr>\n",
              "    <tr>\n",
              "      <th>18</th>\n",
              "      <td>A young couple decides to elope after being ca...</td>\n",
              "      <td>comedy</td>\n",
              "      <td>comedy</td>\n",
              "      <td>[comedy]</td>\n",
              "    </tr>\n",
              "    <tr>\n",
              "      <th>19</th>\n",
              "      <td>A white girl (Florence Lawrence) rejects a pro...</td>\n",
              "      <td>adventure</td>\n",
              "      <td>action</td>\n",
              "      <td>[action]</td>\n",
              "    </tr>\n",
              "  </tbody>\n",
              "</table>\n",
              "</div>"
            ],
            "text/plain": [
              "                                                 Plot  ...      GenreListed\n",
              "0   A bartender is working at a saloon, serving dr...  ...               []\n",
              "1   The moon, painted with a smiling face hangs ov...  ...               []\n",
              "2   The film, just over a minute long, is composed...  ...               []\n",
              "3   Lasting just 61 seconds and consisting of two ...  ...               []\n",
              "4   The earliest known adaptation of the classic f...  ...               []\n",
              "5   Alice follows a large white rabbit down a \"Rab...  ...               []\n",
              "6   The film opens with two bandits breaking into ...  ...         [action]\n",
              "7   The film is about a family who move to the sub...  ...         [comedy]\n",
              "8   The opening scene shows the interior of the ro...  ...               []\n",
              "9   Scenes are introduced using lines of the poem....  ...               []\n",
              "10  The Rarebit Fiend gorges on Welsh rarebit at a...  ...          [short]\n",
              "11  The film features a train traveling through th...  ...  [action, short]\n",
              "12  Irish villager Kathleen is a tenant of Captain...  ...          [short]\n",
              "13  Boone's daughter befriends an Indian maiden as...  ...       [cultural]\n",
              "14  Before heading out to a baseball game at a nea...  ...         [comedy]\n",
              "15  The plot is that of a black woman going to the...  ...         [comedy]\n",
              "16  On a beautiful summer day a father and mother ...  ...          [drama]\n",
              "17  A thug accosts a girl as she leaves her workpl...  ...          [drama]\n",
              "18  A young couple decides to elope after being ca...  ...         [comedy]\n",
              "19  A white girl (Florence Lawrence) rejects a pro...  ...         [action]\n",
              "\n",
              "[20 rows x 4 columns]"
            ]
          },
          "metadata": {
            "tags": []
          },
          "execution_count": 92
        }
      ]
    },
    {
      "cell_type": "code",
      "metadata": {
        "id": "MjqUAKEZHvtU",
        "colab_type": "code",
        "colab": {}
      },
      "source": [
        "movies[['Genre','GenreCorrected','GenreListed']].to_csv('completGenres.csv')\n",
        "files.download('completGenres.csv') "
      ],
      "execution_count": 0,
      "outputs": []
    },
    {
      "cell_type": "code",
      "metadata": {
        "id": "vEwfiwNzRpJj",
        "colab_type": "code",
        "colab": {}
      },
      "source": [
        "genres_array = np.array([])\n",
        "\n",
        "for genre in movies['GenreListed']:\n",
        "    genres_array = np.concatenate((genres_array, genre ))"
      ],
      "execution_count": 0,
      "outputs": []
    },
    {
      "cell_type": "code",
      "metadata": {
        "id": "Bbpc8aUdU5XQ",
        "colab_type": "code",
        "colab": {}
      },
      "source": [
        "genres = pd.DataFrame({'Genre':genres_array})\n",
        "genres['Count']=1\n",
        "genres[['Genre','Count']].groupby(['Genre'], as_index=False).sum().to_csv('uniqueGenres.csv')\n",
        "files.download('uniqueGenres.csv') "
      ],
      "execution_count": 0,
      "outputs": []
    }
  ]
}