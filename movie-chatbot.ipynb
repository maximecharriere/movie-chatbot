{
  "nbformat": 4,
  "nbformat_minor": 0,
  "metadata": {
    "colab": {
      "name": "movie-chatbot.ipynb",
      "provenance": [],
      "collapsed_sections": [],
      "include_colab_link": true
    },
    "kernelspec": {
      "name": "python3",
      "display_name": "Python 3"
    }
  },
  "cells": [
    {
      "cell_type": "markdown",
      "metadata": {
        "id": "view-in-github",
        "colab_type": "text"
      },
      "source": [
        "<a href=\"https://colab.research.google.com/github/maximecharriere/movie-chatbot/blob/master/movie-chatbot.ipynb\" target=\"_parent\"><img src=\"https://colab.research.google.com/assets/colab-badge.svg\" alt=\"Open In Colab\"/></a>"
      ]
    },
    {
      "cell_type": "markdown",
      "metadata": {
        "id": "DVy8nkPvIWuW",
        "colab_type": "text"
      },
      "source": [
        "# **Chatbot cinéphile - WELCOME**\n",
        "*Par Dylan **Morocutti** et Maxime **Charrière**.*"
      ]
    },
    {
      "cell_type": "markdown",
      "metadata": {
        "id": "KA-L_QLZnwIP",
        "colab_type": "text"
      },
      "source": [
        "# Libraries importation"
      ]
    },
    {
      "cell_type": "code",
      "metadata": {
        "id": "h_xI7FpYn3Oj",
        "colab_type": "code",
        "outputId": "6717dd7e-e025-4d0a-8c25-d1a47efe7d31",
        "colab": {
          "base_uri": "https://localhost:8080/",
          "height": 170
        }
      },
      "source": [
        "try:\n",
        "    from google.colab import files\n",
        "    IN_COLAB = True\n",
        "except:\n",
        "    IN_COLAB = False\n",
        "\n",
        "\n",
        "import numpy as np\n",
        "import tensorflow as tf\n",
        "import matplotlib\n",
        "import matplotlib.pyplot as plt\n",
        "import nltk\n",
        "from nltk.corpus import treebank, nps_chat\n",
        "from nltk.cluster import KMeansClusterer\n",
        "import pandas as pd\n",
        "import gensim\n",
        "from gensim.models import Word2Vec\n",
        "import sklearn\n",
        "from sklearn.feature_extraction.text import TfidfVectorizer\n",
        "from sklearn.feature_extraction.text import CountVectorizer\n",
        "from sklearn.model_selection import train_test_split\n",
        "from sklearn import cluster\n",
        "from sklearn import metrics\n",
        "import spacy\n",
        "\n",
        "nlp = spacy.load(\"en_core_web_sm\")\n",
        "\n",
        "print(\"Libraries version:\")\n",
        "print(f\"Numpy:      {np.__version__}\")\n",
        "print(f\"Matplotlib: {matplotlib.__version__}\")\n",
        "print(f\"Tensorflow: {tf.__version__}\")\n",
        "print(f\"NLTK:       {nltk.__version__}\")\n",
        "print(f\"Pandas:     {pd.__version__}\")\n",
        "print(f\"Gensim:     {gensim.__version__}\")\n",
        "print(f\"Sklearn:    {sklearn.__version__}\")\n",
        "print(f\"Spacy:      {spacy.__version__}\")"
      ],
      "execution_count": 2,
      "outputs": [
        {
          "output_type": "stream",
          "text": [
            "Libraries version:\n",
            "Numpy:      1.18.4\n",
            "Matplotlib: 3.2.1\n",
            "Tensorflow: 2.2.0\n",
            "NLTK:       3.2.5\n",
            "Pandas:     1.0.4\n",
            "Gensim:     3.6.0\n",
            "Sklearn:    0.22.2.post1\n",
            "Spacy:      2.2.4\n"
          ],
          "name": "stdout"
        }
      ]
    },
    {
      "cell_type": "markdown",
      "metadata": {
        "id": "vx_bk4c7icg8",
        "colab_type": "text"
      },
      "source": [
        "## Data preparation"
      ]
    },
    {
      "cell_type": "code",
      "metadata": {
        "id": "qHJf9cVGXUtE",
        "colab_type": "code",
        "outputId": "bffb3475-6895-4f03-aee4-8f9977e3f001",
        "colab": {
          "base_uri": "https://localhost:8080/",
          "height": 669
        }
      },
      "source": [
        "## Data importation\n",
        "if IN_COLAB :\n",
        "    url_movie_wiki = \"https://raw.githubusercontent.com/maximecharriere/movie-chatbot/master/data/movie_wiki_infos/wiki_movie_plots_deduped.csv\"\n",
        "else:\n",
        "    url_movie_wiki = \"data/movie_wiki_infos/wiki_movie_plots_deduped.csv\"\n",
        "    \n",
        "movies = pd.read_csv(url_movie_wiki, sep=',', engine='python')[['Title','Plot','Genre']]\n",
        "movies.head(20)"
      ],
      "execution_count": 10,
      "outputs": [
        {
          "output_type": "execute_result",
          "data": {
            "text/html": [
              "<div>\n",
              "<style scoped>\n",
              "    .dataframe tbody tr th:only-of-type {\n",
              "        vertical-align: middle;\n",
              "    }\n",
              "\n",
              "    .dataframe tbody tr th {\n",
              "        vertical-align: top;\n",
              "    }\n",
              "\n",
              "    .dataframe thead th {\n",
              "        text-align: right;\n",
              "    }\n",
              "</style>\n",
              "<table border=\"1\" class=\"dataframe\">\n",
              "  <thead>\n",
              "    <tr style=\"text-align: right;\">\n",
              "      <th></th>\n",
              "      <th>Title</th>\n",
              "      <th>Plot</th>\n",
              "      <th>Genre</th>\n",
              "    </tr>\n",
              "  </thead>\n",
              "  <tbody>\n",
              "    <tr>\n",
              "      <th>0</th>\n",
              "      <td>Kansas Saloon Smashers</td>\n",
              "      <td>A bartender is working at a saloon, serving dr...</td>\n",
              "      <td>unknown</td>\n",
              "    </tr>\n",
              "    <tr>\n",
              "      <th>1</th>\n",
              "      <td>Love by the Light of the Moon</td>\n",
              "      <td>The moon, painted with a smiling face hangs ov...</td>\n",
              "      <td>unknown</td>\n",
              "    </tr>\n",
              "    <tr>\n",
              "      <th>2</th>\n",
              "      <td>The Martyred Presidents</td>\n",
              "      <td>The film, just over a minute long, is composed...</td>\n",
              "      <td>unknown</td>\n",
              "    </tr>\n",
              "    <tr>\n",
              "      <th>3</th>\n",
              "      <td>Terrible Teddy, the Grizzly King</td>\n",
              "      <td>Lasting just 61 seconds and consisting of two ...</td>\n",
              "      <td>unknown</td>\n",
              "    </tr>\n",
              "    <tr>\n",
              "      <th>4</th>\n",
              "      <td>Jack and the Beanstalk</td>\n",
              "      <td>The earliest known adaptation of the classic f...</td>\n",
              "      <td>unknown</td>\n",
              "    </tr>\n",
              "    <tr>\n",
              "      <th>5</th>\n",
              "      <td>Alice in Wonderland</td>\n",
              "      <td>Alice follows a large white rabbit down a \"Rab...</td>\n",
              "      <td>unknown</td>\n",
              "    </tr>\n",
              "    <tr>\n",
              "      <th>6</th>\n",
              "      <td>The Great Train Robbery</td>\n",
              "      <td>The film opens with two bandits breaking into ...</td>\n",
              "      <td>western</td>\n",
              "    </tr>\n",
              "    <tr>\n",
              "      <th>7</th>\n",
              "      <td>The Suburbanite</td>\n",
              "      <td>The film is about a family who move to the sub...</td>\n",
              "      <td>comedy</td>\n",
              "    </tr>\n",
              "    <tr>\n",
              "      <th>8</th>\n",
              "      <td>The Little Train Robbery</td>\n",
              "      <td>The opening scene shows the interior of the ro...</td>\n",
              "      <td>unknown</td>\n",
              "    </tr>\n",
              "    <tr>\n",
              "      <th>9</th>\n",
              "      <td>The Night Before Christmas</td>\n",
              "      <td>Scenes are introduced using lines of the poem....</td>\n",
              "      <td>unknown</td>\n",
              "    </tr>\n",
              "    <tr>\n",
              "      <th>10</th>\n",
              "      <td>Dream of a Rarebit Fiend</td>\n",
              "      <td>The Rarebit Fiend gorges on Welsh rarebit at a...</td>\n",
              "      <td>short</td>\n",
              "    </tr>\n",
              "    <tr>\n",
              "      <th>11</th>\n",
              "      <td>From Leadville to Aspen: A Hold-Up in the Rockies</td>\n",
              "      <td>The film features a train traveling through th...</td>\n",
              "      <td>short action/crime western</td>\n",
              "    </tr>\n",
              "    <tr>\n",
              "      <th>12</th>\n",
              "      <td>Kathleen Mavourneen</td>\n",
              "      <td>Irish villager Kathleen is a tenant of Captain...</td>\n",
              "      <td>short film</td>\n",
              "    </tr>\n",
              "    <tr>\n",
              "      <th>13</th>\n",
              "      <td>Daniel Boone</td>\n",
              "      <td>Boone's daughter befriends an Indian maiden as...</td>\n",
              "      <td>biographical</td>\n",
              "    </tr>\n",
              "    <tr>\n",
              "      <th>14</th>\n",
              "      <td>How Brown Saw the Baseball Game</td>\n",
              "      <td>Before heading out to a baseball game at a nea...</td>\n",
              "      <td>comedy</td>\n",
              "    </tr>\n",
              "    <tr>\n",
              "      <th>15</th>\n",
              "      <td>Laughing Gas</td>\n",
              "      <td>The plot is that of a black woman going to the...</td>\n",
              "      <td>comedy</td>\n",
              "    </tr>\n",
              "    <tr>\n",
              "      <th>16</th>\n",
              "      <td>The Adventures of Dollie</td>\n",
              "      <td>On a beautiful summer day a father and mother ...</td>\n",
              "      <td>drama</td>\n",
              "    </tr>\n",
              "    <tr>\n",
              "      <th>17</th>\n",
              "      <td>The Black Viper</td>\n",
              "      <td>A thug accosts a girl as she leaves her workpl...</td>\n",
              "      <td>drama</td>\n",
              "    </tr>\n",
              "    <tr>\n",
              "      <th>18</th>\n",
              "      <td>A Calamitous Elopement</td>\n",
              "      <td>A young couple decides to elope after being ca...</td>\n",
              "      <td>comedy</td>\n",
              "    </tr>\n",
              "    <tr>\n",
              "      <th>19</th>\n",
              "      <td>The Call of the Wild</td>\n",
              "      <td>A white girl (Florence Lawrence) rejects a pro...</td>\n",
              "      <td>adventure</td>\n",
              "    </tr>\n",
              "  </tbody>\n",
              "</table>\n",
              "</div>"
            ],
            "text/plain": [
              "                                                Title  ...                       Genre\n",
              "0                              Kansas Saloon Smashers  ...                     unknown\n",
              "1                       Love by the Light of the Moon  ...                     unknown\n",
              "2                             The Martyred Presidents  ...                     unknown\n",
              "3                    Terrible Teddy, the Grizzly King  ...                     unknown\n",
              "4                              Jack and the Beanstalk  ...                     unknown\n",
              "5                                 Alice in Wonderland  ...                     unknown\n",
              "6                             The Great Train Robbery  ...                     western\n",
              "7                                     The Suburbanite  ...                      comedy\n",
              "8                            The Little Train Robbery  ...                     unknown\n",
              "9                          The Night Before Christmas  ...                     unknown\n",
              "10                           Dream of a Rarebit Fiend  ...                       short\n",
              "11  From Leadville to Aspen: A Hold-Up in the Rockies  ...  short action/crime western\n",
              "12                                Kathleen Mavourneen  ...                  short film\n",
              "13                                       Daniel Boone  ...                biographical\n",
              "14                    How Brown Saw the Baseball Game  ...                      comedy\n",
              "15                                       Laughing Gas  ...                      comedy\n",
              "16                           The Adventures of Dollie  ...                       drama\n",
              "17                                    The Black Viper  ...                       drama\n",
              "18                             A Calamitous Elopement  ...                      comedy\n",
              "19                               The Call of the Wild  ...                   adventure\n",
              "\n",
              "[20 rows x 3 columns]"
            ]
          },
          "metadata": {
            "tags": []
          },
          "execution_count": 10
        }
      ]
    },
    {
      "cell_type": "code",
      "metadata": {
        "id": "fqQirGYtXV9Q",
        "colab_type": "code",
        "outputId": "99817255-02e2-449c-c909-682a10fedc2f",
        "colab": {
          "base_uri": "https://localhost:8080/",
          "height": 34
        }
      },
      "source": [
        "print(f\"Nombre de catégories: {len(movies['Genre'].value_counts())}\")"
      ],
      "execution_count": 11,
      "outputs": [
        {
          "output_type": "stream",
          "text": [
            "Nombre de catégories: 2265\n"
          ],
          "name": "stdout"
        }
      ]
    },
    {
      "cell_type": "code",
      "metadata": {
        "id": "uUIW8nNcYl-N",
        "colab_type": "code",
        "outputId": "ec7f3eab-13c7-4ce0-949d-45ee4f474d51",
        "colab": {
          "base_uri": "https://localhost:8080/",
          "height": 34
        }
      },
      "source": [
        "## Manual harmonization of categories\n",
        "\n",
        "movies['GenreCorrected']=movies['Genre'] \n",
        "movies['GenreCorrected']=movies['GenreCorrected'].str.replace('/', ' ')\n",
        "\n",
        "# Delete unwanted categories\n",
        "movies['GenreCorrected']=movies['GenreCorrected'].str.replace('unknown', '')\n",
        "movies['GenreCorrected']=movies['GenreCorrected'].str.replace('\\[not in citation given\\]','')\n",
        "movies['GenreCorrected']=movies['GenreCorrected'].str.replace('avant-garde','')\n",
        "movies['GenreCorrected']=movies['GenreCorrected'].str.replace('period','')\n",
        "movies['GenreCorrected']=movies['GenreCorrected'].str.replace('national','')\n",
        "movies['GenreCorrected']=movies['GenreCorrected'].str.replace('board','')\n",
        "movies['GenreCorrected']=movies['GenreCorrected'].str.replace('costume','')\n",
        "movies['GenreCorrected']=movies['GenreCorrected'].str.replace('movies','')\n",
        "movies['GenreCorrected']=movies['GenreCorrected'].str.replace('movie','')\n",
        "movies['GenreCorrected']=movies['GenreCorrected'].str.replace('films','')\n",
        "movies['GenreCorrected']=movies['GenreCorrected'].str.replace('film','')\n",
        "\n",
        "# Rename categories\n",
        "movies['GenreCorrected']=movies['GenreCorrected'].str.replace('bio-pic', 'biography')\n",
        "movies['GenreCorrected']=movies['GenreCorrected'].str.replace('biopic', 'biography')\n",
        "movies['GenreCorrected']=movies['GenreCorrected'].str.replace('biographical', 'biography')\n",
        "movies['GenreCorrected']=movies['GenreCorrected'].str.replace('biodrama', 'biography drama')\n",
        "movies['GenreCorrected']=movies['GenreCorrected'].str.replace('bio-drama', 'biography drama')\n",
        "movies['GenreCorrected']=movies['GenreCorrected'].str.replace('biographic', 'biography')\n",
        "movies['GenreCorrected']=movies['GenreCorrected'].str.replace('animated','animation')\n",
        "movies['GenreCorrected']=movies['GenreCorrected'].str.replace('anime','animation')\n",
        "movies['GenreCorrected']=movies['GenreCorrected'].str.replace('disaster','action')\n",
        "movies['GenreCorrected']=movies['GenreCorrected'].str.replace('comedey','comedy')\n",
        "movies['GenreCorrected']=movies['GenreCorrected'].str.replace('dramedy','comedy drama')\n",
        "movies['GenreCorrected']=movies['GenreCorrected'].str.replace('mockumentary','documentary')\n",
        "movies['GenreCorrected']=movies['GenreCorrected'].str.replace('historical','history')\n",
        "movies['GenreCorrected']=movies['GenreCorrected'].str.replace('historic','history')\n",
        "movies['GenreCorrected']=movies['GenreCorrected'].str.replace('prehistoric','history')\n",
        "movies['GenreCorrected']=movies['GenreCorrected'].str.replace('mythology','history')\n",
        "movies['GenreCorrected']=movies['GenreCorrected'].str.replace('romantic','romance')\n",
        "movies['GenreCorrected']=movies['GenreCorrected'].str.replace('3-d','animation')\n",
        "movies['GenreCorrected']=movies['GenreCorrected'].str.replace('3d','animation')\n",
        "movies['GenreCorrected']=movies['GenreCorrected'].str.replace('sci-fi','science_fiction')\n",
        "movies['GenreCorrected']=movies['GenreCorrected'].str.replace('ttriller','thriller')\n",
        "movies['GenreCorrected']=movies['GenreCorrected'].str.replace('sci fi','science_fiction')\n",
        "movies['GenreCorrected']=movies['GenreCorrected'].str.replace('science fiction','science_fiction')\n",
        "movies['GenreCorrected']=movies['GenreCorrected'].str.replace('kung fu','martial_arts')\n",
        "movies['GenreCorrected']=movies['GenreCorrected'].str.replace('kung-fu','martial_arts')\n",
        "movies['GenreCorrected']=movies['GenreCorrected'].str.replace('martial arts','martial_arts')\n",
        "movies['GenreCorrected']=movies['GenreCorrected'].str.replace('bruceploitation','martial_arts')\n",
        "movies['GenreCorrected']=movies['GenreCorrected'].str.replace('comedy-drama adaptation of the mordecai richler novel','comedy drama')\n",
        "movies['GenreCorrected']=movies['GenreCorrected'].str.replace('stop-motion','animation')\n",
        "movies['GenreCorrected']=movies['GenreCorrected'].str.replace('coming of age','coming_of_age')\n",
        "movies['GenreCorrected']=movies['GenreCorrected'].str.replace('coming-of-age','coming_of_age')\n",
        "movies['GenreCorrected']=movies['GenreCorrected'].str.replace('drama about child soldiers','drama')\n",
        "movies['GenreCorrected']=movies['GenreCorrected'].str.replace('melodrama','drama')\n",
        "movies['GenreCorrected']=movies['GenreCorrected'].str.replace('tv miniseries','serial')\n",
        "movies['GenreCorrected']=movies['GenreCorrected'].str.replace('television miniseries','serial')\n",
        "movies['GenreCorrected']=movies['GenreCorrected'].str.replace(\"war-time\",\"war\")\n",
        "movies['GenreCorrected']=movies['GenreCorrected'].str.replace(\"wartime\",\"war\")\n",
        "movies['GenreCorrected']=movies['GenreCorrected'].str.replace('world war ii','war')\n",
        "movies['GenreCorrected']=movies['GenreCorrected'].str.replace('world war i','war')\n",
        "movies['GenreCorrected']=movies['GenreCorrected'].str.replace(\"tokusatsu\",\"action\")\n",
        "movies['GenreCorrected']=movies['GenreCorrected'].str.replace(\"ww1\",\"war\")\n",
        "movies['GenreCorrected']=movies['GenreCorrected'].str.replace(\"wwii\",\"war\")\n",
        "movies['GenreCorrected']=movies['GenreCorrected'].str.replace('superheroes','superhero')\n",
        "movies['GenreCorrected']=movies['GenreCorrected'].str.replace('superheroe','superhero')\n",
        "movies['GenreCorrected']=movies['GenreCorrected'].str.replace('familya','family')\n",
        "movies['GenreCorrected']=movies['GenreCorrected'].str.replace('familydrama','family drama')\n",
        "movies['GenreCorrected']=movies['GenreCorrected'].str.replace('famil ','family')\n",
        "movies['GenreCorrected']=movies['GenreCorrected'].str.replace('espionage','spy')\n",
        "movies['GenreCorrected']=movies['GenreCorrected'].str.replace('noir','black')\n",
        "movies['GenreCorrected']=movies['GenreCorrected'].str.replace('dark','black')\n",
        "movies['GenreCorrected']=movies['GenreCorrected'].str.replace('psychological','psycho')\n",
        "movies['GenreCorrected']=movies['GenreCorrected'].str.replace('rom-com','romance')\n",
        "movies['GenreCorrected']=movies['GenreCorrected'].str.replace('gun fu','martial_arts')\n",
        "movies['GenreCorrected']=movies['GenreCorrected'].str.replace('docudrama','documentary drama')\n",
        "movies['GenreCorrected']=movies['GenreCorrected'].str.replace('football','sports')\n",
        "movies['GenreCorrected']=movies['GenreCorrected'].str.replace('martial art','martial_arts')\n",
        "movies['GenreCorrected']=movies['GenreCorrected'].str.replace('erotica','adult')\n",
        "movies['GenreCorrected']=movies['GenreCorrected'].str.replace('erotic','adult')\n",
        "movies['GenreCorrected']=movies['GenreCorrected'].str.replace('musical','music')\n",
        "movies['GenreCorrected']=movies['GenreCorrected'].str.replace('gangster','action')\n",
        "movies['GenreCorrected']=movies['GenreCorrected'].str.replace('swashbuckler','action')\n",
        "movies['GenreCorrected']=movies['GenreCorrected'].str.replace('police','action')\n",
        "movies['GenreCorrected']=movies['GenreCorrected'].str.replace('dance','sport')\n",
        "movies['GenreCorrected']=movies['GenreCorrected'].str.replace('sports','sport')\n",
        "movies['GenreCorrected']=movies['GenreCorrected'].str.replace('muslim','religious')\n",
        "movies['GenreCorrected']=movies['GenreCorrected'].str.replace('propaganda','political')\n",
        "movies['GenreCorrected']=movies['GenreCorrected'].str.replace('samurai','action')\n",
        "movies['GenreCorrected']=movies['GenreCorrected'].str.replace('sexploitation','adult')\n",
        "movies['GenreCorrected']=movies['GenreCorrected'].str.replace('homosexual','adult')\n",
        "movies['GenreCorrected']=movies['GenreCorrected'].str.replace('socio','social')\n",
        "movies['GenreCorrected']=movies['GenreCorrected'].str.replace('sexual','adult')\n",
        "movies['GenreCorrected']=movies['GenreCorrected'].str.replace('sex','adult')\n",
        "\n",
        "# Merge some categories\n",
        "movies['GenreCorrected']=movies['GenreCorrected'].str.replace('family','child')\n",
        "movies['GenreCorrected']=movies['GenreCorrected'].str.replace('martial_arts','action')\n",
        "movies['GenreCorrected']=movies['GenreCorrected'].str.replace('horror','thriller')\n",
        "movies['GenreCorrected']=movies['GenreCorrected'].str.replace('war','action')\n",
        "movies['GenreCorrected']=movies['GenreCorrected'].str.replace('adventure','action')\n",
        "movies['GenreCorrected']=movies['GenreCorrected'].str.replace('science_fiction','action')\n",
        "movies['GenreCorrected']=movies['GenreCorrected'].str.replace('spy','action')\n",
        "movies['GenreCorrected']=movies['GenreCorrected'].str.replace('superhero','action')\n",
        "movies['GenreCorrected']=movies['GenreCorrected'].str.replace('suspense','action')\n",
        "movies['GenreCorrected']=movies['GenreCorrected'].str.replace('thriller','action')\n",
        "movies['GenreCorrected']=movies['GenreCorrected'].str.replace('epic','action')\n",
        "movies['GenreCorrected']=movies['GenreCorrected'].str.replace('crime','action')\n",
        "movies['GenreCorrected']=movies['GenreCorrected'].str.replace('western','action')\n",
        "movies['GenreCorrected']=movies['GenreCorrected'].str.replace('music','cultural')\n",
        "movies['GenreCorrected']=movies['GenreCorrected'].str.replace('sport','cultural')\n",
        "movies['GenreCorrected']=movies['GenreCorrected'].str.replace('biography','cultural')\n",
        "movies['GenreCorrected']=movies['GenreCorrected'].str.replace('history','cultural')\n",
        "movies['GenreCorrected']=movies['GenreCorrected'].str.replace('documentary','cultural')\n",
        "movies['GenreCorrected']=movies['GenreCorrected'].str.replace('political','cultural')\n",
        "movies['GenreCorrected']=movies['GenreCorrected'].str.replace('science','cultural')\n",
        "movies['GenreCorrected']=movies['GenreCorrected'].str.replace('psycho','cultural')\n",
        "movies['GenreCorrected']=movies['GenreCorrected'].str.replace('mystery','thriller')\n",
        "\n",
        "\n",
        "print(f\"Nombre de catégories: {len(movies['GenreCorrected'].value_counts())}\")"
      ],
      "execution_count": 12,
      "outputs": [
        {
          "output_type": "stream",
          "text": [
            "Nombre de catégories: 1411\n"
          ],
          "name": "stdout"
        }
      ]
    },
    {
      "cell_type": "code",
      "metadata": {
        "id": "zawvJ-aVbKbE",
        "colab_type": "code",
        "outputId": "f2448563-3cc8-4867-98d1-26ea4bd85c9c",
        "colab": {
          "base_uri": "https://localhost:8080/",
          "height": 669
        }
      },
      "source": [
        "## Automatic harmonization of categories and listing of them\n",
        "\n",
        "nlp = spacy.load(\"en_core_web_sm\")\n",
        "\n",
        "movies['GenreListed'] = movies['GenreCorrected']\n",
        "\n",
        "for genre in movies['GenreCorrected'].unique():\n",
        "  tokens = nlp(genre)\n",
        "  listed_genre = [token.lemma_.lower() for token in tokens if not token.is_punct and not token.is_digit and not token.is_space and not token.is_stop]\n",
        "  for i in np.where(movies['GenreCorrected']==genre)[0]:\n",
        "    movies.at[i,'GenreListed'] = np.unique(np.array(listed_genre))\n",
        "\n",
        "movies.head(20)"
      ],
      "execution_count": 13,
      "outputs": [
        {
          "output_type": "execute_result",
          "data": {
            "text/html": [
              "<div>\n",
              "<style scoped>\n",
              "    .dataframe tbody tr th:only-of-type {\n",
              "        vertical-align: middle;\n",
              "    }\n",
              "\n",
              "    .dataframe tbody tr th {\n",
              "        vertical-align: top;\n",
              "    }\n",
              "\n",
              "    .dataframe thead th {\n",
              "        text-align: right;\n",
              "    }\n",
              "</style>\n",
              "<table border=\"1\" class=\"dataframe\">\n",
              "  <thead>\n",
              "    <tr style=\"text-align: right;\">\n",
              "      <th></th>\n",
              "      <th>Title</th>\n",
              "      <th>Plot</th>\n",
              "      <th>Genre</th>\n",
              "      <th>GenreCorrected</th>\n",
              "      <th>GenreListed</th>\n",
              "    </tr>\n",
              "  </thead>\n",
              "  <tbody>\n",
              "    <tr>\n",
              "      <th>0</th>\n",
              "      <td>Kansas Saloon Smashers</td>\n",
              "      <td>A bartender is working at a saloon, serving dr...</td>\n",
              "      <td>unknown</td>\n",
              "      <td></td>\n",
              "      <td>[]</td>\n",
              "    </tr>\n",
              "    <tr>\n",
              "      <th>1</th>\n",
              "      <td>Love by the Light of the Moon</td>\n",
              "      <td>The moon, painted with a smiling face hangs ov...</td>\n",
              "      <td>unknown</td>\n",
              "      <td></td>\n",
              "      <td>[]</td>\n",
              "    </tr>\n",
              "    <tr>\n",
              "      <th>2</th>\n",
              "      <td>The Martyred Presidents</td>\n",
              "      <td>The film, just over a minute long, is composed...</td>\n",
              "      <td>unknown</td>\n",
              "      <td></td>\n",
              "      <td>[]</td>\n",
              "    </tr>\n",
              "    <tr>\n",
              "      <th>3</th>\n",
              "      <td>Terrible Teddy, the Grizzly King</td>\n",
              "      <td>Lasting just 61 seconds and consisting of two ...</td>\n",
              "      <td>unknown</td>\n",
              "      <td></td>\n",
              "      <td>[]</td>\n",
              "    </tr>\n",
              "    <tr>\n",
              "      <th>4</th>\n",
              "      <td>Jack and the Beanstalk</td>\n",
              "      <td>The earliest known adaptation of the classic f...</td>\n",
              "      <td>unknown</td>\n",
              "      <td></td>\n",
              "      <td>[]</td>\n",
              "    </tr>\n",
              "    <tr>\n",
              "      <th>5</th>\n",
              "      <td>Alice in Wonderland</td>\n",
              "      <td>Alice follows a large white rabbit down a \"Rab...</td>\n",
              "      <td>unknown</td>\n",
              "      <td></td>\n",
              "      <td>[]</td>\n",
              "    </tr>\n",
              "    <tr>\n",
              "      <th>6</th>\n",
              "      <td>The Great Train Robbery</td>\n",
              "      <td>The film opens with two bandits breaking into ...</td>\n",
              "      <td>western</td>\n",
              "      <td>action</td>\n",
              "      <td>[action]</td>\n",
              "    </tr>\n",
              "    <tr>\n",
              "      <th>7</th>\n",
              "      <td>The Suburbanite</td>\n",
              "      <td>The film is about a family who move to the sub...</td>\n",
              "      <td>comedy</td>\n",
              "      <td>comedy</td>\n",
              "      <td>[comedy]</td>\n",
              "    </tr>\n",
              "    <tr>\n",
              "      <th>8</th>\n",
              "      <td>The Little Train Robbery</td>\n",
              "      <td>The opening scene shows the interior of the ro...</td>\n",
              "      <td>unknown</td>\n",
              "      <td></td>\n",
              "      <td>[]</td>\n",
              "    </tr>\n",
              "    <tr>\n",
              "      <th>9</th>\n",
              "      <td>The Night Before Christmas</td>\n",
              "      <td>Scenes are introduced using lines of the poem....</td>\n",
              "      <td>unknown</td>\n",
              "      <td></td>\n",
              "      <td>[]</td>\n",
              "    </tr>\n",
              "    <tr>\n",
              "      <th>10</th>\n",
              "      <td>Dream of a Rarebit Fiend</td>\n",
              "      <td>The Rarebit Fiend gorges on Welsh rarebit at a...</td>\n",
              "      <td>short</td>\n",
              "      <td>short</td>\n",
              "      <td>[short]</td>\n",
              "    </tr>\n",
              "    <tr>\n",
              "      <th>11</th>\n",
              "      <td>From Leadville to Aspen: A Hold-Up in the Rockies</td>\n",
              "      <td>The film features a train traveling through th...</td>\n",
              "      <td>short action/crime western</td>\n",
              "      <td>short action action action</td>\n",
              "      <td>[action, short]</td>\n",
              "    </tr>\n",
              "    <tr>\n",
              "      <th>12</th>\n",
              "      <td>Kathleen Mavourneen</td>\n",
              "      <td>Irish villager Kathleen is a tenant of Captain...</td>\n",
              "      <td>short film</td>\n",
              "      <td>short</td>\n",
              "      <td>[short]</td>\n",
              "    </tr>\n",
              "    <tr>\n",
              "      <th>13</th>\n",
              "      <td>Daniel Boone</td>\n",
              "      <td>Boone's daughter befriends an Indian maiden as...</td>\n",
              "      <td>biographical</td>\n",
              "      <td>cultural</td>\n",
              "      <td>[cultural]</td>\n",
              "    </tr>\n",
              "    <tr>\n",
              "      <th>14</th>\n",
              "      <td>How Brown Saw the Baseball Game</td>\n",
              "      <td>Before heading out to a baseball game at a nea...</td>\n",
              "      <td>comedy</td>\n",
              "      <td>comedy</td>\n",
              "      <td>[comedy]</td>\n",
              "    </tr>\n",
              "    <tr>\n",
              "      <th>15</th>\n",
              "      <td>Laughing Gas</td>\n",
              "      <td>The plot is that of a black woman going to the...</td>\n",
              "      <td>comedy</td>\n",
              "      <td>comedy</td>\n",
              "      <td>[comedy]</td>\n",
              "    </tr>\n",
              "    <tr>\n",
              "      <th>16</th>\n",
              "      <td>The Adventures of Dollie</td>\n",
              "      <td>On a beautiful summer day a father and mother ...</td>\n",
              "      <td>drama</td>\n",
              "      <td>drama</td>\n",
              "      <td>[drama]</td>\n",
              "    </tr>\n",
              "    <tr>\n",
              "      <th>17</th>\n",
              "      <td>The Black Viper</td>\n",
              "      <td>A thug accosts a girl as she leaves her workpl...</td>\n",
              "      <td>drama</td>\n",
              "      <td>drama</td>\n",
              "      <td>[drama]</td>\n",
              "    </tr>\n",
              "    <tr>\n",
              "      <th>18</th>\n",
              "      <td>A Calamitous Elopement</td>\n",
              "      <td>A young couple decides to elope after being ca...</td>\n",
              "      <td>comedy</td>\n",
              "      <td>comedy</td>\n",
              "      <td>[comedy]</td>\n",
              "    </tr>\n",
              "    <tr>\n",
              "      <th>19</th>\n",
              "      <td>The Call of the Wild</td>\n",
              "      <td>A white girl (Florence Lawrence) rejects a pro...</td>\n",
              "      <td>adventure</td>\n",
              "      <td>action</td>\n",
              "      <td>[action]</td>\n",
              "    </tr>\n",
              "  </tbody>\n",
              "</table>\n",
              "</div>"
            ],
            "text/plain": [
              "                                                Title  ...      GenreListed\n",
              "0                              Kansas Saloon Smashers  ...               []\n",
              "1                       Love by the Light of the Moon  ...               []\n",
              "2                             The Martyred Presidents  ...               []\n",
              "3                    Terrible Teddy, the Grizzly King  ...               []\n",
              "4                              Jack and the Beanstalk  ...               []\n",
              "5                                 Alice in Wonderland  ...               []\n",
              "6                             The Great Train Robbery  ...         [action]\n",
              "7                                     The Suburbanite  ...         [comedy]\n",
              "8                            The Little Train Robbery  ...               []\n",
              "9                          The Night Before Christmas  ...               []\n",
              "10                           Dream of a Rarebit Fiend  ...          [short]\n",
              "11  From Leadville to Aspen: A Hold-Up in the Rockies  ...  [action, short]\n",
              "12                                Kathleen Mavourneen  ...          [short]\n",
              "13                                       Daniel Boone  ...       [cultural]\n",
              "14                    How Brown Saw the Baseball Game  ...         [comedy]\n",
              "15                                       Laughing Gas  ...         [comedy]\n",
              "16                           The Adventures of Dollie  ...          [drama]\n",
              "17                                    The Black Viper  ...          [drama]\n",
              "18                             A Calamitous Elopement  ...         [comedy]\n",
              "19                               The Call of the Wild  ...         [action]\n",
              "\n",
              "[20 rows x 5 columns]"
            ]
          },
          "metadata": {
            "tags": []
          },
          "execution_count": 13
        }
      ]
    },
    {
      "cell_type": "code",
      "metadata": {
        "id": "MjqUAKEZHvtU",
        "colab_type": "code",
        "colab": {}
      },
      "source": [
        "# Saving of all film\n",
        "movies[['Title','Genre','GenreCorrected','GenreListed']].to_csv('completGenres.csv')\n",
        "\n",
        "if IN_COLAB:\n",
        "    files.download('completGenres.csv') "
      ],
      "execution_count": 0,
      "outputs": []
    },
    {
      "cell_type": "code",
      "metadata": {
        "id": "vEwfiwNzRpJj",
        "colab_type": "code",
        "colab": {}
      },
      "source": [
        "## Listing of all unique categories and their occurrence\n",
        "genres_array = np.array([])\n",
        "for genre in movies['GenreListed']:\n",
        "    genres_array = np.concatenate((genres_array, genre ))\n",
        "uniqueGenre, uniqueGenreCount = np.unique(genres_array, return_counts=True)\n",
        "print(f\"Nombre de catégories: {len(uniqueGenre)}\")"
      ],
      "execution_count": 0,
      "outputs": []
    },
    {
      "cell_type": "code",
      "metadata": {
        "id": "Bbpc8aUdU5XQ",
        "colab_type": "code",
        "outputId": "ec736584-dfab-4c4d-d214-78600b76b101",
        "colab": {
          "base_uri": "https://localhost:8080/",
          "height": 34
        }
      },
      "source": [
        "# Saving of unique categories\n",
        "genres = pd.DataFrame({'Genre':uniqueGenre, 'Count':uniqueGenreCount}).sort_values(by=['Count'], ascending = False, ignore_index=True)\n",
        "genres.to_csv('uniqueGenres.csv')\n",
        "\n",
        "if IN_COLAB:\n",
        "    files.download('uniqueGenres.csv') "
      ],
      "execution_count": 16,
      "outputs": [
        {
          "output_type": "stream",
          "text": [
            "Nombre de catégories: 559\n"
          ],
          "name": "stdout"
        }
      ]
    },
    {
      "cell_type": "code",
      "metadata": {
        "id": "FKebEmsFc_Qr",
        "colab_type": "code",
        "outputId": "bbb3790c-2501-4ffc-9944-d223b16cbedf",
        "colab": {
          "base_uri": "https://localhost:8080/",
          "height": 393
        }
      },
      "source": [
        "## Show 10 main categories\n",
        "mainGenres = genres.loc[:9,:]\n",
        "mainGenres.plot(x='Genre', y='Count', kind='bar', legend=False, grid=True, figsize=(8, 5))\n",
        "plt.title(\"Number of movies per genre\")\n",
        "plt.ylabel('# of Occurrences', fontsize=12)\n",
        "plt.xlabel('Movie genres', fontsize=12)\n",
        "plt.show()"
      ],
      "execution_count": 17,
      "outputs": [
        {
          "output_type": "display_data",
          "data": {
            "image/png": "[encoded data removed]",
            "text/plain": [
              "<Figure size 576x360 with 1 Axes>"
            ]
          },
          "metadata": {
            "tags": [],
            "needs_background": "light"
          }
        }
      ]
    },
    {
      "cell_type": "code",
      "metadata": {
        "id": "gnpR6XiRghe7",
        "colab_type": "code",
        "outputId": "fa334093-bc33-491e-9a72-e72aceac39f4",
        "colab": {
          "base_uri": "https://localhost:8080/",
          "height": 51
        }
      },
      "source": [
        "## Keep only the main categories\n",
        "movies['MainGenre'] = movies['GenreListed'].apply(lambda x: x[np.in1d(x,mainGenres)])"
      ],
      "execution_count": 18,
      "outputs": [
        {
          "output_type": "stream",
          "text": [
            "/usr/local/lib/python3.6/dist-packages/numpy/lib/arraysetops.py:569: FutureWarning: elementwise comparison failed; returning scalar instead, but in the future will perform elementwise comparison\n",
            "  mask |= (ar1 == a)\n"
          ],
          "name": "stderr"
        }
      ]
    },
    {
      "cell_type": "code",
      "metadata": {
        "id": "18WMNNb4jPE6",
        "colab_type": "code",
        "outputId": "d7fff64e-0020-458b-b16a-8ac5ff26bcb3",
        "colab": {
          "base_uri": "https://localhost:8080/",
          "height": 51
        }
      },
      "source": [
        "## Keep only films with categories\n",
        "print(movies.shape)\n",
        "selectedMovies = movies[movies['MainGenre'].apply(len)>0]\n",
        "print(selectedMovies.shape)"
      ],
      "execution_count": 19,
      "outputs": [
        {
          "output_type": "stream",
          "text": [
            "(34886, 6)\n",
            "(28130, 6)\n"
          ],
          "name": "stdout"
        }
      ]
    },
    {
      "cell_type": "code",
      "metadata": {
        "id": "lAAhgmgLWs-0",
        "colab_type": "code",
        "outputId": "1ec94890-47bb-4617-fa35-777117d2ffd1",
        "colab": {
          "base_uri": "https://localhost:8080/",
          "height": 51
        }
      },
      "source": [
        "# Creat the output layer with all categories\n",
        "%store -r categoriesVector\n",
        "try:\n",
        "  categoriesVector\n",
        "except:\n",
        "  categoriesVector = np.stack(selectedMovies['MainGenre'].apply(lambda x: np.isin(mainGenres['Genre'],x))*1)\n",
        "  %store categoriesVector"
      ],
      "execution_count": 30,
      "outputs": [
        {
          "output_type": "stream",
          "text": [
            "CPU times: user 852 ms, sys: 11 ms, total: 863 ms\n",
            "Wall time: 864 ms\n"
          ],
          "name": "stdout"
        }
      ]
    },
    {
      "cell_type": "code",
      "metadata": {
        "id": "mov-95QSuiC5",
        "colab_type": "code",
        "colab": {}
      },
      "source": [
        "np.savetxt('categoriesVector.csv', categoriesVector, delimiter=',')\n",
        "\n",
        "if IN_COLAB:\n",
        "    files.download('categoriesVector.csv') "
      ],
      "execution_count": 0,
      "outputs": []
    },
    {
      "cell_type": "markdown",
      "metadata": {
        "id": "JG12JVrgY605",
        "colab_type": "text"
      },
      "source": [
        "## Splitting The Data into Training and Test Sets"
      ]
    },
    {
      "cell_type": "code",
      "metadata": {
        "id": "IBVYVCJDY6KP",
        "colab_type": "code",
        "colab": {}
      },
      "source": [
        "rawPlot_train, rawPlot_test, cat_train, cat_test = train_test_split(selectedMovies['Plot'], categoriesVector, train_size=0.8, shuffle=True) #80% 20%"
      ],
      "execution_count": 0,
      "outputs": []
    },
    {
      "cell_type": "code",
      "metadata": {
        "id": "7HxZ8mjyGQJQ",
        "colab_type": "code",
        "colab": {
          "base_uri": "https://localhost:8080/",
          "height": 34
        },
        "outputId": "d9f779bf-f1e7-441d-9636-123dae319db7"
      },
      "source": [
        "type(rawPlot_test)"
      ],
      "execution_count": 77,
      "outputs": [
        {
          "output_type": "execute_result",
          "data": {
            "text/plain": [
              "pandas.core.series.Series"
            ]
          },
          "metadata": {
            "tags": []
          },
          "execution_count": 77
        }
      ]
    },
    {
      "cell_type": "markdown",
      "metadata": {
        "id": "YjFt_cmls9QE",
        "colab_type": "text"
      },
      "source": [
        "## Plot preparation"
      ]
    },
    {
      "cell_type": "code",
      "metadata": {
        "id": "byfYzECOtm2X",
        "colab_type": "code",
        "colab": {}
      },
      "source": [
        "def plotTokenizer(plot):\n",
        "  tokens = nlp(plot)\n",
        "  return [token.lemma_.lower() for token in tokens if not token.is_punct and not token.is_digit and not token.is_space and not token.is_stop]"
      ],
      "execution_count": 0,
      "outputs": []
    },
    {
      "cell_type": "code",
      "metadata": {
        "id": "1429_LemaL0O",
        "colab_type": "code",
        "colab": {
          "base_uri": "https://localhost:8080/",
          "height": 51
        },
        "outputId": "df804e85-9438-409e-86d2-09dfbcff25ba"
      },
      "source": [
        "plotVectorizer  = TfidfVectorizer(tokenizer = plotTokenizer, min_df=3, max_features=10000)"
      ],
      "execution_count": 27,
      "outputs": [
        {
          "output_type": "stream",
          "text": [
            "CPU times: user 57 µs, sys: 0 ns, total: 57 µs\n",
            "Wall time: 73.4 µs\n"
          ],
          "name": "stdout"
        }
      ]
    },
    {
      "cell_type": "code",
      "metadata": {
        "id": "QJyiGfuPiE0w",
        "colab_type": "code",
        "outputId": "94de3d67-e0c2-4a9d-ea3b-d55e107e590a",
        "colab": {
          "base_uri": "https://localhost:8080/",
          "height": 51
        }
      },
      "source": [
        "%%time\n",
        "# Learn vocabulary from training texts and vectorize training texts.\n",
        "%store -r plot_train\n",
        "try:\n",
        "  plot_train\n",
        "except:\n",
        "  plot_train = plotVectorizer.fit_transform(rawPlot_train)\n",
        "  %store plot_train"
      ],
      "execution_count": 29,
      "outputs": [
        {
          "output_type": "stream",
          "text": [
            "CPU times: user 25min 30s, sys: 14.1 s, total: 25min 44s\n",
            "Wall time: 25min 45s\n"
          ],
          "name": "stdout"
        }
      ]
    },
    {
      "cell_type": "code",
      "metadata": {
        "id": "KcP6nLeVv1bf",
        "colab_type": "code",
        "outputId": "655ec0b6-f84b-45f7-a5e2-eaa473be3ebd",
        "colab": {
          "base_uri": "https://localhost:8080/",
          "height": 51
        }
      },
      "source": [
        "%%time\n",
        "# Vectorize validation texts.\n",
        "plot_test = plotVectorizer.transform(rawPlot_test)\n",
        "\n",
        "%store -r plot_test\n",
        "try:\n",
        "  plot_test\n",
        "except:\n",
        "  plot_test = plotVectorizer.transform(rawPlot_test)\n",
        "  %store plot_test"
      ],
      "execution_count": 32,
      "outputs": [
        {
          "output_type": "stream",
          "text": [
            "CPU times: user 6min 15s, sys: 3.13 s, total: 6min 18s\n",
            "Wall time: 6min 18s\n"
          ],
          "name": "stdout"
        }
      ]
    },
    {
      "cell_type": "code",
      "metadata": {
        "id": "MNLZwBj1t8Xw",
        "colab_type": "code",
        "outputId": "dc1b2ccb-b140-4ee5-ba44-a0ef3fb19cbe",
        "colab": {
          "base_uri": "https://localhost:8080/",
          "height": 367
        }
      },
      "source": [
        "np.savetxt('plot_train.csv', plot_train.toarray(), delimiter=',')\n",
        "np.savetxt('plot_test.csv', plot_test.toarray(), delimiter=',')\n",
        "\n",
        "if IN_COLAB:\n",
        "  files.download('plot_train.csv') \n",
        "  files.download('plot_test.csv') "
      ],
      "execution_count": 34,
      "outputs": [
        {
          "output_type": "error",
          "ename": "ValueError",
          "evalue": "ignored",
          "traceback": [
            "\u001b[0;31m---------------------------------------------------------------------------\u001b[0m",
            "\u001b[0;31mValueError\u001b[0m                                Traceback (most recent call last)",
            "\u001b[0;32m<ipython-input-34-aaaa6fbf7c29>\u001b[0m in \u001b[0;36m<module>\u001b[0;34m()\u001b[0m\n\u001b[0;32m----> 1\u001b[0;31m \u001b[0mnp\u001b[0m\u001b[0;34m.\u001b[0m\u001b[0msavetxt\u001b[0m\u001b[0;34m(\u001b[0m\u001b[0;34m'plot_train.csv'\u001b[0m\u001b[0;34m,\u001b[0m \u001b[0mplot_train\u001b[0m\u001b[0;34m,\u001b[0m \u001b[0mdelimiter\u001b[0m\u001b[0;34m=\u001b[0m\u001b[0;34m','\u001b[0m\u001b[0;34m)\u001b[0m\u001b[0;34m\u001b[0m\u001b[0;34m\u001b[0m\u001b[0m\n\u001b[0m\u001b[1;32m      2\u001b[0m \u001b[0mnp\u001b[0m\u001b[0;34m.\u001b[0m\u001b[0msavetxt\u001b[0m\u001b[0;34m(\u001b[0m\u001b[0;34m'plot_test.csv'\u001b[0m\u001b[0;34m,\u001b[0m \u001b[0mplot_test\u001b[0m\u001b[0;34m,\u001b[0m \u001b[0mdelimiter\u001b[0m\u001b[0;34m=\u001b[0m\u001b[0;34m','\u001b[0m\u001b[0;34m)\u001b[0m\u001b[0;34m\u001b[0m\u001b[0;34m\u001b[0m\u001b[0m\n\u001b[1;32m      3\u001b[0m \u001b[0mfiles\u001b[0m\u001b[0;34m.\u001b[0m\u001b[0mdownload\u001b[0m\u001b[0;34m(\u001b[0m\u001b[0;34m'plot_train.csv'\u001b[0m\u001b[0;34m)\u001b[0m\u001b[0;34m\u001b[0m\u001b[0;34m\u001b[0m\u001b[0m\n\u001b[1;32m      4\u001b[0m \u001b[0mfiles\u001b[0m\u001b[0;34m.\u001b[0m\u001b[0mdownload\u001b[0m\u001b[0;34m(\u001b[0m\u001b[0;34m'plot_test.csv'\u001b[0m\u001b[0;34m)\u001b[0m\u001b[0;34m\u001b[0m\u001b[0;34m\u001b[0m\u001b[0m\n",
            "\u001b[0;32m<__array_function__ internals>\u001b[0m in \u001b[0;36msavetxt\u001b[0;34m(*args, **kwargs)\u001b[0m\n",
            "\u001b[0;32m/usr/local/lib/python3.6/dist-packages/numpy/lib/npyio.py\u001b[0m in \u001b[0;36msavetxt\u001b[0;34m(fname, X, fmt, delimiter, newline, header, footer, comments, encoding)\u001b[0m\n\u001b[1;32m   1393\u001b[0m         \u001b[0;32mif\u001b[0m \u001b[0mX\u001b[0m\u001b[0;34m.\u001b[0m\u001b[0mndim\u001b[0m \u001b[0;34m==\u001b[0m \u001b[0;36m0\u001b[0m \u001b[0;32mor\u001b[0m \u001b[0mX\u001b[0m\u001b[0;34m.\u001b[0m\u001b[0mndim\u001b[0m \u001b[0;34m>\u001b[0m \u001b[0;36m2\u001b[0m\u001b[0;34m:\u001b[0m\u001b[0;34m\u001b[0m\u001b[0;34m\u001b[0m\u001b[0m\n\u001b[1;32m   1394\u001b[0m             raise ValueError(\n\u001b[0;32m-> 1395\u001b[0;31m                 \"Expected 1D or 2D array, got %dD array instead\" % X.ndim)\n\u001b[0m\u001b[1;32m   1396\u001b[0m         \u001b[0;32melif\u001b[0m \u001b[0mX\u001b[0m\u001b[0;34m.\u001b[0m\u001b[0mndim\u001b[0m \u001b[0;34m==\u001b[0m \u001b[0;36m1\u001b[0m\u001b[0;34m:\u001b[0m\u001b[0;34m\u001b[0m\u001b[0;34m\u001b[0m\u001b[0m\n\u001b[1;32m   1397\u001b[0m             \u001b[0;31m# Common case -- 1d array of numbers\u001b[0m\u001b[0;34m\u001b[0m\u001b[0;34m\u001b[0m\u001b[0;34m\u001b[0m\u001b[0m\n",
            "\u001b[0;31mValueError\u001b[0m: Expected 1D or 2D array, got 0D array instead"
          ]
        }
      ]
    },
    {
      "cell_type": "markdown",
      "metadata": {
        "id": "xKwh7sASEqvS",
        "colab_type": "text"
      },
      "source": [
        "# Naive Bayes Classification"
      ]
    },
    {
      "cell_type": "code",
      "metadata": {
        "id": "gqhKbrlWF2hF",
        "colab_type": "code",
        "colab": {
          "base_uri": "https://localhost:8080/",
          "height": 163
        },
        "outputId": "7e35a1f5-f50f-4bfc-f847-aad95833cbd1"
      },
      "source": [
        "cat_train.drama"
      ],
      "execution_count": 78,
      "outputs": [
        {
          "output_type": "error",
          "ename": "AttributeError",
          "evalue": "ignored",
          "traceback": [
            "\u001b[0;31m---------------------------------------------------------------------------\u001b[0m",
            "\u001b[0;31mAttributeError\u001b[0m                            Traceback (most recent call last)",
            "\u001b[0;32m<ipython-input-78-0c9d230bcfa6>\u001b[0m in \u001b[0;36m<module>\u001b[0;34m()\u001b[0m\n\u001b[0;32m----> 1\u001b[0;31m \u001b[0mcat_train\u001b[0m\u001b[0;34m.\u001b[0m\u001b[0mdrama\u001b[0m\u001b[0;34m\u001b[0m\u001b[0;34m\u001b[0m\u001b[0m\n\u001b[0m",
            "\u001b[0;31mAttributeError\u001b[0m: 'numpy.ndarray' object has no attribute 'drama'"
          ]
        }
      ]
    },
    {
      "cell_type": "code",
      "metadata": {
        "id": "_BzKQzJPEXQu",
        "colab_type": "code",
        "colab": {}
      },
      "source": [
        "multinomialNB=OneVsRestClassifier(MultinomialNB())\n",
        "multinomialNB.fit(plot_train, cat_train.action)"
      ],
      "execution_count": 0,
      "outputs": []
    }
  ]
}