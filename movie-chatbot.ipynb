{
 "cells": [
  {
   "cell_type": "markdown",
   "metadata": {
    "colab_type": "text",
    "id": "view-in-github"
   },
   "source": [
    "<a href=\"https://colab.research.google.com/github/maximecharriere/movie-chatbot/blob/master/Copie_de_movie_chatbot.ipynb\" target=\"_parent\"><img src=\"https://colab.research.google.com/assets/colab-badge.svg\" alt=\"Open In Colab\"/></a>"
   ]
  },
  {
   "cell_type": "markdown",
   "metadata": {
    "colab_type": "text",
    "id": "DVy8nkPvIWuW"
   },
   "source": [
    "# **Chatbot cinéphile - WELCOME**\n",
    "*Par Dylan **Morocutti** et Maxime **Charrière**.*"
   ]
  },
  {
   "cell_type": "markdown",
   "metadata": {
    "colab_type": "text",
    "id": "KA-L_QLZnwIP"
   },
   "source": [
    "# Libraries importation"
   ]
  },
  {
   "cell_type": "code",
   "execution_count": 1,
   "metadata": {
    "colab": {
     "base_uri": "https://localhost:8080/",
     "height": 102
    },
    "colab_type": "code",
    "id": "h_xI7FpYn3Oj",
    "outputId": "436fa86e-51fd-4b7f-a046-6da5ec661e9c"
   },
   "outputs": [
    {
     "name": "stdout",
     "output_type": "stream",
     "text": [
      "Libraries version:\n",
      "Numpy:      1.18.1\n",
      "Matplotlib: 3.1.3\n",
      "Pandas:     1.0.3\n",
      "Spacy:      2.2.4\n"
     ]
    }
   ],
   "source": [
    "try:\n",
    "    from google.colab import files\n",
    "    IN_COLAB = True\n",
    "except:\n",
    "    IN_COLAB = False\n",
    "\n",
    "\n",
    "import numpy as np\n",
    "# import tensorflow as tf\n",
    "import matplotlib\n",
    "import matplotlib.pyplot as plt\n",
    "# import nltk\n",
    "# from nltk.corpus import treebank, nps_chat\n",
    "# from nltk.cluster import KMeansClusterer\n",
    "import pandas as pd\n",
    "# import gensim\n",
    "# from gensim.models import Word2Vec\n",
    "# import sklearn\n",
    "# from sklearn.feature_extraction.text import TfidfVectorizer\n",
    "# from sklearn.feature_extraction.text import CountVectorizer\n",
    "# from sklearn.model_selection import train_test_split\n",
    "# from sklearn import cluster\n",
    "# from sklearn import metrics\n",
    "import spacy\n",
    "\n",
    "nlp = spacy.load(\"en_core_web_sm\")\n",
    "\n",
    "print(\"Libraries version:\")\n",
    "print(f\"Numpy:      {np.__version__}\")\n",
    "print(f\"Matplotlib: {matplotlib.__version__}\")\n",
    "# print(f\"Tensorflow: {tf.__version__}\")\n",
    "# print(f\"NLTK:       {nltk.__version__}\")\n",
    "print(f\"Pandas:     {pd.__version__}\")\n",
    "# print(f\"Gensim:     {gensim.__version__}\")\n",
    "# print(f\"Sklearn:    {sklearn.__version__}\")\n",
    "print(f\"Spacy:      {spacy.__version__}\")"
   ]
  },
  {
   "cell_type": "markdown",
   "metadata": {
    "colab_type": "text",
    "id": "vx_bk4c7icg8"
   },
   "source": [
    "## Data preparation"
   ]
  },
  {
   "cell_type": "code",
   "execution_count": 2,
   "metadata": {
    "colab": {
     "base_uri": "https://localhost:8080/",
     "height": 357
    },
    "colab_type": "code",
    "id": "qHJf9cVGXUtE",
    "outputId": "3d4c2287-3469-431c-aefb-91ebd40432e1"
   },
   "outputs": [
    {
     "ename": "UnicodeDecodeError",
     "evalue": "'charmap' codec can't decode byte 0x8d in position 5593: character maps to <undefined>",
     "output_type": "error",
     "traceback": [
      "\u001b[1;31m---------------------------------------------------------------------------\u001b[0m",
      "\u001b[1;31mUnicodeDecodeError\u001b[0m                        Traceback (most recent call last)",
      "\u001b[1;32m<ipython-input-2-974ed5cc30ea>\u001b[0m in \u001b[0;36m<module>\u001b[1;34m\u001b[0m\n\u001b[0;32m      5\u001b[0m     \u001b[0murl_movie_wiki\u001b[0m \u001b[1;33m=\u001b[0m \u001b[1;34m\"data/movie_wiki_infos/wiki_movie_plots_deduped.csv\"\u001b[0m\u001b[1;33m\u001b[0m\u001b[1;33m\u001b[0m\u001b[0m\n\u001b[0;32m      6\u001b[0m \u001b[1;33m\u001b[0m\u001b[0m\n\u001b[1;32m----> 7\u001b[1;33m \u001b[0mmovies\u001b[0m \u001b[1;33m=\u001b[0m \u001b[0mpd\u001b[0m\u001b[1;33m.\u001b[0m\u001b[0mread_csv\u001b[0m\u001b[1;33m(\u001b[0m\u001b[0murl_movie_wiki\u001b[0m\u001b[1;33m,\u001b[0m \u001b[0msep\u001b[0m\u001b[1;33m=\u001b[0m\u001b[1;34m','\u001b[0m\u001b[1;33m,\u001b[0m \u001b[0mengine\u001b[0m\u001b[1;33m=\u001b[0m\u001b[1;34m'python'\u001b[0m\u001b[1;33m)\u001b[0m\u001b[1;33m[\u001b[0m\u001b[1;33m[\u001b[0m\u001b[1;34m'Title'\u001b[0m\u001b[1;33m,\u001b[0m\u001b[1;34m'Plot'\u001b[0m\u001b[1;33m,\u001b[0m\u001b[1;34m'Genre'\u001b[0m\u001b[1;33m]\u001b[0m\u001b[1;33m]\u001b[0m\u001b[1;33m\u001b[0m\u001b[1;33m\u001b[0m\u001b[0m\n\u001b[0m\u001b[0;32m      8\u001b[0m \u001b[0mmovies\u001b[0m\u001b[1;33m.\u001b[0m\u001b[0mhead\u001b[0m\u001b[1;33m(\u001b[0m\u001b[1;36m20\u001b[0m\u001b[1;33m)\u001b[0m\u001b[1;33m\u001b[0m\u001b[1;33m\u001b[0m\u001b[0m\n",
      "\u001b[1;32mC:\\Anaconda3\\lib\\site-packages\\pandas\\io\\parsers.py\u001b[0m in \u001b[0;36mparser_f\u001b[1;34m(filepath_or_buffer, sep, delimiter, header, names, index_col, usecols, squeeze, prefix, mangle_dupe_cols, dtype, engine, converters, true_values, false_values, skipinitialspace, skiprows, skipfooter, nrows, na_values, keep_default_na, na_filter, verbose, skip_blank_lines, parse_dates, infer_datetime_format, keep_date_col, date_parser, dayfirst, cache_dates, iterator, chunksize, compression, thousands, decimal, lineterminator, quotechar, quoting, doublequote, escapechar, comment, encoding, dialect, error_bad_lines, warn_bad_lines, delim_whitespace, low_memory, memory_map, float_precision)\u001b[0m\n\u001b[0;32m    674\u001b[0m         )\n\u001b[0;32m    675\u001b[0m \u001b[1;33m\u001b[0m\u001b[0m\n\u001b[1;32m--> 676\u001b[1;33m         \u001b[1;32mreturn\u001b[0m \u001b[0m_read\u001b[0m\u001b[1;33m(\u001b[0m\u001b[0mfilepath_or_buffer\u001b[0m\u001b[1;33m,\u001b[0m \u001b[0mkwds\u001b[0m\u001b[1;33m)\u001b[0m\u001b[1;33m\u001b[0m\u001b[1;33m\u001b[0m\u001b[0m\n\u001b[0m\u001b[0;32m    677\u001b[0m \u001b[1;33m\u001b[0m\u001b[0m\n\u001b[0;32m    678\u001b[0m     \u001b[0mparser_f\u001b[0m\u001b[1;33m.\u001b[0m\u001b[0m__name__\u001b[0m \u001b[1;33m=\u001b[0m \u001b[0mname\u001b[0m\u001b[1;33m\u001b[0m\u001b[1;33m\u001b[0m\u001b[0m\n",
      "\u001b[1;32mC:\\Anaconda3\\lib\\site-packages\\pandas\\io\\parsers.py\u001b[0m in \u001b[0;36m_read\u001b[1;34m(filepath_or_buffer, kwds)\u001b[0m\n\u001b[0;32m    446\u001b[0m \u001b[1;33m\u001b[0m\u001b[0m\n\u001b[0;32m    447\u001b[0m     \u001b[1;31m# Create the parser.\u001b[0m\u001b[1;33m\u001b[0m\u001b[1;33m\u001b[0m\u001b[1;33m\u001b[0m\u001b[0m\n\u001b[1;32m--> 448\u001b[1;33m     \u001b[0mparser\u001b[0m \u001b[1;33m=\u001b[0m \u001b[0mTextFileReader\u001b[0m\u001b[1;33m(\u001b[0m\u001b[0mfp_or_buf\u001b[0m\u001b[1;33m,\u001b[0m \u001b[1;33m**\u001b[0m\u001b[0mkwds\u001b[0m\u001b[1;33m)\u001b[0m\u001b[1;33m\u001b[0m\u001b[1;33m\u001b[0m\u001b[0m\n\u001b[0m\u001b[0;32m    449\u001b[0m \u001b[1;33m\u001b[0m\u001b[0m\n\u001b[0;32m    450\u001b[0m     \u001b[1;32mif\u001b[0m \u001b[0mchunksize\u001b[0m \u001b[1;32mor\u001b[0m \u001b[0miterator\u001b[0m\u001b[1;33m:\u001b[0m\u001b[1;33m\u001b[0m\u001b[1;33m\u001b[0m\u001b[0m\n",
      "\u001b[1;32mC:\\Anaconda3\\lib\\site-packages\\pandas\\io\\parsers.py\u001b[0m in \u001b[0;36m__init__\u001b[1;34m(self, f, engine, **kwds)\u001b[0m\n\u001b[0;32m    878\u001b[0m             \u001b[0mself\u001b[0m\u001b[1;33m.\u001b[0m\u001b[0moptions\u001b[0m\u001b[1;33m[\u001b[0m\u001b[1;34m\"has_index_names\"\u001b[0m\u001b[1;33m]\u001b[0m \u001b[1;33m=\u001b[0m \u001b[0mkwds\u001b[0m\u001b[1;33m[\u001b[0m\u001b[1;34m\"has_index_names\"\u001b[0m\u001b[1;33m]\u001b[0m\u001b[1;33m\u001b[0m\u001b[1;33m\u001b[0m\u001b[0m\n\u001b[0;32m    879\u001b[0m \u001b[1;33m\u001b[0m\u001b[0m\n\u001b[1;32m--> 880\u001b[1;33m         \u001b[0mself\u001b[0m\u001b[1;33m.\u001b[0m\u001b[0m_make_engine\u001b[0m\u001b[1;33m(\u001b[0m\u001b[0mself\u001b[0m\u001b[1;33m.\u001b[0m\u001b[0mengine\u001b[0m\u001b[1;33m)\u001b[0m\u001b[1;33m\u001b[0m\u001b[1;33m\u001b[0m\u001b[0m\n\u001b[0m\u001b[0;32m    881\u001b[0m \u001b[1;33m\u001b[0m\u001b[0m\n\u001b[0;32m    882\u001b[0m     \u001b[1;32mdef\u001b[0m \u001b[0mclose\u001b[0m\u001b[1;33m(\u001b[0m\u001b[0mself\u001b[0m\u001b[1;33m)\u001b[0m\u001b[1;33m:\u001b[0m\u001b[1;33m\u001b[0m\u001b[1;33m\u001b[0m\u001b[0m\n",
      "\u001b[1;32mC:\\Anaconda3\\lib\\site-packages\\pandas\\io\\parsers.py\u001b[0m in \u001b[0;36m_make_engine\u001b[1;34m(self, engine)\u001b[0m\n\u001b[0;32m   1124\u001b[0m                     \u001b[1;34m'\"python-fwf\")'\u001b[0m\u001b[1;33m\u001b[0m\u001b[1;33m\u001b[0m\u001b[0m\n\u001b[0;32m   1125\u001b[0m                 )\n\u001b[1;32m-> 1126\u001b[1;33m             \u001b[0mself\u001b[0m\u001b[1;33m.\u001b[0m\u001b[0m_engine\u001b[0m \u001b[1;33m=\u001b[0m \u001b[0mklass\u001b[0m\u001b[1;33m(\u001b[0m\u001b[0mself\u001b[0m\u001b[1;33m.\u001b[0m\u001b[0mf\u001b[0m\u001b[1;33m,\u001b[0m \u001b[1;33m**\u001b[0m\u001b[0mself\u001b[0m\u001b[1;33m.\u001b[0m\u001b[0moptions\u001b[0m\u001b[1;33m)\u001b[0m\u001b[1;33m\u001b[0m\u001b[1;33m\u001b[0m\u001b[0m\n\u001b[0m\u001b[0;32m   1127\u001b[0m \u001b[1;33m\u001b[0m\u001b[0m\n\u001b[0;32m   1128\u001b[0m     \u001b[1;32mdef\u001b[0m \u001b[0m_failover_to_python\u001b[0m\u001b[1;33m(\u001b[0m\u001b[0mself\u001b[0m\u001b[1;33m)\u001b[0m\u001b[1;33m:\u001b[0m\u001b[1;33m\u001b[0m\u001b[1;33m\u001b[0m\u001b[0m\n",
      "\u001b[1;32mC:\\Anaconda3\\lib\\site-packages\\pandas\\io\\parsers.py\u001b[0m in \u001b[0;36m__init__\u001b[1;34m(self, f, **kwds)\u001b[0m\n\u001b[0;32m   2284\u001b[0m             \u001b[0mself\u001b[0m\u001b[1;33m.\u001b[0m\u001b[0mnum_original_columns\u001b[0m\u001b[1;33m,\u001b[0m\u001b[1;33m\u001b[0m\u001b[1;33m\u001b[0m\u001b[0m\n\u001b[0;32m   2285\u001b[0m             \u001b[0mself\u001b[0m\u001b[1;33m.\u001b[0m\u001b[0munnamed_cols\u001b[0m\u001b[1;33m,\u001b[0m\u001b[1;33m\u001b[0m\u001b[1;33m\u001b[0m\u001b[0m\n\u001b[1;32m-> 2286\u001b[1;33m         ) = self._infer_columns()\n\u001b[0m\u001b[0;32m   2287\u001b[0m \u001b[1;33m\u001b[0m\u001b[0m\n\u001b[0;32m   2288\u001b[0m         \u001b[1;31m# Now self.columns has the set of columns that we will process.\u001b[0m\u001b[1;33m\u001b[0m\u001b[1;33m\u001b[0m\u001b[1;33m\u001b[0m\u001b[0m\n",
      "\u001b[1;32mC:\\Anaconda3\\lib\\site-packages\\pandas\\io\\parsers.py\u001b[0m in \u001b[0;36m_infer_columns\u001b[1;34m(self)\u001b[0m\n\u001b[0;32m   2556\u001b[0m             \u001b[1;32mfor\u001b[0m \u001b[0mlevel\u001b[0m\u001b[1;33m,\u001b[0m \u001b[0mhr\u001b[0m \u001b[1;32min\u001b[0m \u001b[0menumerate\u001b[0m\u001b[1;33m(\u001b[0m\u001b[0mheader\u001b[0m\u001b[1;33m)\u001b[0m\u001b[1;33m:\u001b[0m\u001b[1;33m\u001b[0m\u001b[1;33m\u001b[0m\u001b[0m\n\u001b[0;32m   2557\u001b[0m                 \u001b[1;32mtry\u001b[0m\u001b[1;33m:\u001b[0m\u001b[1;33m\u001b[0m\u001b[1;33m\u001b[0m\u001b[0m\n\u001b[1;32m-> 2558\u001b[1;33m                     \u001b[0mline\u001b[0m \u001b[1;33m=\u001b[0m \u001b[0mself\u001b[0m\u001b[1;33m.\u001b[0m\u001b[0m_buffered_line\u001b[0m\u001b[1;33m(\u001b[0m\u001b[1;33m)\u001b[0m\u001b[1;33m\u001b[0m\u001b[1;33m\u001b[0m\u001b[0m\n\u001b[0m\u001b[0;32m   2559\u001b[0m \u001b[1;33m\u001b[0m\u001b[0m\n\u001b[0;32m   2560\u001b[0m                     \u001b[1;32mwhile\u001b[0m \u001b[0mself\u001b[0m\u001b[1;33m.\u001b[0m\u001b[0mline_pos\u001b[0m \u001b[1;33m<=\u001b[0m \u001b[0mhr\u001b[0m\u001b[1;33m:\u001b[0m\u001b[1;33m\u001b[0m\u001b[1;33m\u001b[0m\u001b[0m\n",
      "\u001b[1;32mC:\\Anaconda3\\lib\\site-packages\\pandas\\io\\parsers.py\u001b[0m in \u001b[0;36m_buffered_line\u001b[1;34m(self)\u001b[0m\n\u001b[0;32m   2732\u001b[0m             \u001b[1;32mreturn\u001b[0m \u001b[0mself\u001b[0m\u001b[1;33m.\u001b[0m\u001b[0mbuf\u001b[0m\u001b[1;33m[\u001b[0m\u001b[1;36m0\u001b[0m\u001b[1;33m]\u001b[0m\u001b[1;33m\u001b[0m\u001b[1;33m\u001b[0m\u001b[0m\n\u001b[0;32m   2733\u001b[0m         \u001b[1;32melse\u001b[0m\u001b[1;33m:\u001b[0m\u001b[1;33m\u001b[0m\u001b[1;33m\u001b[0m\u001b[0m\n\u001b[1;32m-> 2734\u001b[1;33m             \u001b[1;32mreturn\u001b[0m \u001b[0mself\u001b[0m\u001b[1;33m.\u001b[0m\u001b[0m_next_line\u001b[0m\u001b[1;33m(\u001b[0m\u001b[1;33m)\u001b[0m\u001b[1;33m\u001b[0m\u001b[1;33m\u001b[0m\u001b[0m\n\u001b[0m\u001b[0;32m   2735\u001b[0m \u001b[1;33m\u001b[0m\u001b[0m\n\u001b[0;32m   2736\u001b[0m     \u001b[1;32mdef\u001b[0m \u001b[0m_check_for_bom\u001b[0m\u001b[1;33m(\u001b[0m\u001b[0mself\u001b[0m\u001b[1;33m,\u001b[0m \u001b[0mfirst_row\u001b[0m\u001b[1;33m)\u001b[0m\u001b[1;33m:\u001b[0m\u001b[1;33m\u001b[0m\u001b[1;33m\u001b[0m\u001b[0m\n",
      "\u001b[1;32mC:\\Anaconda3\\lib\\site-packages\\pandas\\io\\parsers.py\u001b[0m in \u001b[0;36m_next_line\u001b[1;34m(self)\u001b[0m\n\u001b[0;32m   2829\u001b[0m \u001b[1;33m\u001b[0m\u001b[0m\n\u001b[0;32m   2830\u001b[0m             \u001b[1;32mwhile\u001b[0m \u001b[1;32mTrue\u001b[0m\u001b[1;33m:\u001b[0m\u001b[1;33m\u001b[0m\u001b[1;33m\u001b[0m\u001b[0m\n\u001b[1;32m-> 2831\u001b[1;33m                 \u001b[0morig_line\u001b[0m \u001b[1;33m=\u001b[0m \u001b[0mself\u001b[0m\u001b[1;33m.\u001b[0m\u001b[0m_next_iter_line\u001b[0m\u001b[1;33m(\u001b[0m\u001b[0mrow_num\u001b[0m\u001b[1;33m=\u001b[0m\u001b[0mself\u001b[0m\u001b[1;33m.\u001b[0m\u001b[0mpos\u001b[0m \u001b[1;33m+\u001b[0m \u001b[1;36m1\u001b[0m\u001b[1;33m)\u001b[0m\u001b[1;33m\u001b[0m\u001b[1;33m\u001b[0m\u001b[0m\n\u001b[0m\u001b[0;32m   2832\u001b[0m                 \u001b[0mself\u001b[0m\u001b[1;33m.\u001b[0m\u001b[0mpos\u001b[0m \u001b[1;33m+=\u001b[0m \u001b[1;36m1\u001b[0m\u001b[1;33m\u001b[0m\u001b[1;33m\u001b[0m\u001b[0m\n\u001b[0;32m   2833\u001b[0m \u001b[1;33m\u001b[0m\u001b[0m\n",
      "\u001b[1;32mC:\\Anaconda3\\lib\\site-packages\\pandas\\io\\parsers.py\u001b[0m in \u001b[0;36m_next_iter_line\u001b[1;34m(self, row_num)\u001b[0m\n\u001b[0;32m   2889\u001b[0m \u001b[1;33m\u001b[0m\u001b[0m\n\u001b[0;32m   2890\u001b[0m         \u001b[1;32mtry\u001b[0m\u001b[1;33m:\u001b[0m\u001b[1;33m\u001b[0m\u001b[1;33m\u001b[0m\u001b[0m\n\u001b[1;32m-> 2891\u001b[1;33m             \u001b[1;32mreturn\u001b[0m \u001b[0mnext\u001b[0m\u001b[1;33m(\u001b[0m\u001b[0mself\u001b[0m\u001b[1;33m.\u001b[0m\u001b[0mdata\u001b[0m\u001b[1;33m)\u001b[0m\u001b[1;33m\u001b[0m\u001b[1;33m\u001b[0m\u001b[0m\n\u001b[0m\u001b[0;32m   2892\u001b[0m         \u001b[1;32mexcept\u001b[0m \u001b[0mcsv\u001b[0m\u001b[1;33m.\u001b[0m\u001b[0mError\u001b[0m \u001b[1;32mas\u001b[0m \u001b[0me\u001b[0m\u001b[1;33m:\u001b[0m\u001b[1;33m\u001b[0m\u001b[1;33m\u001b[0m\u001b[0m\n\u001b[0;32m   2893\u001b[0m             \u001b[1;32mif\u001b[0m \u001b[0mself\u001b[0m\u001b[1;33m.\u001b[0m\u001b[0mwarn_bad_lines\u001b[0m \u001b[1;32mor\u001b[0m \u001b[0mself\u001b[0m\u001b[1;33m.\u001b[0m\u001b[0merror_bad_lines\u001b[0m\u001b[1;33m:\u001b[0m\u001b[1;33m\u001b[0m\u001b[1;33m\u001b[0m\u001b[0m\n",
      "\u001b[1;32mC:\\Anaconda3\\lib\\encodings\\cp1252.py\u001b[0m in \u001b[0;36mdecode\u001b[1;34m(self, input, final)\u001b[0m\n\u001b[0;32m     21\u001b[0m \u001b[1;32mclass\u001b[0m \u001b[0mIncrementalDecoder\u001b[0m\u001b[1;33m(\u001b[0m\u001b[0mcodecs\u001b[0m\u001b[1;33m.\u001b[0m\u001b[0mIncrementalDecoder\u001b[0m\u001b[1;33m)\u001b[0m\u001b[1;33m:\u001b[0m\u001b[1;33m\u001b[0m\u001b[1;33m\u001b[0m\u001b[0m\n\u001b[0;32m     22\u001b[0m     \u001b[1;32mdef\u001b[0m \u001b[0mdecode\u001b[0m\u001b[1;33m(\u001b[0m\u001b[0mself\u001b[0m\u001b[1;33m,\u001b[0m \u001b[0minput\u001b[0m\u001b[1;33m,\u001b[0m \u001b[0mfinal\u001b[0m\u001b[1;33m=\u001b[0m\u001b[1;32mFalse\u001b[0m\u001b[1;33m)\u001b[0m\u001b[1;33m:\u001b[0m\u001b[1;33m\u001b[0m\u001b[1;33m\u001b[0m\u001b[0m\n\u001b[1;32m---> 23\u001b[1;33m         \u001b[1;32mreturn\u001b[0m \u001b[0mcodecs\u001b[0m\u001b[1;33m.\u001b[0m\u001b[0mcharmap_decode\u001b[0m\u001b[1;33m(\u001b[0m\u001b[0minput\u001b[0m\u001b[1;33m,\u001b[0m\u001b[0mself\u001b[0m\u001b[1;33m.\u001b[0m\u001b[0merrors\u001b[0m\u001b[1;33m,\u001b[0m\u001b[0mdecoding_table\u001b[0m\u001b[1;33m)\u001b[0m\u001b[1;33m[\u001b[0m\u001b[1;36m0\u001b[0m\u001b[1;33m]\u001b[0m\u001b[1;33m\u001b[0m\u001b[1;33m\u001b[0m\u001b[0m\n\u001b[0m\u001b[0;32m     24\u001b[0m \u001b[1;33m\u001b[0m\u001b[0m\n\u001b[0;32m     25\u001b[0m \u001b[1;32mclass\u001b[0m \u001b[0mStreamWriter\u001b[0m\u001b[1;33m(\u001b[0m\u001b[0mCodec\u001b[0m\u001b[1;33m,\u001b[0m\u001b[0mcodecs\u001b[0m\u001b[1;33m.\u001b[0m\u001b[0mStreamWriter\u001b[0m\u001b[1;33m)\u001b[0m\u001b[1;33m:\u001b[0m\u001b[1;33m\u001b[0m\u001b[1;33m\u001b[0m\u001b[0m\n",
      "\u001b[1;31mUnicodeDecodeError\u001b[0m: 'charmap' codec can't decode byte 0x8d in position 5593: character maps to <undefined>"
     ]
    }
   ],
   "source": [
    "## Data importation\n",
    "if True :\n",
    "    url_movie_wiki = \"https://raw.githubusercontent.com/maximecharriere/movie-chatbot/master/data/movie_wiki_infos/wiki_movie_plots_deduped.csv\"\n",
    "else:\n",
    "    url_movie_wiki = \"data/movie_wiki_infos/wiki_movie_plots_deduped.csv\"\n",
    "    \n",
    "movies = pd.read_csv(url_movie_wiki, sep=',', engine='python')[['Title','Plot','Genre']]\n",
    "movies.head(20)"
   ]
  },
  {
   "cell_type": "code",
   "execution_count": null,
   "metadata": {
    "colab": {},
    "colab_type": "code",
    "id": "fqQirGYtXV9Q"
   },
   "outputs": [],
   "source": [
    "print(f\"Nombre de catégories: {len(movies['Genre'].value_counts())}\")"
   ]
  },
  {
   "cell_type": "code",
   "execution_count": null,
   "metadata": {
    "colab": {},
    "colab_type": "code",
    "id": "uUIW8nNcYl-N"
   },
   "outputs": [],
   "source": [
    "## Manual harmonization of categories\n",
    "\n",
    "movies['GenreCorrected']=movies['Genre'] \n",
    "movies['GenreCorrected']=movies['GenreCorrected'].str.replace('/', ' ')\n",
    "\n",
    "# Delete unwanted categories\n",
    "movies['GenreCorrected']=movies['GenreCorrected'].str.replace('unknown', '')\n",
    "movies['GenreCorrected']=movies['GenreCorrected'].str.replace('\\[not in citation given\\]','')\n",
    "movies['GenreCorrected']=movies['GenreCorrected'].str.replace('avant-garde','')\n",
    "movies['GenreCorrected']=movies['GenreCorrected'].str.replace('period','')\n",
    "movies['GenreCorrected']=movies['GenreCorrected'].str.replace('national','')\n",
    "movies['GenreCorrected']=movies['GenreCorrected'].str.replace('board','')\n",
    "movies['GenreCorrected']=movies['GenreCorrected'].str.replace('costume','')\n",
    "movies['GenreCorrected']=movies['GenreCorrected'].str.replace('movies','')\n",
    "movies['GenreCorrected']=movies['GenreCorrected'].str.replace('movie','')\n",
    "movies['GenreCorrected']=movies['GenreCorrected'].str.replace('films','')\n",
    "movies['GenreCorrected']=movies['GenreCorrected'].str.replace('film','')\n",
    "\n",
    "# Rename categories\n",
    "movies['GenreCorrected']=movies['GenreCorrected'].str.replace('bio-pic', 'biography')\n",
    "movies['GenreCorrected']=movies['GenreCorrected'].str.replace('biopic', 'biography')\n",
    "movies['GenreCorrected']=movies['GenreCorrected'].str.replace('biographical', 'biography')\n",
    "movies['GenreCorrected']=movies['GenreCorrected'].str.replace('biodrama', 'biography drama')\n",
    "movies['GenreCorrected']=movies['GenreCorrected'].str.replace('bio-drama', 'biography drama')\n",
    "movies['GenreCorrected']=movies['GenreCorrected'].str.replace('biographic', 'biography')\n",
    "movies['GenreCorrected']=movies['GenreCorrected'].str.replace('animated','animation')\n",
    "movies['GenreCorrected']=movies['GenreCorrected'].str.replace('anime','animation')\n",
    "movies['GenreCorrected']=movies['GenreCorrected'].str.replace('disaster','action')\n",
    "movies['GenreCorrected']=movies['GenreCorrected'].str.replace('comedey','comedy')\n",
    "movies['GenreCorrected']=movies['GenreCorrected'].str.replace('dramedy','comedy drama')\n",
    "movies['GenreCorrected']=movies['GenreCorrected'].str.replace('mockumentary','documentary')\n",
    "movies['GenreCorrected']=movies['GenreCorrected'].str.replace('historical','history')\n",
    "movies['GenreCorrected']=movies['GenreCorrected'].str.replace('historic','history')\n",
    "movies['GenreCorrected']=movies['GenreCorrected'].str.replace('prehistoric','history')\n",
    "movies['GenreCorrected']=movies['GenreCorrected'].str.replace('mythology','history')\n",
    "movies['GenreCorrected']=movies['GenreCorrected'].str.replace('romantic','romance')\n",
    "movies['GenreCorrected']=movies['GenreCorrected'].str.replace('3-d','animation')\n",
    "movies['GenreCorrected']=movies['GenreCorrected'].str.replace('3d','animation')\n",
    "movies['GenreCorrected']=movies['GenreCorrected'].str.replace('sci-fi','science_fiction')\n",
    "movies['GenreCorrected']=movies['GenreCorrected'].str.replace('ttriller','thriller')\n",
    "movies['GenreCorrected']=movies['GenreCorrected'].str.replace('sci fi','science_fiction')\n",
    "movies['GenreCorrected']=movies['GenreCorrected'].str.replace('science fiction','science_fiction')\n",
    "movies['GenreCorrected']=movies['GenreCorrected'].str.replace('kung fu','martial_arts')\n",
    "movies['GenreCorrected']=movies['GenreCorrected'].str.replace('kung-fu','martial_arts')\n",
    "movies['GenreCorrected']=movies['GenreCorrected'].str.replace('martial arts','martial_arts')\n",
    "movies['GenreCorrected']=movies['GenreCorrected'].str.replace('bruceploitation','martial_arts')\n",
    "movies['GenreCorrected']=movies['GenreCorrected'].str.replace('comedy-drama adaptation of the mordecai richler novel','comedy drama')\n",
    "movies['GenreCorrected']=movies['GenreCorrected'].str.replace('stop-motion','animation')\n",
    "movies['GenreCorrected']=movies['GenreCorrected'].str.replace('coming of age','coming_of_age')\n",
    "movies['GenreCorrected']=movies['GenreCorrected'].str.replace('coming-of-age','coming_of_age')\n",
    "movies['GenreCorrected']=movies['GenreCorrected'].str.replace('drama about child soldiers','drama')\n",
    "movies['GenreCorrected']=movies['GenreCorrected'].str.replace('melodrama','drama')\n",
    "movies['GenreCorrected']=movies['GenreCorrected'].str.replace('tv miniseries','serial')\n",
    "movies['GenreCorrected']=movies['GenreCorrected'].str.replace('television miniseries','serial')\n",
    "movies['GenreCorrected']=movies['GenreCorrected'].str.replace(\"war-time\",\"war\")\n",
    "movies['GenreCorrected']=movies['GenreCorrected'].str.replace(\"wartime\",\"war\")\n",
    "movies['GenreCorrected']=movies['GenreCorrected'].str.replace('world war ii','war')\n",
    "movies['GenreCorrected']=movies['GenreCorrected'].str.replace('world war i','war')\n",
    "movies['GenreCorrected']=movies['GenreCorrected'].str.replace(\"tokusatsu\",\"action\")\n",
    "movies['GenreCorrected']=movies['GenreCorrected'].str.replace(\"ww1\",\"war\")\n",
    "movies['GenreCorrected']=movies['GenreCorrected'].str.replace(\"wwii\",\"war\")\n",
    "movies['GenreCorrected']=movies['GenreCorrected'].str.replace('superheroes','superhero')\n",
    "movies['GenreCorrected']=movies['GenreCorrected'].str.replace('superheroe','superhero')\n",
    "movies['GenreCorrected']=movies['GenreCorrected'].str.replace('familya','family')\n",
    "movies['GenreCorrected']=movies['GenreCorrected'].str.replace('familydrama','family drama')\n",
    "movies['GenreCorrected']=movies['GenreCorrected'].str.replace('famil ','family')\n",
    "movies['GenreCorrected']=movies['GenreCorrected'].str.replace('espionage','spy')\n",
    "movies['GenreCorrected']=movies['GenreCorrected'].str.replace('noir','black')\n",
    "movies['GenreCorrected']=movies['GenreCorrected'].str.replace('dark','black')\n",
    "movies['GenreCorrected']=movies['GenreCorrected'].str.replace('psychological','psycho')\n",
    "movies['GenreCorrected']=movies['GenreCorrected'].str.replace('rom-com','romance')\n",
    "movies['GenreCorrected']=movies['GenreCorrected'].str.replace('gun fu','martial_arts')\n",
    "movies['GenreCorrected']=movies['GenreCorrected'].str.replace('docudrama','documentary drama')\n",
    "movies['GenreCorrected']=movies['GenreCorrected'].str.replace('football','sports')\n",
    "movies['GenreCorrected']=movies['GenreCorrected'].str.replace('martial art','martial_arts')\n",
    "movies['GenreCorrected']=movies['GenreCorrected'].str.replace('erotica','adult')\n",
    "movies['GenreCorrected']=movies['GenreCorrected'].str.replace('erotic','adult')\n",
    "movies['GenreCorrected']=movies['GenreCorrected'].str.replace('musical','music')\n",
    "movies['GenreCorrected']=movies['GenreCorrected'].str.replace('gangster','action')\n",
    "movies['GenreCorrected']=movies['GenreCorrected'].str.replace('swashbuckler','action')\n",
    "movies['GenreCorrected']=movies['GenreCorrected'].str.replace('police','action')\n",
    "movies['GenreCorrected']=movies['GenreCorrected'].str.replace('dance','sport')\n",
    "movies['GenreCorrected']=movies['GenreCorrected'].str.replace('sports','sport')\n",
    "movies['GenreCorrected']=movies['GenreCorrected'].str.replace('muslim','religious')\n",
    "movies['GenreCorrected']=movies['GenreCorrected'].str.replace('propaganda','political')\n",
    "movies['GenreCorrected']=movies['GenreCorrected'].str.replace('samurai','action')\n",
    "movies['GenreCorrected']=movies['GenreCorrected'].str.replace('sexploitation','adult')\n",
    "movies['GenreCorrected']=movies['GenreCorrected'].str.replace('homosexual','adult')\n",
    "movies['GenreCorrected']=movies['GenreCorrected'].str.replace('socio','social')\n",
    "movies['GenreCorrected']=movies['GenreCorrected'].str.replace('sexual','adult')\n",
    "movies['GenreCorrected']=movies['GenreCorrected'].str.replace('sex','adult')\n",
    "\n",
    "# Merge some categories\n",
    "movies['GenreCorrected']=movies['GenreCorrected'].str.replace('family','child')\n",
    "movies['GenreCorrected']=movies['GenreCorrected'].str.replace('martial_arts','action')\n",
    "movies['GenreCorrected']=movies['GenreCorrected'].str.replace('horror','thriller')\n",
    "movies['GenreCorrected']=movies['GenreCorrected'].str.replace('war','action')\n",
    "movies['GenreCorrected']=movies['GenreCorrected'].str.replace('adventure','action')\n",
    "movies['GenreCorrected']=movies['GenreCorrected'].str.replace('science_fiction','action')\n",
    "movies['GenreCorrected']=movies['GenreCorrected'].str.replace('spy','action')\n",
    "movies['GenreCorrected']=movies['GenreCorrected'].str.replace('superhero','action')\n",
    "movies['GenreCorrected']=movies['GenreCorrected'].str.replace('suspense','action')\n",
    "movies['GenreCorrected']=movies['GenreCorrected'].str.replace('thriller','action')\n",
    "movies['GenreCorrected']=movies['GenreCorrected'].str.replace('epic','action')\n",
    "movies['GenreCorrected']=movies['GenreCorrected'].str.replace('crime','action')\n",
    "movies['GenreCorrected']=movies['GenreCorrected'].str.replace('western','action')\n",
    "movies['GenreCorrected']=movies['GenreCorrected'].str.replace('music','cultural')\n",
    "movies['GenreCorrected']=movies['GenreCorrected'].str.replace('sport','cultural')\n",
    "movies['GenreCorrected']=movies['GenreCorrected'].str.replace('biography','cultural')\n",
    "movies['GenreCorrected']=movies['GenreCorrected'].str.replace('history','cultural')\n",
    "movies['GenreCorrected']=movies['GenreCorrected'].str.replace('documentary','cultural')\n",
    "movies['GenreCorrected']=movies['GenreCorrected'].str.replace('political','cultural')\n",
    "movies['GenreCorrected']=movies['GenreCorrected'].str.replace('science','cultural')\n",
    "movies['GenreCorrected']=movies['GenreCorrected'].str.replace('psycho','cultural')\n",
    "movies['GenreCorrected']=movies['GenreCorrected'].str.replace('mystery','thriller')\n",
    "\n",
    "\n",
    "print(f\"Nombre de catégories: {len(movies['GenreCorrected'].value_counts())}\")"
   ]
  },
  {
   "cell_type": "code",
   "execution_count": null,
   "metadata": {
    "colab": {},
    "colab_type": "code",
    "id": "zawvJ-aVbKbE"
   },
   "outputs": [],
   "source": [
    "## Automatic harmonization of categories and listing of them\n",
    "\n",
    "nlp = spacy.load(\"en_core_web_sm\")\n",
    "\n",
    "movies['GenreListed'] = movies['GenreCorrected']\n",
    "\n",
    "for genre in movies['GenreCorrected'].unique():\n",
    "  tokens = nlp(genre)\n",
    "  listed_genre = [token.lemma_.lower() for token in tokens if not token.is_punct and not token.is_digit and not token.is_space and not token.is_stop]\n",
    "  for i in np.where(movies['GenreCorrected']==genre)[0]:\n",
    "    movies.at[i,'GenreListed'] = np.unique(np.array(listed_genre))\n",
    "\n",
    "movies.head(20)"
   ]
  },
  {
   "cell_type": "code",
   "execution_count": null,
   "metadata": {
    "colab": {},
    "colab_type": "code",
    "id": "MjqUAKEZHvtU"
   },
   "outputs": [],
   "source": [
    "# Saving of all film\n",
    "movies[['Title','Genre','GenreCorrected','GenreListed']].to_csv('completGenres.csv')\n",
    "\n",
    "if IN_COLAB:\n",
    "    files.download('completGenres.csv') "
   ]
  },
  {
   "cell_type": "code",
   "execution_count": null,
   "metadata": {
    "colab": {},
    "colab_type": "code",
    "id": "vEwfiwNzRpJj"
   },
   "outputs": [],
   "source": [
    "## Listing of all unique categories and their occurrence\n",
    "genres_array = np.array([])\n",
    "for genre in movies['GenreListed']:\n",
    "    genres_array = np.concatenate((genres_array, genre ))\n",
    "uniqueGenre, uniqueGenreCount = np.unique(genres_array, return_counts=True)\n",
    "print(f\"Nombre de catégories: {len(uniqueGenre)}\")"
   ]
  },
  {
   "cell_type": "code",
   "execution_count": null,
   "metadata": {
    "colab": {},
    "colab_type": "code",
    "id": "Bbpc8aUdU5XQ"
   },
   "outputs": [],
   "source": [
    "# Saving of unique categories\n",
    "genres = pd.DataFrame({'Genre':uniqueGenre, 'Count':uniqueGenreCount}).sort_values(by=['Count'], ascending = False, ignore_index=True)\n",
    "genres.to_csv('uniqueGenres.csv')\n",
    "\n",
    "if IN_COLAB:\n",
    "    files.download('uniqueGenres.csv') "
   ]
  },
  {
   "cell_type": "code",
   "execution_count": null,
   "metadata": {
    "colab": {},
    "colab_type": "code",
    "id": "FKebEmsFc_Qr"
   },
   "outputs": [],
   "source": [
    "## Show 10 main categories\n",
    "mainGenres = genres.loc[:9,:]\n",
    "mainGenres.plot(x='Genre', y='Count', kind='bar', legend=False, grid=True, figsize=(8, 5))\n",
    "plt.title(\"Number of movies per genre\")\n",
    "plt.ylabel('# of Occurrences', fontsize=12)\n",
    "plt.xlabel('Movie genres', fontsize=12)\n",
    "plt.show()"
   ]
  },
  {
   "cell_type": "code",
   "execution_count": null,
   "metadata": {
    "colab": {},
    "colab_type": "code",
    "id": "gnpR6XiRghe7"
   },
   "outputs": [],
   "source": [
    "## Keep only the main categories\n",
    "movies['MainGenre'] = movies['GenreListed'].apply(lambda x: x[np.in1d(x,mainGenres)])"
   ]
  },
  {
   "cell_type": "code",
   "execution_count": null,
   "metadata": {
    "colab": {},
    "colab_type": "code",
    "id": "18WMNNb4jPE6"
   },
   "outputs": [],
   "source": [
    "## Keep only films with categories\n",
    "print(movies.shape)\n",
    "selectedMovies = movies[movies['MainGenre'].apply(len)>0]\n",
    "print(selectedMovies.shape)"
   ]
  },
  {
   "cell_type": "code",
   "execution_count": null,
   "metadata": {
    "colab": {},
    "colab_type": "code",
    "id": "lAAhgmgLWs-0"
   },
   "outputs": [],
   "source": [
    "# Creat the output layer with all categories\n",
    "%store -r categoriesVector\n",
    "try:\n",
    "  categoriesVector\n",
    "except:\n",
    "  categoriesVector = np.stack(selectedMovies['MainGenre'].apply(lambda x: np.isin(mainGenres['Genre'],x))*1)\n",
    "  %store categoriesVector"
   ]
  },
  {
   "cell_type": "code",
   "execution_count": null,
   "metadata": {
    "colab": {},
    "colab_type": "code",
    "id": "mov-95QSuiC5"
   },
   "outputs": [],
   "source": [
    "np.savetxt('categoriesVector.csv', categoriesVector, delimiter=',')\n",
    "\n",
    "if IN_COLAB:\n",
    "    files.download('categoriesVector.csv') "
   ]
  },
  {
   "cell_type": "markdown",
   "metadata": {
    "colab_type": "text",
    "id": "JG12JVrgY605"
   },
   "source": [
    "## Splitting The Data into Training and Test Sets"
   ]
  },
  {
   "cell_type": "code",
   "execution_count": null,
   "metadata": {
    "colab": {},
    "colab_type": "code",
    "id": "IBVYVCJDY6KP"
   },
   "outputs": [],
   "source": [
    "rawPlot_train, rawPlot_test, cat_train, cat_test = train_test_split(selectedMovies['Plot'], categoriesVector, train_size=0.8, shuffle=True) #80% 20%"
   ]
  },
  {
   "cell_type": "code",
   "execution_count": null,
   "metadata": {
    "colab": {},
    "colab_type": "code",
    "id": "7HxZ8mjyGQJQ"
   },
   "outputs": [],
   "source": [
    "type(rawPlot_test)"
   ]
  },
  {
   "cell_type": "markdown",
   "metadata": {
    "colab_type": "text",
    "id": "YjFt_cmls9QE"
   },
   "source": [
    "## Plot preparation"
   ]
  },
  {
   "cell_type": "code",
   "execution_count": null,
   "metadata": {
    "colab": {},
    "colab_type": "code",
    "id": "byfYzECOtm2X"
   },
   "outputs": [],
   "source": [
    "def plotTokenizer(plot):\n",
    "  tokens = nlp(plot)\n",
    "  return [token.lemma_ for token in tokens if not token.is_stop]\n",
    "  # return [token.lemma_.lower() for token in tokens if not token.is_punct and not token.is_digit and not token.is_space and not token.is_stop]"
   ]
  },
  {
   "cell_type": "code",
   "execution_count": null,
   "metadata": {
    "colab": {
     "base_uri": "https://localhost:8080/",
     "height": 34
    },
    "colab_type": "code",
    "id": "GUzbts4MQey6",
    "outputId": "a84c61a2-266c-4c29-dda7-0ff9affebdef"
   },
   "outputs": [
    {
     "data": {
      "text/plain": [
       "['hello', 'maxime', '.', 'like', \"1'000'000\", '$', '!']"
      ]
     },
     "execution_count": 33,
     "metadata": {
      "tags": []
     },
     "output_type": "execute_result"
    }
   ],
   "source": [
    "np.set_printoptions(precision=2)\n",
    "plotTokenizer(\"Hello my name is Maxime. I'd like to give you 1'000'000 $ !\")"
   ]
  },
  {
   "cell_type": "code",
   "execution_count": null,
   "metadata": {
    "colab": {},
    "colab_type": "code",
    "id": "1429_LemaL0O"
   },
   "outputs": [],
   "source": [
    "plotVectorizer  = TfidfVectorizer(tokenizer = plotTokenizer, min_df=3, max_features=10000)"
   ]
  },
  {
   "cell_type": "code",
   "execution_count": null,
   "metadata": {
    "colab": {},
    "colab_type": "code",
    "id": "QJyiGfuPiE0w"
   },
   "outputs": [],
   "source": [
    "%%time\n",
    "# Learn vocabulary from training texts and vectorize training texts.\n",
    "%store -r plot_train\n",
    "try:\n",
    "  plot_train\n",
    "except:\n",
    "  plot_train = plotVectorizer.fit_transform(rawPlot_train)\n",
    "  %store plot_train"
   ]
  },
  {
   "cell_type": "code",
   "execution_count": null,
   "metadata": {
    "colab": {},
    "colab_type": "code",
    "id": "KcP6nLeVv1bf"
   },
   "outputs": [],
   "source": [
    "%%time\n",
    "# Vectorize validation texts.\n",
    "plot_test = plotVectorizer.transform(rawPlot_test)\n",
    "\n",
    "%store -r plot_test\n",
    "try:\n",
    "  plot_test\n",
    "except:\n",
    "  plot_test = plotVectorizer.transform(rawPlot_test)\n",
    "  %store plot_test"
   ]
  },
  {
   "cell_type": "code",
   "execution_count": null,
   "metadata": {
    "colab": {},
    "colab_type": "code",
    "id": "MNLZwBj1t8Xw"
   },
   "outputs": [],
   "source": [
    "np.savetxt('plot_train.csv', plot_train.toarray(), delimiter=',')\n",
    "np.savetxt('plot_test.csv', plot_test.toarray(), delimiter=',')\n",
    "\n",
    "if IN_COLAB:\n",
    "  files.download('plot_train.csv') \n",
    "  files.download('plot_test.csv') "
   ]
  },
  {
   "cell_type": "markdown",
   "metadata": {
    "colab_type": "text",
    "id": "xKwh7sASEqvS"
   },
   "source": [
    "# Naive Bayes Classification"
   ]
  },
  {
   "cell_type": "code",
   "execution_count": null,
   "metadata": {
    "colab": {},
    "colab_type": "code",
    "id": "gqhKbrlWF2hF"
   },
   "outputs": [],
   "source": [
    "cat_train.drama"
   ]
  },
  {
   "cell_type": "code",
   "execution_count": null,
   "metadata": {
    "colab": {},
    "colab_type": "code",
    "id": "_BzKQzJPEXQu"
   },
   "outputs": [],
   "source": [
    "multinomialNB=OneVsRestClassifier(MultinomialNB())\n",
    "multinomialNB.fit(plot_train, cat_train.action)"
   ]
  },
  {
   "cell_type": "code",
   "execution_count": null,
   "metadata": {
    "colab": {},
    "colab_type": "code",
    "id": "OBMjUQWJSjCa"
   },
   "outputs": [],
   "source": []
  }
 ],
 "metadata": {
  "colab": {
   "collapsed_sections": [],
   "include_colab_link": true,
   "name": "Copie de movie-chatbot.ipynb",
   "provenance": []
  },
  "kernelspec": {
   "display_name": "Python 3",
   "language": "python",
   "name": "python3"
  },
  "language_info": {
   "codemirror_mode": {
    "name": "ipython",
    "version": 3
   },
   "file_extension": ".py",
   "mimetype": "text/x-python",
   "name": "python",
   "nbconvert_exporter": "python",
   "pygments_lexer": "ipython3",
   "version": "3.7.7"
  }
 },
 "nbformat": 4,
 "nbformat_minor": 4
}
