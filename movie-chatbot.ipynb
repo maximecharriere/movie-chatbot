{
  "nbformat": 4,
  "nbformat_minor": 0,
  "metadata": {
    "colab": {
      "name": "movie-chatbot.ipynb",
      "provenance": [],
      "collapsed_sections": [],
      "include_colab_link": true
    },
    "kernelspec": {
      "name": "python3",
      "display_name": "Python 3"
    }
  },
  "cells": [
    {
      "cell_type": "markdown",
      "metadata": {
        "id": "view-in-github",
        "colab_type": "text"
      },
      "source": [
        "<a href=\"https://colab.research.google.com/github/maximecharriere/movie-chatbot/blob/master/movie-chatbot.ipynb\" target=\"_parent\"><img src=\"https://colab.research.google.com/assets/colab-badge.svg\" alt=\"Open In Colab\"/></a>"
      ]
    },
    {
      "cell_type": "markdown",
      "metadata": {
        "id": "DVy8nkPvIWuW",
        "colab_type": "text"
      },
      "source": [
        "# **Chatbot cinéphile - WELCOME**\n",
        "*Par Dylan **Morocutti** et Maxime **Charrière**.*"
      ]
    },
    {
      "cell_type": "markdown",
      "metadata": {
        "id": "KA-L_QLZnwIP",
        "colab_type": "text"
      },
      "source": [
        "# Libraries importation"
      ]
    },
    {
      "cell_type": "code",
      "metadata": {
        "id": "h_xI7FpYn3Oj",
        "colab_type": "code",
        "outputId": "718db973-03fc-492f-9573-dcb28a750354",
        "colab": {
          "base_uri": "https://localhost:8080/",
          "height": 170
        }
      },
      "source": [
        "import numpy as np\n",
        "import tensorflow as tf\n",
        "import matplotlib\n",
        "import matplotlib.pyplot as plt\n",
        "import nltk\n",
        "from nltk.corpus import treebank, nps_chat\n",
        "from nltk.cluster import KMeansClusterer\n",
        "import pandas as pd\n",
        "import gensim\n",
        "from gensim.models import Word2Vec\n",
        "import sklearn\n",
        "from sklearn import cluster\n",
        "from sklearn import metrics\n",
        "import spacy\n",
        "from google.colab import files\n",
        "\n",
        "print(\"Libraries version:\")\n",
        "print(f\"Numpy:      {np.__version__}\")\n",
        "print(f\"Matplotlib: {matplotlib.__version__}\")\n",
        "print(f\"Tensorflow: {tf.__version__}\")\n",
        "print(f\"NLTK:       {nltk.__version__}\")\n",
        "print(f\"Pandas:     {pd.__version__}\")\n",
        "print(f\"Gensim:     {gensim.__version__}\")\n",
        "print(f\"Sklearn:    {sklearn.__version__}\")\n",
        "print(f\"Spacy:      {spacy.__version__}\")"
      ],
      "execution_count": 40,
      "outputs": [
        {
          "output_type": "stream",
          "text": [
            "Libraries version:\n",
            "Numpy:      1.18.4\n",
            "Matplotlib: 3.2.1\n",
            "Tensorflow: 2.2.0\n",
            "NLTK:       3.2.5\n",
            "Pandas:     1.0.4\n",
            "Gensim:     3.6.0\n",
            "Sklearn:    0.22.2.post1\n",
            "Spacy:      2.2.4\n"
          ],
          "name": "stdout"
        }
      ]
    },
    {
      "cell_type": "markdown",
      "metadata": {
        "id": "pkblOKQBLcZO",
        "colab_type": "text"
      },
      "source": [
        "# Importation des data\n",
        "- Source: http://www.cs.cornell.edu/~cristian/Cornell_Movie-Dialogs_Corpus.html"
      ]
    },
    {
      "cell_type": "code",
      "metadata": {
        "id": "_yCZkbVwL69k",
        "colab_type": "code",
        "colab": {}
      },
      "source": [
        "url_movie_line = \"https://raw.githubusercontent.com/maximecharriere/movie-chatbot/master/data/parsed_movie_dialogue.txt\"\n",
        "movie_line = pd.read_csv(url_movie_line, sep='\\+{3}\\$\\+{3}', engine='python', names=(\"First line\",\"Reply\"))"
      ],
      "execution_count": 0,
      "outputs": []
    },
    {
      "cell_type": "code",
      "metadata": {
        "id": "1chO8g1DPjy7",
        "colab_type": "code",
        "outputId": "c2a3f841-db80-4234-d29d-a8ddd0e817a5",
        "colab": {
          "base_uri": "https://localhost:8080/",
          "height": 34
        }
      },
      "source": [
        "movie_line[\"First line\"][2]"
      ],
      "execution_count": 0,
      "outputs": [
        {
          "output_type": "execute_result",
          "data": {
            "text/plain": [
              "'We saw it. All craft prepare to retreat.'"
            ]
          },
          "metadata": {
            "tags": []
          },
          "execution_count": 9
        }
      ]
    },
    {
      "cell_type": "markdown",
      "metadata": {
        "id": "_c5fE6MX_yvE",
        "colab_type": "text"
      },
      "source": [
        "# Building DeepLearning **model**"
      ]
    },
    {
      "cell_type": "code",
      "metadata": {
        "id": "uJoyigaxqGp3",
        "colab_type": "code",
        "colab": {}
      },
      "source": [
        "# Flatten\n",
        "model = tf.keras.models.Sequential()\n",
        "# Add layers\n",
        "model.add(tf.keras.layers.Dense(256, activation=\"relu\"))\n",
        "model.add(tf.keras.layers.Dense(128, activation=\"relu\"))\n",
        "model.add(tf.keras.layers.Dense(2, activation=\"softmax\"))"
      ],
      "execution_count": 0,
      "outputs": []
    },
    {
      "cell_type": "markdown",
      "metadata": {
        "id": "Kjup0nQfFpFJ",
        "colab_type": "text"
      },
      "source": [
        "# NLTK Test"
      ]
    },
    {
      "cell_type": "markdown",
      "metadata": {
        "id": "yOO9FRWC5fEk",
        "colab_type": "text"
      },
      "source": [
        "### Download data"
      ]
    },
    {
      "cell_type": "code",
      "metadata": {
        "id": "nkqKJSVLGUxs",
        "colab_type": "code",
        "outputId": "50bcb167-5ec5-4dbc-ac0d-d877d4339cf6",
        "colab": {
          "base_uri": "https://localhost:8080/",
          "height": 272
        }
      },
      "source": [
        "nltk.download('punkt')\n",
        "nltk.download('averaged_perceptron_tagger')\n",
        "nltk.download('maxent_ne_chunker')\n",
        "nltk.download('words')\n",
        "nltk.download('treebank')\n",
        "nltk.download('nps_chat')\n"
      ],
      "execution_count": 0,
      "outputs": [
        {
          "output_type": "stream",
          "text": [
            "[nltk_data] Downloading package punkt to /root/nltk_data...\n",
            "[nltk_data]   Unzipping tokenizers/punkt.zip.\n",
            "[nltk_data] Downloading package averaged_perceptron_tagger to\n",
            "[nltk_data]     /root/nltk_data...\n",
            "[nltk_data]   Unzipping taggers/averaged_perceptron_tagger.zip.\n",
            "[nltk_data] Downloading package maxent_ne_chunker to\n",
            "[nltk_data]     /root/nltk_data...\n",
            "[nltk_data]   Unzipping chunkers/maxent_ne_chunker.zip.\n",
            "[nltk_data] Downloading package words to /root/nltk_data...\n",
            "[nltk_data]   Unzipping corpora/words.zip.\n",
            "[nltk_data] Downloading package treebank to /root/nltk_data...\n",
            "[nltk_data]   Unzipping corpora/treebank.zip.\n",
            "[nltk_data] Downloading package nps_chat to /root/nltk_data...\n",
            "[nltk_data]   Unzipping corpora/nps_chat.zip.\n"
          ],
          "name": "stdout"
        },
        {
          "output_type": "execute_result",
          "data": {
            "text/plain": [
              "True"
            ]
          },
          "metadata": {
            "tags": []
          },
          "execution_count": 5
        }
      ]
    },
    {
      "cell_type": "code",
      "metadata": {
        "id": "ANJeYUQnFrA2",
        "colab_type": "code",
        "colab": {}
      },
      "source": [
        "sentence = \"\"\"Your insight serves you well. Bury your feelings deep down, Luke. They do you credit. But they could be made to serve the Emperor.\"\"\"\n",
        "tokens = nltk.word_tokenize(sentence)\n",
        "tagged = nltk.pos_tag(tokens)\n",
        "entities = nltk.chunk.ne_chunk(tagged)\n",
        "# t = treebank.parsed_sents('wsj_0001.mrg')[0]\n",
        "# nltk.draw.tree.TreeView(t)._cframe.print_to_file('output.ps')"
      ],
      "execution_count": 0,
      "outputs": []
    },
    {
      "cell_type": "code",
      "metadata": {
        "id": "9J4_3pK-G2se",
        "colab_type": "code",
        "outputId": "8c39428a-3dd2-4d7a-c24f-0e8d80c128d7",
        "colab": {
          "base_uri": "https://localhost:8080/",
          "height": 34
        }
      },
      "source": [
        "len(tagged)"
      ],
      "execution_count": 0,
      "outputs": [
        {
          "output_type": "execute_result",
          "data": {
            "text/plain": [
              "29"
            ]
          },
          "metadata": {
            "tags": []
          },
          "execution_count": 42
        }
      ]
    },
    {
      "cell_type": "code",
      "metadata": {
        "id": "pQmg6hq5QQ7y",
        "colab_type": "code",
        "outputId": "4f389450-a6d2-42d7-8c79-9df9623f91c5",
        "colab": {
          "base_uri": "https://localhost:8080/",
          "height": 272
        }
      },
      "source": [
        "nps_chat.fileids()"
      ],
      "execution_count": 0,
      "outputs": [
        {
          "output_type": "execute_result",
          "data": {
            "text/plain": [
              "['10-19-20s_706posts.xml',\n",
              " '10-19-30s_705posts.xml',\n",
              " '10-19-40s_686posts.xml',\n",
              " '10-19-adults_706posts.xml',\n",
              " '10-24-40s_706posts.xml',\n",
              " '10-26-teens_706posts.xml',\n",
              " '11-06-adults_706posts.xml',\n",
              " '11-08-20s_705posts.xml',\n",
              " '11-08-40s_706posts.xml',\n",
              " '11-08-adults_705posts.xml',\n",
              " '11-08-teens_706posts.xml',\n",
              " '11-09-20s_706posts.xml',\n",
              " '11-09-40s_706posts.xml',\n",
              " '11-09-adults_706posts.xml',\n",
              " '11-09-teens_706posts.xml']"
            ]
          },
          "metadata": {
            "tags": []
          },
          "execution_count": 6
        }
      ]
    },
    {
      "cell_type": "code",
      "metadata": {
        "id": "OfJyXFJXSqPn",
        "colab_type": "code",
        "colab": {}
      },
      "source": [
        ""
      ],
      "execution_count": 0,
      "outputs": []
    },
    {
      "cell_type": "markdown",
      "metadata": {
        "id": "e8qGTIB9Wb8g",
        "colab_type": "text"
      },
      "source": [
        "# SpaCy test"
      ]
    },
    {
      "cell_type": "code",
      "metadata": {
        "id": "qHJf9cVGXUtE",
        "colab_type": "code",
        "outputId": "dea9c8b9-2dde-4949-c5b3-c16abd1f7914",
        "colab": {
          "base_uri": "https://localhost:8080/",
          "height": 204
        }
      },
      "source": [
        "url_movie_wiki = \"https://raw.githubusercontent.com/maximecharriere/movie-chatbot/master/data/movie_wiki_infos/wiki_movie_plots_deduped.csv\"\n",
        "movies = pd.read_csv(url_movie_wiki, sep=',', engine='python')[['Genre','Plot']]\n",
        "movies.shape\n",
        "movies.head()"
      ],
      "execution_count": 174,
      "outputs": [
        {
          "output_type": "execute_result",
          "data": {
            "text/html": [
              "<div>\n",
              "<style scoped>\n",
              "    .dataframe tbody tr th:only-of-type {\n",
              "        vertical-align: middle;\n",
              "    }\n",
              "\n",
              "    .dataframe tbody tr th {\n",
              "        vertical-align: top;\n",
              "    }\n",
              "\n",
              "    .dataframe thead th {\n",
              "        text-align: right;\n",
              "    }\n",
              "</style>\n",
              "<table border=\"1\" class=\"dataframe\">\n",
              "  <thead>\n",
              "    <tr style=\"text-align: right;\">\n",
              "      <th></th>\n",
              "      <th>Genre</th>\n",
              "      <th>Plot</th>\n",
              "    </tr>\n",
              "  </thead>\n",
              "  <tbody>\n",
              "    <tr>\n",
              "      <th>0</th>\n",
              "      <td>unknown</td>\n",
              "      <td>A bartender is working at a saloon, serving dr...</td>\n",
              "    </tr>\n",
              "    <tr>\n",
              "      <th>1</th>\n",
              "      <td>unknown</td>\n",
              "      <td>The moon, painted with a smiling face hangs ov...</td>\n",
              "    </tr>\n",
              "    <tr>\n",
              "      <th>2</th>\n",
              "      <td>unknown</td>\n",
              "      <td>The film, just over a minute long, is composed...</td>\n",
              "    </tr>\n",
              "    <tr>\n",
              "      <th>3</th>\n",
              "      <td>unknown</td>\n",
              "      <td>Lasting just 61 seconds and consisting of two ...</td>\n",
              "    </tr>\n",
              "    <tr>\n",
              "      <th>4</th>\n",
              "      <td>unknown</td>\n",
              "      <td>The earliest known adaptation of the classic f...</td>\n",
              "    </tr>\n",
              "  </tbody>\n",
              "</table>\n",
              "</div>"
            ],
            "text/plain": [
              "     Genre                                               Plot\n",
              "0  unknown  A bartender is working at a saloon, serving dr...\n",
              "1  unknown  The moon, painted with a smiling face hangs ov...\n",
              "2  unknown  The film, just over a minute long, is composed...\n",
              "3  unknown  Lasting just 61 seconds and consisting of two ...\n",
              "4  unknown  The earliest known adaptation of the classic f..."
            ]
          },
          "metadata": {
            "tags": []
          },
          "execution_count": 174
        }
      ]
    },
    {
      "cell_type": "code",
      "metadata": {
        "id": "6R3OemLWSi9e",
        "colab_type": "code",
        "outputId": "3310a29e-cbd3-4950-e99f-874b082a37c9",
        "colab": {
          "base_uri": "https://localhost:8080/",
          "height": 221
        }
      },
      "source": [
        "movies['Genre'].value_counts()"
      ],
      "execution_count": 175,
      "outputs": [
        {
          "output_type": "execute_result",
          "data": {
            "text/plain": [
              "unknown                             6083\n",
              "drama                               5964\n",
              "comedy                              4379\n",
              "horror                              1167\n",
              "action                              1098\n",
              "                                    ... \n",
              "comedy, musical, romance, family       1\n",
              "action drama, bio-pic, thriller        1\n",
              "wuxia/historical/romance               1\n",
              "horror, action comedy                  1\n",
              "drama, patriotic, social               1\n",
              "Name: Genre, Length: 2265, dtype: int64"
            ]
          },
          "metadata": {
            "tags": []
          },
          "execution_count": 175
        }
      ]
    },
    {
      "cell_type": "code",
      "metadata": {
        "id": "uUIW8nNcYl-N",
        "colab_type": "code",
        "colab": {}
      },
      "source": [
        "# harmonization\n",
        "movies['GenreCorrected'] =movies['Genre'] \n",
        "# movies['GenreCorrected']=movies['GenreCorrected'].str.strip()\n",
        "# movies['GenreCorrected']=movies['GenreCorrected'].str.replace(' - ', '|')\n",
        "# movies['GenreCorrected']=movies['GenreCorrected'].str.replace(' / ', '|')\n",
        "# movies['GenreCorrected']=movies['GenreCorrected'].str.replace('/', '|')\n",
        "# movies['GenreCorrected']=movies['GenreCorrected'].str.replace(' & ', '|')\n",
        "# movies['GenreCorrected']=movies['GenreCorrected'].str.replace(', ', '|')\n",
        "# movies['GenreCorrected']=movies['GenreCorrected'].str.replace('; ', '|')\n",
        "movies['GenreCorrected']=movies['GenreCorrected'].str.replace('unknown', '')\n",
        "movies['GenreCorrected']=movies['GenreCorrected'].str.replace('bio-pic', 'biography')\n",
        "movies['GenreCorrected']=movies['GenreCorrected'].str.replace('biopic', 'biography')\n",
        "movies['GenreCorrected']=movies['GenreCorrected'].str.replace('biographical', 'biography')\n",
        "movies['GenreCorrected']=movies['GenreCorrected'].str.replace('biodrama', 'biography | drama')\n",
        "movies['GenreCorrected']=movies['GenreCorrected'].str.replace('bio-drama', 'biography | drama')\n",
        "movies['GenreCorrected']=movies['GenreCorrected'].str.replace('biographic', 'biography')\n",
        "movies['GenreCorrected']=movies['GenreCorrected'].str.replace(' \\(film genre\\)', '')\n",
        "movies['GenreCorrected']=movies['GenreCorrected'].str.replace('animated','animation')\n",
        "movies['GenreCorrected']=movies['GenreCorrected'].str.replace('anime','animation')\n",
        "# movies['GenreCorrected']=movies['GenreCorrected'].str.replace('children\\'s','children')\n",
        "movies['GenreCorrected']=movies['GenreCorrected'].str.replace('comedey','comedy')\n",
        "movies['GenreCorrected']=movies['GenreCorrected'].str.replace('\\[not in citation given\\]','')\n",
        "\n",
        "\n",
        "movies['GenreCorrected']=movies['GenreCorrected'].str.replace(' set 4,000 years ago in the canadian arctic','')\n",
        "movies['GenreCorrected']=movies['GenreCorrected'].str.replace('historical','history')\n",
        "movies['GenreCorrected']=movies['GenreCorrected'].str.replace('romantic','romance')\n",
        "movies['GenreCorrected']=movies['GenreCorrected'].str.replace('3-d','animation')\n",
        "movies['GenreCorrected']=movies['GenreCorrected'].str.replace('3d','animation')\n",
        "movies['GenreCorrected']=movies['GenreCorrected'].str.replace('sci-fi','science_fiction')\n",
        "movies['GenreCorrected']=movies['GenreCorrected'].str.replace('ttriller','thriller')\n",
        "# movies['GenreCorrected']=movies['GenreCorrected'].str.replace('.','')\n",
        "movies['GenreCorrected']=movies['GenreCorrected'].str.replace('sci fi','science_fiction')\n",
        "movies['GenreCorrected']=movies['GenreCorrected'].str.replace('science fiction','science_fiction')\n",
        "movies['GenreCorrected']=movies['GenreCorrected'].str.replace('kung fu','martial_arts')\n",
        "movies['GenreCorrected']=movies['GenreCorrected'].str.replace('kung-fu','martial_arts')\n",
        "movies['GenreCorrected']=movies['GenreCorrected'].str.replace('martial arts','martial_arts')\n",
        "movies['GenreCorrected']=movies['GenreCorrected'].str.replace('world war ii','war')\n",
        "movies['GenreCorrected']=movies['GenreCorrected'].str.replace('world war i','war')\n",
        "movies['GenreCorrected']=movies['GenreCorrected'].str.replace('spy film','spy')\n",
        "movies['GenreCorrected']=movies['GenreCorrected'].str.replace('avant-garde','avant_garde')\n",
        "movies['GenreCorrected']=movies['GenreCorrected'].str.replace('2-reeler','')\n",
        "movies['GenreCorrected']=movies['GenreCorrected'].str.replace('films','')\n",
        "movies['GenreCorrected']=movies['GenreCorrected'].str.replace('film','')\n",
        "movies['GenreCorrected']=movies['GenreCorrected'].str.replace('british-german co-production','')\n",
        "movies['GenreCorrected']=movies['GenreCorrected'].str.replace('bruceploitation','martial_arts')\n",
        "movies['GenreCorrected']=movies['GenreCorrected'].str.replace('comedy-drama adaptation of the mordecai richler novel','comedy drama')\n",
        "movies['GenreCorrected']=movies['GenreCorrected'].str.replace('movies by the mob\\|knkspl','')\n",
        "movies['GenreCorrected']=movies['GenreCorrected'].str.replace('movies','')\n",
        "movies['GenreCorrected']=movies['GenreCorrected'].str.replace('movie','')\n",
        "movies['GenreCorrected']=movies['GenreCorrected'].str.replace('coming of age','coming_of_age')\n",
        "movies['GenreCorrected']=movies['GenreCorrected'].str.replace('coming-of-age','coming_of_age')\n",
        "movies['GenreCorrected']=movies['GenreCorrected'].str.replace('drama about child soldiers','drama')\n",
        "# movies['GenreCorrected']=movies['GenreCorrected'].str.replace('(( based).+)','')\n",
        "# movies['GenreCorrected']=movies['GenreCorrected'].str.replace('(( co-produced).+)','')\n",
        "# movies['GenreCorrected']=movies['GenreCorrected'].str.replace('(( adapted).+)','')\n",
        "# movies['GenreCorrected']=movies['GenreCorrected'].str.replace('(( about).+)','')\n",
        "# movies['GenreCorrected']=movies['GenreCorrected'].str.replace('musical b','musical')\n",
        "# movies['GenreCorrected']=movies['GenreCorrected'].str.replace(' period','period')\n",
        "# movies['GenreCorrected']=movies['GenreCorrected'].str.replace('drama loosely','drama')\n",
        "# movies['GenreCorrected']=movies['GenreCorrected'].str.replace(' \\(aquatics|swimming\\)','')\n",
        "# movies['GenreCorrected']=movies['GenreCorrected'].str.replace(' \\(aquatics|swimming\\)','')\n",
        "# movies['GenreCorrected']=movies['GenreCorrected'].str.replace(\"yogesh dattatraya gosavi's directorial debut \\[9\\]\",'')\n",
        "# movies['GenreCorrected']=movies['GenreCorrected'].str.replace(\"war-time\",\"war\")\n",
        "# movies['GenreCorrected']=movies['GenreCorrected'].str.replace(\"wartime\",\"war\")\n",
        "movies['GenreCorrected']=movies['GenreCorrected'].str.replace(\"tokusatsu\",\"action\")\n",
        "\n",
        "# movies['GenreCorrected']=movies['GenreCorrected'].str.replace(\"ww1\",\"war\")\n",
        "# movies['GenreCorrected']=movies['GenreCorrected'].str.replace('unknown','')\n",
        "# movies['GenreCorrected']=movies['GenreCorrected'].str.replace(\"wwii\",\"war\")\n",
        "# movies['GenreCorrected']=movies['GenreCorrected'].str.replace('psychological','psycho')\n",
        "# movies['GenreCorrected']=movies['GenreCorrected'].str.replace('rom-coms','romance')\n",
        "# movies['GenreCorrected']=movies['GenreCorrected'].str.replace('true crime','crime')\n",
        "# movies['GenreCorrected']=movies['GenreCorrected'].str.replace('\\|007','')\n",
        "# movies['GenreCorrected']=movies['GenreCorrected'].str.replace('slice of life','slice_of_life')\n",
        "# movies['GenreCorrected']=movies['GenreCorrected'].str.replace('computer animation','animation')\n",
        "# movies['GenreCorrected']=movies['GenreCorrected'].str.replace('gun fu','martial_arts')\n",
        "# movies['GenreCorrected']=movies['GenreCorrected'].str.replace('j-horror','horror')\n",
        "# movies['GenreCorrected']=movies['GenreCorrected'].str.replace(' \\(shogi|chess\\)','')\n",
        "# movies['GenreCorrected']=movies['GenreCorrected'].str.replace('afghan war drama','war drama')\n",
        "# movies['GenreCorrected']=movies['GenreCorrected'].str.replace('\\|6 separate stories','')\n",
        "# movies['GenreCorrected']=movies['GenreCorrected'].str.replace(' \\(30min\\)','')\n",
        "# movies['GenreCorrected']=movies['GenreCorrected'].str.replace(' (road bicycle racing)','')\n",
        "# movies['GenreCorrected']=movies['GenreCorrected'].str.replace(' v-cinema','')\n",
        "# movies['GenreCorrected']=movies['GenreCorrected'].str.replace('tv miniseries','tv_miniseries')\n",
        "# movies['GenreCorrected']=movies['GenreCorrected'].str.replace('\\|docudrama','\\|documentary|drama')\n",
        "# movies['GenreCorrected']=movies['GenreCorrected'].str.replace(' in animation','|animation')\n",
        "# movies['GenreCorrected']=movies['GenreCorrected'].str.replace('((adaptation).+)','')\n",
        "# movies['GenreCorrected']=movies['GenreCorrected'].str.replace('((adaptated).+)','')\n",
        "# movies['GenreCorrected']=movies['GenreCorrected'].str.replace('((adapted).+)','')\n",
        "# movies['GenreCorrected']=movies['GenreCorrected'].str.replace('(( on ).+)','')\n",
        "# movies['GenreCorrected']=movies['GenreCorrected'].str.replace('american football','sports')\n",
        "# movies['GenreCorrected']=movies['GenreCorrected'].str.replace('dev\\|nusrat jahan','sports')\n",
        "# movies['GenreCorrected']=movies['GenreCorrected'].str.replace('television miniseries','tv_miniseries')\n",
        "# movies['GenreCorrected']=movies['GenreCorrected'].str.replace(' \\(artistic\\)','')\n",
        "# movies['GenreCorrected']=movies['GenreCorrected'].str.replace(' \\|direct-to-dvd','')\n",
        "# movies['GenreCorrected']=movies['GenreCorrected'].str.replace('history dram','history drama')\n",
        "# movies['GenreCorrected']=movies['GenreCorrected'].str.replace('martial art','martial_arts')\n",
        "# movies['GenreCorrected']=movies['GenreCorrected'].str.replace('psycho thriller,','psycho thriller')\n",
        "# movies['GenreCorrected']=movies['GenreCorrected'].str.replace('\\|1 girl\\|3 suitors','')\n",
        "# movies['GenreCorrected']=movies['GenreCorrected'].str.replace(' \\(road bicycle racing\\)','')\n",
        "# filterE = movies['GenreCorrected']==\"ero\"\n",
        "# movies.loc[filterE,'GenreCorrected']=\"adult\"\n",
        "# filterE = movies['GenreCorrected']==\"music\"\n",
        "# movies.loc[filterE,'GenreCorrected']=\"musical\"\n",
        "# filterE = movies['GenreCorrected']==\"-\"\n",
        "# movies.loc[filterE,'GenreCorrected']=''\n",
        "# filterE = movies['GenreCorrected']==\"comedy–drama\"\n",
        "# movies.loc[filterE,'GenreCorrected'] = \"comedy|drama\"\n",
        "# filterE = movies['GenreCorrected']==\"comedy–horror\"\n",
        "# movies.loc[filterE,'GenreCorrected'] = \"comedy|horror\"\n",
        "# movies['GenreCorrected']=movies['GenreCorrected'].str.replace(' ','|')\n",
        "# movies['GenreCorrected']=movies['GenreCorrected'].str.replace(',','|')\n",
        "# movies['GenreCorrected']=movies['GenreCorrected'].str.replace('-','')\n",
        "# movies['GenreCorrected']=movies['GenreCorrected'].str.replace('actionadventure','action|adventure')\n",
        "# movies['GenreCorrected']=movies['GenreCorrected'].str.replace('actioncomedy','action|comedy')\n",
        "# movies['GenreCorrected']=movies['GenreCorrected'].str.replace('actiondrama','action|drama')\n",
        "# movies['GenreCorrected']=movies['GenreCorrected'].str.replace('actionlove','action|love')\n",
        "# movies['GenreCorrected']=movies['GenreCorrected'].str.replace('actionmasala','action|masala')\n",
        "# movies['GenreCorrected']=movies['GenreCorrected'].str.replace('actionchildren','action|children')\n",
        "\n",
        "# movies['GenreCorrected']=movies['GenreCorrected'].str.replace('fantasychildren\\|','fantasy|children')\n",
        "# movies['GenreCorrected']=movies['GenreCorrected'].str.replace('fantasycomedy','fantasy|comedy')\n",
        "# movies['GenreCorrected']=movies['GenreCorrected'].str.replace('fantasyperiod','fantasy|period')\n",
        "# movies['GenreCorrected']=movies['GenreCorrected'].str.replace('cbctv_miniseries','tv_miniseries')\n",
        "# movies['GenreCorrected']=movies['GenreCorrected'].str.replace('dramacomedy','drama|comedy')\n",
        "# movies['GenreCorrected']=movies['GenreCorrected'].str.replace('dramacomedysocial','drama|comedy|social')\n",
        "# movies['GenreCorrected']=movies['GenreCorrected'].str.replace('dramathriller','drama|thriller')\n",
        "# movies['GenreCorrected']=movies['GenreCorrected'].str.replace('comedydrama','comedy|drama')\n",
        "# movies['GenreCorrected']=movies['GenreCorrected'].str.replace('dramathriller','drama|thriller')\n",
        "# movies['GenreCorrected']=movies['GenreCorrected'].str.replace('comedyhorror','comedy|horror')\n",
        "# movies['GenreCorrected']=movies['GenreCorrected'].str.replace('sciencefiction','science_fiction')\n",
        "# movies['GenreCorrected']=movies['GenreCorrected'].str.replace('adventurecomedy','adventure|comedy')\n",
        "# movies['GenreCorrected']=movies['GenreCorrected'].str.replace('animationdrama','animation|drama')\n",
        "# movies['GenreCorrected']=movies['GenreCorrected'].str.replace('\\|\\|','|')\n",
        "# movies['GenreCorrected']=movies['GenreCorrected'].str.replace('muslim','religious')\n",
        "# movies['GenreCorrected']=movies['GenreCorrected'].str.replace('thriler','thriller')\n",
        "# movies['GenreCorrected']=movies['GenreCorrected'].str.replace('crimethriller','crime|thriller')\n",
        "# movies['GenreCorrected']=movies['GenreCorrected'].str.replace('fantay','fantasy')\n",
        "# movies['GenreCorrected']=movies['GenreCorrected'].str.replace('actionthriller','action|thriller')\n",
        "# movies['GenreCorrected']=movies['GenreCorrected'].str.replace('comedysocial','comedy|social')\n",
        "# movies['GenreCorrected']=movies['GenreCorrected'].str.replace('martialarts','martial_arts')\n",
        "# movies['GenreCorrected']=movies['GenreCorrected'].str.replace('\\|\\(children\\|poker\\|karuta\\)','')\n",
        "# movies['GenreCorrected']=movies['GenreCorrected'].str.replace('epichistory','epic|history')\n",
        "\n",
        "# movies['GenreCorrected']=movies['GenreCorrected'].str.replace('erotica','adult')\n",
        "# movies['GenreCorrected']=movies['GenreCorrected'].str.replace('erotic','adult')\n",
        "\n",
        "# movies['GenreCorrected']=movies['GenreCorrected'].str.replace('((\\|produced\\|).+)','')\n",
        "# movies['GenreCorrected']=movies['GenreCorrected'].str.replace('chanbara','chambara')\n",
        "# movies['GenreCorrected']=movies['GenreCorrected'].str.replace('comedythriller','comedy|thriller')\n",
        "# movies['GenreCorrected']=movies['GenreCorrected'].str.replace('biblical','religious')\n",
        "# movies['GenreCorrected']=movies['GenreCorrected'].str.replace('biblical','religious')\n",
        "# movies['GenreCorrected']=movies['GenreCorrected'].str.replace('colour\\|yellow\\|productions\\|eros\\|international','')\n",
        "# movies['GenreCorrected']=movies['GenreCorrected'].str.replace('\\|directtodvd','')\n",
        "# movies['GenreCorrected']=movies['GenreCorrected'].str.replace('liveaction','live|action')\n",
        "# movies['GenreCorrected']=movies['GenreCorrected'].str.replace('melodrama','drama')\n",
        "# movies['GenreCorrected']=movies['GenreCorrected'].str.replace('superheroes','superheroe')\n",
        "# movies['GenreCorrected']=movies['GenreCorrected'].str.replace('gangsterthriller','gangster|thriller')\n",
        "\n",
        "# movies['GenreCorrected']=movies['GenreCorrected'].str.replace('heistcomedy','comedy')\n",
        "# movies['GenreCorrected']=movies['GenreCorrected'].str.replace('heist','action')\n",
        "# movies['GenreCorrected']=movies['GenreCorrected'].str.replace('historic','history')\n",
        "# movies['GenreCorrected']=movies['GenreCorrected'].str.replace('historydisaster','history|disaster')\n",
        "# movies['GenreCorrected']=movies['GenreCorrected'].str.replace('warcomedy','war|comedy')\n",
        "# movies['GenreCorrected']=movies['GenreCorrected'].str.replace('westerncomedy','western|comedy')\n",
        "# movies['GenreCorrected']=movies['GenreCorrected'].str.replace('ancientcostume','costume')\n",
        "# movies['GenreCorrected']=movies['GenreCorrected'].str.replace('computeranimation','animation')\n",
        "# movies['GenreCorrected']=movies['GenreCorrected'].str.replace('dramatic','drama')\n",
        "# movies['GenreCorrected']=movies['GenreCorrected'].str.replace('familya','family')\n",
        "# movies['GenreCorrected']=movies['GenreCorrected'].str.replace('familya','family')\n",
        "# movies['GenreCorrected']=movies['GenreCorrected'].str.replace('dramedy','drama|comedy')\n",
        "# movies['GenreCorrected']=movies['GenreCorrected'].str.replace('dramaa','drama')\n",
        "# movies['GenreCorrected']=movies['GenreCorrected'].str.replace('famil\\|','family')\n",
        "\n",
        "# movies['GenreCorrected']=movies['GenreCorrected'].str.replace('superheroe','superhero')\n",
        "# movies['GenreCorrected']=movies['GenreCorrected'].str.replace('biogtaphy','biography')\n",
        "# movies['GenreCorrected']=movies['GenreCorrected'].str.replace('devotionalbiography','devotional|biography')\n",
        "# movies['GenreCorrected']=movies['GenreCorrected'].str.replace('docufiction','documentary|fiction')\n",
        "\n",
        "movies['GenreCorrected']=movies['GenreCorrected'].str.replace('familydrama','family|drama')\n",
        "\n",
        "movies['GenreCorrected']=movies['GenreCorrected'].str.replace('espionage','spy')\n",
        "# movies['GenreCorrected']=movies['GenreCorrected'].str.replace('supeheroes','superhero')\n",
        "# movies['GenreCorrected']=movies['GenreCorrected'].str.replace('romancefiction','romance|fiction')\n",
        "# movies['GenreCorrected']=movies['GenreCorrected'].str.replace('horrorthriller','horror|thriller')\n",
        "\n",
        "# movies['GenreCorrected']=movies['GenreCorrected'].str.replace('suspensethriller','suspense|thriller')\n",
        "# movies['GenreCorrected']=movies['GenreCorrected'].str.replace('musicaliography','musical|biography')\n",
        "# movies['GenreCorrected']=movies['GenreCorrected'].str.replace('triller','thriller')\n",
        "\n",
        "# movies['GenreCorrected']=movies['GenreCorrected'].str.replace('\\|\\(fiction\\)','|fiction')\n",
        "\n",
        "# movies['GenreCorrected']=movies['GenreCorrected'].str.replace('romanceaction','romance|action')\n",
        "# movies['GenreCorrected']=movies['GenreCorrected'].str.replace('romancecomedy','romance|comedy')\n",
        "# movies['GenreCorrected']=movies['GenreCorrected'].str.replace('romancehorror','romance|horror')\n",
        "\n",
        "# movies['GenreCorrected']=movies['GenreCorrected'].str.replace('romcom','romance|comedy')\n",
        "# movies['GenreCorrected']=movies['GenreCorrected'].str.replace('rom\\|com','romance|comedy')\n",
        "# movies['GenreCorrected']=movies['GenreCorrected'].str.replace('satirical','satire')\n",
        "\n",
        "# movies['GenreCorrected']=movies['GenreCorrected'].str.replace('science_fictionchildren','science_fiction|children')\n",
        "# movies['GenreCorrected']=movies['GenreCorrected'].str.replace('homosexual','adult')\n",
        "# movies['GenreCorrected']=movies['GenreCorrected'].str.replace('sexual','adult')\n",
        "\n",
        "# movies['GenreCorrected']=movies['GenreCorrected'].str.replace('mockumentary','documentary')\n",
        "# movies['GenreCorrected']=movies['GenreCorrected'].str.replace('periodic','period')\n",
        "# movies['GenreCorrected']=movies['GenreCorrected'].str.replace('romanctic','romantic')\n",
        "# movies['GenreCorrected']=movies['GenreCorrected'].str.replace('politics','political')\n",
        "# movies['GenreCorrected']=movies['GenreCorrected'].str.replace('samurai','martial_arts')\n",
        "# movies['GenreCorrected']=movies['GenreCorrected'].str.replace('tv_miniseries','series')\n",
        "# movies['GenreCorrected']=movies['GenreCorrected'].str.replace('serial','series')\n",
        "\n",
        "# filterE = movies['GenreCorrected']==\"musical–comedy\"\n",
        "# movies.loc[filterE,'GenreCorrected'] = \"musical|comedy\"\n",
        "\n",
        "# filterE = movies['GenreCorrected']==\"roman|porno\"\n",
        "# movies.loc[filterE,'GenreCorrected'] = \"adult\"\n",
        "\n",
        "\n",
        "# filterE = movies['GenreCorrected']==\"action—masala\"\n",
        "# movies.loc[filterE,'GenreCorrected'] = \"action|masala\"\n",
        "\n",
        "\n",
        "# filterE = movies['GenreCorrected']==\"horror–thriller\"\n",
        "# movies.loc[filterE,'GenreCorrected'] = \"horror|thriller\"\n",
        "\n",
        "movies['GenreCorrected']=movies['GenreCorrected'].str.replace('family','children')\n",
        "movies['GenreCorrected']=movies['GenreCorrected'].str.replace('martial_arts','action')\n",
        "movies['GenreCorrected']=movies['GenreCorrected'].str.replace('horror','thriller')\n",
        "movies['GenreCorrected']=movies['GenreCorrected'].str.replace('war','action')\n",
        "movies['GenreCorrected']=movies['GenreCorrected'].str.replace('adventure','action')\n",
        "movies['GenreCorrected']=movies['GenreCorrected'].str.replace('science_fiction','action')\n",
        "movies['GenreCorrected']=movies['GenreCorrected'].str.replace('western','action')\n",
        "movies['GenreCorrected']=movies['GenreCorrected'].str.replace('noir','black')\n",
        "movies['GenreCorrected']=movies['GenreCorrected'].str.replace('spy','action')\n",
        "movies['GenreCorrected']=movies['GenreCorrected'].str.replace('superhero','action')\n",
        "# movies['GenreCorrected']=movies['GenreCorrected'].str.replace('social','')\n",
        "movies['GenreCorrected']=movies['GenreCorrected'].str.replace('suspense','action')\n",
        "movies['GenreCorrected']=movies['GenreCorrected'].replace(to_replace=r'\\d+',value=' ', regex=True)\n",
        "\n",
        "# filterE = movies['GenreCorrected']==\"drama|romance|adult|children\"\n",
        "# movies.loc[filterE,'GenreCorrected'] = \"drama|romance|adult\"\n",
        "\n",
        "# movies['GenreCorrected']=movies['GenreCorrected'].str.replace('\\|–\\|','|')\n",
        "# movies['GenreCorrected']=movies['GenreCorrected'].str.strip(to_strip='\\|')\n",
        "# movies['GenreCorrected']=movies['GenreCorrected'].str.replace('actionner','action')\n",
        "# movies['GenreCorrected']=movies['GenreCorrected'].str.strip()"
      ],
      "execution_count": 0,
      "outputs": []
    },
    {
      "cell_type": "code",
      "metadata": {
        "id": "zawvJ-aVbKbE",
        "colab_type": "code",
        "outputId": "fdeb98ab-9c8a-40b7-94d1-c81cee5be53c",
        "colab": {
          "base_uri": "https://localhost:8080/",
          "height": 669
        }
      },
      "source": [
        "nlp = spacy.load(\"en_core_web_sm\")\n",
        "\n",
        "movies['GenreListed'] = movies['GenreCorrected']\n",
        "\n",
        "for genre in movies['GenreCorrected'].unique():\n",
        "  tokens = nlp(genre)\n",
        "  listed_genre = [token.lemma_ for token in tokens if not token.is_punct and not token.is_digit]\n",
        "  for i in np.where(movies['GenreCorrected']==genre)[0]:\n",
        "    movies.at[i,'GenreListed'] = np.array(listed_genre)\n",
        "\n",
        "\n",
        "\n",
        "movies.head(20)\n",
        "\n"
      ],
      "execution_count": 187,
      "outputs": [
        {
          "output_type": "execute_result",
          "data": {
            "text/html": [
              "<div>\n",
              "<style scoped>\n",
              "    .dataframe tbody tr th:only-of-type {\n",
              "        vertical-align: middle;\n",
              "    }\n",
              "\n",
              "    .dataframe tbody tr th {\n",
              "        vertical-align: top;\n",
              "    }\n",
              "\n",
              "    .dataframe thead th {\n",
              "        text-align: right;\n",
              "    }\n",
              "</style>\n",
              "<table border=\"1\" class=\"dataframe\">\n",
              "  <thead>\n",
              "    <tr style=\"text-align: right;\">\n",
              "      <th></th>\n",
              "      <th>Genre</th>\n",
              "      <th>Plot</th>\n",
              "      <th>GenreCorrected</th>\n",
              "      <th>GenreListed</th>\n",
              "    </tr>\n",
              "  </thead>\n",
              "  <tbody>\n",
              "    <tr>\n",
              "      <th>0</th>\n",
              "      <td>unknown</td>\n",
              "      <td>A bartender is working at a saloon, serving dr...</td>\n",
              "      <td></td>\n",
              "      <td>[]</td>\n",
              "    </tr>\n",
              "    <tr>\n",
              "      <th>1</th>\n",
              "      <td>unknown</td>\n",
              "      <td>The moon, painted with a smiling face hangs ov...</td>\n",
              "      <td></td>\n",
              "      <td>[]</td>\n",
              "    </tr>\n",
              "    <tr>\n",
              "      <th>2</th>\n",
              "      <td>unknown</td>\n",
              "      <td>The film, just over a minute long, is composed...</td>\n",
              "      <td></td>\n",
              "      <td>[]</td>\n",
              "    </tr>\n",
              "    <tr>\n",
              "      <th>3</th>\n",
              "      <td>unknown</td>\n",
              "      <td>Lasting just 61 seconds and consisting of two ...</td>\n",
              "      <td></td>\n",
              "      <td>[]</td>\n",
              "    </tr>\n",
              "    <tr>\n",
              "      <th>4</th>\n",
              "      <td>unknown</td>\n",
              "      <td>The earliest known adaptation of the classic f...</td>\n",
              "      <td></td>\n",
              "      <td>[]</td>\n",
              "    </tr>\n",
              "    <tr>\n",
              "      <th>5</th>\n",
              "      <td>unknown</td>\n",
              "      <td>Alice follows a large white rabbit down a \"Rab...</td>\n",
              "      <td></td>\n",
              "      <td>[]</td>\n",
              "    </tr>\n",
              "    <tr>\n",
              "      <th>6</th>\n",
              "      <td>western</td>\n",
              "      <td>The film opens with two bandits breaking into ...</td>\n",
              "      <td>action</td>\n",
              "      <td>[action]</td>\n",
              "    </tr>\n",
              "    <tr>\n",
              "      <th>7</th>\n",
              "      <td>comedy</td>\n",
              "      <td>The film is about a family who move to the sub...</td>\n",
              "      <td>comedy</td>\n",
              "      <td>[comedy]</td>\n",
              "    </tr>\n",
              "    <tr>\n",
              "      <th>8</th>\n",
              "      <td>unknown</td>\n",
              "      <td>The opening scene shows the interior of the ro...</td>\n",
              "      <td></td>\n",
              "      <td>[]</td>\n",
              "    </tr>\n",
              "    <tr>\n",
              "      <th>9</th>\n",
              "      <td>unknown</td>\n",
              "      <td>Scenes are introduced using lines of the poem....</td>\n",
              "      <td></td>\n",
              "      <td>[]</td>\n",
              "    </tr>\n",
              "    <tr>\n",
              "      <th>10</th>\n",
              "      <td>short</td>\n",
              "      <td>The Rarebit Fiend gorges on Welsh rarebit at a...</td>\n",
              "      <td>short</td>\n",
              "      <td>[short]</td>\n",
              "    </tr>\n",
              "    <tr>\n",
              "      <th>11</th>\n",
              "      <td>short action/crime western</td>\n",
              "      <td>The film features a train traveling through th...</td>\n",
              "      <td>short action/crime action</td>\n",
              "      <td>[short, action, crime, action]</td>\n",
              "    </tr>\n",
              "    <tr>\n",
              "      <th>12</th>\n",
              "      <td>short film</td>\n",
              "      <td>Irish villager Kathleen is a tenant of Captain...</td>\n",
              "      <td>short</td>\n",
              "      <td>[short]</td>\n",
              "    </tr>\n",
              "    <tr>\n",
              "      <th>13</th>\n",
              "      <td>biographical</td>\n",
              "      <td>Boone's daughter befriends an Indian maiden as...</td>\n",
              "      <td>biography</td>\n",
              "      <td>[biography]</td>\n",
              "    </tr>\n",
              "    <tr>\n",
              "      <th>14</th>\n",
              "      <td>comedy</td>\n",
              "      <td>Before heading out to a baseball game at a nea...</td>\n",
              "      <td>comedy</td>\n",
              "      <td>[comedy]</td>\n",
              "    </tr>\n",
              "    <tr>\n",
              "      <th>15</th>\n",
              "      <td>comedy</td>\n",
              "      <td>The plot is that of a black woman going to the...</td>\n",
              "      <td>comedy</td>\n",
              "      <td>[comedy]</td>\n",
              "    </tr>\n",
              "    <tr>\n",
              "      <th>16</th>\n",
              "      <td>drama</td>\n",
              "      <td>On a beautiful summer day a father and mother ...</td>\n",
              "      <td>drama</td>\n",
              "      <td>[drama]</td>\n",
              "    </tr>\n",
              "    <tr>\n",
              "      <th>17</th>\n",
              "      <td>drama</td>\n",
              "      <td>A thug accosts a girl as she leaves her workpl...</td>\n",
              "      <td>drama</td>\n",
              "      <td>[drama]</td>\n",
              "    </tr>\n",
              "    <tr>\n",
              "      <th>18</th>\n",
              "      <td>comedy</td>\n",
              "      <td>A young couple decides to elope after being ca...</td>\n",
              "      <td>comedy</td>\n",
              "      <td>[comedy]</td>\n",
              "    </tr>\n",
              "    <tr>\n",
              "      <th>19</th>\n",
              "      <td>adventure</td>\n",
              "      <td>A white girl (Florence Lawrence) rejects a pro...</td>\n",
              "      <td>action</td>\n",
              "      <td>[action]</td>\n",
              "    </tr>\n",
              "  </tbody>\n",
              "</table>\n",
              "</div>"
            ],
            "text/plain": [
              "                         Genre  ...                     GenreListed\n",
              "0                      unknown  ...                              []\n",
              "1                      unknown  ...                              []\n",
              "2                      unknown  ...                              []\n",
              "3                      unknown  ...                              []\n",
              "4                      unknown  ...                              []\n",
              "5                      unknown  ...                              []\n",
              "6                      western  ...                        [action]\n",
              "7                       comedy  ...                        [comedy]\n",
              "8                      unknown  ...                              []\n",
              "9                      unknown  ...                              []\n",
              "10                       short  ...                         [short]\n",
              "11  short action/crime western  ...  [short, action, crime, action]\n",
              "12                  short film  ...                         [short]\n",
              "13                biographical  ...                     [biography]\n",
              "14                      comedy  ...                        [comedy]\n",
              "15                      comedy  ...                        [comedy]\n",
              "16                       drama  ...                         [drama]\n",
              "17                       drama  ...                         [drama]\n",
              "18                      comedy  ...                        [comedy]\n",
              "19                   adventure  ...                        [action]\n",
              "\n",
              "[20 rows x 4 columns]"
            ]
          },
          "metadata": {
            "tags": []
          },
          "execution_count": 187
        }
      ]
    },
    {
      "cell_type": "code",
      "metadata": {
        "id": "2yuHWWy0dOhz",
        "colab_type": "code",
        "colab": {
          "base_uri": "https://localhost:8080/",
          "height": 68
        },
        "outputId": "3d040461-2eef-4fac-98aa-0602d16ffcfe"
      },
      "source": [
        "x = np.array(movies.loc[10:15,'GenreListed'])\n",
        "np.where(x == ['short'])"
      ],
      "execution_count": 196,
      "outputs": [
        {
          "output_type": "stream",
          "text": [
            "/usr/local/lib/python3.6/dist-packages/ipykernel_launcher.py:2: FutureWarning: elementwise comparison failed; returning scalar instead, but in the future will perform elementwise comparison\n",
            "  \n"
          ],
          "name": "stderr"
        },
        {
          "output_type": "execute_result",
          "data": {
            "text/plain": [
              "(array([], dtype=int64),)"
            ]
          },
          "metadata": {
            "tags": []
          },
          "execution_count": 196
        }
      ]
    },
    {
      "cell_type": "code",
      "metadata": {
        "id": "vEwfiwNzRpJj",
        "colab_type": "code",
        "colab": {}
      },
      "source": [
        "genres_array = np.array([])\n",
        "\n",
        "for genre in movies['GenreListed']:\n",
        "    genres_array = np.concatenate((genres_array, genre ))\n",
        "    \n"
      ],
      "execution_count": 0,
      "outputs": []
    },
    {
      "cell_type": "code",
      "metadata": {
        "id": "Bbpc8aUdU5XQ",
        "colab_type": "code",
        "colab": {}
      },
      "source": [
        "genres = pd.DataFrame({'Genre':genres_array})\n",
        "genres['Count']=1\n",
        "genres[['Genre','Count']].groupby(['Genre'], as_index=False).sum().to_csv('genres.csv')"
      ],
      "execution_count": 0,
      "outputs": []
    },
    {
      "cell_type": "code",
      "metadata": {
        "id": "kJAqdNKlWly3",
        "colab_type": "code",
        "colab": {}
      },
      "source": [
        "files.download('genres.csv') "
      ],
      "execution_count": 0,
      "outputs": []
    },
    {
      "cell_type": "code",
      "metadata": {
        "id": "Alrj-Jf44Xe0",
        "colab_type": "code",
        "colab": {
          "base_uri": "https://localhost:8080/",
          "height": 34
        },
        "outputId": "bea91cfa-fbea-43d3-eb58-933ddce5656b"
      },
      "source": [
        "# movies_lite.loc[(movies_lite['GenreCorrected']=='unknown'),'Genre'] = ['tablea1','tab2','dsa3']\n",
        "# \n",
        "x = np.empty(3,dtype=object)\n",
        "\n",
        "x[1] = ['asd','asd']\n",
        "x"
      ],
      "execution_count": 130,
      "outputs": [
        {
          "output_type": "execute_result",
          "data": {
            "text/plain": [
              "array([None, list(['asd', 'asd']), None], dtype=object)"
            ]
          },
          "metadata": {
            "tags": []
          },
          "execution_count": 130
        }
      ]
    },
    {
      "cell_type": "code",
      "metadata": {
        "id": "gJ4NAg874xmB",
        "colab_type": "code",
        "colab": {
          "base_uri": "https://localhost:8080/",
          "height": 68
        },
        "outputId": "1df56886-1794-4feb-86ce-712bdf75495d"
      },
      "source": [
        "x = np.arange(10, dtype=object)\n",
        "# x[2:4] = ['asd','sadfgsdf','sdfg','456ssd','sdfg']\n",
        "\n",
        "for i, cell in enumerate(x[2:4]):\n",
        "  x[i] = ['asd','sadfgsdf','sdfg','456ssd','sdfg']\n",
        "\n",
        "x"
      ],
      "execution_count": 102,
      "outputs": [
        {
          "output_type": "execute_result",
          "data": {
            "text/plain": [
              "array([list(['asd', 'sadfgsdf', 'sdfg', '456ssd', 'sdfg']),\n",
              "       list(['asd', 'sadfgsdf', 'sdfg', '456ssd', 'sdfg']), 2, 3, 4, 5, 6,\n",
              "       7, 8, 9], dtype=object)"
            ]
          },
          "metadata": {
            "tags": []
          },
          "execution_count": 102
        }
      ]
    },
    {
      "cell_type": "code",
      "metadata": {
        "id": "ZMVAHmUfbNs7",
        "colab_type": "code",
        "colab": {}
      },
      "source": [
        "files.download('GenreCorrected.csv') "
      ],
      "execution_count": 0,
      "outputs": []
    },
    {
      "cell_type": "code",
      "metadata": {
        "id": "wREuhQNbgyAT",
        "colab_type": "code",
        "colab": {}
      },
      "source": [
        "movies['GenreSplit']=movies['GenreCorrected'].str.split('|')\n",
        "# movies['GenreSplit']= movies['GenreSplit'].apply(np.sort).apply(np.unique)"
      ],
      "execution_count": 0,
      "outputs": []
    },
    {
      "cell_type": "code",
      "metadata": {
        "id": "R9iSjGhjnNHQ",
        "colab_type": "code",
        "outputId": "ccf9efd3-c528-4a6a-cb66-13f7b2d308ab",
        "colab": {
          "base_uri": "https://localhost:8080/",
          "height": 221
        }
      },
      "source": [
        "movies['GenreSplit']"
      ],
      "execution_count": 0,
      "outputs": [
        {
          "output_type": "execute_result",
          "data": {
            "text/plain": [
              "0                [unknown]\n",
              "1                [unknown]\n",
              "2                [unknown]\n",
              "3                [unknown]\n",
              "4                [unknown]\n",
              "               ...        \n",
              "34881            [unknown]\n",
              "34882             [comedy]\n",
              "34883             [comedy]\n",
              "34884    [romantic comedy]\n",
              "34885           [romantic]\n",
              "Name: GenreSplit, Length: 34886, dtype: object"
            ]
          },
          "metadata": {
            "tags": []
          },
          "execution_count": 90
        }
      ]
    },
    {
      "cell_type": "code",
      "metadata": {
        "id": "NqXOqYOHnR1w",
        "colab_type": "code",
        "outputId": "f395db94-ad83-410b-d862-1ed3f1fb0782",
        "colab": {
          "base_uri": "https://localhost:8080/",
          "height": 34
        }
      },
      "source": [
        "nlp = spacy.load(\"en_core_web_sm\")\n",
        "doc = nlp(\"Hello, world. Here are two sentences.\")\n",
        "print([t.text for t in doc])\n"
      ],
      "execution_count": 0,
      "outputs": [
        {
          "output_type": "stream",
          "text": [
            "['Hello', ',', 'world', '.', 'Here', 'are', 'two', 'sentences', '.']\n"
          ],
          "name": "stdout"
        }
      ]
    },
    {
      "cell_type": "code",
      "metadata": {
        "id": "q-0aG_A8qWb0",
        "colab_type": "code",
        "outputId": "a8dca770-509b-4168-f2f9-4b2930928257",
        "colab": {
          "base_uri": "https://localhost:8080/",
          "height": 34
        }
      },
      "source": [
        "nlp = spacy.load(\"en_core_web_sm\")\n",
        "doc = nlp(\"I'd like to tell you that I love you. I can't go to the party. Goole is very good..\")\n",
        "print([token.lemma_ for token in doc if not token.is_stop and not token.is_punct])\n"
      ],
      "execution_count": 0,
      "outputs": [
        {
          "output_type": "stream",
          "text": [
            "['like', 'tell', 'love', 'party', 'Goole', 'good']\n"
          ],
          "name": "stdout"
        }
      ]
    },
    {
      "cell_type": "code",
      "metadata": {
        "id": "nThflFc7uMCp",
        "colab_type": "code",
        "outputId": "2386ff7a-53f9-4cf2-cff2-fe862d3180a8",
        "colab": {
          "base_uri": "https://localhost:8080/",
          "height": 34
        }
      },
      "source": [
        "nlp = spacy.load(\"en_core_web_sm\")\n",
        "doc = nlp(\"science_fiction\")\n",
        "print([token.lemma_ for token in doc if not token.is_stop and not token.is_punct])"
      ],
      "execution_count": 0,
      "outputs": [
        {
          "output_type": "stream",
          "text": [
            "['science_fiction']\n"
          ],
          "name": "stdout"
        }
      ]
    },
    {
      "cell_type": "code",
      "metadata": {
        "id": "o-3qJa_xENZK",
        "colab_type": "code",
        "outputId": "24006642-0f4b-4240-9035-6e40efd1dbc6",
        "colab": {
          "base_uri": "https://localhost:8080/",
          "height": 204
        }
      },
      "source": [
        "df = pd.DataFrame({'A': [0, 1, 2, 3, 4],\n",
        "                   'B': [5, 6, 0, 8, 9],\n",
        "                   'C': ['a', 'b', 'c', 'd', 'e']})\n",
        "df['C'].replace('a', 5, inplace = True)\n",
        "df"
      ],
      "execution_count": 0,
      "outputs": [
        {
          "output_type": "execute_result",
          "data": {
            "text/html": [
              "<div>\n",
              "<style scoped>\n",
              "    .dataframe tbody tr th:only-of-type {\n",
              "        vertical-align: middle;\n",
              "    }\n",
              "\n",
              "    .dataframe tbody tr th {\n",
              "        vertical-align: top;\n",
              "    }\n",
              "\n",
              "    .dataframe thead th {\n",
              "        text-align: right;\n",
              "    }\n",
              "</style>\n",
              "<table border=\"1\" class=\"dataframe\">\n",
              "  <thead>\n",
              "    <tr style=\"text-align: right;\">\n",
              "      <th></th>\n",
              "      <th>A</th>\n",
              "      <th>B</th>\n",
              "      <th>C</th>\n",
              "    </tr>\n",
              "  </thead>\n",
              "  <tbody>\n",
              "    <tr>\n",
              "      <th>0</th>\n",
              "      <td>0</td>\n",
              "      <td>5</td>\n",
              "      <td>5</td>\n",
              "    </tr>\n",
              "    <tr>\n",
              "      <th>1</th>\n",
              "      <td>1</td>\n",
              "      <td>6</td>\n",
              "      <td>b</td>\n",
              "    </tr>\n",
              "    <tr>\n",
              "      <th>2</th>\n",
              "      <td>2</td>\n",
              "      <td>0</td>\n",
              "      <td>c</td>\n",
              "    </tr>\n",
              "    <tr>\n",
              "      <th>3</th>\n",
              "      <td>3</td>\n",
              "      <td>8</td>\n",
              "      <td>d</td>\n",
              "    </tr>\n",
              "    <tr>\n",
              "      <th>4</th>\n",
              "      <td>4</td>\n",
              "      <td>9</td>\n",
              "      <td>e</td>\n",
              "    </tr>\n",
              "  </tbody>\n",
              "</table>\n",
              "</div>"
            ],
            "text/plain": [
              "   A  B  C\n",
              "0  0  5  5\n",
              "1  1  6  b\n",
              "2  2  0  c\n",
              "3  3  8  d\n",
              "4  4  9  e"
            ]
          },
          "metadata": {
            "tags": []
          },
          "execution_count": 216
        }
      ]
    },
    {
      "cell_type": "code",
      "metadata": {
        "id": "X-IG40IvFdbc",
        "colab_type": "code",
        "colab": {}
      },
      "source": [
        ""
      ],
      "execution_count": 0,
      "outputs": []
    }
  ]
}