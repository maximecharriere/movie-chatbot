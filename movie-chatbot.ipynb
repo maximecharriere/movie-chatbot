{
  "nbformat": 4,
  "nbformat_minor": 0,
  "metadata": {
    "colab": {
      "name": "movie-chatbot.ipynb",
      "provenance": [],
      "collapsed_sections": [],
      "toc_visible": true,
      "include_colab_link": true
    },
    "kernelspec": {
      "name": "python3",
      "display_name": "Python 3"
    }
  },
  "cells": [
    {
      "cell_type": "markdown",
      "metadata": {
        "id": "view-in-github",
        "colab_type": "text"
      },
      "source": [
        "<a href=\"https://colab.research.google.com/github/maximecharriere/movie-chatbot/blob/master/movie-chatbot.ipynb\" target=\"_parent\"><img src=\"https://colab.research.google.com/assets/colab-badge.svg\" alt=\"Open In Colab\"/></a>"
      ]
    },
    {
      "cell_type": "markdown",
      "metadata": {
        "id": "DVy8nkPvIWuW",
        "colab_type": "text"
      },
      "source": [
        "# **Chatbot cinéphile - WELCOME**\n",
        "*Par Dylan **Morocutti** et Maxime **Charrière**.*"
      ]
    },
    {
      "cell_type": "markdown",
      "metadata": {
        "id": "KA-L_QLZnwIP",
        "colab_type": "text"
      },
      "source": [
        "# Libraries importation"
      ]
    },
    {
      "cell_type": "code",
      "metadata": {
        "id": "h_xI7FpYn3Oj",
        "colab_type": "code",
        "outputId": "e32f7a82-26a8-45c3-a18c-7f80e86ba382",
        "colab": {
          "base_uri": "https://localhost:8080/",
          "height": 170
        }
      },
      "source": [
        "import numpy as np\n",
        "import tensorflow as tf\n",
        "import matplotlib\n",
        "import matplotlib.pyplot as plt\n",
        "import nltk\n",
        "from nltk.corpus import treebank, nps_chat\n",
        "from nltk.cluster import KMeansClusterer\n",
        "import pandas as pd\n",
        "import gensim\n",
        "from gensim.models import Word2Vec\n",
        "import sklearn\n",
        "from sklearn import cluster\n",
        "from sklearn import metrics\n",
        "import spacy\n",
        "\n",
        "print(\"Libraries version:\")\n",
        "print(f\"Numpy:      {np.__version__}\")\n",
        "print(f\"Matplotlib: {matplotlib.__version__}\")\n",
        "print(f\"Tensorflow: {tf.__version__}\")\n",
        "print(f\"NLTK:       {nltk.__version__}\")\n",
        "print(f\"Pandas:     {pd.__version__}\")\n",
        "print(f\"Gensim:     {gensim.__version__}\")\n",
        "print(f\"Sklearn:    {sklearn.__version__}\")\n",
        "print(f\"Spacy:      {spacy.__version__}\")"
      ],
      "execution_count": 8,
      "outputs": [
        {
          "output_type": "stream",
          "text": [
            "Libraries version:\n",
            "Numpy:      1.18.4\n",
            "Matplotlib: 3.2.1\n",
            "Tensorflow: 2.2.0\n",
            "NLTK:       3.2.5\n",
            "Pandas:     1.0.4\n",
            "Gensim:     3.6.0\n",
            "Sklearn:    0.22.2.post1\n",
            "Spacy:      2.2.4\n"
          ],
          "name": "stdout"
        }
      ]
    },
    {
      "cell_type": "markdown",
      "metadata": {
        "id": "pkblOKQBLcZO",
        "colab_type": "text"
      },
      "source": [
        "# Importation des data\n",
        "- Source: http://www.cs.cornell.edu/~cristian/Cornell_Movie-Dialogs_Corpus.html"
      ]
    },
    {
      "cell_type": "code",
      "metadata": {
        "id": "_yCZkbVwL69k",
        "colab_type": "code",
        "colab": {}
      },
      "source": [
        "url_movie_line = \"https://raw.githubusercontent.com/maximecharriere/movie-chatbot/master/data/parsed_movie_dialogue.txt\"\n",
        "movie_line = pd.read_csv(url_movie_line, sep='\\+{3}\\$\\+{3}', engine='python', names=(\"First line\",\"Reply\"))"
      ],
      "execution_count": 0,
      "outputs": []
    },
    {
      "cell_type": "code",
      "metadata": {
        "id": "1chO8g1DPjy7",
        "colab_type": "code",
        "outputId": "c2a3f841-db80-4234-d29d-a8ddd0e817a5",
        "colab": {
          "base_uri": "https://localhost:8080/",
          "height": 34
        }
      },
      "source": [
        "movie_line[\"First line\"][2]"
      ],
      "execution_count": 0,
      "outputs": [
        {
          "output_type": "execute_result",
          "data": {
            "text/plain": [
              "'We saw it. All craft prepare to retreat.'"
            ]
          },
          "metadata": {
            "tags": []
          },
          "execution_count": 9
        }
      ]
    },
    {
      "cell_type": "markdown",
      "metadata": {
        "id": "_c5fE6MX_yvE",
        "colab_type": "text"
      },
      "source": [
        "# Building DeepLearning **model**"
      ]
    },
    {
      "cell_type": "code",
      "metadata": {
        "id": "uJoyigaxqGp3",
        "colab_type": "code",
        "colab": {}
      },
      "source": [
        "# Flatten\n",
        "model = tf.keras.models.Sequential()\n",
        "# Add layers\n",
        "model.add(tf.keras.layers.Dense(256, activation=\"relu\"))\n",
        "model.add(tf.keras.layers.Dense(128, activation=\"relu\"))\n",
        "model.add(tf.keras.layers.Dense(2, activation=\"softmax\"))"
      ],
      "execution_count": 0,
      "outputs": []
    },
    {
      "cell_type": "markdown",
      "metadata": {
        "id": "Kjup0nQfFpFJ",
        "colab_type": "text"
      },
      "source": [
        "# NLTK Test"
      ]
    },
    {
      "cell_type": "markdown",
      "metadata": {
        "id": "yOO9FRWC5fEk",
        "colab_type": "text"
      },
      "source": [
        "### Download data"
      ]
    },
    {
      "cell_type": "code",
      "metadata": {
        "id": "nkqKJSVLGUxs",
        "colab_type": "code",
        "outputId": "50bcb167-5ec5-4dbc-ac0d-d877d4339cf6",
        "colab": {
          "base_uri": "https://localhost:8080/",
          "height": 272
        }
      },
      "source": [
        "nltk.download('punkt')\n",
        "nltk.download('averaged_perceptron_tagger')\n",
        "nltk.download('maxent_ne_chunker')\n",
        "nltk.download('words')\n",
        "nltk.download('treebank')\n",
        "nltk.download('nps_chat')\n"
      ],
      "execution_count": 5,
      "outputs": [
        {
          "output_type": "stream",
          "text": [
            "[nltk_data] Downloading package punkt to /root/nltk_data...\n",
            "[nltk_data]   Unzipping tokenizers/punkt.zip.\n",
            "[nltk_data] Downloading package averaged_perceptron_tagger to\n",
            "[nltk_data]     /root/nltk_data...\n",
            "[nltk_data]   Unzipping taggers/averaged_perceptron_tagger.zip.\n",
            "[nltk_data] Downloading package maxent_ne_chunker to\n",
            "[nltk_data]     /root/nltk_data...\n",
            "[nltk_data]   Unzipping chunkers/maxent_ne_chunker.zip.\n",
            "[nltk_data] Downloading package words to /root/nltk_data...\n",
            "[nltk_data]   Unzipping corpora/words.zip.\n",
            "[nltk_data] Downloading package treebank to /root/nltk_data...\n",
            "[nltk_data]   Unzipping corpora/treebank.zip.\n",
            "[nltk_data] Downloading package nps_chat to /root/nltk_data...\n",
            "[nltk_data]   Unzipping corpora/nps_chat.zip.\n"
          ],
          "name": "stdout"
        },
        {
          "output_type": "execute_result",
          "data": {
            "text/plain": [
              "True"
            ]
          },
          "metadata": {
            "tags": []
          },
          "execution_count": 5
        }
      ]
    },
    {
      "cell_type": "code",
      "metadata": {
        "id": "ANJeYUQnFrA2",
        "colab_type": "code",
        "colab": {}
      },
      "source": [
        "sentence = \"\"\"Your insight serves you well. Bury your feelings deep down, Luke. They do you credit. But they could be made to serve the Emperor.\"\"\"\n",
        "tokens = nltk.word_tokenize(sentence)\n",
        "tagged = nltk.pos_tag(tokens)\n",
        "entities = nltk.chunk.ne_chunk(tagged)\n",
        "# t = treebank.parsed_sents('wsj_0001.mrg')[0]\n",
        "# nltk.draw.tree.TreeView(t)._cframe.print_to_file('output.ps')"
      ],
      "execution_count": 0,
      "outputs": []
    },
    {
      "cell_type": "code",
      "metadata": {
        "id": "9J4_3pK-G2se",
        "colab_type": "code",
        "outputId": "8c39428a-3dd2-4d7a-c24f-0e8d80c128d7",
        "colab": {
          "base_uri": "https://localhost:8080/",
          "height": 34
        }
      },
      "source": [
        "len(tagged)"
      ],
      "execution_count": 0,
      "outputs": [
        {
          "output_type": "execute_result",
          "data": {
            "text/plain": [
              "29"
            ]
          },
          "metadata": {
            "tags": []
          },
          "execution_count": 42
        }
      ]
    },
    {
      "cell_type": "code",
      "metadata": {
        "id": "pQmg6hq5QQ7y",
        "colab_type": "code",
        "colab": {
          "base_uri": "https://localhost:8080/",
          "height": 272
        },
        "outputId": "4f389450-a6d2-42d7-8c79-9df9623f91c5"
      },
      "source": [
        "nps_chat.fileids()"
      ],
      "execution_count": 6,
      "outputs": [
        {
          "output_type": "execute_result",
          "data": {
            "text/plain": [
              "['10-19-20s_706posts.xml',\n",
              " '10-19-30s_705posts.xml',\n",
              " '10-19-40s_686posts.xml',\n",
              " '10-19-adults_706posts.xml',\n",
              " '10-24-40s_706posts.xml',\n",
              " '10-26-teens_706posts.xml',\n",
              " '11-06-adults_706posts.xml',\n",
              " '11-08-20s_705posts.xml',\n",
              " '11-08-40s_706posts.xml',\n",
              " '11-08-adults_705posts.xml',\n",
              " '11-08-teens_706posts.xml',\n",
              " '11-09-20s_706posts.xml',\n",
              " '11-09-40s_706posts.xml',\n",
              " '11-09-adults_706posts.xml',\n",
              " '11-09-teens_706posts.xml']"
            ]
          },
          "metadata": {
            "tags": []
          },
          "execution_count": 6
        }
      ]
    },
    {
      "cell_type": "code",
      "metadata": {
        "id": "OfJyXFJXSqPn",
        "colab_type": "code",
        "colab": {}
      },
      "source": [
        ""
      ],
      "execution_count": 0,
      "outputs": []
    },
    {
      "cell_type": "markdown",
      "metadata": {
        "id": "e8qGTIB9Wb8g",
        "colab_type": "text"
      },
      "source": [
        "# SpaCy test"
      ]
    },
    {
      "cell_type": "code",
      "metadata": {
        "id": "aW0ww8DPWfmL",
        "colab_type": "code",
        "colab": {
          "base_uri": "https://localhost:8080/",
          "height": 68
        },
        "outputId": "969024b7-312c-4e98-93f7-47c8f92d325e"
      },
      "source": [
        "nlp = spacy.load(\"en_core_web_sm\")\n",
        "doc = nlp(\"When Sebastian Thrun started working on self-driving cars at Google in 2007, few people outside of the company took him seriously.\")\n",
        "\n",
        "for ent in doc.ents:\n",
        "    print(ent.text, ent.label_)"
      ],
      "execution_count": 15,
      "outputs": [
        {
          "output_type": "stream",
          "text": [
            "Sebastian NORP\n",
            "Google ORG\n",
            "2007 DATE\n"
          ],
          "name": "stdout"
        }
      ]
    },
    {
      "cell_type": "code",
      "metadata": {
        "id": "Dot7u3yvWn60",
        "colab_type": "code",
        "colab": {
          "base_uri": "https://localhost:8080/",
          "height": 306
        },
        "outputId": "d199ff93-c0b8-4080-91c7-21e2d9f48cc0"
      },
      "source": [
        "mango = nlp('When Sebastian Thrun started working on self-driving cars at Google in 2007, few people outside of the company took him seriously.')\n",
        "print(mango.vector.shape)\n",
        "print(mango.vector)"
      ],
      "execution_count": 18,
      "outputs": [
        {
          "output_type": "stream",
          "text": [
            "(96,)\n",
            "[ 1.2547495   0.5018356  -0.10489882 -0.8144302   1.030638   -0.43493682\n",
            "  1.4772629   0.30886003  0.7389851   1.7634985  -1.2179859  -0.06692379\n",
            " -0.29719985 -0.8395235  -1.4615259  -0.62463915 -0.07981872  0.00929824\n",
            " -0.24031505  0.25372627 -0.3475497  -0.5162379   0.10827694  0.09177113\n",
            " -0.38051963  0.52912337 -1.1400261  -0.32192612  0.6927819  -0.80070204\n",
            "  0.6862533  -0.02631976 -0.24994369 -0.63626266 -0.03331006 -1.1234782\n",
            "  0.01468814 -0.710911   -1.4692793  -0.32182044  0.5871417   0.1246916\n",
            "  0.02204137 -0.7638084   0.32105687 -0.22490372 -0.09796767 -0.07184676\n",
            " -0.33491376  0.24576561  0.67671084 -0.19045591  0.20345376 -0.9203198\n",
            " -1.3877374   0.68930554  0.08902735  0.9616394   0.8992842   0.2098153\n",
            "  0.55452806 -0.5523305   0.890179    0.5652993   0.27227864 -0.54219174\n",
            "  0.5560992  -2.2867904  -0.08910669  1.7222291   1.1124057  -1.0997052\n",
            "  0.50205594 -0.23024462  0.00424102 -0.27917016  1.7747836  -0.80378944\n",
            " -1.0076889  -0.577863   -0.42148054 -0.08094498  1.0625203   0.1819358\n",
            "  1.1525946  -0.300587    1.3306111  -0.00367991  0.16049944  1.1213828\n",
            " -0.2637719  -1.3703048  -0.22458817  0.4758699   0.9454852   0.78824645]\n"
          ],
          "name": "stdout"
        }
      ]
    },
    {
      "cell_type": "code",
      "metadata": {
        "id": "qHJf9cVGXUtE",
        "colab_type": "code",
        "colab": {}
      },
      "source": [
        ""
      ],
      "execution_count": 0,
      "outputs": []
    }
  ]
}